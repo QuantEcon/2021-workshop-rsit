{
 "cells": [
  {
   "cell_type": "markdown",
   "metadata": {
    "slideshow": {
     "slide_type": "slide"
    }
   },
   "source": [
    "# Functions\n",
    "\n",
    "**Outcomes**\n",
    "  \n",
    "- Functions  \n",
    "  \n",
    "  - Know how to define your own function  \n",
    "  - Know how to find and write your own function documentation  \n",
    "  - Know why we use functions  \n",
    "  - Understand scoping rules and blocks  "
   ]
  },
  {
   "cell_type": "markdown",
   "metadata": {
    "slideshow": {
     "slide_type": "slide"
    }
   },
   "source": [
    "## What are (Python) Functions?\n",
    "\n",
    "In this class, we will often talk about functions.\n",
    "\n",
    "So what is a function?\n",
    "\n",
    "We like to think of a function as a production line in a manufacturing plant: we pass zero or more things to it, operations take place in a set linear sequence, and zero or more things come out.\n",
    "\n",
    "We use functions for the following purposes:\n",
    "\n",
    "- **Re-usability**: Writing code to do a specific task just once, and\n",
    "  reuse the code by calling the function.  \n",
    "- **Organization**: Keep the code for distinct operations separated and\n",
    "  organized.  \n",
    "- **Sharing/collaboration**: Sharing code across multiple projects or\n",
    "  sharing pieces of code with collaborators.  "
   ]
  },
  {
   "cell_type": "markdown",
   "metadata": {
    "slideshow": {
     "slide_type": "slide"
    }
   },
   "source": [
    "## How to Define (Python) Functions?\n",
    "\n",
    "The basic syntax to create our own function is as follows:"
   ]
  },
  {
   "cell_type": "markdown",
   "metadata": {
    "hide-output": false,
    "slideshow": {
     "slide_type": "-"
    }
   },
   "source": [
    "```python\n",
    "def function_name(inputs):\n",
    "    # step 1\n",
    "    # step 2\n",
    "    # ...\n",
    "    return outputs\n",
    "```\n"
   ]
  },
  {
   "cell_type": "markdown",
   "metadata": {
    "slideshow": {
     "slide_type": "-"
    }
   },
   "source": [
    "Here we see two new *keywords*: `def` and `return`.\n",
    "\n",
    "- `def` is used to tell Python we would like to define a new function.  \n",
    "- `return` is used to tell Python what we would like to **return** from a\n",
    "  function."
   ]
  },
  {
   "cell_type": "markdown",
   "metadata": {
    "slideshow": {
     "slide_type": "subslide"
    }
   },
   "source": [
    "Let’s look at an example and then discuss each part:"
   ]
  },
  {
   "cell_type": "code",
   "execution_count": null,
   "metadata": {
    "hide-output": false,
    "slideshow": {
     "slide_type": "-"
    }
   },
   "outputs": [],
   "source": [
    "def mean(numbers):\n",
    "    total = sum(numbers)\n",
    "    N = len(numbers)\n",
    "    answer = total / N\n",
    "\n",
    "    return answer"
   ]
  },
  {
   "cell_type": "markdown",
   "metadata": {
    "slideshow": {
     "slide_type": "-"
    }
   },
   "source": [
    "Here we defined a function `mean` that has one input (`numbers`),\n",
    "does three steps, and has one output (`answer`).\n",
    "\n",
    "Let’s see what happens when we call this function on the list of numbers\n",
    "`[1, 2, 3, 4]`."
   ]
  },
  {
   "cell_type": "code",
   "execution_count": null,
   "metadata": {
    "hide-output": false,
    "slideshow": {
     "slide_type": "-"
    }
   },
   "outputs": [],
   "source": [
    "x = [1, 2, 3, 4]\n",
    "the_mean = mean(x)\n",
    "the_mean"
   ]
  },
  {
   "cell_type": "markdown",
   "metadata": {
    "slideshow": {
     "slide_type": "subslide"
    }
   },
   "source": [
    "Additionally, as we saw in the control flow lecture, indentation controls blocks of code (along with the [scope](#scope) rules).\n",
    "\n",
    "To see this, compare a function with no inputs or return values."
   ]
  },
  {
   "cell_type": "code",
   "execution_count": null,
   "metadata": {
    "hide-output": false,
    "slideshow": {
     "slide_type": "-"
    }
   },
   "outputs": [],
   "source": [
    "def f():\n",
    "    print(\"1\")\n",
    "    print(\"2\")\n",
    "f()"
   ]
  },
  {
   "cell_type": "markdown",
   "metadata": {
    "slideshow": {
     "slide_type": "-"
    }
   },
   "source": [
    "With the following change of indentation…"
   ]
  },
  {
   "cell_type": "code",
   "execution_count": null,
   "metadata": {
    "hide-output": false,
    "slideshow": {
     "slide_type": "-"
    }
   },
   "outputs": [],
   "source": [
    "def f():\n",
    "    print(\"1\")\n",
    "print(\"2\")\n",
    "f()"
   ]
  },
  {
   "cell_type": "markdown",
   "metadata": {
    "slideshow": {
     "slide_type": "slide"
    }
   },
   "source": [
    "### Scope\n",
    "\n",
    "Notice that we named the input to the function `x` and we called the output\n",
    "`the_mean`.\n",
    "\n",
    "When we defined the function, the input was called `numbers` and the output\n",
    "`answer`… what gives?\n",
    "\n",
    "This is an example of a programming concept called\n",
    "[variable scope](http://python-textbok.readthedocs.io/en/1.0/Variables_and_Scope.html).\n",
    "\n",
    "In Python, functions define their own scope for variables.\n",
    "\n",
    "In English, this means that regardless of what name we give an input variable (`x` in this example),\n",
    "the input will always be referred to as `numbers` *inside* the body of the `mean`\n",
    "function.\n",
    "\n",
    "It also means that although we called the output `answer` inside of the\n",
    "function `mean`, that this variable name was only valid inside of our\n",
    "function.\n",
    "\n",
    "To use the output of the function, we had to give it our own name (`the_mean`\n",
    "in this example).\n",
    "\n",
    "Another point to make here is that the intermediate variables we defined inside\n",
    "`mean` (`total` and `N`) are only defined inside of the `mean` function\n",
    "– we can’t access them from outside. We can verify this by trying to see what\n",
    "the value of `total` is:"
   ]
  },
  {
   "cell_type": "code",
   "execution_count": null,
   "metadata": {
    "hide-output": false,
    "slideshow": {
     "slide_type": "-"
    }
   },
   "outputs": [],
   "source": [
    "def mean(numbers):\n",
    "    total = sum(numbers)\n",
    "    N = len(numbers)\n",
    "    answer = total / N\n",
    "    return answer # or directly return total / N\n",
    "\n",
    "# uncomment the line below and execute to see the error\n",
    "# total"
   ]
  },
  {
   "cell_type": "markdown",
   "metadata": {
    "slideshow": {
     "slide_type": "fragment"
    }
   },
   "source": [
    "This point can be taken even further:  the same name can be bound\n",
    "to variables inside of blocks of code and in the outer “scope”."
   ]
  },
  {
   "cell_type": "code",
   "execution_count": null,
   "metadata": {
    "hide-output": false,
    "slideshow": {
     "slide_type": "-"
    }
   },
   "outputs": [],
   "source": [
    "x = 4\n",
    "print(f\"x = {x}\")\n",
    "def f():\n",
    "    x = 5 # a different \"x\"\n",
    "    print(f\"x = {x}\")\n",
    "f() # calls function\n",
    "print(f\"x = {x}\")"
   ]
  },
  {
   "cell_type": "markdown",
   "metadata": {
    "slideshow": {
     "slide_type": "fragment"
    }
   },
   "source": [
    "The final point we want to make about scope is that function inputs and output\n",
    "don’t have to be given a name outside the function."
   ]
  },
  {
   "cell_type": "code",
   "execution_count": null,
   "metadata": {
    "hide-output": false,
    "slideshow": {
     "slide_type": "-"
    }
   },
   "outputs": [],
   "source": [
    "mean([10, 20, 30])"
   ]
  },
  {
   "cell_type": "markdown",
   "metadata": {
    "slideshow": {
     "slide_type": "-"
    }
   },
   "source": [
    "Notice that we didn’t name the input or the output, but the function was\n",
    "called successfully."
   ]
  },
  {
   "cell_type": "markdown",
   "metadata": {
    "slideshow": {
     "slide_type": "slide"
    }
   },
   "source": [
    "Now, we’ll use our new knowledge to define a function which computes the output\n",
    "from a Cobb-Douglas production function with parameters $ z = 1 $ and\n",
    "$ \\alpha = 0.33 $ and takes inputs $ K $ and $ L $."
   ]
  },
  {
   "cell_type": "code",
   "execution_count": null,
   "metadata": {
    "hide-output": false,
    "slideshow": {
     "slide_type": "-"
    }
   },
   "outputs": [],
   "source": [
    "def cobb_douglas(K, L):\n",
    "\n",
    "    # Create alpha and z\n",
    "    z = 1\n",
    "    alpha = 0.33\n",
    "\n",
    "    return z * K**alpha * L**(1 - alpha)"
   ]
  },
  {
   "cell_type": "markdown",
   "metadata": {
    "slideshow": {
     "slide_type": "fragment"
    }
   },
   "source": [
    "We can use this function as we did the mean function."
   ]
  },
  {
   "cell_type": "code",
   "execution_count": null,
   "metadata": {
    "hide-output": false,
    "slideshow": {
     "slide_type": "-"
    }
   },
   "outputs": [],
   "source": [
    "cobb_douglas(1.0, 0.5)"
   ]
  },
  {
   "cell_type": "markdown",
   "metadata": {
    "slideshow": {
     "slide_type": "slide"
    }
   },
   "source": [
    "### Re-using Functions\n",
    "\n",
    "Economists are often interested in this question: how much does output\n",
    "change if we modify our inputs?\n",
    "\n",
    "For example, take a production function $ Y_1 = F(K_1,L_1) $ which produces\n",
    "$ Y_1 $ units of the goods.\n",
    "\n",
    "If we then multiply the inputs each by $ \\gamma $, so that\n",
    "$ K_2 = \\gamma K_1 $ and $ L_2 = \\gamma L_1 $, then the output is\n",
    "\n",
    "$$\n",
    "Y_2 = F(K_2, L_2) = F(\\gamma K_1, \\gamma L_1)\n",
    "$$\n",
    "\n",
    "How does $ Y_1 $ compare to $ Y_2 $?\n",
    "\n",
    "Answering this question involves something called *returns to scale*.\n",
    "\n",
    "Returns to scale tells us whether our inputs are more or less productive as we\n",
    "have more of them.\n",
    "\n",
    "For example, imagine that you run a restaurant. How would you expect the amount\n",
    "of food you could produce would change if you could build an exact replica of\n",
    "your restaurant and kitchen and hire the same number of cooks and waiters? You\n",
    "would probably expect it to double.\n",
    "\n",
    "If, for any $ K, L $, we multiply $ K, L $ by a value $ \\gamma $\n",
    "then\n",
    "\n",
    "- If $ \\frac{Y_2}{Y_1} < \\gamma $ then we say the production function has\n",
    "  decreasing returns to scale.  \n",
    "- If $ \\frac{Y_2}{Y_1} = \\gamma $ then we say the production function has\n",
    "  constant returns to scale.  \n",
    "- If $ \\frac{Y_2}{Y_1} > \\gamma $ then we say the production function has\n",
    "  increasing returns to scale.  \n",
    "\n",
    "\n",
    "Let’s try it and see what our function is!"
   ]
  },
  {
   "cell_type": "code",
   "execution_count": null,
   "metadata": {
    "hide-output": false,
    "slideshow": {
     "slide_type": "-"
    }
   },
   "outputs": [],
   "source": [
    "y1 = cobb_douglas(1.0, 0.5)\n",
    "print(y1)\n",
    "y2 = cobb_douglas(2*1.0, 2*0.5)\n",
    "print(y2)"
   ]
  },
  {
   "cell_type": "markdown",
   "metadata": {
    "slideshow": {
     "slide_type": "fragment"
    }
   },
   "source": [
    "How did $ Y_1 $ and $ Y_2 $ relate?"
   ]
  },
  {
   "cell_type": "code",
   "execution_count": null,
   "metadata": {
    "hide-output": false,
    "slideshow": {
     "slide_type": "-"
    }
   },
   "outputs": [],
   "source": [
    "y2 / y1"
   ]
  },
  {
   "cell_type": "markdown",
   "metadata": {
    "slideshow": {
     "slide_type": "fragment"
    }
   },
   "source": [
    "$ Y_2 $ was exactly double $ Y_1 $!\n",
    "\n",
    "Let’s write a function that will compute the returns to scale for different\n",
    "values of $ K $ and $ L $.\n",
    "\n",
    "This is an example of how writing functions can allow us to re-use code\n",
    "in ways we might not originally anticipate. (You didn’t know we’d be\n",
    "writing a `returns_to_scale` function when we wrote `cobb_douglas`.)"
   ]
  },
  {
   "cell_type": "code",
   "execution_count": null,
   "metadata": {
    "hide-output": false,
    "slideshow": {
     "slide_type": "-"
    }
   },
   "outputs": [],
   "source": [
    "def returns_to_scale(K, L, gamma):\n",
    "    y1 = cobb_douglas(K, L)\n",
    "    y2 = cobb_douglas(gamma*K, gamma*L)\n",
    "    y_ratio = y2 / y1\n",
    "    return y_ratio / gamma"
   ]
  },
  {
   "cell_type": "code",
   "execution_count": null,
   "metadata": {
    "hide-output": false,
    "slideshow": {
     "slide_type": "-"
    }
   },
   "outputs": [],
   "source": [
    "returns_to_scale(1.0, 0.5, 2.0)"
   ]
  },
  {
   "cell_type": "markdown",
   "metadata": {
    "slideshow": {
     "slide_type": "fragment"
    }
   },
   "source": [
    "It turns out that with a little bit of algebra, we can check that this will\n",
    "always hold for our [Cobb-Douglas example](#cobb-douglas-example) above.\n",
    "\n",
    "To show this, take an arbitrary $ K, L $ and multiply the inputs by an\n",
    "arbitrary $ \\gamma $.\n",
    "\n",
    "$$\n",
    "\\begin{aligned}\n",
    "    F(\\gamma K, \\gamma L) &= z (\\gamma K)^{\\alpha} (\\gamma L)^{1-\\alpha}\\\\\n",
    "    &=  z \\gamma^{\\alpha}\\gamma^{1-\\alpha} K^{\\alpha} L^{1-\\alpha}\\\\\n",
    "    &= \\gamma z K^{\\alpha} L^{1-\\alpha} = \\gamma F(K, L)\n",
    "\\end{aligned}\n",
    "$$\n",
    "\n",
    "For an example of a production function that is not CRS, look at a\n",
    "generalization of the Cobb-Douglas production function that has different\n",
    "“output elasticities” for the 2 inputs.\n",
    "\n",
    "$$\n",
    "Y = z K^{\\alpha_1} L^{\\alpha_2}\n",
    "$$\n",
    "\n",
    "Note that if $ \\alpha_2 = 1 - \\alpha_1 $, this is our Cobb-Douglas\n",
    "production function.\n"
   ]
  },
  {
   "cell_type": "markdown",
   "metadata": {
    "slideshow": {
     "slide_type": "subslide"
    }
   },
   "source": [
    "### Multiple Returns\n",
    "\n",
    "Another valuable element to analyze on production functions is how\n",
    "output changes as we change only one of the inputs. We will call this the\n",
    "marginal product.\n",
    "\n",
    "For example, compare the output using $ K, L $ units of inputs to that with\n",
    "an $ \\epsilon $ units of labor.\n",
    "\n",
    "Then the marginal product of labor (MPL) is defined as\n",
    "\n",
    "$$\n",
    "\\frac{F(K, L + \\varepsilon) - F(K, L)}{\\varepsilon}\n",
    "$$\n",
    "\n",
    "This tells us how much additional output is created relative to the additional\n",
    "input. (Spoiler alert: This should look like the definition for a partial\n",
    "derivative!)\n",
    "\n",
    "If the input can be divided into small units, then we can use calculus to take\n",
    "this limit, using the partial derivative of the production function relative to\n",
    "that input.\n",
    "\n",
    "In this case, we define the marginal product of labor (MPL) and marginal product\n",
    "of capital (MPK) as\n",
    "\n",
    "$$\n",
    "\\begin{aligned}\n",
    "MPL(K, L) &= \\frac{\\partial F(K, L)}{\\partial L}\\\\\n",
    "MPK(K, L) &= \\frac{\\partial F(K, L)}{\\partial K}\n",
    "\\end{aligned}\n",
    "$$\n",
    "\n",
    "In the [Cobb-Douglas](#cobb-douglas-example) example above, this becomes\n",
    "\n",
    "$$\n",
    "\\begin{aligned}\n",
    "MPK(K, L) &= z  \\alpha \\left(\\frac{K}{L} \\right)^{\\alpha - 1}\\\\\n",
    "MPL(K, L) &= (1-\\alpha) z \\left(\\frac{K}{L} \\right)^{\\alpha}\\\\\n",
    "\\end{aligned}\n",
    "$$\n",
    "\n",
    "Let’s test it out with Python! We’ll also see that we can actually return\n",
    "multiple things in a Python function.\n",
    "\n",
    "The syntax for a return statement with multiple items is return item1, item2, ….\n",
    "\n",
    "In this case, we’ll compute both the MPL and the MPK and then return both."
   ]
  },
  {
   "cell_type": "code",
   "execution_count": null,
   "metadata": {
    "hide-output": false,
    "slideshow": {
     "slide_type": "-"
    }
   },
   "outputs": [],
   "source": [
    "def marginal_products(K, L, epsilon):\n",
    "\n",
    "    mpl = (cobb_douglas(K, L + epsilon) - cobb_douglas(K, L)) / epsilon\n",
    "    mpk = (cobb_douglas(K + epsilon, L) - cobb_douglas(K, L)) / epsilon\n",
    "\n",
    "    return mpl, mpk"
   ]
  },
  {
   "cell_type": "code",
   "execution_count": null,
   "metadata": {
    "hide-output": false,
    "slideshow": {
     "slide_type": "-"
    }
   },
   "outputs": [],
   "source": [
    "tup = marginal_products(1.0, 0.5,  1e-4)\n",
    "print(tup)"
   ]
  },
  {
   "cell_type": "markdown",
   "metadata": {
    "slideshow": {
     "slide_type": "subslide"
    }
   },
   "source": [
    "Instead of using the tuple, these can be directly unpacked to variables."
   ]
  },
  {
   "cell_type": "code",
   "execution_count": null,
   "metadata": {
    "hide-output": false,
    "slideshow": {
     "slide_type": "-"
    }
   },
   "outputs": [],
   "source": [
    "mpl, mpk = marginal_products(1.0, 0.5,  1e-4)\n",
    "print(f\"mpl = {mpl}, mpk = {mpk}\")"
   ]
  },
  {
   "cell_type": "markdown",
   "metadata": {
    "slideshow": {
     "slide_type": "subslide"
    }
   },
   "source": [
    "We can use this to calculate the marginal products for different `K`, fixing `L`\n",
    "using a comprehension."
   ]
  },
  {
   "cell_type": "code",
   "execution_count": null,
   "metadata": {
    "hide-output": false,
    "slideshow": {
     "slide_type": "-"
    }
   },
   "outputs": [],
   "source": [
    "Ks = [1.0, 2.0, 3.0]\n",
    "[marginal_products(K, 0.5, 1e-4) for K in Ks] # create a tuple for each K"
   ]
  },
  {
   "cell_type": "markdown",
   "metadata": {
    "slideshow": {
     "slide_type": "slide"
    }
   },
   "source": [
    "### Documentation\n",
    "\n",
    "In a previous exercise, we asked you to find help for the `cobb_douglas` and\n",
    "`returns_to_scale` functions using `?`.\n",
    "\n",
    "It didn’t provide any useful information.\n",
    "\n",
    "To provide this type of help information, we need to\n",
    "add what Python programmers call a “docstring” to our functions.\n",
    "\n",
    "This is done by putting a string (not assigned to any variable name) as\n",
    "the first line of the *body* of the function (after the line with\n",
    "`def`).\n",
    "\n",
    "Below is a new version of the template we used to define functions."
   ]
  },
  {
   "cell_type": "markdown",
   "metadata": {
    "hide-output": false,
    "slideshow": {
     "slide_type": "slide"
    }
   },
   "source": [
    "```python\n",
    "def function_name(inputs):\n",
    "    \"\"\"\n",
    "    Docstring\n",
    "    \"\"\"\n",
    "    # step 1\n",
    "    # step 2\n",
    "    # ...\n",
    "    return outputs\n",
    "```\n"
   ]
  },
  {
   "cell_type": "markdown",
   "metadata": {
    "slideshow": {
     "slide_type": "subslide"
    }
   },
   "source": [
    "Let’s re-define our `cobb_douglas` function to include a docstring."
   ]
  },
  {
   "cell_type": "code",
   "execution_count": null,
   "metadata": {
    "hide-output": false,
    "slideshow": {
     "slide_type": "-"
    }
   },
   "outputs": [],
   "source": [
    "def cobb_douglas(K, L):\n",
    "    \"\"\"\n",
    "    Computes the production F(K, L) for a Cobb-Douglas production function\n",
    "\n",
    "    Takes the form F(K, L) = z K^{\\alpha} L^{1 - \\alpha}\n",
    "\n",
    "    We restrict z = 1 and alpha = 0.33\n",
    "    \"\"\"\n",
    "    return 1.0 * K**(0.33) * L**(1.0 - 0.33)"
   ]
  },
  {
   "cell_type": "markdown",
   "metadata": {
    "slideshow": {
     "slide_type": "fragment"
    }
   },
   "source": [
    "Now when we have Jupyter evaluate `cobb_douglas?`, our message is\n",
    "displayed (or use the Contextual Help window with Jupyterlab and `Ctrl-I` or `Cmd-I`)."
   ]
  },
  {
   "cell_type": "code",
   "execution_count": null,
   "metadata": {
    "hide-output": false,
    "slideshow": {
     "slide_type": "-"
    }
   },
   "outputs": [],
   "source": [
    "cobb_douglas?"
   ]
  },
  {
   "cell_type": "markdown",
   "metadata": {
    "slideshow": {
     "slide_type": "-"
    }
   },
   "source": [
    "We recommend that you always include at least a very simple docstring for\n",
    "nontrivial functions.\n",
    "\n",
    "This is in the same spirit as adding comments to your code — it makes it easier\n",
    "for future readers/users (including yourself) to understand what the code does.\n"
   ]
  },
  {
   "cell_type": "markdown",
   "metadata": {
    "slideshow": {
     "slide_type": "subslide"
    }
   },
   "source": [
    "### Default and Keyword Arguments\n",
    "\n",
    "Functions can have optional arguments.\n",
    "\n",
    "To accomplish this, we must these arguments a *default value* by saying\n",
    "`name=default_value` instead of just `name` as we list the arguments.\n",
    "\n",
    "To demonstrate this functionality, let’s now make $ z $ and $ \\alpha $\n",
    "arguments to our cobb_douglas function!"
   ]
  },
  {
   "cell_type": "code",
   "execution_count": null,
   "metadata": {
    "hide-output": false,
    "slideshow": {
     "slide_type": "-"
    }
   },
   "outputs": [],
   "source": [
    "def cobb_douglas(K, L, alpha=0.33, z=1):\n",
    "    \"\"\"\n",
    "    Computes the production F(K, L) for a Cobb-Douglas production function\n",
    "\n",
    "    Takes the form F(K, L) = z K^{\\alpha} L^{1 - \\alpha}\n",
    "    \"\"\"\n",
    "    return z * K**(alpha) * L**(1.0 - alpha)"
   ]
  },
  {
   "cell_type": "markdown",
   "metadata": {
    "slideshow": {
     "slide_type": "fragment"
    }
   },
   "source": [
    "We can now call this function by passing in just K and L. Notice that it will\n",
    "produce same result as earlier because `alpha` and `z` are the same as earlier."
   ]
  },
  {
   "cell_type": "code",
   "execution_count": null,
   "metadata": {
    "hide-output": false,
    "slideshow": {
     "slide_type": "-"
    }
   },
   "outputs": [],
   "source": [
    "cobb_douglas(1.0, 0.5)"
   ]
  },
  {
   "cell_type": "markdown",
   "metadata": {
    "slideshow": {
     "slide_type": "fragment"
    }
   },
   "source": [
    "However, we can also set the other arguments of the function by passing\n",
    "more than just K/L."
   ]
  },
  {
   "cell_type": "code",
   "execution_count": null,
   "metadata": {
    "hide-output": false,
    "slideshow": {
     "slide_type": "-"
    }
   },
   "outputs": [],
   "source": [
    "cobb_douglas(1.0, 0.5, 0.35, 1.6)"
   ]
  },
  {
   "cell_type": "markdown",
   "metadata": {
    "slideshow": {
     "slide_type": "-"
    }
   },
   "source": [
    "In the example above, we used `alpha = 0.35`, `z = 1.6`."
   ]
  },
  {
   "cell_type": "markdown",
   "metadata": {
    "slideshow": {
     "slide_type": "fragment"
    }
   },
   "source": [
    "We can also refer to function arguments by their name, instead of only their\n",
    "position (order).\n",
    "\n",
    "To do this, we would write `func_name(arg=value)` for as many of the arguments\n",
    "as we want.\n",
    "\n",
    "Here’s how to do that with our `cobb_douglas` example."
   ]
  },
  {
   "cell_type": "code",
   "execution_count": null,
   "metadata": {
    "hide-output": false,
    "slideshow": {
     "slide_type": "-"
    }
   },
   "outputs": [],
   "source": [
    "cobb_douglas(1.0, 0.5, z=1.5)"
   ]
  },
  {
   "cell_type": "markdown",
   "metadata": {
    "slideshow": {
     "slide_type": "fragment"
    }
   },
   "source": [
    "In terms of variable scope, the `z` name within the function is\n",
    "different from any other `z` in the outer scope.\n",
    "\n",
    "To be clear,"
   ]
  },
  {
   "cell_type": "code",
   "execution_count": null,
   "metadata": {
    "hide-output": false,
    "slideshow": {
     "slide_type": "-"
    }
   },
   "outputs": [],
   "source": [
    "x = 5\n",
    "def f(x):\n",
    "    return x\n",
    "f(x) # \"coincidence\" that it has the same name"
   ]
  },
  {
   "cell_type": "markdown",
   "metadata": {
    "slideshow": {
     "slide_type": "fragment"
    }
   },
   "source": [
    "This is also true with named function arguments, above."
   ]
  },
  {
   "cell_type": "code",
   "execution_count": null,
   "metadata": {
    "hide-output": false,
    "slideshow": {
     "slide_type": "-"
    }
   },
   "outputs": [],
   "source": [
    "z = 1.5\n",
    "cobb_douglas(1.0, 0.5, z=z) # no problem!"
   ]
  },
  {
   "cell_type": "markdown",
   "metadata": {
    "slideshow": {
     "slide_type": "-"
    }
   },
   "source": [
    "In that example, the `z` on the left hand side of `z = z` refers\n",
    "to the local variable name in the function whereas the `z` on the\n",
    "right hand side refers to the `z` in the outer scope."
   ]
  },
  {
   "cell_type": "markdown",
   "metadata": {
    "slideshow": {
     "slide_type": "subslide"
    }
   },
   "source": [
    "### Aside: Methods\n",
    "\n",
    "As we learned earlier, all variables in Python have a type associated\n",
    "with them.\n",
    "\n",
    "Different types of variables have different functions or operations\n",
    "defined for them.\n",
    "\n",
    "For example, I can divide one number by another or make a string uppercase.\n",
    "\n",
    "It wouldn’t make sense to divide one string by another or make a number\n",
    "uppercase.\n",
    "\n",
    "When certain functionality is closely tied to the type of an object, it\n",
    "is often implemented as a special kind of function known as a **method**.\n",
    "\n",
    "For now, you only need to know two things about methods:\n",
    "\n",
    "1. We call them by doing `variable.method_name(other_arguments)`\n",
    "  instead of `function_name(variable, other_arguments)`.  \n",
    "1. A method is a function, even though we call it using a different\n",
    "  notation.  \n",
    "\n",
    "\n",
    "When we introduced the core data types, we saw many methods defined on\n",
    "these types.\n",
    "\n",
    "Let’s revisit them for the `str`, or string type.\n",
    "\n",
    "Notice that we call each of these functions using the `dot` syntax\n",
    "described above."
   ]
  },
  {
   "cell_type": "code",
   "execution_count": null,
   "metadata": {
    "hide-output": false,
    "slideshow": {
     "slide_type": "-"
    }
   },
   "outputs": [],
   "source": [
    "s = \"This is my handy string!\""
   ]
  },
  {
   "cell_type": "code",
   "execution_count": null,
   "metadata": {
    "hide-output": false,
    "slideshow": {
     "slide_type": "fragment"
    }
   },
   "outputs": [],
   "source": [
    "s.upper()"
   ]
  },
  {
   "cell_type": "code",
   "execution_count": null,
   "metadata": {
    "hide-output": false,
    "slideshow": {
     "slide_type": "fragment"
    }
   },
   "outputs": [],
   "source": [
    "s.title()"
   ]
  },
  {
   "cell_type": "markdown",
   "metadata": {
    "slideshow": {
     "slide_type": "slide"
    }
   },
   "source": [
    "## Exercises\n",
    "\n",
    "For more practice, see the [exercises](https://datascience.quantecon.org/python_fundamentals/functions.html#Exercises) from the original QuantEcon Data Science lecture."
   ]
  }
 ],
 "metadata": {
  "celltoolbar": "Slideshow",
  "date": 1595397099.2508914,
  "download_nb": false,
  "filename": "functions.rst",
  "filename_with_path": "python_fundamentals/functions",
  "kernelspec": {
   "display_name": "Python 3",
   "language": "python",
   "name": "python3"
  },
  "language_info": {
   "codemirror_mode": {
    "name": "ipython",
    "version": 3
   },
   "file_extension": ".py",
   "mimetype": "text/x-python",
   "name": "python",
   "nbconvert_exporter": "python",
   "pygments_lexer": "ipython3",
   "version": "3.8.8"
  },
  "title": "Functions"
 },
 "nbformat": 4,
 "nbformat_minor": 2
}

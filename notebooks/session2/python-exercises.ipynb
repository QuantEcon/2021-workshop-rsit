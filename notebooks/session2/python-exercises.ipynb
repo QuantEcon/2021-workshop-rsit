{
 "cells": [
  {
   "cell_type": "markdown",
   "id": "dominant-precipitation",
   "metadata": {},
   "source": [
    "# Exercises"
   ]
  },
  {
   "cell_type": "markdown",
   "id": "north-motivation",
   "metadata": {},
   "source": [
    "**Exercise 1**:\n",
    "\n",
    "Lookup a country in [World Bank database](https://data.worldbank.org), and format a string showing the growth rate of GDP over the last 2 years."
   ]
  },
  {
   "cell_type": "code",
   "execution_count": null,
   "id": "integral-animal",
   "metadata": {},
   "outputs": [],
   "source": []
  },
  {
   "cell_type": "markdown",
   "id": "purple-galaxy",
   "metadata": {},
   "source": [
    "**Exercise 2:**\n",
    "\n",
    "Using the country you chose from exercise one, create a dictionary with GDP, population, and life expectancy for the years 1980, 1990, 2005, 2015. The years should be the keys and each value should be another dictionary with keys `GDP`, `population`, and `life_expectancy`."
   ]
  },
  {
   "cell_type": "code",
   "execution_count": null,
   "id": "wireless-instrumentation",
   "metadata": {},
   "outputs": [],
   "source": []
  },
  {
   "cell_type": "markdown",
   "id": "documented-midnight",
   "metadata": {},
   "source": [
    "**Exercises 3-4**\n",
    "\n",
    "For the next 2 exercises, recall that the net present value (NPV) of an asset that pays $x_t$ in period $t$ for periods $t=0$ to $t=T$ with a discount rate $r$ can be computed by\n",
    "\n",
    "$$\\text{NPV} \\equiv \\sum_{t=0}^T \\left( \\frac{1}{1 + r} \\right)^t x_t$$"
   ]
  },
  {
   "cell_type": "markdown",
   "id": "shared-regard",
   "metadata": {},
   "source": [
    "**Exercise 3**:\n",
    "\n",
    "Government bonds are often issued as *zero-coupon bonds* meaning that they make no payments throughout the entire time that they are held, but, rather make a single payment at the time of maturity.\n",
    "\n",
    "How much should you be willing to pay for a zero-coupon bond that pays \\$100 in 10 years with a yearly interest rate of 5%?\n",
    "\n",
    "(Compute this using a loop rather than plugging in directly)\n"
   ]
  },
  {
   "cell_type": "code",
   "execution_count": null,
   "id": "false-economics",
   "metadata": {},
   "outputs": [],
   "source": []
  },
  {
   "cell_type": "markdown",
   "id": "extra-focus",
   "metadata": {},
   "source": [
    "**Exercise 4**\n",
    "\n",
    "In economics, when an individual has some knowledge, skills, or education which provides them with a source of future income, we call it [human capital](https://en.wikipedia.org/wiki/Human_capital).\n",
    "\n",
    "When a student graduating from high school is considering whether to continue with post-secondary education, they may consider that it gives them higher paying jobs in the future, but requires that they don't begin working until after graduation.\n",
    "\n",
    "Consider the simplified example where a student has perfectly forecastable employment and is given two choices:\n",
    "\n",
    "1. Begin working immediately and make \\$40,000 a year until they retire 40\n",
    "years later.\n",
    "2. Pay \\$5,000 a year for the next 4 years to attend university, then\n",
    "get a job paying \\$50,000 a year until they retire 40 years after making\n",
    "the college attendance decision.\n",
    "\n",
    "Should the student enroll in school if the discount rate is r = 0.05?"
   ]
  },
  {
   "cell_type": "code",
   "execution_count": null,
   "id": "immune-gibson",
   "metadata": {},
   "outputs": [],
   "source": []
  }
 ],
 "metadata": {
  "kernelspec": {
   "display_name": "Python 3",
   "language": "python",
   "name": "python3"
  },
  "language_info": {
   "codemirror_mode": {
    "name": "ipython",
    "version": 3
   },
   "file_extension": ".py",
   "mimetype": "text/x-python",
   "name": "python",
   "nbconvert_exporter": "python",
   "pygments_lexer": "ipython3",
   "version": "3.8.8"
  }
 },
 "nbformat": 4,
 "nbformat_minor": 5
}

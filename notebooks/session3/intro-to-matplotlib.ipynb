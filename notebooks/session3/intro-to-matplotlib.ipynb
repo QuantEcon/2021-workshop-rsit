{
 "cells": [
  {
   "cell_type": "markdown",
   "metadata": {},
   "source": [
    "Constrained Utility Maximization\n",
    "====================\n",
    "\n",
    "This example solves a demand problem with Cobb-Douglas utility \n",
    "\n",
    "\n",
    "$$U(x_1,x_2) = x_1^\\alpha x_2^\\beta$$\n",
    "\n",
    "and budget constraint\n",
    "\n",
    "$$M = x_1p_1+x_2p_2$$\n",
    "\n",
    "Solving for $x_2$ to obtain the budget constraint in terms of $M$ and $x_1$ gives\n",
    "\n",
    "$$x_2 = \\frac{M}{p_2} - x_1\\frac{p_1}{p_2}$$\n",
    "\n",
    "Solving for an isoquant in terms of $U$ and $x_1$\n",
    "\n",
    "$$x_2 = \\left( \\frac{U}{x_1^\\alpha}\\right)^\\frac{1}{\\beta}$$\n"
   ]
  },
  {
   "cell_type": "code",
   "execution_count": 1,
   "metadata": {},
   "outputs": [],
   "source": [
    "%matplotlib inline\n",
    "import numpy as np\n",
    "import matplotlib.pyplot as plt\n",
    "from __future__ import division"
   ]
  },
  {
   "cell_type": "code",
   "execution_count": 2,
   "metadata": {},
   "outputs": [],
   "source": [
    "def utility(x1, alpha, x2, beta):\n",
    "    return (x1**alpha)*(x2**beta)\n",
    "\n",
    "def isoquant(x1, alpha, beta, u):\n",
    "    return (u/(x1**alpha))**(1/beta)\n",
    "\n",
    "def budgetconst(m, p1, p2, x1):\n",
    "    return (m/p2)-(p1/p2)*x1"
   ]
  },
  {
   "cell_type": "markdown",
   "metadata": {},
   "source": [
    "## Finding Optimal Point\n",
    "\n",
    "Using a Lagrangian to find the optimal point\n",
    "\n",
    "$$L(x_1,x_2) = x_1^\\alpha x_2^\\beta + \\lambda(M - x_1p_1 - x_2p_2)$$\n",
    "\n",
    "Differentiate with respect to $x_1$ and $x_2$\n",
    "\n",
    "$$ \\frac{\\partial L}{\\partial x_1} = \\alpha x_1^{\\alpha-1} x_2^\\beta - \\lambda{p_1} $$\n",
    "$$ \\frac{\\partial L}{\\partial x_2} = \\beta x_2^{\\beta-1} x_1^\\alpha - \\lambda{p_2} $$\n",
    "\n",
    "Setting both first order conditions $=0$ and substitute for $\\lambda$ and solving for $x_1$ in terms of $x_2$\n",
    "\n",
    "$$ x_1 = \\frac{\\alpha p_2}{\\beta p_1}x_2$$\n",
    "\n",
    "Substitute into the budget constraint to solve for $x_2$\n",
    "\n",
    "$$x_2 = \\frac{M}{\\frac{\\alpha}{\\beta}p_2}  + p_2$$\n",
    "\n",
    "Now we can solve for $x_2$ using parameters $\\alpha$, $\\beta$, and price."
   ]
  },
  {
   "cell_type": "code",
   "execution_count": 3,
   "metadata": {},
   "outputs": [],
   "source": [
    "#-Find Optimal Point Function-#\n",
    "def find_optimal(p1, p2, alpha, beta, m=1):\n",
    "    x2 = m / ((alpha / beta) * (p2) + p2)\n",
    "    x1 = (alpha / beta) * (p2 / p1) * x2\n",
    "    u = utility(x1, alpha, x2, beta)\n",
    "    return x1, x2, u"
   ]
  },
  {
   "cell_type": "code",
   "execution_count": 4,
   "metadata": {},
   "outputs": [],
   "source": [
    "x1, x2, u = find_optimal(1, 2, 0.5, 0.5, m=1)"
   ]
  },
  {
   "cell_type": "code",
   "execution_count": 5,
   "metadata": {},
   "outputs": [
    {
     "data": {
      "text/plain": [
       "0.5"
      ]
     },
     "execution_count": 5,
     "metadata": {},
     "output_type": "execute_result"
    }
   ],
   "source": [
    "x1"
   ]
  },
  {
   "cell_type": "code",
   "execution_count": 6,
   "metadata": {},
   "outputs": [
    {
     "data": {
      "text/plain": [
       "0.25"
      ]
     },
     "execution_count": 6,
     "metadata": {},
     "output_type": "execute_result"
    }
   ],
   "source": [
    "x2"
   ]
  },
  {
   "cell_type": "code",
   "execution_count": 7,
   "metadata": {},
   "outputs": [
    {
     "data": {
      "text/plain": [
       "0.3535533905932738"
      ]
     },
     "execution_count": 7,
     "metadata": {},
     "output_type": "execute_result"
    }
   ],
   "source": [
    "u"
   ]
  },
  {
   "cell_type": "markdown",
   "metadata": {},
   "source": [
    "## Plot\n"
   ]
  },
  {
   "cell_type": "code",
   "execution_count": 8,
   "metadata": {},
   "outputs": [],
   "source": [
    "# Set Parameters\n",
    "alpha = 0.5\n",
    "beta = 0.5\n",
    "p1 = 1\n",
    "p2 = 1\n",
    "m = 10"
   ]
  },
  {
   "cell_type": "markdown",
   "metadata": {},
   "source": [
    "### Get Data for Plot"
   ]
  },
  {
   "cell_type": "code",
   "execution_count": 9,
   "metadata": {},
   "outputs": [],
   "source": [
    "# Find Optimal Points\n",
    "x1i, x2i, u = find_optimal(p1, p2, alpha, beta, m)\n",
    "\n",
    "# x-axis range\n",
    "x1 = np.arange(0.1,10,0.1)\n",
    "\n",
    "# IsoQuant\n",
    "x2a = isoquant(x1, alpha, beta, u)\n",
    "\n",
    "# Budget Constraint\n",
    "x2b = budgetconst(m,p1,p2,x1)"
   ]
  },
  {
   "cell_type": "code",
   "execution_count": 10,
   "metadata": {},
   "outputs": [
    {
     "data": {
      "text/plain": [
       "array([0.1, 0.2, 0.3, 0.4, 0.5, 0.6, 0.7, 0.8, 0.9, 1. , 1.1, 1.2, 1.3,\n",
       "       1.4, 1.5, 1.6, 1.7, 1.8, 1.9, 2. , 2.1, 2.2, 2.3, 2.4, 2.5, 2.6,\n",
       "       2.7, 2.8, 2.9, 3. , 3.1, 3.2, 3.3, 3.4, 3.5, 3.6, 3.7, 3.8, 3.9,\n",
       "       4. , 4.1, 4.2, 4.3, 4.4, 4.5, 4.6, 4.7, 4.8, 4.9, 5. , 5.1, 5.2,\n",
       "       5.3, 5.4, 5.5, 5.6, 5.7, 5.8, 5.9, 6. , 6.1, 6.2, 6.3, 6.4, 6.5,\n",
       "       6.6, 6.7, 6.8, 6.9, 7. , 7.1, 7.2, 7.3, 7.4, 7.5, 7.6, 7.7, 7.8,\n",
       "       7.9, 8. , 8.1, 8.2, 8.3, 8.4, 8.5, 8.6, 8.7, 8.8, 8.9, 9. , 9.1,\n",
       "       9.2, 9.3, 9.4, 9.5, 9.6, 9.7, 9.8, 9.9])"
      ]
     },
     "execution_count": 10,
     "metadata": {},
     "output_type": "execute_result"
    }
   ],
   "source": [
    "x1"
   ]
  },
  {
   "cell_type": "code",
   "execution_count": null,
   "metadata": {},
   "outputs": [],
   "source": []
  },
  {
   "cell_type": "markdown",
   "metadata": {},
   "source": [
    "### Construct a Plot"
   ]
  },
  {
   "cell_type": "code",
   "execution_count": 11,
   "metadata": {},
   "outputs": [
    {
     "data": {
      "image/png": "[encoded data removed]",
      "text/plain": [
       "<Figure size 576x576 with 1 Axes>"
      ]
     },
     "metadata": {
      "needs_background": "light"
     },
     "output_type": "display_data"
    }
   ],
   "source": [
    "# Setup a Figure\n",
    "fig, ax = plt.subplots(figsize=(8,8))\n",
    "\n",
    "# Add the Isoquant Plot (x2a given x1)\n",
    "ax.plot(x1, x2a, lw=2, alpha=0.6, label='isoquant')\n",
    "\n",
    "# Add the Budget Constraint (x2b given x1)\n",
    "ax.plot(x1, x2b, lw=2, alpha=0.6, label='budget')\n",
    "\n",
    "# Add vertical and horizontal lines for optimal solution\n",
    "ax.vlines(x1i, 0, x2i, linestyles=\"dashed\")\n",
    "ax.hlines(x2i, 0, x1i, linestyles=\"dashed\")\n",
    "\n",
    "# Plot optimal allocation intersection ('or' = red circle)\n",
    "ax.plot(x1i, x2i, 'or')\n",
    "\n",
    "# Add Labels\n",
    "ax.set_xlabel(r'$x_{1}$', fontsize=14)\n",
    "ax.set_xlim(0, 10)\n",
    "ax.set_ylabel('$x_{2}$', fontsize=14)\n",
    "ax.set_ylim(0, 10)\n",
    "\n",
    "# Add a Legend\n",
    "ax.legend(loc='upper right', frameon=False, fontsize=14)\n",
    "\n",
    "# Plot the Figure\n",
    "plt.show()"
   ]
  },
  {
   "cell_type": "markdown",
   "metadata": {},
   "source": [
    "## Making the Plot Interactive"
   ]
  },
  {
   "cell_type": "markdown",
   "metadata": {},
   "source": [
    "**Step 1:** Wrap the code into a function"
   ]
  },
  {
   "cell_type": "code",
   "execution_count": 12,
   "metadata": {},
   "outputs": [],
   "source": [
    "def plot_figure(alpha, beta, p1, p2, m):\n",
    "    x1i, x2i, u = find_optimal(p1, p2, alpha, beta, m)\n",
    "    x1 = np.arange(0.1,10,0.1)\n",
    "    x2a = isoquant(x1,alpha,beta,u)\n",
    "    x2b = budgetconst(m,p1,p2,x1)\n",
    "    fig, ax = plt.subplots(figsize=(8,8))\n",
    "    ax.plot(x1, x2a, lw=2, alpha=0.6, label='isoquant')\n",
    "    ax.plot(x1, x2b, lw=2, alpha=0.6, label='budget')\n",
    "    ax.vlines(x1i,0,x2i, linestyles=\"dashed\")\n",
    "    ax.hlines(x2i,0,x1i, linestyles=\"dashed\")\n",
    "    ax.plot(x1i,x2i,'or')\n",
    "    ax.set_xlabel(r'$x_{1}$', fontsize=14)\n",
    "    ax.set_xlim(0, 10)\n",
    "    ax.set_ylabel('$x_{2}$', fontsize=14)\n",
    "    ax.set_ylim(0, 10)\n",
    "    ax.legend(loc='upper right', frameon=False, fontsize=14)\n",
    "    plt.show()"
   ]
  },
  {
   "cell_type": "code",
   "execution_count": 13,
   "metadata": {},
   "outputs": [
    {
     "data": {
      "image/png": "[encoded data removed]",
      "text/plain": [
       "<Figure size 576x576 with 1 Axes>"
      ]
     },
     "metadata": {
      "needs_background": "light"
     },
     "output_type": "display_data"
    }
   ],
   "source": [
    "plot_figure(alpha, beta, p1, p2, m)"
   ]
  },
  {
   "cell_type": "code",
   "execution_count": 14,
   "metadata": {},
   "outputs": [
    {
     "data": {
      "application/vnd.jupyter.widget-view+json": {
       "model_id": "1532812ad7444927bccb359247497fc8",
       "version_major": 2,
       "version_minor": 0
      },
      "text/plain": [
       "interactive(children=(FloatSlider(value=0.5, description='alpha', max=0.99, min=0.01, step=0.01), FloatSlider(…"
      ]
     },
     "metadata": {},
     "output_type": "display_data"
    }
   ],
   "source": [
    "from ipywidgets import interact\n",
    "\n",
    "@interact(alpha=(0.01, 0.99, 0.01), beta=(0.01, 0.99, 0.01), p1=(1, 4, 0.5), p2=(1, 4, 0.5), m=(10, 30, 1))\n",
    "def plot_figure(alpha, beta, p1 ,p2 ,m):\n",
    "    x1i, x2i, u = find_optimal(p1, p2, alpha, beta, m)\n",
    "    #-Figure-#\n",
    "    x1 = np.arange(0.1, 10, 0.1)\n",
    "    x2a = isoquant(x1, alpha, beta, u)\n",
    "    x2b = budgetconst(m, p1, p2, x1)\n",
    "    fig, ax = plt.subplots(figsize=(8,8))\n",
    "    ax.plot(x1, x2a, lw=2, alpha=0.6, label='isoquant')\n",
    "    ax.plot(x1, x2b, lw=2, alpha=0.6, label='budget')\n",
    "    ax.vlines(x1i, 0, x2i, linestyles=\"dashed\")\n",
    "    ax.hlines(x2i, 0, x1i, linestyles=\"dashed\")\n",
    "    ax.plot(x1i, x2i, 'or')\n",
    "    ax.set_xlabel(r'$x_{1}$', fontsize=14)\n",
    "    ax.set_xlim(0, 10)\n",
    "    ax.set_ylabel('$x_{2}$', fontsize=14)\n",
    "    ax.set_ylim(0, 10)\n",
    "    ax.legend(loc='upper right', frameon=False, fontsize=14)\n",
    "    plt.show()"
   ]
  },
  {
   "cell_type": "code",
   "execution_count": null,
   "metadata": {},
   "outputs": [],
   "source": []
  },
  {
   "cell_type": "code",
   "execution_count": null,
   "metadata": {},
   "outputs": [],
   "source": []
  }
 ],
 "metadata": {
  "kernelspec": {
   "display_name": "Python 3",
   "language": "python",
   "name": "python3"
  },
  "language_info": {
   "codemirror_mode": {
    "name": "ipython",
    "version": 3
   },
   "file_extension": ".py",
   "mimetype": "text/x-python",
   "name": "python",
   "nbconvert_exporter": "python",
   "pygments_lexer": "ipython3",
   "version": "3.8.5"
  }
 },
 "nbformat": 4,
 "nbformat_minor": 1
}

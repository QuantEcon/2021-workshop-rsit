{
 "cells": [
  {
   "cell_type": "markdown",
   "metadata": {},
   "source": [
    "# Python"
   ]
  },
  {
   "cell_type": "markdown",
   "metadata": {},
   "source": [
    "Use the following `string` for the following examples"
   ]
  },
  {
   "cell_type": "code",
   "execution_count": 1,
   "metadata": {},
   "outputs": [],
   "source": [
    "a = \"Hello these are some words\""
   ]
  },
  {
   "cell_type": "markdown",
   "metadata": {},
   "source": [
    "What type is `a`?"
   ]
  },
  {
   "cell_type": "code",
   "execution_count": 2,
   "metadata": {},
   "outputs": [
    {
     "data": {
      "text/plain": [
       "str"
      ]
     },
     "execution_count": 2,
     "metadata": {},
     "output_type": "execute_result"
    }
   ],
   "source": [
    "type(a)"
   ]
  },
  {
   "cell_type": "markdown",
   "metadata": {},
   "source": [
    "Can you extract the first character from `a`?"
   ]
  },
  {
   "cell_type": "code",
   "execution_count": 3,
   "metadata": {},
   "outputs": [
    {
     "data": {
      "text/plain": [
       "'H'"
      ]
     },
     "execution_count": 3,
     "metadata": {},
     "output_type": "execute_result"
    }
   ],
   "source": [
    "a[0]"
   ]
  },
  {
   "cell_type": "markdown",
   "metadata": {},
   "source": [
    "Can you extract the last character from `a`?"
   ]
  },
  {
   "cell_type": "code",
   "execution_count": 4,
   "metadata": {},
   "outputs": [
    {
     "data": {
      "text/plain": [
       "'s'"
      ]
     },
     "execution_count": 4,
     "metadata": {},
     "output_type": "execute_result"
    }
   ],
   "source": [
    "a[-1]"
   ]
  },
  {
   "cell_type": "markdown",
   "metadata": {},
   "source": [
    "What happens if you loop (using a `for` loop) over the variable a and print each `element`?"
   ]
  },
  {
   "cell_type": "code",
   "execution_count": 5,
   "metadata": {},
   "outputs": [
    {
     "name": "stdout",
     "output_type": "stream",
     "text": [
      "H\n",
      "e\n",
      "l\n",
      "l\n",
      "o\n",
      " \n",
      "t\n",
      "h\n",
      "e\n",
      "s\n",
      "e\n",
      " \n",
      "a\n",
      "r\n",
      "e\n",
      " \n",
      "s\n",
      "o\n",
      "m\n",
      "e\n",
      " \n",
      "w\n",
      "o\n",
      "r\n",
      "d\n",
      "s\n"
     ]
    }
   ],
   "source": [
    "for item in a:\n",
    "    print(item)"
   ]
  },
  {
   "cell_type": "markdown",
   "metadata": {},
   "source": [
    "Can you split `a` into `words` (**Hint:** remember that `a` has methods)"
   ]
  },
  {
   "cell_type": "code",
   "execution_count": 6,
   "metadata": {},
   "outputs": [
    {
     "data": {
      "text/plain": [
       "['Hello', 'these', 'are', 'some', 'words']"
      ]
     },
     "execution_count": 6,
     "metadata": {},
     "output_type": "execute_result"
    }
   ],
   "source": [
    "a.split()"
   ]
  },
  {
   "cell_type": "markdown",
   "metadata": {},
   "source": [
    "Take a look at the following variable assignment"
   ]
  },
  {
   "cell_type": "code",
   "execution_count": 7,
   "metadata": {},
   "outputs": [],
   "source": [
    "a = 1\n",
    "b = 2\n",
    "c = a + b\n",
    "a = 3"
   ]
  },
  {
   "cell_type": "markdown",
   "metadata": {},
   "source": [
    "What is the value of `a`?"
   ]
  },
  {
   "cell_type": "code",
   "execution_count": 8,
   "metadata": {},
   "outputs": [
    {
     "data": {
      "text/plain": [
       "3"
      ]
     },
     "execution_count": 8,
     "metadata": {},
     "output_type": "execute_result"
    }
   ],
   "source": [
    "a"
   ]
  },
  {
   "cell_type": "markdown",
   "metadata": {},
   "source": [
    "What is the value of `c`?"
   ]
  },
  {
   "cell_type": "code",
   "execution_count": 9,
   "metadata": {},
   "outputs": [
    {
     "data": {
      "text/plain": [
       "3"
      ]
     },
     "execution_count": 9,
     "metadata": {},
     "output_type": "execute_result"
    }
   ],
   "source": [
    "c"
   ]
  },
  {
   "cell_type": "markdown",
   "metadata": {},
   "source": [
    "Take a look at the following variable assignments (**python** uses **pass by reference**)"
   ]
  },
  {
   "cell_type": "code",
   "execution_count": 10,
   "metadata": {},
   "outputs": [],
   "source": [
    "a = 1\n",
    "b = a\n",
    "a = 2"
   ]
  },
  {
   "cell_type": "markdown",
   "metadata": {},
   "source": [
    "What is the value of `a`?"
   ]
  },
  {
   "cell_type": "code",
   "execution_count": 11,
   "metadata": {},
   "outputs": [
    {
     "data": {
      "text/plain": [
       "2"
      ]
     },
     "execution_count": 11,
     "metadata": {},
     "output_type": "execute_result"
    }
   ],
   "source": [
    "a"
   ]
  },
  {
   "cell_type": "markdown",
   "metadata": {},
   "source": [
    "What is the value of `b`?"
   ]
  },
  {
   "cell_type": "code",
   "execution_count": 12,
   "metadata": {},
   "outputs": [
    {
     "data": {
      "text/plain": [
       "1"
      ]
     },
     "execution_count": 12,
     "metadata": {},
     "output_type": "execute_result"
    }
   ],
   "source": [
    "b"
   ]
  },
  {
   "cell_type": "markdown",
   "metadata": {},
   "source": [
    "`b` was assigned to `a` when it took the value of 1"
   ]
  },
  {
   "cell_type": "markdown",
   "metadata": {},
   "source": [
    "# NumPy"
   ]
  },
  {
   "cell_type": "code",
   "execution_count": 13,
   "metadata": {},
   "outputs": [],
   "source": [
    "import numpy as np"
   ]
  },
  {
   "cell_type": "markdown",
   "metadata": {},
   "source": [
    "Use the `numpy` package and construct an array `a` from the list `data`"
   ]
  },
  {
   "cell_type": "code",
   "execution_count": 14,
   "metadata": {},
   "outputs": [],
   "source": [
    "data = [1, 2, 3, 4]"
   ]
  },
  {
   "cell_type": "code",
   "execution_count": 15,
   "metadata": {},
   "outputs": [],
   "source": [
    "a = np.array(data)"
   ]
  },
  {
   "cell_type": "code",
   "execution_count": 16,
   "metadata": {},
   "outputs": [
    {
     "data": {
      "text/plain": [
       "array([1, 2, 3, 4])"
      ]
     },
     "execution_count": 16,
     "metadata": {},
     "output_type": "execute_result"
    }
   ],
   "source": [
    "a"
   ]
  },
  {
   "cell_type": "markdown",
   "metadata": {},
   "source": [
    "Using the list `data`"
   ]
  },
  {
   "cell_type": "code",
   "execution_count": 17,
   "metadata": {},
   "outputs": [],
   "source": [
    "data = ['a', 2, 'c', 4]"
   ]
  },
  {
   "cell_type": "markdown",
   "metadata": {},
   "source": [
    "Q: What does the variable `data` now equal? (looking at each element and what do you notice)"
   ]
  },
  {
   "cell_type": "code",
   "execution_count": 18,
   "metadata": {},
   "outputs": [
    {
     "data": {
      "text/plain": [
       "['a', 2, 'c', 4]"
      ]
     },
     "execution_count": 18,
     "metadata": {},
     "output_type": "execute_result"
    }
   ],
   "source": [
    "data"
   ]
  },
  {
   "cell_type": "markdown",
   "metadata": {},
   "source": [
    "Now use `numpy` to construct an array `a`"
   ]
  },
  {
   "cell_type": "code",
   "execution_count": 19,
   "metadata": {},
   "outputs": [],
   "source": [
    "a = np.array(data)"
   ]
  },
  {
   "cell_type": "code",
   "execution_count": 20,
   "metadata": {},
   "outputs": [
    {
     "data": {
      "text/plain": [
       "array(['a', '2', 'c', '4'], dtype='<U1')"
      ]
     },
     "execution_count": 20,
     "metadata": {},
     "output_type": "execute_result"
    }
   ],
   "source": [
    "a"
   ]
  },
  {
   "cell_type": "markdown",
   "metadata": {},
   "source": [
    "What does `dytpe=<U1` mean do you think?\n",
    "\n",
    "Use a `for` loop to loop through your `numpy` array and check what the dtypes are of each element\n",
    "\n",
    "**Hint:** you can use the attribute:\n",
    "\n",
    "```python\n",
    "a.dtype\n",
    "```\n",
    "\n",
    "to look at the `dtype` of numpy objects"
   ]
  },
  {
   "cell_type": "code",
   "execution_count": 21,
   "metadata": {},
   "outputs": [
    {
     "name": "stdout",
     "output_type": "stream",
     "text": [
      "<U1\n",
      "<U1\n",
      "<U1\n",
      "<U1\n"
     ]
    }
   ],
   "source": [
    "for item in a:\n",
    "    print(item.dtype)"
   ]
  },
  {
   "cell_type": "markdown",
   "metadata": {},
   "source": [
    "Is this different to doing this looping exercise with the original `variable` called `data`?\n",
    "\n",
    "**Hint:** you can use the python function:\n",
    "\n",
    "```python\n",
    "type()\n",
    "``` \n",
    "\n",
    "to find the type of some object"
   ]
  },
  {
   "cell_type": "code",
   "execution_count": 22,
   "metadata": {},
   "outputs": [
    {
     "name": "stdout",
     "output_type": "stream",
     "text": [
      "<class 'str'>\n",
      "<class 'int'>\n",
      "<class 'str'>\n",
      "<class 'int'>\n"
     ]
    }
   ],
   "source": [
    "data = ['a', 2, 'c', 4]\n",
    "for item in data:\n",
    "    print(type(item))"
   ]
  },
  {
   "cell_type": "markdown",
   "metadata": {},
   "source": [
    "This list contains heterogenous types"
   ]
  },
  {
   "cell_type": "markdown",
   "metadata": {},
   "source": [
    "# Pandas\n",
    "\n",
    "We would like to fetch some World Bank data so we decided to search for:\n",
    "\n",
    "`world bank data pandas`\n",
    "\n",
    "and come across [this link](https://data.worldbank.org/products/third-party-apps)\n",
    "\n",
    "We look for `python` integrations and find there are a few options:\n",
    "\n",
    "It looks like [wbgapi](https://pypi.org/project/wbgapi/) is a good place to start.\n",
    "\n",
    "Have a look at the [pypi documentation](https://pypi.org/project/wbgapi/) as it usually provides good advice on installing the package.\n",
    "\n",
    "You can install non-standard packages in `python` using `pip` tool:\n",
    "\n",
    "```bash\n",
    "!pip install <package-name>\n",
    "```\n",
    "\n",
    "This is a terminal based command that can be run inside of `jupyter` code-cell and the `!` asks jupyter to run that at the terminal. \n",
    "\n",
    "It will then display the results."
   ]
  },
  {
   "cell_type": "markdown",
   "metadata": {},
   "source": [
    "Q: Use `pip` to install the `wbgapi` package"
   ]
  },
  {
   "cell_type": "code",
   "execution_count": 23,
   "metadata": {},
   "outputs": [
    {
     "name": "stdout",
     "output_type": "stream",
     "text": [
      "Requirement already satisfied: wbgapi in /Users/matthewmckay/anaconda3/lib/python3.8/site-packages (1.0.5)\n",
      "Requirement already satisfied: PyYAML in /Users/matthewmckay/anaconda3/lib/python3.8/site-packages (from wbgapi) (5.3.1)\n",
      "Requirement already satisfied: tabulate in /Users/matthewmckay/anaconda3/lib/python3.8/site-packages (from wbgapi) (0.8.9)\n",
      "Requirement already satisfied: requests in /Users/matthewmckay/anaconda3/lib/python3.8/site-packages (from wbgapi) (2.24.0)\n",
      "Requirement already satisfied: urllib3!=1.25.0,!=1.25.1,<1.26,>=1.21.1 in /Users/matthewmckay/anaconda3/lib/python3.8/site-packages (from requests->wbgapi) (1.25.9)\n",
      "Requirement already satisfied: certifi>=2017.4.17 in /Users/matthewmckay/anaconda3/lib/python3.8/site-packages (from requests->wbgapi) (2020.12.5)\n",
      "Requirement already satisfied: chardet<4,>=3.0.2 in /Users/matthewmckay/anaconda3/lib/python3.8/site-packages (from requests->wbgapi) (3.0.4)\n",
      "Requirement already satisfied: idna<3,>=2.5 in /Users/matthewmckay/anaconda3/lib/python3.8/site-packages (from requests->wbgapi) (2.10)\n"
     ]
    }
   ],
   "source": [
    "!pip install wbgapi"
   ]
  },
  {
   "cell_type": "markdown",
   "metadata": {},
   "source": [
    "Take a look at the [documentation](https://github.com/tgherzog/wbgapi). \n",
    "\n",
    "In this case there is no special documentation but some guidance is provided in the `README` file.\n",
    "\n",
    "The `README` is the same information that you'll find on the `pypi` page"
   ]
  },
  {
   "cell_type": "code",
   "execution_count": 24,
   "metadata": {},
   "outputs": [],
   "source": [
    "import wbgapi as wb"
   ]
  },
  {
   "cell_type": "markdown",
   "metadata": {},
   "source": [
    "What does the code `NY.GDP.PCAP.CD` represent?"
   ]
  },
  {
   "cell_type": "code",
   "execution_count": 25,
   "metadata": {},
   "outputs": [
    {
     "data": {
      "text/html": [
       "<div class=\"wbgapi\"><table>\n",
       "<thead>\n",
       "<tr><th>id            </th><th>value                       </th></tr>\n",
       "</thead>\n",
       "<tbody>\n",
       "<tr><td>NY.GDP.PCAP.CD</td><td>GDP per capita (current US$)</td></tr>\n",
       "<tr><td>              </td><td>1 elements                  </td></tr>\n",
       "</tbody>\n",
       "</table></div>"
      ],
      "text/plain": [
       "id              value\n",
       "--------------  ----------------------------\n",
       "NY.GDP.PCAP.CD  GDP per capita (current US$)\n",
       "                1 elements"
      ]
     },
     "execution_count": 25,
     "metadata": {},
     "output_type": "execute_result"
    }
   ],
   "source": [
    "wb.series.info('NY.GDP.PCAP.CD')"
   ]
  },
  {
   "cell_type": "markdown",
   "metadata": {},
   "source": [
    "This is how you fetch the GDP per capita (current US$) for the USA"
   ]
  },
  {
   "cell_type": "code",
   "execution_count": 26,
   "metadata": {},
   "outputs": [],
   "source": [
    "usa = wb.data.DataFrame(['NY.GDP.PCAP.CD'], 'USA')"
   ]
  },
  {
   "cell_type": "code",
   "execution_count": 27,
   "metadata": {},
   "outputs": [
    {
     "data": {
      "text/html": [
       "<div>\n",
       "<style scoped>\n",
       "    .dataframe tbody tr th:only-of-type {\n",
       "        vertical-align: middle;\n",
       "    }\n",
       "\n",
       "    .dataframe tbody tr th {\n",
       "        vertical-align: top;\n",
       "    }\n",
       "\n",
       "    .dataframe thead th {\n",
       "        text-align: right;\n",
       "    }\n",
       "</style>\n",
       "<table border=\"1\" class=\"dataframe\">\n",
       "  <thead>\n",
       "    <tr style=\"text-align: right;\">\n",
       "      <th></th>\n",
       "      <th>YR1960</th>\n",
       "      <th>YR1961</th>\n",
       "      <th>YR1962</th>\n",
       "      <th>YR1963</th>\n",
       "      <th>YR1964</th>\n",
       "      <th>YR1965</th>\n",
       "      <th>YR1966</th>\n",
       "      <th>YR1967</th>\n",
       "      <th>YR1968</th>\n",
       "      <th>YR1969</th>\n",
       "      <th>...</th>\n",
       "      <th>YR2011</th>\n",
       "      <th>YR2012</th>\n",
       "      <th>YR2013</th>\n",
       "      <th>YR2014</th>\n",
       "      <th>YR2015</th>\n",
       "      <th>YR2016</th>\n",
       "      <th>YR2017</th>\n",
       "      <th>YR2018</th>\n",
       "      <th>YR2019</th>\n",
       "      <th>YR2020</th>\n",
       "    </tr>\n",
       "    <tr>\n",
       "      <th>economy</th>\n",
       "      <th></th>\n",
       "      <th></th>\n",
       "      <th></th>\n",
       "      <th></th>\n",
       "      <th></th>\n",
       "      <th></th>\n",
       "      <th></th>\n",
       "      <th></th>\n",
       "      <th></th>\n",
       "      <th></th>\n",
       "      <th></th>\n",
       "      <th></th>\n",
       "      <th></th>\n",
       "      <th></th>\n",
       "      <th></th>\n",
       "      <th></th>\n",
       "      <th></th>\n",
       "      <th></th>\n",
       "      <th></th>\n",
       "      <th></th>\n",
       "      <th></th>\n",
       "    </tr>\n",
       "  </thead>\n",
       "  <tbody>\n",
       "    <tr>\n",
       "      <th>USA</th>\n",
       "      <td>3007.123445</td>\n",
       "      <td>3066.562869</td>\n",
       "      <td>3243.843078</td>\n",
       "      <td>3374.515171</td>\n",
       "      <td>3573.941185</td>\n",
       "      <td>3827.52711</td>\n",
       "      <td>4146.316646</td>\n",
       "      <td>4336.426587</td>\n",
       "      <td>4695.92339</td>\n",
       "      <td>5032.144743</td>\n",
       "      <td>...</td>\n",
       "      <td>49886.818109</td>\n",
       "      <td>51610.605278</td>\n",
       "      <td>53117.66785</td>\n",
       "      <td>55064.744548</td>\n",
       "      <td>56839.381774</td>\n",
       "      <td>57951.584082</td>\n",
       "      <td>60062.222313</td>\n",
       "      <td>62996.471285</td>\n",
       "      <td>65297.517508</td>\n",
       "      <td>NaN</td>\n",
       "    </tr>\n",
       "  </tbody>\n",
       "</table>\n",
       "<p>1 rows × 61 columns</p>\n",
       "</div>"
      ],
      "text/plain": [
       "              YR1960       YR1961       YR1962       YR1963       YR1964  \\\n",
       "economy                                                                    \n",
       "USA      3007.123445  3066.562869  3243.843078  3374.515171  3573.941185   \n",
       "\n",
       "             YR1965       YR1966       YR1967      YR1968       YR1969  ...  \\\n",
       "economy                                                                 ...   \n",
       "USA      3827.52711  4146.316646  4336.426587  4695.92339  5032.144743  ...   \n",
       "\n",
       "               YR2011        YR2012       YR2013        YR2014        YR2015  \\\n",
       "economy                                                                        \n",
       "USA      49886.818109  51610.605278  53117.66785  55064.744548  56839.381774   \n",
       "\n",
       "               YR2016        YR2017        YR2018        YR2019  YR2020  \n",
       "economy                                                                  \n",
       "USA      57951.584082  60062.222313  62996.471285  65297.517508     NaN  \n",
       "\n",
       "[1 rows x 61 columns]"
      ]
     },
     "execution_count": 27,
     "metadata": {},
     "output_type": "execute_result"
    }
   ],
   "source": [
    "usa"
   ]
  },
  {
   "cell_type": "markdown",
   "metadata": {},
   "source": [
    "How would you get the data for `Canada` and `Australia`?"
   ]
  },
  {
   "cell_type": "code",
   "execution_count": 28,
   "metadata": {},
   "outputs": [],
   "source": [
    "others = wb.data.DataFrame(['NY.GDP.PCAP.CD'], ['AUS', 'CAN'])"
   ]
  },
  {
   "cell_type": "markdown",
   "metadata": {},
   "source": [
    "Can you combined the DataFrames into a single data table?"
   ]
  },
  {
   "cell_type": "code",
   "execution_count": 29,
   "metadata": {},
   "outputs": [
    {
     "data": {
      "text/html": [
       "<div>\n",
       "<style scoped>\n",
       "    .dataframe tbody tr th:only-of-type {\n",
       "        vertical-align: middle;\n",
       "    }\n",
       "\n",
       "    .dataframe tbody tr th {\n",
       "        vertical-align: top;\n",
       "    }\n",
       "\n",
       "    .dataframe thead th {\n",
       "        text-align: right;\n",
       "    }\n",
       "</style>\n",
       "<table border=\"1\" class=\"dataframe\">\n",
       "  <thead>\n",
       "    <tr style=\"text-align: right;\">\n",
       "      <th></th>\n",
       "      <th>YR1960</th>\n",
       "      <th>YR1961</th>\n",
       "      <th>YR1962</th>\n",
       "      <th>YR1963</th>\n",
       "      <th>YR1964</th>\n",
       "      <th>YR1965</th>\n",
       "      <th>YR1966</th>\n",
       "      <th>YR1967</th>\n",
       "      <th>YR1968</th>\n",
       "      <th>YR1969</th>\n",
       "      <th>...</th>\n",
       "      <th>YR2011</th>\n",
       "      <th>YR2012</th>\n",
       "      <th>YR2013</th>\n",
       "      <th>YR2014</th>\n",
       "      <th>YR2015</th>\n",
       "      <th>YR2016</th>\n",
       "      <th>YR2017</th>\n",
       "      <th>YR2018</th>\n",
       "      <th>YR2019</th>\n",
       "      <th>YR2020</th>\n",
       "    </tr>\n",
       "    <tr>\n",
       "      <th>economy</th>\n",
       "      <th></th>\n",
       "      <th></th>\n",
       "      <th></th>\n",
       "      <th></th>\n",
       "      <th></th>\n",
       "      <th></th>\n",
       "      <th></th>\n",
       "      <th></th>\n",
       "      <th></th>\n",
       "      <th></th>\n",
       "      <th></th>\n",
       "      <th></th>\n",
       "      <th></th>\n",
       "      <th></th>\n",
       "      <th></th>\n",
       "      <th></th>\n",
       "      <th></th>\n",
       "      <th></th>\n",
       "      <th></th>\n",
       "      <th></th>\n",
       "      <th></th>\n",
       "    </tr>\n",
       "  </thead>\n",
       "  <tbody>\n",
       "    <tr>\n",
       "      <th>USA</th>\n",
       "      <td>3007.123445</td>\n",
       "      <td>3066.562869</td>\n",
       "      <td>3243.843078</td>\n",
       "      <td>3374.515171</td>\n",
       "      <td>3573.941185</td>\n",
       "      <td>3827.527110</td>\n",
       "      <td>4146.316646</td>\n",
       "      <td>4336.426587</td>\n",
       "      <td>4695.923390</td>\n",
       "      <td>5032.144743</td>\n",
       "      <td>...</td>\n",
       "      <td>49886.818109</td>\n",
       "      <td>51610.605278</td>\n",
       "      <td>53117.667850</td>\n",
       "      <td>55064.744548</td>\n",
       "      <td>56839.381774</td>\n",
       "      <td>57951.584082</td>\n",
       "      <td>60062.222313</td>\n",
       "      <td>62996.471285</td>\n",
       "      <td>65297.517508</td>\n",
       "      <td>NaN</td>\n",
       "    </tr>\n",
       "    <tr>\n",
       "      <th>AUS</th>\n",
       "      <td>1807.785710</td>\n",
       "      <td>1874.732106</td>\n",
       "      <td>1851.841851</td>\n",
       "      <td>1964.150470</td>\n",
       "      <td>2128.068355</td>\n",
       "      <td>2277.558398</td>\n",
       "      <td>2340.438685</td>\n",
       "      <td>2576.284509</td>\n",
       "      <td>2720.082609</td>\n",
       "      <td>2986.949507</td>\n",
       "      <td>...</td>\n",
       "      <td>62517.833747</td>\n",
       "      <td>68012.147901</td>\n",
       "      <td>68150.107041</td>\n",
       "      <td>62510.791171</td>\n",
       "      <td>56755.721712</td>\n",
       "      <td>49971.131456</td>\n",
       "      <td>54027.966818</td>\n",
       "      <td>57354.964046</td>\n",
       "      <td>55060.326101</td>\n",
       "      <td>NaN</td>\n",
       "    </tr>\n",
       "    <tr>\n",
       "      <th>CAN</th>\n",
       "      <td>2259.294285</td>\n",
       "      <td>2240.433039</td>\n",
       "      <td>2268.585346</td>\n",
       "      <td>2374.498448</td>\n",
       "      <td>2555.111146</td>\n",
       "      <td>2770.361804</td>\n",
       "      <td>3047.106147</td>\n",
       "      <td>3217.159294</td>\n",
       "      <td>3462.678872</td>\n",
       "      <td>3763.953379</td>\n",
       "      <td>...</td>\n",
       "      <td>52087.446384</td>\n",
       "      <td>52678.390123</td>\n",
       "      <td>52652.593683</td>\n",
       "      <td>50893.446714</td>\n",
       "      <td>43585.511982</td>\n",
       "      <td>42322.484780</td>\n",
       "      <td>45148.552706</td>\n",
       "      <td>46313.171371</td>\n",
       "      <td>46194.725226</td>\n",
       "      <td>NaN</td>\n",
       "    </tr>\n",
       "  </tbody>\n",
       "</table>\n",
       "<p>3 rows × 61 columns</p>\n",
       "</div>"
      ],
      "text/plain": [
       "              YR1960       YR1961       YR1962       YR1963       YR1964  \\\n",
       "economy                                                                    \n",
       "USA      3007.123445  3066.562869  3243.843078  3374.515171  3573.941185   \n",
       "AUS      1807.785710  1874.732106  1851.841851  1964.150470  2128.068355   \n",
       "CAN      2259.294285  2240.433039  2268.585346  2374.498448  2555.111146   \n",
       "\n",
       "              YR1965       YR1966       YR1967       YR1968       YR1969  ...  \\\n",
       "economy                                                                   ...   \n",
       "USA      3827.527110  4146.316646  4336.426587  4695.923390  5032.144743  ...   \n",
       "AUS      2277.558398  2340.438685  2576.284509  2720.082609  2986.949507  ...   \n",
       "CAN      2770.361804  3047.106147  3217.159294  3462.678872  3763.953379  ...   \n",
       "\n",
       "               YR2011        YR2012        YR2013        YR2014        YR2015  \\\n",
       "economy                                                                         \n",
       "USA      49886.818109  51610.605278  53117.667850  55064.744548  56839.381774   \n",
       "AUS      62517.833747  68012.147901  68150.107041  62510.791171  56755.721712   \n",
       "CAN      52087.446384  52678.390123  52652.593683  50893.446714  43585.511982   \n",
       "\n",
       "               YR2016        YR2017        YR2018        YR2019  YR2020  \n",
       "economy                                                                  \n",
       "USA      57951.584082  60062.222313  62996.471285  65297.517508     NaN  \n",
       "AUS      49971.131456  54027.966818  57354.964046  55060.326101     NaN  \n",
       "CAN      42322.484780  45148.552706  46313.171371  46194.725226     NaN  \n",
       "\n",
       "[3 rows x 61 columns]"
      ]
     },
     "execution_count": 29,
     "metadata": {},
     "output_type": "execute_result"
    }
   ],
   "source": [
    "usa.append(others)"
   ]
  },
  {
   "cell_type": "markdown",
   "metadata": {},
   "source": [
    "Can you plot the USA, Canada, and Australia as a timeseries plot?"
   ]
  },
  {
   "cell_type": "code",
   "execution_count": 30,
   "metadata": {},
   "outputs": [
    {
     "data": {
      "text/plain": [
       "<matplotlib.axes._subplots.AxesSubplot at 0x7f898a2140d0>"
      ]
     },
     "execution_count": 30,
     "metadata": {},
     "output_type": "execute_result"
    },
    {
     "data": {
      "image/png": "[encoded data removed]",
      "text/plain": [
       "<Figure size 432x288 with 1 Axes>"
      ]
     },
     "metadata": {
      "needs_background": "light"
     },
     "output_type": "display_data"
    }
   ],
   "source": [
    "combined = usa.append(others)\n",
    "combined.T.plot()"
   ]
  },
  {
   "cell_type": "markdown",
   "metadata": {},
   "source": [
    "**Discussion:**\n",
    "\n",
    "We had a discussion focused around combining dataframes and had a look at:\n",
    "\n",
    "1. `pd.concat` (works to append rows by default)\n",
    "2. `pd.join` (works to append columns by default)"
   ]
  },
  {
   "cell_type": "code",
   "execution_count": 31,
   "metadata": {},
   "outputs": [
    {
     "data": {
      "text/html": [
       "<div>\n",
       "<style scoped>\n",
       "    .dataframe tbody tr th:only-of-type {\n",
       "        vertical-align: middle;\n",
       "    }\n",
       "\n",
       "    .dataframe tbody tr th {\n",
       "        vertical-align: top;\n",
       "    }\n",
       "\n",
       "    .dataframe thead th {\n",
       "        text-align: right;\n",
       "    }\n",
       "</style>\n",
       "<table border=\"1\" class=\"dataframe\">\n",
       "  <thead>\n",
       "    <tr style=\"text-align: right;\">\n",
       "      <th></th>\n",
       "      <th>YR1960</th>\n",
       "      <th>YR1961</th>\n",
       "      <th>YR1962</th>\n",
       "      <th>YR1963</th>\n",
       "      <th>YR1964</th>\n",
       "      <th>YR1965</th>\n",
       "      <th>YR1966</th>\n",
       "      <th>YR1967</th>\n",
       "      <th>YR1968</th>\n",
       "      <th>YR1969</th>\n",
       "      <th>...</th>\n",
       "      <th>YR2011</th>\n",
       "      <th>YR2012</th>\n",
       "      <th>YR2013</th>\n",
       "      <th>YR2014</th>\n",
       "      <th>YR2015</th>\n",
       "      <th>YR2016</th>\n",
       "      <th>YR2017</th>\n",
       "      <th>YR2018</th>\n",
       "      <th>YR2019</th>\n",
       "      <th>YR2020</th>\n",
       "    </tr>\n",
       "    <tr>\n",
       "      <th>economy</th>\n",
       "      <th></th>\n",
       "      <th></th>\n",
       "      <th></th>\n",
       "      <th></th>\n",
       "      <th></th>\n",
       "      <th></th>\n",
       "      <th></th>\n",
       "      <th></th>\n",
       "      <th></th>\n",
       "      <th></th>\n",
       "      <th></th>\n",
       "      <th></th>\n",
       "      <th></th>\n",
       "      <th></th>\n",
       "      <th></th>\n",
       "      <th></th>\n",
       "      <th></th>\n",
       "      <th></th>\n",
       "      <th></th>\n",
       "      <th></th>\n",
       "      <th></th>\n",
       "    </tr>\n",
       "  </thead>\n",
       "  <tbody>\n",
       "    <tr>\n",
       "      <th>USA</th>\n",
       "      <td>3007.123445</td>\n",
       "      <td>3066.562869</td>\n",
       "      <td>3243.843078</td>\n",
       "      <td>3374.515171</td>\n",
       "      <td>3573.941185</td>\n",
       "      <td>3827.527110</td>\n",
       "      <td>4146.316646</td>\n",
       "      <td>4336.426587</td>\n",
       "      <td>4695.923390</td>\n",
       "      <td>5032.144743</td>\n",
       "      <td>...</td>\n",
       "      <td>49886.818109</td>\n",
       "      <td>51610.605278</td>\n",
       "      <td>53117.667850</td>\n",
       "      <td>55064.744548</td>\n",
       "      <td>56839.381774</td>\n",
       "      <td>57951.584082</td>\n",
       "      <td>60062.222313</td>\n",
       "      <td>62996.471285</td>\n",
       "      <td>65297.517508</td>\n",
       "      <td>NaN</td>\n",
       "    </tr>\n",
       "    <tr>\n",
       "      <th>AUS</th>\n",
       "      <td>1807.785710</td>\n",
       "      <td>1874.732106</td>\n",
       "      <td>1851.841851</td>\n",
       "      <td>1964.150470</td>\n",
       "      <td>2128.068355</td>\n",
       "      <td>2277.558398</td>\n",
       "      <td>2340.438685</td>\n",
       "      <td>2576.284509</td>\n",
       "      <td>2720.082609</td>\n",
       "      <td>2986.949507</td>\n",
       "      <td>...</td>\n",
       "      <td>62517.833747</td>\n",
       "      <td>68012.147901</td>\n",
       "      <td>68150.107041</td>\n",
       "      <td>62510.791171</td>\n",
       "      <td>56755.721712</td>\n",
       "      <td>49971.131456</td>\n",
       "      <td>54027.966818</td>\n",
       "      <td>57354.964046</td>\n",
       "      <td>55060.326101</td>\n",
       "      <td>NaN</td>\n",
       "    </tr>\n",
       "    <tr>\n",
       "      <th>CAN</th>\n",
       "      <td>2259.294285</td>\n",
       "      <td>2240.433039</td>\n",
       "      <td>2268.585346</td>\n",
       "      <td>2374.498448</td>\n",
       "      <td>2555.111146</td>\n",
       "      <td>2770.361804</td>\n",
       "      <td>3047.106147</td>\n",
       "      <td>3217.159294</td>\n",
       "      <td>3462.678872</td>\n",
       "      <td>3763.953379</td>\n",
       "      <td>...</td>\n",
       "      <td>52087.446384</td>\n",
       "      <td>52678.390123</td>\n",
       "      <td>52652.593683</td>\n",
       "      <td>50893.446714</td>\n",
       "      <td>43585.511982</td>\n",
       "      <td>42322.484780</td>\n",
       "      <td>45148.552706</td>\n",
       "      <td>46313.171371</td>\n",
       "      <td>46194.725226</td>\n",
       "      <td>NaN</td>\n",
       "    </tr>\n",
       "  </tbody>\n",
       "</table>\n",
       "<p>3 rows × 61 columns</p>\n",
       "</div>"
      ],
      "text/plain": [
       "              YR1960       YR1961       YR1962       YR1963       YR1964  \\\n",
       "economy                                                                    \n",
       "USA      3007.123445  3066.562869  3243.843078  3374.515171  3573.941185   \n",
       "AUS      1807.785710  1874.732106  1851.841851  1964.150470  2128.068355   \n",
       "CAN      2259.294285  2240.433039  2268.585346  2374.498448  2555.111146   \n",
       "\n",
       "              YR1965       YR1966       YR1967       YR1968       YR1969  ...  \\\n",
       "economy                                                                   ...   \n",
       "USA      3827.527110  4146.316646  4336.426587  4695.923390  5032.144743  ...   \n",
       "AUS      2277.558398  2340.438685  2576.284509  2720.082609  2986.949507  ...   \n",
       "CAN      2770.361804  3047.106147  3217.159294  3462.678872  3763.953379  ...   \n",
       "\n",
       "               YR2011        YR2012        YR2013        YR2014        YR2015  \\\n",
       "economy                                                                         \n",
       "USA      49886.818109  51610.605278  53117.667850  55064.744548  56839.381774   \n",
       "AUS      62517.833747  68012.147901  68150.107041  62510.791171  56755.721712   \n",
       "CAN      52087.446384  52678.390123  52652.593683  50893.446714  43585.511982   \n",
       "\n",
       "               YR2016        YR2017        YR2018        YR2019  YR2020  \n",
       "economy                                                                  \n",
       "USA      57951.584082  60062.222313  62996.471285  65297.517508     NaN  \n",
       "AUS      49971.131456  54027.966818  57354.964046  55060.326101     NaN  \n",
       "CAN      42322.484780  45148.552706  46313.171371  46194.725226     NaN  \n",
       "\n",
       "[3 rows x 61 columns]"
      ]
     },
     "execution_count": 31,
     "metadata": {},
     "output_type": "execute_result"
    }
   ],
   "source": [
    "import pandas as pd\n",
    "pd.concat([usa, others])"
   ]
  },
  {
   "cell_type": "markdown",
   "metadata": {},
   "source": [
    "We had tried"
   ]
  },
  {
   "cell_type": "code",
   "execution_count": 32,
   "metadata": {},
   "outputs": [
    {
     "data": {
      "text/html": [
       "<div>\n",
       "<style scoped>\n",
       "    .dataframe tbody tr th:only-of-type {\n",
       "        vertical-align: middle;\n",
       "    }\n",
       "\n",
       "    .dataframe tbody tr th {\n",
       "        vertical-align: top;\n",
       "    }\n",
       "\n",
       "    .dataframe thead th {\n",
       "        text-align: right;\n",
       "    }\n",
       "</style>\n",
       "<table border=\"1\" class=\"dataframe\">\n",
       "  <thead>\n",
       "    <tr style=\"text-align: right;\">\n",
       "      <th></th>\n",
       "      <th>USA</th>\n",
       "      <th>AUS</th>\n",
       "      <th>CAN</th>\n",
       "    </tr>\n",
       "  </thead>\n",
       "  <tbody>\n",
       "    <tr>\n",
       "      <th>YR1960</th>\n",
       "      <td>3007.123445</td>\n",
       "      <td>NaN</td>\n",
       "      <td>NaN</td>\n",
       "    </tr>\n",
       "    <tr>\n",
       "      <th>YR1961</th>\n",
       "      <td>3066.562869</td>\n",
       "      <td>NaN</td>\n",
       "      <td>NaN</td>\n",
       "    </tr>\n",
       "    <tr>\n",
       "      <th>YR1962</th>\n",
       "      <td>3243.843078</td>\n",
       "      <td>NaN</td>\n",
       "      <td>NaN</td>\n",
       "    </tr>\n",
       "    <tr>\n",
       "      <th>YR1963</th>\n",
       "      <td>3374.515171</td>\n",
       "      <td>NaN</td>\n",
       "      <td>NaN</td>\n",
       "    </tr>\n",
       "    <tr>\n",
       "      <th>YR1964</th>\n",
       "      <td>3573.941185</td>\n",
       "      <td>NaN</td>\n",
       "      <td>NaN</td>\n",
       "    </tr>\n",
       "    <tr>\n",
       "      <th>...</th>\n",
       "      <td>...</td>\n",
       "      <td>...</td>\n",
       "      <td>...</td>\n",
       "    </tr>\n",
       "    <tr>\n",
       "      <th>YR2016</th>\n",
       "      <td>NaN</td>\n",
       "      <td>49971.131456</td>\n",
       "      <td>42322.484780</td>\n",
       "    </tr>\n",
       "    <tr>\n",
       "      <th>YR2017</th>\n",
       "      <td>NaN</td>\n",
       "      <td>54027.966818</td>\n",
       "      <td>45148.552706</td>\n",
       "    </tr>\n",
       "    <tr>\n",
       "      <th>YR2018</th>\n",
       "      <td>NaN</td>\n",
       "      <td>57354.964046</td>\n",
       "      <td>46313.171371</td>\n",
       "    </tr>\n",
       "    <tr>\n",
       "      <th>YR2019</th>\n",
       "      <td>NaN</td>\n",
       "      <td>55060.326101</td>\n",
       "      <td>46194.725226</td>\n",
       "    </tr>\n",
       "    <tr>\n",
       "      <th>YR2020</th>\n",
       "      <td>NaN</td>\n",
       "      <td>NaN</td>\n",
       "      <td>NaN</td>\n",
       "    </tr>\n",
       "  </tbody>\n",
       "</table>\n",
       "<p>122 rows × 3 columns</p>\n",
       "</div>"
      ],
      "text/plain": [
       "                USA           AUS           CAN\n",
       "YR1960  3007.123445           NaN           NaN\n",
       "YR1961  3066.562869           NaN           NaN\n",
       "YR1962  3243.843078           NaN           NaN\n",
       "YR1963  3374.515171           NaN           NaN\n",
       "YR1964  3573.941185           NaN           NaN\n",
       "...             ...           ...           ...\n",
       "YR2016          NaN  49971.131456  42322.484780\n",
       "YR2017          NaN  54027.966818  45148.552706\n",
       "YR2018          NaN  57354.964046  46313.171371\n",
       "YR2019          NaN  55060.326101  46194.725226\n",
       "YR2020          NaN           NaN           NaN\n",
       "\n",
       "[122 rows x 3 columns]"
      ]
     },
     "execution_count": 32,
     "metadata": {},
     "output_type": "execute_result"
    }
   ],
   "source": [
    "pd.concat([usa.T, others.T])"
   ]
  },
  {
   "cell_type": "markdown",
   "metadata": {},
   "source": [
    "But this found **no** matches as it was looking to concatenate rows but found no matching columns so returned a global `outer` join. This happened becuase I had transposed the DataFrames and hadn't changed the `axis`"
   ]
  },
  {
   "cell_type": "code",
   "execution_count": 33,
   "metadata": {},
   "outputs": [
    {
     "data": {
      "text/html": [
       "<div>\n",
       "<style scoped>\n",
       "    .dataframe tbody tr th:only-of-type {\n",
       "        vertical-align: middle;\n",
       "    }\n",
       "\n",
       "    .dataframe tbody tr th {\n",
       "        vertical-align: top;\n",
       "    }\n",
       "\n",
       "    .dataframe thead th {\n",
       "        text-align: right;\n",
       "    }\n",
       "</style>\n",
       "<table border=\"1\" class=\"dataframe\">\n",
       "  <thead>\n",
       "    <tr style=\"text-align: right;\">\n",
       "      <th>economy</th>\n",
       "      <th>USA</th>\n",
       "      <th>AUS</th>\n",
       "      <th>CAN</th>\n",
       "    </tr>\n",
       "  </thead>\n",
       "  <tbody>\n",
       "    <tr>\n",
       "      <th>YR1960</th>\n",
       "      <td>3007.123445</td>\n",
       "      <td>1807.785710</td>\n",
       "      <td>2259.294285</td>\n",
       "    </tr>\n",
       "    <tr>\n",
       "      <th>YR1961</th>\n",
       "      <td>3066.562869</td>\n",
       "      <td>1874.732106</td>\n",
       "      <td>2240.433039</td>\n",
       "    </tr>\n",
       "    <tr>\n",
       "      <th>YR1962</th>\n",
       "      <td>3243.843078</td>\n",
       "      <td>1851.841851</td>\n",
       "      <td>2268.585346</td>\n",
       "    </tr>\n",
       "    <tr>\n",
       "      <th>YR1963</th>\n",
       "      <td>3374.515171</td>\n",
       "      <td>1964.150470</td>\n",
       "      <td>2374.498448</td>\n",
       "    </tr>\n",
       "    <tr>\n",
       "      <th>YR1964</th>\n",
       "      <td>3573.941185</td>\n",
       "      <td>2128.068355</td>\n",
       "      <td>2555.111146</td>\n",
       "    </tr>\n",
       "    <tr>\n",
       "      <th>...</th>\n",
       "      <td>...</td>\n",
       "      <td>...</td>\n",
       "      <td>...</td>\n",
       "    </tr>\n",
       "    <tr>\n",
       "      <th>YR2016</th>\n",
       "      <td>57951.584082</td>\n",
       "      <td>49971.131456</td>\n",
       "      <td>42322.484780</td>\n",
       "    </tr>\n",
       "    <tr>\n",
       "      <th>YR2017</th>\n",
       "      <td>60062.222313</td>\n",
       "      <td>54027.966818</td>\n",
       "      <td>45148.552706</td>\n",
       "    </tr>\n",
       "    <tr>\n",
       "      <th>YR2018</th>\n",
       "      <td>62996.471285</td>\n",
       "      <td>57354.964046</td>\n",
       "      <td>46313.171371</td>\n",
       "    </tr>\n",
       "    <tr>\n",
       "      <th>YR2019</th>\n",
       "      <td>65297.517508</td>\n",
       "      <td>55060.326101</td>\n",
       "      <td>46194.725226</td>\n",
       "    </tr>\n",
       "    <tr>\n",
       "      <th>YR2020</th>\n",
       "      <td>NaN</td>\n",
       "      <td>NaN</td>\n",
       "      <td>NaN</td>\n",
       "    </tr>\n",
       "  </tbody>\n",
       "</table>\n",
       "<p>61 rows × 3 columns</p>\n",
       "</div>"
      ],
      "text/plain": [
       "economy           USA           AUS           CAN\n",
       "YR1960    3007.123445   1807.785710   2259.294285\n",
       "YR1961    3066.562869   1874.732106   2240.433039\n",
       "YR1962    3243.843078   1851.841851   2268.585346\n",
       "YR1963    3374.515171   1964.150470   2374.498448\n",
       "YR1964    3573.941185   2128.068355   2555.111146\n",
       "...               ...           ...           ...\n",
       "YR2016   57951.584082  49971.131456  42322.484780\n",
       "YR2017   60062.222313  54027.966818  45148.552706\n",
       "YR2018   62996.471285  57354.964046  46313.171371\n",
       "YR2019   65297.517508  55060.326101  46194.725226\n",
       "YR2020            NaN           NaN           NaN\n",
       "\n",
       "[61 rows x 3 columns]"
      ]
     },
     "execution_count": 33,
     "metadata": {},
     "output_type": "execute_result"
    }
   ],
   "source": [
    "pd.concat([usa.T, others.T], axis=1)"
   ]
  },
  {
   "cell_type": "code",
   "execution_count": null,
   "metadata": {},
   "outputs": [],
   "source": []
  },
  {
   "cell_type": "markdown",
   "metadata": {},
   "source": [
    "Try [another package](https://data.worldbank.org/products/third-party-apps) to see which interface you prefer."
   ]
  },
  {
   "cell_type": "code",
   "execution_count": null,
   "metadata": {},
   "outputs": [],
   "source": []
  },
  {
   "cell_type": "markdown",
   "metadata": {},
   "source": [
    "# Plotting with Matplotlib"
   ]
  },
  {
   "cell_type": "markdown",
   "metadata": {},
   "source": [
    "First some imports:"
   ]
  },
  {
   "cell_type": "code",
   "execution_count": 34,
   "metadata": {},
   "outputs": [],
   "source": [
    "import numpy as np\n",
    "import matplotlib.pyplot as plt"
   ]
  },
  {
   "cell_type": "markdown",
   "metadata": {},
   "source": [
    "Now some examples --- please read this code first."
   ]
  },
  {
   "cell_type": "code",
   "execution_count": 35,
   "metadata": {},
   "outputs": [],
   "source": [
    "x = np.linspace(-6, 6, 200)\n",
    "y = np.minimum(np.sin(x), np.cos(x))"
   ]
  },
  {
   "cell_type": "code",
   "execution_count": 36,
   "metadata": {},
   "outputs": [
    {
     "data": {
      "image/png": "[encoded data removed]",
      "text/plain": [
       "<Figure size 432x288 with 1 Axes>"
      ]
     },
     "metadata": {
      "needs_background": "light"
     },
     "output_type": "display_data"
    }
   ],
   "source": [
    "fig, ax = plt.subplots()\n",
    "ax.plot(x, y)\n",
    "plt.show()"
   ]
  },
  {
   "cell_type": "markdown",
   "metadata": {},
   "source": [
    "Here's a plot with two curves."
   ]
  },
  {
   "cell_type": "code",
   "execution_count": 37,
   "metadata": {},
   "outputs": [],
   "source": [
    "y1 = np.minimum(np.sin(x), np.cos(x))\n",
    "y2 = np.maximum(np.sin(x), np.cos(x))"
   ]
  },
  {
   "cell_type": "code",
   "execution_count": 38,
   "metadata": {},
   "outputs": [
    {
     "data": {
      "image/png": "[encoded data removed]",
      "text/plain": [
       "<Figure size 432x288 with 1 Axes>"
      ]
     },
     "metadata": {
      "needs_background": "light"
     },
     "output_type": "display_data"
    }
   ],
   "source": [
    "fig, ax = plt.subplots()\n",
    "ax.plot(x, y1, label='y1')\n",
    "ax.plot(x, y2, label='y2')\n",
    "ax.legend()\n",
    "\n",
    "plt.show()"
   ]
  },
  {
   "cell_type": "markdown",
   "metadata": {},
   "source": [
    "### Exercise 1"
   ]
  },
  {
   "cell_type": "markdown",
   "metadata": {},
   "source": [
    "Plot the tent map\n",
    "\n",
    "$$ f(x) = \\mu \\min\\{x, 1 - x\\} $$\n",
    "\n",
    "on the interval $[0, 1]$ when $\\mu = 1.8$"
   ]
  },
  {
   "cell_type": "code",
   "execution_count": null,
   "metadata": {},
   "outputs": [],
   "source": []
  },
  {
   "cell_type": "markdown",
   "metadata": {},
   "source": [
    "<button data-toggle=\"collapse\" data-target=\"#sol1\" class='btn btn-primary'>Solution</button>\n",
    "<div id=\"sol1\" class=\"collapse\">\n",
    "    \n",
    "```python\n",
    "μ = 1.8\n",
    "x = np.linspace(0, 1, 200)\n",
    "y = μ * np.minimum(x, 1 - x)\n",
    "\n",
    "# Plot Figure\n",
    "fig, ax = plt.subplots()\n",
    "ax.plot(x, y)\n",
    "plt.show()\n",
    "```"
   ]
  },
  {
   "cell_type": "markdown",
   "metadata": {},
   "source": [
    "### Exercise 2"
   ]
  },
  {
   "cell_type": "markdown",
   "metadata": {},
   "source": [
    "The following example makes an empty array of length 3 and then fills them with the numbers 0.5, 1.0, 0.5:"
   ]
  },
  {
   "cell_type": "code",
   "execution_count": 39,
   "metadata": {},
   "outputs": [],
   "source": [
    "x = np.empty(3)\n",
    "x[0] = 0.5\n",
    "x[1] = 1.0\n",
    "x[2] = 0.5"
   ]
  },
  {
   "cell_type": "code",
   "execution_count": 40,
   "metadata": {},
   "outputs": [
    {
     "data": {
      "text/plain": [
       "array([0.5, 1. , 0.5])"
      ]
     },
     "execution_count": 40,
     "metadata": {},
     "output_type": "execute_result"
    }
   ],
   "source": [
    "x"
   ]
  },
  {
   "cell_type": "markdown",
   "metadata": {},
   "source": [
    "The next code shows what the `range()` function does:"
   ]
  },
  {
   "cell_type": "code",
   "execution_count": 41,
   "metadata": {},
   "outputs": [
    {
     "name": "stdout",
     "output_type": "stream",
     "text": [
      "0\n",
      "1\n",
      "2\n",
      "3\n",
      "4\n"
     ]
    }
   ],
   "source": [
    "for i in range(5):\n",
    "    print(i)"
   ]
  },
  {
   "cell_type": "markdown",
   "metadata": {},
   "source": [
    "Now compute the time series of length 500 given by\n",
    "\n",
    "$$ x_{t+1} = f(x_t) $$\n",
    "\n",
    "where $f$ is as given above and $x_0 = 0.2$.  Plot $x_t$ against $t$."
   ]
  },
  {
   "cell_type": "code",
   "execution_count": null,
   "metadata": {},
   "outputs": [],
   "source": []
  },
  {
   "cell_type": "markdown",
   "metadata": {},
   "source": [
    "<button data-toggle=\"collapse\" data-target=\"#sol2\" class='btn btn-primary'>Solution</button>\n",
    "<div id=\"sol2\" class=\"collapse\">\n",
    "    \n",
    "```python\n",
    "n = 500\n",
    "x = np.empty(n)\n",
    "x[0] = 0.2\n",
    "for t in range(n-1):\n",
    "    x[t+1] = μ * min(x[t], 1 - x[t])\n",
    "    \n",
    "# Plot Figure\n",
    "fig, ax = plt.subplots()\n",
    "ax.plot(range(n), x)\n",
    "plt.show()\n",
    "```"
   ]
  },
  {
   "cell_type": "markdown",
   "metadata": {},
   "source": [
    "### Exercise 3"
   ]
  },
  {
   "cell_type": "markdown",
   "metadata": {},
   "source": [
    "The next code shows how to build a histogram."
   ]
  },
  {
   "cell_type": "code",
   "execution_count": 42,
   "metadata": {},
   "outputs": [
    {
     "data": {
      "image/png": "[encoded data removed]",
      "text/plain": [
       "<Figure size 432x288 with 1 Axes>"
      ]
     },
     "metadata": {
      "needs_background": "light"
     },
     "output_type": "display_data"
    }
   ],
   "source": [
    "z = np.random.randn(1000)\n",
    "fig, ax = plt.subplots()\n",
    "ax.hist(z, bins=40)\n",
    "plt.show()"
   ]
  },
  {
   "cell_type": "markdown",
   "metadata": {},
   "source": [
    "Now recompute the time series from the tent map, this time with $n=500,000$, and histogram it."
   ]
  },
  {
   "cell_type": "code",
   "execution_count": null,
   "metadata": {},
   "outputs": [],
   "source": []
  },
  {
   "cell_type": "markdown",
   "metadata": {},
   "source": [
    "<button data-toggle=\"collapse\" data-target=\"#sol3\" class='btn btn-primary'>Solution</button>\n",
    "<div id=\"sol3\" class=\"collapse\">\n",
    "    \n",
    "```python\n",
    "n = 1_000_000\n",
    "x = np.empty(n)\n",
    "x[0] = 0.2\n",
    "for t in range(n-1):\n",
    "    x[t+1] = μ * min(x[t], 1 - x[t])\n",
    "\n",
    "    \n",
    "fig, ax = plt.subplots()\n",
    "ax.hist(x, bins=40)\n",
    "plt.show()\n",
    "```"
   ]
  },
  {
   "cell_type": "code",
   "execution_count": null,
   "metadata": {},
   "outputs": [],
   "source": []
  }
 ],
 "metadata": {
  "kernelspec": {
   "display_name": "Python 3",
   "language": "python",
   "name": "python3"
  },
  "language_info": {
   "codemirror_mode": {
    "name": "ipython",
    "version": 3
   },
   "file_extension": ".py",
   "mimetype": "text/x-python",
   "name": "python",
   "nbconvert_exporter": "python",
   "pygments_lexer": "ipython3",
   "version": "3.8.3"
  }
 },
 "nbformat": 4,
 "nbformat_minor": 2
}

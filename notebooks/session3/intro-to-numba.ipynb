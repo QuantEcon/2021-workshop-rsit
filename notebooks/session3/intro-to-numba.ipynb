{
 "cells": [
  {
   "cell_type": "markdown",
   "metadata": {},
   "source": [
    "# Numba"
   ]
  },
  {
   "cell_type": "markdown",
   "metadata": {},
   "source": [
    "## Why is Python Slow?"
   ]
  },
  {
   "cell_type": "code",
   "execution_count": 1,
   "metadata": {},
   "outputs": [],
   "source": [
    "a = 2"
   ]
  },
  {
   "cell_type": "code",
   "execution_count": 2,
   "metadata": {},
   "outputs": [
    {
     "data": {
      "text/plain": [
       "int"
      ]
     },
     "execution_count": 2,
     "metadata": {},
     "output_type": "execute_result"
    }
   ],
   "source": [
    "type(a)"
   ]
  },
  {
   "cell_type": "code",
   "execution_count": 3,
   "metadata": {},
   "outputs": [
    {
     "data": {
      "text/plain": [
       "2"
      ]
     },
     "execution_count": 3,
     "metadata": {},
     "output_type": "execute_result"
    }
   ],
   "source": [
    "a"
   ]
  },
  {
   "cell_type": "markdown",
   "metadata": {},
   "source": [
    "The `a` is an `int` python object. It has `data` and `methods` that enable it to behave like an `integer` in a very general way. "
   ]
  },
  {
   "cell_type": "code",
   "execution_count": 4,
   "metadata": {},
   "outputs": [
    {
     "data": {
      "text/plain": [
       "['__abs__',\n",
       " '__add__',\n",
       " '__and__',\n",
       " '__bool__',\n",
       " '__ceil__',\n",
       " '__class__',\n",
       " '__delattr__',\n",
       " '__dir__',\n",
       " '__divmod__',\n",
       " '__doc__',\n",
       " '__eq__',\n",
       " '__float__',\n",
       " '__floor__',\n",
       " '__floordiv__',\n",
       " '__format__',\n",
       " '__ge__',\n",
       " '__getattribute__',\n",
       " '__getnewargs__',\n",
       " '__gt__',\n",
       " '__hash__',\n",
       " '__index__',\n",
       " '__init__',\n",
       " '__init_subclass__',\n",
       " '__int__',\n",
       " '__invert__',\n",
       " '__le__',\n",
       " '__lshift__',\n",
       " '__lt__',\n",
       " '__mod__',\n",
       " '__mul__',\n",
       " '__ne__',\n",
       " '__neg__',\n",
       " '__new__',\n",
       " '__or__',\n",
       " '__pos__',\n",
       " '__pow__',\n",
       " '__radd__',\n",
       " '__rand__',\n",
       " '__rdivmod__',\n",
       " '__reduce__',\n",
       " '__reduce_ex__',\n",
       " '__repr__',\n",
       " '__rfloordiv__',\n",
       " '__rlshift__',\n",
       " '__rmod__',\n",
       " '__rmul__',\n",
       " '__ror__',\n",
       " '__round__',\n",
       " '__rpow__',\n",
       " '__rrshift__',\n",
       " '__rshift__',\n",
       " '__rsub__',\n",
       " '__rtruediv__',\n",
       " '__rxor__',\n",
       " '__setattr__',\n",
       " '__sizeof__',\n",
       " '__str__',\n",
       " '__sub__',\n",
       " '__subclasshook__',\n",
       " '__truediv__',\n",
       " '__trunc__',\n",
       " '__xor__',\n",
       " 'as_integer_ratio',\n",
       " 'bit_length',\n",
       " 'conjugate',\n",
       " 'denominator',\n",
       " 'from_bytes',\n",
       " 'imag',\n",
       " 'numerator',\n",
       " 'real',\n",
       " 'to_bytes']"
      ]
     },
     "execution_count": 4,
     "metadata": {},
     "output_type": "execute_result"
    }
   ],
   "source": [
    "# All the methods associated with variable 'a'\n",
    "dir(a)"
   ]
  },
  {
   "cell_type": "markdown",
   "metadata": {},
   "source": [
    "What do these methods do? Allow for comparison operators etc."
   ]
  },
  {
   "cell_type": "code",
   "execution_count": 5,
   "metadata": {},
   "outputs": [
    {
     "data": {
      "text/plain": [
       "True"
      ]
     },
     "execution_count": 5,
     "metadata": {},
     "output_type": "execute_result"
    }
   ],
   "source": [
    "a == 2"
   ]
  },
  {
   "cell_type": "code",
   "execution_count": 6,
   "metadata": {},
   "outputs": [
    {
     "data": {
      "text/plain": [
       "True"
      ]
     },
     "execution_count": 6,
     "metadata": {},
     "output_type": "execute_result"
    }
   ],
   "source": [
    "a.__eq__(2)"
   ]
  },
  {
   "cell_type": "markdown",
   "metadata": {},
   "source": [
    "# What about NumPy?"
   ]
  },
  {
   "cell_type": "code",
   "execution_count": 7,
   "metadata": {},
   "outputs": [],
   "source": [
    "import numpy as np"
   ]
  },
  {
   "cell_type": "code",
   "execution_count": 8,
   "metadata": {},
   "outputs": [],
   "source": [
    "b = np.array([2])"
   ]
  },
  {
   "cell_type": "code",
   "execution_count": 9,
   "metadata": {},
   "outputs": [
    {
     "data": {
      "text/plain": [
       "2"
      ]
     },
     "execution_count": 9,
     "metadata": {},
     "output_type": "execute_result"
    }
   ],
   "source": [
    "b[0]"
   ]
  },
  {
   "cell_type": "code",
   "execution_count": 10,
   "metadata": {},
   "outputs": [
    {
     "data": {
      "text/plain": [
       "numpy.int64"
      ]
     },
     "execution_count": 10,
     "metadata": {},
     "output_type": "execute_result"
    }
   ],
   "source": [
    "type(b[0])"
   ]
  },
  {
   "cell_type": "markdown",
   "metadata": {},
   "source": [
    "Rather than a general `int` of arbitrary size this is an `int64` value. So it can only represent 64-bit integers and the maximum value is: 9,223,372,036,854,775,807"
   ]
  },
  {
   "cell_type": "code",
   "execution_count": 11,
   "metadata": {},
   "outputs": [],
   "source": [
    "b[0] = 9223372036854775807"
   ]
  },
  {
   "cell_type": "code",
   "execution_count": 12,
   "metadata": {},
   "outputs": [
    {
     "name": "stderr",
     "output_type": "stream",
     "text": [
      "<ipython-input-12-9feb3951cf2a>:1: RuntimeWarning: overflow encountered in long_scalars\n",
      "  b[0] + 1\n"
     ]
    },
    {
     "data": {
      "text/plain": [
       "-9223372036854775808"
      ]
     },
     "execution_count": 12,
     "metadata": {},
     "output_type": "execute_result"
    }
   ],
   "source": [
    "b[0] + 1"
   ]
  },
  {
   "cell_type": "markdown",
   "metadata": {},
   "source": [
    "`numpy` values are still objects:"
   ]
  },
  {
   "cell_type": "code",
   "execution_count": 13,
   "metadata": {},
   "outputs": [
    {
     "data": {
      "text/plain": [
       "['T',\n",
       " '__abs__',\n",
       " '__add__',\n",
       " '__and__',\n",
       " '__array__',\n",
       " '__array_interface__',\n",
       " '__array_priority__',\n",
       " '__array_struct__',\n",
       " '__array_wrap__',\n",
       " '__bool__',\n",
       " '__class__',\n",
       " '__copy__',\n",
       " '__deepcopy__',\n",
       " '__delattr__',\n",
       " '__dir__',\n",
       " '__divmod__',\n",
       " '__doc__',\n",
       " '__eq__',\n",
       " '__float__',\n",
       " '__floordiv__',\n",
       " '__format__',\n",
       " '__ge__',\n",
       " '__getattribute__',\n",
       " '__getitem__',\n",
       " '__gt__',\n",
       " '__hash__',\n",
       " '__index__',\n",
       " '__init__',\n",
       " '__init_subclass__',\n",
       " '__int__',\n",
       " '__invert__',\n",
       " '__le__',\n",
       " '__lshift__',\n",
       " '__lt__',\n",
       " '__mod__',\n",
       " '__mul__',\n",
       " '__ne__',\n",
       " '__neg__',\n",
       " '__new__',\n",
       " '__or__',\n",
       " '__pos__',\n",
       " '__pow__',\n",
       " '__radd__',\n",
       " '__rand__',\n",
       " '__rdivmod__',\n",
       " '__reduce__',\n",
       " '__reduce_ex__',\n",
       " '__repr__',\n",
       " '__rfloordiv__',\n",
       " '__rlshift__',\n",
       " '__rmod__',\n",
       " '__rmul__',\n",
       " '__ror__',\n",
       " '__round__',\n",
       " '__rpow__',\n",
       " '__rrshift__',\n",
       " '__rshift__',\n",
       " '__rsub__',\n",
       " '__rtruediv__',\n",
       " '__rxor__',\n",
       " '__setattr__',\n",
       " '__setstate__',\n",
       " '__sizeof__',\n",
       " '__str__',\n",
       " '__sub__',\n",
       " '__subclasshook__',\n",
       " '__truediv__',\n",
       " '__xor__',\n",
       " 'all',\n",
       " 'any',\n",
       " 'argmax',\n",
       " 'argmin',\n",
       " 'argsort',\n",
       " 'astype',\n",
       " 'base',\n",
       " 'byteswap',\n",
       " 'choose',\n",
       " 'clip',\n",
       " 'compress',\n",
       " 'conj',\n",
       " 'conjugate',\n",
       " 'copy',\n",
       " 'cumprod',\n",
       " 'cumsum',\n",
       " 'data',\n",
       " 'denominator',\n",
       " 'diagonal',\n",
       " 'dtype',\n",
       " 'dump',\n",
       " 'dumps',\n",
       " 'fill',\n",
       " 'flags',\n",
       " 'flat',\n",
       " 'flatten',\n",
       " 'getfield',\n",
       " 'imag',\n",
       " 'item',\n",
       " 'itemset',\n",
       " 'itemsize',\n",
       " 'max',\n",
       " 'mean',\n",
       " 'min',\n",
       " 'nbytes',\n",
       " 'ndim',\n",
       " 'newbyteorder',\n",
       " 'nonzero',\n",
       " 'numerator',\n",
       " 'prod',\n",
       " 'ptp',\n",
       " 'put',\n",
       " 'ravel',\n",
       " 'real',\n",
       " 'repeat',\n",
       " 'reshape',\n",
       " 'resize',\n",
       " 'round',\n",
       " 'searchsorted',\n",
       " 'setfield',\n",
       " 'setflags',\n",
       " 'shape',\n",
       " 'size',\n",
       " 'sort',\n",
       " 'squeeze',\n",
       " 'std',\n",
       " 'strides',\n",
       " 'sum',\n",
       " 'swapaxes',\n",
       " 'take',\n",
       " 'tobytes',\n",
       " 'tofile',\n",
       " 'tolist',\n",
       " 'tostring',\n",
       " 'trace',\n",
       " 'transpose',\n",
       " 'var',\n",
       " 'view']"
      ]
     },
     "execution_count": 13,
     "metadata": {},
     "output_type": "execute_result"
    }
   ],
   "source": [
    "dir(b[0])"
   ]
  },
  {
   "cell_type": "markdown",
   "metadata": {},
   "source": [
    "**Note:** These are still objects, but the array operators of NumPy allow you to run operations over the array of values lower down in `C` and `Fortran` then it casts those results back into `python`"
   ]
  },
  {
   "cell_type": "code",
   "execution_count": 14,
   "metadata": {},
   "outputs": [
    {
     "data": {
      "text/plain": [
       "<memory at 0x7f927b4009a0>"
      ]
     },
     "execution_count": 14,
     "metadata": {},
     "output_type": "execute_result"
    }
   ],
   "source": [
    "b[0].data"
   ]
  },
  {
   "cell_type": "markdown",
   "metadata": {},
   "source": [
    "The in-memory representation of `numpy` follows `C` in-memory structure\n",
    "\n",
    "![](img/numpy-memory.png)"
   ]
  },
  {
   "cell_type": "markdown",
   "metadata": {},
   "source": [
    "# Review `numba` acceleration from Product Space Example"
   ]
  },
  {
   "cell_type": "code",
   "execution_count": 15,
   "metadata": {},
   "outputs": [],
   "source": [
    "import pandas as pd\n",
    "import numpy as np\n",
    "\n",
    "# Fetch Data and Setup RCA Data\n",
    "fl = \"../session1/data/year_origin_sitc_rev2.csv\"\n",
    "data = pd.read_csv(fl, converters={'sitc':str})   #Import SITC codes as strings to preserve formatting\n",
    "cntry_export = data[[\"year\", \"origin\", \"export\"]].groupby(by=[\"year\", \"origin\"]).sum()\n",
    "cntry_export.head(n=2)\n",
    "data[\"cntry_export\"] = data[[\"year\", \"origin\", \"export\"]].groupby(by=[\"year\", \"origin\"]).transform(np.sum)\n",
    "data[\"prod_export\"] = data[[\"year\", \"sitc\", \"export\"]].groupby(by=[\"year\", \"sitc\"]).transform(np.sum)\n",
    "data[\"world_export\"] = data[[\"year\", \"export\"]].groupby(by=[\"year\"]).transform(np.sum)\n",
    "data[\"rca\"] = (data[\"export\"] / data[\"cntry_export\"]) / (data[\"prod_export\"] / data[\"world_export\"])\n",
    "\n",
    "#-Generate Yearly RCA Mcp Matrices and store them in a Dictionary-#\n",
    "rca = {}\n",
    "for year in data.year.unique():\n",
    "    yr = data[data.year == year].set_index(['origin', 'sitc']).unstack('sitc')['rca']\n",
    "    rca[year] = yr\n",
    "    \n",
    "#-Generate Yearly Binary Mcp Matrices-#\n",
    "mcp = {}\n",
    "for year in rca.keys():\n",
    "    mcp[year] = rca[year].fillna(0.0).applymap(lambda x: 1 if x >= 1.0 else 0.0)"
   ]
  },
  {
   "cell_type": "markdown",
   "metadata": {},
   "source": [
    "--------------\n",
    "\n",
    "## Computing Proximity Matrix $\\phi_{ij}$\n",
    "\n",
    "**Proximity:** A **high** proximity value suggests any two products are exported by a similar set of countries. \n",
    "\n",
    "$$\n",
    "\\phi_{ij} = \\min \\{ P(RCA_i >=1 \\hspace{0.25cm} | \\hspace{0.25cm} RCA_j >= 1), P(RCA_j >= 1 \\hspace{0.25cm} | \\hspace{0.25cm} RCA_i >= 1) \\}\n",
    "$$\n",
    "\n",
    "The minimum **conditional probability of coexport** can be computed:\n",
    "\n",
    "$$\n",
    "\\phi_{ij} = \\frac{\\sum_c \\{ M_{cp_i} * M_{cp_j} \\}}{max \\{k_{p_i}, k_{p_j}\\}}\n",
    "$$\n",
    "\n",
    "where,\n",
    "\n",
    "1. $k_{p_i}$ is the ubiquity of product $i$ (i.e. the number of countries that export product $i$)\n",
    "2. $k_{p_j}$ is the ubiquity of product $j$ (i.e. the number of countries that export product $j$)\n",
    "2. $M_{cp_i}$ is the column vector in $M_{cp}$ matrix for product $i$\n",
    "3. $M_{cp_j}$ is the column vector in $M_{cp}$ matrix for product $j$\n",
    "4. $\\sum_c \\{ M_{cp_i} * M_{cp_j} \\}$ is the number of countries that export both product $i$ and product $j$\n",
    "\n",
    "The $\\phi_{ij}$ matrix is therefore computed through all pairwise combinations of column vectors which is computationally intensive."
   ]
  },
  {
   "cell_type": "markdown",
   "metadata": {},
   "source": [
    "# Computing this matrix using Pandas"
   ]
  },
  {
   "cell_type": "code",
   "execution_count": 16,
   "metadata": {},
   "outputs": [],
   "source": [
    "def proximity_matrix_pandas(mcp, fillna=True):\n",
    "    products = sorted(list(mcp.columns))\n",
    "    sum_products = mcp.sum(axis=0)\n",
    "    proximity = pd.DataFrame(index=products, columns=products)\n",
    "    for i, product1 in enumerate(products):\n",
    "        for j, product2 in enumerate(products):\n",
    "            if j > i:  #Symmetric Matrix Condition\n",
    "                continue\n",
    "            numerator = (mcp[product1] * mcp[product2]).sum()\n",
    "            denominator = max(sum_products[product1], sum_products[product2])\n",
    "            if denominator == 0:\n",
    "                cond_prob =  np.nan\n",
    "            else:\n",
    "                cond_prob = numerator / denominator\n",
    "            proximity.at[product1, product2] = cond_prob\n",
    "            proximity.at[product2, product1] = cond_prob\n",
    "    if fillna:\n",
    "        proximity = proximity.fillna(0.0)\n",
    "    return proximity"
   ]
  },
  {
   "cell_type": "code",
   "execution_count": 17,
   "metadata": {},
   "outputs": [
    {
     "name": "stdout",
     "output_type": "stream",
     "text": [
      "CPU times: user 1min 8s, sys: 923 ms, total: 1min 9s\n",
      "Wall time: 1min 8s\n"
     ]
    }
   ],
   "source": [
    "%%time\n",
    "prox_2000 = proximity_matrix_pandas(mcp[2000])"
   ]
  },
  {
   "cell_type": "markdown",
   "metadata": {},
   "source": [
    "# Computing this using Numba\n",
    "\n",
    "**Reminder:** We found the main time was computing the pairs of co-export probability"
   ]
  },
  {
   "cell_type": "code",
   "execution_count": 18,
   "metadata": {},
   "outputs": [],
   "source": [
    "from numba import jit"
   ]
  },
  {
   "cell_type": "code",
   "execution_count": 19,
   "metadata": {},
   "outputs": [],
   "source": [
    "@jit(nopython=True)\n",
    "def coexport_probability(data, num_products, col_sums):\n",
    "    proximity = np.empty((num_products, num_products))\n",
    "    for index1 in range(0,num_products):\n",
    "        for index2 in range(0,num_products):\n",
    "            if index2 > index1:\n",
    "                continue\n",
    "            numerator = (data[index1] * data[index2]).sum()\n",
    "            denominator = max(col_sums[index1], col_sums[index2])\n",
    "            if denominator == 0.0:\n",
    "                cond_prob = np.nan\n",
    "            else:\n",
    "                cond_prob = numerator / denominator\n",
    "            proximity[index1][index2] = cond_prob\n",
    "            proximity[index2][index1] = cond_prob\n",
    "    return proximity\n",
    "\n",
    "def proximity_matrix_numba(mcp, fillna=False):\n",
    "    products = sorted(list(mcp.columns))\n",
    "    num_products = len(products)\n",
    "    col_sums = mcp.sum().values  \n",
    "    data = mcp.T.values                  \n",
    "    proximity = coexport_probability(data, num_products, col_sums)   #Call Jit Function\n",
    "    # Return DataFrame Representation #\n",
    "    proximity = pd.DataFrame(proximity, index=products, columns=products)\n",
    "    proximity.index.name = 'productcode1'\n",
    "    proximity.columns.name = 'productcode2'\n",
    "    if fillna:\n",
    "        proximity = proximity.fillna(0.0)\n",
    "    return proximity"
   ]
  },
  {
   "cell_type": "code",
   "execution_count": 20,
   "metadata": {},
   "outputs": [
    {
     "name": "stdout",
     "output_type": "stream",
     "text": [
      "CPU times: user 659 ms, sys: 55.3 ms, total: 715 ms\n",
      "Wall time: 783 ms\n"
     ]
    }
   ],
   "source": [
    "%%time\n",
    "prox_2000_numba = proximity_matrix_numba(mcp[2000])"
   ]
  },
  {
   "cell_type": "code",
   "execution_count": 21,
   "metadata": {},
   "outputs": [
    {
     "data": {
      "text/plain": [
       "True"
      ]
     },
     "execution_count": 21,
     "metadata": {},
     "output_type": "execute_result"
    }
   ],
   "source": [
    "prox_2000.equals(prox_2000_numba)"
   ]
  },
  {
   "cell_type": "markdown",
   "metadata": {},
   "source": [
    "## Inspecting how JIT works"
   ]
  },
  {
   "cell_type": "code",
   "execution_count": 22,
   "metadata": {
    "scrolled": false
   },
   "outputs": [
    {
     "name": "stdout",
     "output_type": "stream",
     "text": [
      "coexport_probability (array(float64, 2d, C), int64, array(float64, 1d, C))\n",
      "--------------------------------------------------------------------------------\n",
      "# File: <ipython-input-19-65aa5d38f6b9>\n",
      "# --- LINE 1 --- \n",
      "\n",
      "@jit(nopython=True)\n",
      "\n",
      "# --- LINE 2 --- \n",
      "\n",
      "def coexport_probability(data, num_products, col_sums):\n",
      "\n",
      "    # --- LINE 3 --- \n",
      "    # label 0\n",
      "    #   data = arg(0, name=data)  :: array(float64, 2d, C)\n",
      "    #   num_products = arg(1, name=num_products)  :: int64\n",
      "    #   col_sums = arg(2, name=col_sums)  :: array(float64, 1d, C)\n",
      "    #   $2load_global.0 = global(np: <module 'numpy' from '/Users/matthewmckay/anaconda3/envs/lecture-python/lib/python3.8/site-packages/numpy/__init__.py'>)  :: Module(<module 'numpy' from '/Users/matthewmckay/anaconda3/envs/lecture-python/lib/python3.8/site-packages/numpy/__init__.py'>)\n",
      "    #   $4load_method.1 = getattr(value=$2load_global.0, attr=empty)  :: Function(<built-in function empty>)\n",
      "    #   del $2load_global.0\n",
      "    #   $10build_tuple.4 = build_tuple(items=[Var(num_products, <ipython-input-19-65aa5d38f6b9>:3), Var(num_products, <ipython-input-19-65aa5d38f6b9>:3)])  :: UniTuple(int64 x 2)\n",
      "    #   $12call_method.5 = call $4load_method.1($10build_tuple.4, func=$4load_method.1, args=[Var($10build_tuple.4, <ipython-input-19-65aa5d38f6b9>:3)], kws=(), vararg=None)  :: (UniTuple(int64 x 2),) -> array(float64, 2d, C)\n",
      "    #   del $4load_method.1\n",
      "    #   del $10build_tuple.4\n",
      "    #   proximity = $12call_method.5  :: array(float64, 2d, C)\n",
      "    #   del $12call_method.5\n",
      "\n",
      "    proximity = np.empty((num_products, num_products))\n",
      "\n",
      "    # --- LINE 4 --- \n",
      "    #   $16load_global.6 = global(range: <class 'range'>)  :: Function(<class 'range'>)\n",
      "    #   $const18.7 = const(int, 0)  :: Literal[int](0)\n",
      "    #   $22call_function.9 = call $16load_global.6($const18.7, num_products, func=$16load_global.6, args=[Var($const18.7, <ipython-input-19-65aa5d38f6b9>:4), Var(num_products, <ipython-input-19-65aa5d38f6b9>:3)], kws=(), vararg=None)  :: (int64, int64) -> range_state_int64\n",
      "    #   del $const18.7\n",
      "    #   del $16load_global.6\n",
      "    #   $24get_iter.10 = getiter(value=$22call_function.9)  :: range_iter_int64\n",
      "    #   del $22call_function.9\n",
      "    #   $phi26.0 = $24get_iter.10  :: range_iter_int64\n",
      "    #   del $24get_iter.10\n",
      "    #   jump 26\n",
      "    # label 26\n",
      "    #   $26for_iter.1 = iternext(value=$phi26.0)  :: pair<int64, bool>\n",
      "    #   $26for_iter.2 = pair_first(value=$26for_iter.1)  :: int64\n",
      "    #   $26for_iter.3 = pair_second(value=$26for_iter.1)  :: bool\n",
      "    #   del $26for_iter.1\n",
      "    #   $phi28.1 = $26for_iter.2  :: int64\n",
      "    #   del $26for_iter.2\n",
      "    #   branch $26for_iter.3, 28, 144\n",
      "    # label 28\n",
      "    #   del $26for_iter.3\n",
      "    #   index1 = $phi28.1  :: int64\n",
      "    #   del $phi28.1\n",
      "\n",
      "    for index1 in range(0,num_products):\n",
      "\n",
      "        # --- LINE 5 --- \n",
      "        #   $30load_global.2 = global(range: <class 'range'>)  :: Function(<class 'range'>)\n",
      "        #   $const32.3 = const(int, 0)  :: Literal[int](0)\n",
      "        #   $36call_function.5 = call $30load_global.2($const32.3, num_products, func=$30load_global.2, args=[Var($const32.3, <ipython-input-19-65aa5d38f6b9>:5), Var(num_products, <ipython-input-19-65aa5d38f6b9>:3)], kws=(), vararg=None)  :: (int64, int64) -> range_state_int64\n",
      "        #   del $const32.3\n",
      "        #   del $30load_global.2\n",
      "        #   $38get_iter.6 = getiter(value=$36call_function.5)  :: range_iter_int64\n",
      "        #   del $36call_function.5\n",
      "        #   $phi40.1 = $38get_iter.6  :: range_iter_int64\n",
      "        #   del $38get_iter.6\n",
      "        #   jump 40\n",
      "        # label 40\n",
      "        #   $40for_iter.2 = iternext(value=$phi40.1)  :: pair<int64, bool>\n",
      "        #   $40for_iter.3 = pair_first(value=$40for_iter.2)  :: int64\n",
      "        #   $40for_iter.4 = pair_second(value=$40for_iter.2)  :: bool\n",
      "        #   del $40for_iter.2\n",
      "        #   $phi42.2 = $40for_iter.3  :: int64\n",
      "        #   del $40for_iter.3\n",
      "        #   branch $40for_iter.4, 42, 142\n",
      "        # label 42\n",
      "        #   del $40for_iter.4\n",
      "        #   index2 = $phi42.2  :: int64\n",
      "        #   del $phi42.2\n",
      "        # label 145\n",
      "        #   jump 40\n",
      "\n",
      "        for index2 in range(0,num_products):\n",
      "\n",
      "            # --- LINE 6 --- \n",
      "            #   $48compare_op.5 = index2 > index1  :: bool\n",
      "            #   bool50 = global(bool: <class 'bool'>)  :: Function(<class 'bool'>)\n",
      "            #   $50pred = call bool50($48compare_op.5, func=bool50, args=(Var($48compare_op.5, <ipython-input-19-65aa5d38f6b9>:6),), kws=(), vararg=None)  :: (bool,) -> bool\n",
      "            #   del bool50\n",
      "            #   del $48compare_op.5\n",
      "            #   branch $50pred, 52, 54\n",
      "\n",
      "            if index2 > index1:\n",
      "\n",
      "                # --- LINE 7 --- \n",
      "                # label 52\n",
      "                #   del index2\n",
      "                #   del $50pred\n",
      "                #   jump 145\n",
      "\n",
      "                continue\n",
      "\n",
      "            # --- LINE 8 --- \n",
      "            # label 54\n",
      "            #   del $50pred\n",
      "            #   $58binary_subscr.4 = getitem(value=data, index=index1)  :: array(float64, 1d, C)\n",
      "            #   $64binary_subscr.7 = getitem(value=data, index=index2)  :: array(float64, 1d, C)\n",
      "            #   $66binary_multiply.8 = $58binary_subscr.4 * $64binary_subscr.7  :: array(float64, 1d, C)\n",
      "            #   del $64binary_subscr.7\n",
      "            #   del $58binary_subscr.4\n",
      "            #   $68load_method.9 = getattr(value=$66binary_multiply.8, attr=sum)  :: BoundFunction(array.sum for array(float64, 1d, C))\n",
      "            #   del $66binary_multiply.8\n",
      "            #   $70call_method.10 = call $68load_method.9(func=$68load_method.9, args=[], kws=(), vararg=None)  :: () -> float64\n",
      "            #   del $68load_method.9\n",
      "            #   numerator = $70call_method.10  :: float64\n",
      "            #   del $70call_method.10\n",
      "\n",
      "            numerator = (data[index1] * data[index2]).sum()\n",
      "\n",
      "            # --- LINE 9 --- \n",
      "            #   $74load_global.11 = global(max: <built-in function max>)  :: Function(<built-in function max>)\n",
      "            #   $80binary_subscr.14 = getitem(value=col_sums, index=index1)  :: float64\n",
      "            #   $86binary_subscr.17 = getitem(value=col_sums, index=index2)  :: float64\n",
      "            #   $88call_function.18 = call $74load_global.11($80binary_subscr.14, $86binary_subscr.17, func=$74load_global.11, args=[Var($80binary_subscr.14, <ipython-input-19-65aa5d38f6b9>:9), Var($86binary_subscr.17, <ipython-input-19-65aa5d38f6b9>:9)], kws=(), vararg=None)  :: (float64, float64) -> float64\n",
      "            #   del $86binary_subscr.17\n",
      "            #   del $80binary_subscr.14\n",
      "            #   del $74load_global.11\n",
      "            #   denominator = $88call_function.18  :: float64\n",
      "            #   del $88call_function.18\n",
      "\n",
      "            denominator = max(col_sums[index1], col_sums[index2])\n",
      "\n",
      "            # --- LINE 10 --- \n",
      "            #   $const94.20 = const(float, 0.0)  :: float64\n",
      "            #   $96compare_op.21 = denominator == $const94.20  :: bool\n",
      "            #   del $const94.20\n",
      "            #   bool98 = global(bool: <class 'bool'>)  :: Function(<class 'bool'>)\n",
      "            #   $98pred = call bool98($96compare_op.21, func=bool98, args=(Var($96compare_op.21, <ipython-input-19-65aa5d38f6b9>:10),), kws=(), vararg=None)  :: (bool,) -> bool\n",
      "            #   del bool98\n",
      "            #   del $96compare_op.21\n",
      "            #   branch $98pred, 100, 108\n",
      "\n",
      "            if denominator == 0.0:\n",
      "\n",
      "                # --- LINE 11 --- \n",
      "                # label 100\n",
      "                #   del numerator\n",
      "                #   del denominator\n",
      "                #   del $98pred\n",
      "                #   $100load_global.2 = global(np: <module 'numpy' from '/Users/matthewmckay/anaconda3/envs/lecture-python/lib/python3.8/site-packages/numpy/__init__.py'>)  :: Module(<module 'numpy' from '/Users/matthewmckay/anaconda3/envs/lecture-python/lib/python3.8/site-packages/numpy/__init__.py'>)\n",
      "                #   $102load_attr.3 = getattr(value=$100load_global.2, attr=nan)  :: float64\n",
      "                #   del $100load_global.2\n",
      "                #   cond_prob = $102load_attr.3  :: float64\n",
      "                #   del $102load_attr.3\n",
      "                #   jump 116\n",
      "\n",
      "                cond_prob = np.nan\n",
      "\n",
      "            # --- LINE 12 --- \n",
      "\n",
      "            else:\n",
      "\n",
      "                # --- LINE 13 --- \n",
      "                # label 108\n",
      "                #   del $98pred\n",
      "                #   $112binary_true_divide.4 = numerator / denominator  :: float64\n",
      "                #   del numerator\n",
      "                #   del denominator\n",
      "                #   cond_prob.1 = $112binary_true_divide.4  :: float64\n",
      "                #   del $112binary_true_divide.4\n",
      "\n",
      "                cond_prob = numerator / denominator\n",
      "\n",
      "            # --- LINE 14 --- \n",
      "            #   jump 116\n",
      "            # label 116\n",
      "            #   cond_prob.2 = phi(incoming_values=[Var(cond_prob.1, <ipython-input-19-65aa5d38f6b9>:13), Var(cond_prob, <ipython-input-19-65aa5d38f6b9>:11)], incoming_blocks=[108, 100])  :: float64\n",
      "            #   $122binary_subscr.5 = getitem(value=proximity, index=index1)  :: array(float64, 1d, C)\n",
      "            #   $122binary_subscr.5[index2] = cond_prob.2  :: (array(float64, 1d, C), int64, float64) -> none\n",
      "            #   del $122binary_subscr.5\n",
      "\n",
      "            proximity[index1][index2] = cond_prob\n",
      "\n",
      "            # --- LINE 15 --- \n",
      "            #   $134binary_subscr.10 = getitem(value=proximity, index=index2)  :: array(float64, 1d, C)\n",
      "            #   del index2\n",
      "            #   $134binary_subscr.10[index1] = cond_prob.2  :: (array(float64, 1d, C), int64, float64) -> none\n",
      "            #   del cond_prob.2\n",
      "            #   del $134binary_subscr.10\n",
      "            #   jump 145\n",
      "            # label 142\n",
      "            #   del index1\n",
      "            #   del $phi42.2\n",
      "            #   del $phi40.1\n",
      "            #   del $40for_iter.4\n",
      "            #   jump 26\n",
      "\n",
      "            proximity[index2][index1] = cond_prob\n",
      "\n",
      "    # --- LINE 16 --- \n",
      "    # label 144\n",
      "    #   del num_products\n",
      "    #   del data\n",
      "    #   del cond_prob.1\n",
      "    #   del cond_prob\n",
      "    #   del col_sums\n",
      "    #   del $phi28.1\n",
      "    #   del $phi26.0\n",
      "    #   del $26for_iter.3\n",
      "    #   $146return_value.1 = cast(value=proximity)  :: array(float64, 2d, C)\n",
      "    #   del proximity\n",
      "    #   return $146return_value.1\n",
      "\n",
      "    return proximity\n",
      "\n",
      "\n",
      "================================================================================\n"
     ]
    }
   ],
   "source": [
    "coexport_probability.inspect_types()"
   ]
  },
  {
   "cell_type": "markdown",
   "metadata": {},
   "source": [
    "## Examples / Exercises"
   ]
  },
  {
   "cell_type": "markdown",
   "metadata": {},
   "source": [
    "## Problem 1: A Time Series Model"
   ]
  },
  {
   "cell_type": "code",
   "execution_count": 23,
   "metadata": {
    "nbpresent": {
     "id": "cacd76f0-600a-4ac9-ba39-ae23747177c8"
    },
    "slideshow": {
     "slide_type": "-"
    }
   },
   "outputs": [],
   "source": [
    "import numpy as np\n",
    "from numba import vectorize, jit, float64\n",
    "from quantecon.util import tic, toc\n",
    "import matplotlib.pyplot as plt"
   ]
  },
  {
   "cell_type": "markdown",
   "metadata": {},
   "source": [
    "Consider the time series model\n",
    "\n",
    "$$ x_{t+1} = \\alpha x_t (1 - x_t) $$\n",
    "\n",
    "Let's set $\\alpha = 4$"
   ]
  },
  {
   "cell_type": "code",
   "execution_count": 24,
   "metadata": {},
   "outputs": [],
   "source": [
    "α = 4"
   ]
  },
  {
   "cell_type": "markdown",
   "metadata": {},
   "source": [
    "Here's a typical time series:"
   ]
  },
  {
   "cell_type": "code",
   "execution_count": 25,
   "metadata": {},
   "outputs": [
    {
     "data": {
      "image/png": "[encoded data removed]",
      "text/plain": [
       "<Figure size 432x288 with 1 Axes>"
      ]
     },
     "metadata": {
      "needs_background": "light"
     },
     "output_type": "display_data"
    }
   ],
   "source": [
    "n = 200\n",
    "x =  np.empty(n)\n",
    "x[0] = 0.2\n",
    "for t in range(n-1):\n",
    "    x[t+1] = α * x[t] * (1 - x[t])\n",
    "    \n",
    "plt.plot(x)\n",
    "plt.show()"
   ]
  },
  {
   "cell_type": "markdown",
   "metadata": {},
   "source": [
    "Here's a function that simulates for `n` periods, starting from `x0`, and returns **only the final** value:"
   ]
  },
  {
   "cell_type": "code",
   "execution_count": 26,
   "metadata": {},
   "outputs": [],
   "source": [
    "def quad(x0, n):\n",
    "    x = x0\n",
    "    for i in range(1, n):\n",
    "        x = α * x * (1 - x)\n",
    "    return x"
   ]
  },
  {
   "cell_type": "markdown",
   "metadata": {},
   "source": [
    "Let's see how fast this runs:"
   ]
  },
  {
   "cell_type": "code",
   "execution_count": 27,
   "metadata": {},
   "outputs": [],
   "source": [
    "n = 10_000_000"
   ]
  },
  {
   "cell_type": "code",
   "execution_count": 28,
   "metadata": {},
   "outputs": [
    {
     "name": "stdout",
     "output_type": "stream",
     "text": [
      "TOC: Elapsed: 0:00:1.09\n"
     ]
    },
    {
     "data": {
      "text/plain": [
       "1.093743085861206"
      ]
     },
     "execution_count": 28,
     "metadata": {},
     "output_type": "execute_result"
    }
   ],
   "source": [
    "tic()\n",
    "x = quad(0.2, n)\n",
    "toc()"
   ]
  },
  {
   "cell_type": "markdown",
   "metadata": {},
   "source": [
    "Now you could write this in FORTRAN.  \n",
    "\n",
    "A **Fortran** Program:\n",
    "\n",
    "```fortran\n",
    "PURE FUNCTION QUAD(X0, N)\n",
    " IMPLICIT NONE\n",
    " INTEGER, PARAMETER :: DP=KIND(0.d0)                           \n",
    " REAL(dp), INTENT(IN) :: X0\n",
    " REAL(dp) :: QUAD\n",
    " INTEGER :: I\n",
    " INTEGER, INTENT(IN) :: N\n",
    " QUAD = X0\n",
    " DO I = 1, N - 1                                                \n",
    "  QUAD = 4.0_dp * QUAD * real(1.0_dp - QUAD, dp)\n",
    " END DO\n",
    " RETURN\n",
    "END FUNCTION QUAD\n",
    "\n",
    "PROGRAM MAIN\n",
    " IMPLICIT NONE\n",
    " INTEGER, PARAMETER :: DP=KIND(0.d0)                          \n",
    " REAL(dp) :: START, FINISH, X, QUAD\n",
    " INTEGER :: N\n",
    " N = 10000000\n",
    " X = QUAD(0.2_dp, 10)\n",
    " CALL CPU_TIME(START)\n",
    " X = QUAD(0.2_dp, N)\n",
    " CALL CPU_TIME(FINISH)\n",
    " PRINT *,'last val = ', X\n",
    " PRINT *,'elapsed time = ', FINISH-START\n",
    "END PROGRAM MAIN\n",
    "```\n",
    "\n",
    "and compiling this with a `fortran` compiler\n",
    "\n",
    "```bash\n",
    "gfortran -O3 fastquad.f90\n",
    "```\n",
    "\n",
    "gives you the results\n",
    "\n",
    "```\n",
    "last val =   0.46200166384322749     \n",
    "elapsed time =    3.5999999999999997E-002\n",
    "```\n",
    "\n",
    "when you run the program `a.out` (on this machine)\n",
    "\n",
    "It is a `lot` quicker than python"
   ]
  },
  {
   "cell_type": "markdown",
   "metadata": {},
   "source": [
    "Now let's do the same thing in Python using Numba's JIT compilation:"
   ]
  },
  {
   "cell_type": "code",
   "execution_count": 29,
   "metadata": {},
   "outputs": [],
   "source": [
    "quad_jitted = jit(quad)"
   ]
  },
  {
   "cell_type": "code",
   "execution_count": 30,
   "metadata": {},
   "outputs": [
    {
     "name": "stdout",
     "output_type": "stream",
     "text": [
      "CPU times: user 85.7 ms, sys: 2.33 ms, total: 88 ms\n",
      "Wall time: 87.4 ms\n"
     ]
    }
   ],
   "source": [
    "%%time\n",
    "x = quad_jitted(0.2, n)"
   ]
  },
  {
   "cell_type": "code",
   "execution_count": 31,
   "metadata": {},
   "outputs": [
    {
     "name": "stdout",
     "output_type": "stream",
     "text": [
      "CPU times: user 27.7 ms, sys: 361 µs, total: 28.1 ms\n",
      "Wall time: 28.4 ms\n"
     ]
    }
   ],
   "source": [
    "%%time\n",
    "x = quad_jitted(0.2, n)"
   ]
  },
  {
   "cell_type": "markdown",
   "metadata": {},
   "source": [
    "**Question:** Why did the second one take less time to run?"
   ]
  },
  {
   "cell_type": "markdown",
   "metadata": {},
   "source": [
    "After JIT compilation, function execution speed is about the same as FORTRAN.\n",
    "\n",
    "But remember, JIT compilation for Python is still limited --- see [here](http://numba.pydata.org/numba-doc/dev/reference/pysupported.html) but has grown very quickly"
   ]
  }
 ],
 "metadata": {
  "anaconda-cloud": {},
  "kernelspec": {
   "display_name": "Python 3",
   "language": "python",
   "name": "python3"
  },
  "language_info": {
   "codemirror_mode": {
    "name": "ipython",
    "version": 3
   },
   "file_extension": ".py",
   "mimetype": "text/x-python",
   "name": "python",
   "nbconvert_exporter": "python",
   "pygments_lexer": "ipython3",
   "version": "3.8.5"
  },
  "nbpresent": {
   "slides": {
    "5f0cc85e-076a-4da2-8fda-63dd0f2a9690": {
     "id": "5f0cc85e-076a-4da2-8fda-63dd0f2a9690",
     "prev": null,
     "regions": {
      "06b15178-1835-4699-b6d7-bef485bc3e0c": {
       "attrs": {
        "height": 0.8,
        "width": 0.8,
        "x": 0.1,
        "y": 0.1
       },
       "content": {
        "cell": "cacd76f0-600a-4ac9-ba39-ae23747177c8",
        "part": "whole"
       },
       "id": "06b15178-1835-4699-b6d7-bef485bc3e0c"
      }
     }
    },
    "f87bdd75-45d7-4a76-b635-95a7d9e7246a": {
     "id": "f87bdd75-45d7-4a76-b635-95a7d9e7246a",
     "prev": "5f0cc85e-076a-4da2-8fda-63dd0f2a9690",
     "regions": {
      "089613ea-0a0b-48f4-851f-0891f974e154": {
       "attrs": {
        "height": 0.4,
        "width": 0.8,
        "x": 0.1,
        "y": 0.5
       },
       "content": {
        "cell": "e443f7ad-f26e-4148-983e-83a5f6a2214e",
        "part": "whole"
       },
       "id": "089613ea-0a0b-48f4-851f-0891f974e154"
      },
      "0d2bad86-5f46-41c4-944c-b66714857f9b": {
       "attrs": {
        "height": 0.4,
        "width": 0.8,
        "x": 0.1,
        "y": 0.5
       },
       "content": {
        "cell": "fa704f81-9121-4f07-8269-aeca542d2b95",
        "part": "whole"
       },
       "id": "0d2bad86-5f46-41c4-944c-b66714857f9b"
      },
      "122e8b02-35b3-4a27-ba2c-efc21394a434": {
       "attrs": {
        "height": 0.4,
        "width": 0.8,
        "x": 0.1,
        "y": 0.5
       },
       "content": {
        "cell": "c9d2e1ae-8d24-43bf-a846-f3e71a51c703",
        "part": "whole"
       },
       "id": "122e8b02-35b3-4a27-ba2c-efc21394a434"
      },
      "12ad336f-91c3-470e-8fad-1e2d6377a974": {
       "attrs": {
        "height": 0.4,
        "width": 0.8,
        "x": 0.1,
        "y": 0.5
       },
       "content": {
        "cell": "d10d0175-22b1-4ac3-a2d7-c352fb531d8d",
        "part": "whole"
       },
       "id": "12ad336f-91c3-470e-8fad-1e2d6377a974"
      },
      "1b544b8c-bb08-4bb5-a6b9-413a5d77b374": {
       "attrs": {
        "height": 0.4,
        "width": 0.8,
        "x": 0.1,
        "y": 0.5
       },
       "content": {
        "cell": "b40004cc-afd9-46c8-aace-76599cd8877f",
        "part": "whole"
       },
       "id": "1b544b8c-bb08-4bb5-a6b9-413a5d77b374"
      },
      "25cbaa1f-606c-4842-a016-397329bbd9eb": {
       "attrs": {
        "height": 0.4,
        "width": 0.8,
        "x": 0.1,
        "y": 0.5
       },
       "content": {
        "cell": "1a87d1e5-613e-499b-8245-85a83dd44c3c",
        "part": "whole"
       },
       "id": "25cbaa1f-606c-4842-a016-397329bbd9eb"
      },
      "4fcfd394-0917-4969-a153-c0ef2e128cb8": {
       "attrs": {
        "height": 0.4,
        "width": 0.8,
        "x": 0.1,
        "y": 0.5
       },
       "content": {
        "cell": "fee90a2c-55a1-4dd9-b7fb-98393b8cfab6",
        "part": "whole"
       },
       "id": "4fcfd394-0917-4969-a153-c0ef2e128cb8"
      },
      "5094100a-aa5b-4a20-a0b7-8afc5df24ce1": {
       "attrs": {
        "height": 0.4,
        "width": 0.8,
        "x": 0.1,
        "y": 0.5
       },
       "content": {
        "cell": "108c4e8e-5c04-4413-b88c-dc3ded1fa205",
        "part": "whole"
       },
       "id": "5094100a-aa5b-4a20-a0b7-8afc5df24ce1"
      },
      "5bd94090-dc5d-4491-abb3-f512c4809a29": {
       "attrs": {
        "height": 0.4,
        "width": 0.8,
        "x": 0.1,
        "y": 0.5
       },
       "content": {
        "cell": "dce934f5-18df-40ad-95fd-7dc41afb374c",
        "part": "whole"
       },
       "id": "5bd94090-dc5d-4491-abb3-f512c4809a29"
      },
      "69183273-481a-436d-ab6a-8e9407531caa": {
       "attrs": {
        "height": 0.4,
        "width": 0.8,
        "x": 0.1,
        "y": 0.5
       },
       "content": {
        "cell": "7142319b-473c-42f2-b71b-26fa7af0eb26",
        "part": "whole"
       },
       "id": "69183273-481a-436d-ab6a-8e9407531caa"
      },
      "7233d00c-d236-4199-b5b1-02d740e659c2": {
       "attrs": {
        "height": 0.4,
        "width": 0.8,
        "x": 0.1,
        "y": 0.5
       },
       "content": {
        "cell": "51ade0e9-e352-409f-a1dd-8b22d82108db",
        "part": "whole"
       },
       "id": "7233d00c-d236-4199-b5b1-02d740e659c2"
      },
      "747f7239-4301-482e-b0c8-1724edd151ef": {
       "attrs": {
        "height": 0.8,
        "width": 0.8,
        "x": 0.1,
        "y": 0.1
       },
       "content": {
        "cell": "8af4eb7e-957d-46e8-b88b-7dbff1735620",
        "part": "whole"
       },
       "id": "747f7239-4301-482e-b0c8-1724edd151ef"
      },
      "75e952d4-e4e7-4cb8-ab3f-0082418d598e": {
       "attrs": {
        "height": 0.4,
        "width": 0.8,
        "x": 0.1,
        "y": 0.5
       },
       "content": {
        "cell": "6a16f917-c5e8-4422-9d4a-f4d9b877e07f",
        "part": "whole"
       },
       "id": "75e952d4-e4e7-4cb8-ab3f-0082418d598e"
      },
      "7a71e843-40e9-42d5-9d75-218328b41a24": {
       "attrs": {
        "height": 0.4,
        "width": 0.8,
        "x": 0.1,
        "y": 0.5
       },
       "content": {
        "cell": "ecd03468-171a-4609-9761-d2c50c6aa30c",
        "part": "whole"
       },
       "id": "7a71e843-40e9-42d5-9d75-218328b41a24"
      },
      "8cc6d667-9331-4923-bfef-c467b5d6ceb5": {
       "attrs": {
        "height": 0.4,
        "width": 0.8,
        "x": 0.1,
        "y": 0.5
       },
       "content": {
        "cell": "164e8b6c-b5c5-4a02-afe3-5ad852d6a611",
        "part": "whole"
       },
       "id": "8cc6d667-9331-4923-bfef-c467b5d6ceb5"
      },
      "90b6975d-2591-4107-bb00-78e1b33e421a": {
       "attrs": {
        "height": 0.4,
        "width": 0.8,
        "x": 0.1,
        "y": 0.5
       },
       "content": {
        "cell": "59f66599-d882-41c1-8954-0ae61a8e3dcd",
        "part": "whole"
       },
       "id": "90b6975d-2591-4107-bb00-78e1b33e421a"
      },
      "92b07248-6641-4903-a014-ab419d87feb0": {
       "attrs": {
        "height": 0.4,
        "width": 0.8,
        "x": 0.1,
        "y": 0.5
       },
       "content": {
        "cell": "b8cf533b-46bf-49d9-8013-656f7c8c7a36",
        "part": "whole"
       },
       "id": "92b07248-6641-4903-a014-ab419d87feb0"
      },
      "94471b9e-2696-4e64-ace6-effedc8dfe87": {
       "attrs": {
        "height": 0.4,
        "width": 0.8,
        "x": 0.1,
        "y": 0.5
       },
       "content": {
        "cell": "1ba9f9f9-f737-4ee1-86e6-0a33c4752188",
        "part": "whole"
       },
       "id": "94471b9e-2696-4e64-ace6-effedc8dfe87"
      },
      "ab774ea3-7b55-4544-bffc-8f687deb62d5": {
       "attrs": {
        "height": 0.4,
        "width": 0.8,
        "x": 0.1,
        "y": 0.5
       },
       "content": {
        "cell": "3de27362-4528-4669-8e3d-2e7db1dd0721",
        "part": "whole"
       },
       "id": "ab774ea3-7b55-4544-bffc-8f687deb62d5"
      },
      "b00671e4-fa20-4afe-ae1e-ec7f0406ee78": {
       "attrs": {
        "height": 0.4,
        "width": 0.8,
        "x": 0.1,
        "y": 0.5
       },
       "content": {
        "cell": "7cb10cdd-f3f2-4933-a118-6bf75e31c1bb",
        "part": "whole"
       },
       "id": "b00671e4-fa20-4afe-ae1e-ec7f0406ee78"
      },
      "b72233c8-7ab3-458d-9afa-b03672a73f6d": {
       "attrs": {
        "height": 0.4,
        "width": 0.8,
        "x": 0.1,
        "y": 0.5
       },
       "content": {
        "cell": "8dfbf7da-5bbf-4b97-91ac-8cbf3247cd94",
        "part": "whole"
       },
       "id": "b72233c8-7ab3-458d-9afa-b03672a73f6d"
      },
      "c527a880-5c92-44fc-b53b-b4d2684b3e53": {
       "attrs": {
        "height": 0.4,
        "width": 0.8,
        "x": 0.1,
        "y": 0.5
       },
       "content": {
        "cell": "f6b01df6-f980-44bb-9521-57df04329791",
        "part": "whole"
       },
       "id": "c527a880-5c92-44fc-b53b-b4d2684b3e53"
      },
      "d03f7e50-ace3-4e93-879f-388e9f7e789f": {
       "attrs": {
        "height": 0.4,
        "width": 0.8,
        "x": 0.1,
        "y": 0.5
       },
       "content": {
        "cell": "4619db4f-423a-482f-9289-bc2d2cff7b7b",
        "part": "whole"
       },
       "id": "d03f7e50-ace3-4e93-879f-388e9f7e789f"
      },
      "d290dd20-ca36-44c8-8ced-eb8cbd7ee2ba": {
       "attrs": {
        "height": 0.4,
        "width": 0.8,
        "x": 0.1,
        "y": 0.5
       },
       "content": {
        "cell": "08ff9d10-b80e-489f-8e7e-5e1869903393",
        "part": "whole"
       },
       "id": "d290dd20-ca36-44c8-8ced-eb8cbd7ee2ba"
      },
      "d6a15129-e573-4582-bc0a-ae76aa23d921": {
       "attrs": {
        "height": 0.4,
        "width": 0.8,
        "x": 0.1,
        "y": 0.5
       },
       "content": {
        "cell": "7f41d68c-b9fb-4bbf-82fb-5fe760b4bc13",
        "part": "whole"
       },
       "id": "d6a15129-e573-4582-bc0a-ae76aa23d921"
      },
      "d7a49752-3c62-4582-b2e7-f0b994738788": {
       "attrs": {
        "height": 0.4,
        "width": 0.8,
        "x": 0.1,
        "y": 0.5
       },
       "content": {
        "cell": "6bc87c32-dc98-436b-b164-c50aa9fe7787",
        "part": "whole"
       },
       "id": "d7a49752-3c62-4582-b2e7-f0b994738788"
      },
      "e935afb6-7bbf-4505-aab1-b6f2d5708ca6": {
       "attrs": {
        "height": 0.4,
        "width": 0.8,
        "x": 0.1,
        "y": 0.5
       },
       "content": {
        "cell": "1dcbf2c8-f472-4e28-abd8-9e7e890fa3eb",
        "part": "whole"
       },
       "id": "e935afb6-7bbf-4505-aab1-b6f2d5708ca6"
      },
      "f3680c02-5962-42fa-8633-b31745ad5759": {
       "attrs": {
        "height": 0.4,
        "width": 0.8,
        "x": 0.1,
        "y": 0.5
       },
       "content": {
        "cell": "ee1131a7-5950-48e7-be71-91348ab35131",
        "part": "whole"
       },
       "id": "f3680c02-5962-42fa-8633-b31745ad5759"
      },
      "fd842322-40ea-4a42-ba0a-a243d9acd15c": {
       "attrs": {
        "height": 0.4,
        "width": 0.8,
        "x": 0.1,
        "y": 0.5
       },
       "content": {
        "cell": "e8b1fc0a-9db2-45d4-9319-dce84ed24ac2",
        "part": "whole"
       },
       "id": "fd842322-40ea-4a42-ba0a-a243d9acd15c"
      }
     }
    }
   },
   "themes": {}
  },
  "toc": {
   "colors": {
    "hover_highlight": "#DAA520",
    "navigate_num": "#000000",
    "navigate_text": "#333333",
    "running_highlight": "#FF0000",
    "selected_highlight": "#FFD700",
    "sidebar_border": "#EEEEEE",
    "wrapper_background": "#FFFFFF"
   },
   "moveMenuLeft": true,
   "nav_menu": {
    "height": "30px",
    "width": "253px"
   },
   "navigate_menu": true,
   "number_sections": false,
   "sideBar": true,
   "threshold": 4,
   "toc_cell": false,
   "toc_section_display": "block",
   "toc_window_display": false,
   "widenNotebook": false
  }
 },
 "nbformat": 4,
 "nbformat_minor": 2
}

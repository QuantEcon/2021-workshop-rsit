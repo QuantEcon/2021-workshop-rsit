{
 "cells": [
  {
   "cell_type": "code",
   "execution_count": 1,
   "id": "needed-toddler",
   "metadata": {},
   "outputs": [],
   "source": [
    "def cobb_douglas(K, L, alpha=0.33, z=1.0):\n",
    "    \"\"\"\n",
    "    This is the cobb-douglas production function with\n",
    "    capital share alpha\n",
    "    \n",
    "    We could say more...\n",
    "    \"\"\"\n",
    "    print(K, L, alpha, z)\n",
    "    out = z * K**alpha * L**(1 - alpha)\n",
    "    # Any other computation that belongs in the function...\n",
    "\n",
    "    return out"
   ]
  },
  {
   "cell_type": "code",
   "execution_count": 2,
   "id": "affecting-counter",
   "metadata": {},
   "outputs": [
    {
     "name": "stdout",
     "output_type": "stream",
     "text": [
      "2.0 1.0 0.33 1.0\n"
     ]
    },
    {
     "data": {
      "text/plain": [
       "1.2570133745218284"
      ]
     },
     "execution_count": 2,
     "metadata": {},
     "output_type": "execute_result"
    }
   ],
   "source": [
    "cobb_douglas(2.0, 1.0)"
   ]
  },
  {
   "cell_type": "code",
   "execution_count": 3,
   "id": "artistic-complex",
   "metadata": {},
   "outputs": [],
   "source": [
    "cobb_douglas?"
   ]
  },
  {
   "cell_type": "code",
   "execution_count": 4,
   "id": "handy-curtis",
   "metadata": {},
   "outputs": [
    {
     "name": "stdout",
     "output_type": "stream",
     "text": [
      "2.0 1.0 0.35 5.0\n"
     ]
    },
    {
     "data": {
      "text/plain": [
       "6.372803136596311"
      ]
     },
     "execution_count": 4,
     "metadata": {},
     "output_type": "execute_result"
    }
   ],
   "source": [
    "cobb_douglas(2.0, 1.0, 0.35, 5.0)"
   ]
  },
  {
   "cell_type": "code",
   "execution_count": 5,
   "id": "occupied-portuguese",
   "metadata": {},
   "outputs": [
    {
     "name": "stdout",
     "output_type": "stream",
     "text": [
      "2.0 1.0 0.35 5.0\n"
     ]
    },
    {
     "data": {
      "text/plain": [
       "6.372803136596311"
      ]
     },
     "execution_count": 5,
     "metadata": {},
     "output_type": "execute_result"
    }
   ],
   "source": [
    "cobb_douglas(L=1.0, K=2.0, z=5.0, alpha=0.35)"
   ]
  },
  {
   "cell_type": "code",
   "execution_count": 17,
   "id": "republican-liberty",
   "metadata": {},
   "outputs": [],
   "source": [
    "def marginal_products(K, L, epsilon=1e-4):\n",
    "    \"\"\"\n",
    "    Computes the numerical derivative of the\n",
    "    cobb-douglas production function using the\n",
    "    definition of a derivative\n",
    "    \"\"\"\n",
    "    mpl = -(cobb_douglas(K, L) - cobb_douglas(K, L+epsilon)) / epsilon\n",
    "    mpk = -(cobb_douglas(K, L) - cobb_douglas(K+epsilon, L)) / epsilon\n",
    "\n",
    "    return mpl, mpk, mpl, mpk"
   ]
  },
  {
   "cell_type": "code",
   "execution_count": 18,
   "id": "initial-header",
   "metadata": {},
   "outputs": [
    {
     "name": "stdout",
     "output_type": "stream",
     "text": [
      "2.0 1.0 0.33 1.0\n",
      "2.0 1.0001 0.33 1.0\n",
      "2.0 1.0 0.33 1.0\n",
      "2.0001 1.0 0.33 1.0\n"
     ]
    }
   ],
   "source": [
    "_, mpk3, _, _ = marginal_products(2.0, 1.0)"
   ]
  },
  {
   "cell_type": "code",
   "execution_count": 11,
   "id": "linear-program",
   "metadata": {},
   "outputs": [
    {
     "data": {
      "text/plain": [
       "0.8421850652617913"
      ]
     },
     "execution_count": 11,
     "metadata": {},
     "output_type": "execute_result"
    }
   ],
   "source": [
    "mpl"
   ]
  },
  {
   "cell_type": "code",
   "execution_count": 20,
   "id": "indian-trance",
   "metadata": {},
   "outputs": [
    {
     "data": {
      "text/plain": [
       "0.20740373282146507"
      ]
     },
     "execution_count": 20,
     "metadata": {},
     "output_type": "execute_result"
    }
   ],
   "source": [
    "_"
   ]
  },
  {
   "cell_type": "code",
   "execution_count": 19,
   "id": "indoor-stanford",
   "metadata": {},
   "outputs": [
    {
     "data": {
      "text/plain": [
       "0.20740373282146507"
      ]
     },
     "execution_count": 19,
     "metadata": {},
     "output_type": "execute_result"
    }
   ],
   "source": [
    "mpk3"
   ]
  }
 ],
 "metadata": {
  "kernelspec": {
   "display_name": "Python 3",
   "language": "python",
   "name": "python3"
  },
  "language_info": {
   "codemirror_mode": {
    "name": "ipython",
    "version": 3
   },
   "file_extension": ".py",
   "mimetype": "text/x-python",
   "name": "python",
   "nbconvert_exporter": "python",
   "pygments_lexer": "ipython3",
   "version": "3.8.8"
  }
 },
 "nbformat": 4,
 "nbformat_minor": 5
}

{
 "cells": [
  {
   "cell_type": "markdown",
   "metadata": {
    "slideshow": {
     "slide_type": "slide"
    }
   },
   "source": [
    "# Introduction\n",
    "\n",
    "**Outcomes**\n",
    "\n",
    "- Understand the core pandas objects (`Series` and `DataFrame`)  \n",
    "- Index into particular elements of a Series and DataFrame  \n",
    "- Understand what `.dtype`/`.dtypes` do  \n",
    "- Make basic visualizations  \n",
    "\n",
    "\n",
    "**Data**\n",
    "\n",
    "- US regional unemployment data from Bureau of Labor Statistics  "
   ]
  },
  {
   "cell_type": "markdown",
   "metadata": {
    "slideshow": {
     "slide_type": "slide"
    }
   },
   "source": [
    "## pandas\n",
    "\n",
    "This lecture begins the material on `pandas`.\n",
    "\n",
    "To start, we will import the pandas package and give it the alias\n",
    "`pd`, which is conventional practice."
   ]
  },
  {
   "cell_type": "code",
   "execution_count": null,
   "metadata": {},
   "outputs": [],
   "source": [
    "!pip install qeds"
   ]
  },
  {
   "cell_type": "code",
   "execution_count": 2,
   "metadata": {
    "hide-output": false,
    "slideshow": {
     "slide_type": "-"
    }
   },
   "outputs": [],
   "source": [
    "import pandas as pd\n",
    "\n",
    "import qeds\n",
    "\n",
    "# Don't worry about this line for now!\n",
    "%matplotlib inline\n",
    "\n",
    "# activate plot theme\n",
    "qeds.themes.mpl_style();"
   ]
  },
  {
   "cell_type": "markdown",
   "metadata": {
    "slideshow": {
     "slide_type": "fragment"
    }
   },
   "source": [
    "Sometimes, knowing which pandas version we are\n",
    "using is helpful.\n",
    "\n",
    "We can check this by running the code below."
   ]
  },
  {
   "cell_type": "code",
   "execution_count": 4,
   "metadata": {
    "hide-output": false,
    "slideshow": {
     "slide_type": "-"
    }
   },
   "outputs": [
    {
     "data": {
      "text/plain": [
       "'1.2.3'"
      ]
     },
     "execution_count": 4,
     "metadata": {},
     "output_type": "execute_result"
    }
   ],
   "source": [
    "pd.__version__"
   ]
  },
  {
   "cell_type": "markdown",
   "metadata": {
    "slideshow": {
     "slide_type": "slide"
    }
   },
   "source": [
    "## Series\n",
    "\n",
    "The first main pandas type we will introduce is called Series.\n",
    "\n",
    "A Series is a single column of data, with row labels for each\n",
    "observation.\n",
    "\n",
    "pandas refers to the row labels as the *index* of the Series.\n",
    "\n",
    "<img src=\"https://datascience.quantecon.org/assets/_static/intro_files/PandasSeries.png\" alt=\"PandasSeries.png\" style=\"\">\n",
    "\n",
    "  \n",
    "Below, we create a Series which contains the US unemployment rate every\n",
    "other year starting in 1995."
   ]
  },
  {
   "cell_type": "code",
   "execution_count": 5,
   "metadata": {
    "hide-output": false,
    "slideshow": {
     "slide_type": "-"
    }
   },
   "outputs": [
    {
     "data": {
      "text/plain": [
       "1995    5.6\n",
       "1997    5.3\n",
       "1999    4.3\n",
       "2001    4.2\n",
       "2003    5.8\n",
       "2005    5.3\n",
       "2007    4.6\n",
       "2009    7.8\n",
       "2011    9.1\n",
       "2013    8.0\n",
       "2015    5.7\n",
       "Name: Unemployment, dtype: float64"
      ]
     },
     "execution_count": 5,
     "metadata": {},
     "output_type": "execute_result"
    }
   ],
   "source": [
    "values = [5.6, 5.3, 4.3, 4.2, 5.8, 5.3, 4.6, 7.8, 9.1, 8., 5.7]\n",
    "years = list(range(1995, 2017, 2))\n",
    "\n",
    "unemp = pd.Series(data=values, index=years, name=\"Unemployment\")\n",
    "\n",
    "unemp"
   ]
  },
  {
   "cell_type": "markdown",
   "metadata": {
    "slideshow": {
     "slide_type": "subslide"
    }
   },
   "source": [
    "We can look at the index and values in our Series."
   ]
  },
  {
   "cell_type": "code",
   "execution_count": 6,
   "metadata": {
    "hide-output": false,
    "slideshow": {
     "slide_type": "-"
    }
   },
   "outputs": [
    {
     "data": {
      "text/plain": [
       "Int64Index([1995, 1997, 1999, 2001, 2003, 2005, 2007, 2009, 2011, 2013, 2015], dtype='int64')"
      ]
     },
     "execution_count": 6,
     "metadata": {},
     "output_type": "execute_result"
    }
   ],
   "source": [
    "unemp.index"
   ]
  },
  {
   "cell_type": "code",
   "execution_count": 7,
   "metadata": {
    "hide-output": false,
    "slideshow": {
     "slide_type": "-"
    }
   },
   "outputs": [
    {
     "data": {
      "text/plain": [
       "array([5.6, 5.3, 4.3, 4.2, 5.8, 5.3, 4.6, 7.8, 9.1, 8. , 5.7])"
      ]
     },
     "execution_count": 7,
     "metadata": {},
     "output_type": "execute_result"
    }
   ],
   "source": [
    "unemp.values"
   ]
  },
  {
   "cell_type": "markdown",
   "metadata": {
    "slideshow": {
     "slide_type": "slide"
    }
   },
   "source": [
    "### What Can We Do with a Series object?"
   ]
  },
  {
   "cell_type": "markdown",
   "metadata": {
    "slideshow": {
     "slide_type": "subslide"
    }
   },
   "source": [
    "#### `.head` and `.tail`\n",
    "\n",
    "Often, our data will have many rows, and we won’t want to display it all\n",
    "at once.\n",
    "\n",
    "The methods `.head` and `.tail` show rows at the beginning and end\n",
    "of our Series, respectively."
   ]
  },
  {
   "cell_type": "code",
   "execution_count": 8,
   "metadata": {
    "hide-output": false,
    "slideshow": {
     "slide_type": "-"
    }
   },
   "outputs": [
    {
     "data": {
      "text/plain": [
       "1995    5.6\n",
       "1997    5.3\n",
       "1999    4.3\n",
       "2001    4.2\n",
       "2003    5.8\n",
       "Name: Unemployment, dtype: float64"
      ]
     },
     "execution_count": 8,
     "metadata": {},
     "output_type": "execute_result"
    }
   ],
   "source": [
    "unemp.head()"
   ]
  },
  {
   "cell_type": "code",
   "execution_count": 9,
   "metadata": {
    "hide-output": false,
    "slideshow": {
     "slide_type": "-"
    }
   },
   "outputs": [
    {
     "data": {
      "text/plain": [
       "2007    4.6\n",
       "2009    7.8\n",
       "2011    9.1\n",
       "2013    8.0\n",
       "2015    5.7\n",
       "Name: Unemployment, dtype: float64"
      ]
     },
     "execution_count": 9,
     "metadata": {},
     "output_type": "execute_result"
    }
   ],
   "source": [
    "unemp.tail()"
   ]
  },
  {
   "cell_type": "markdown",
   "metadata": {
    "slideshow": {
     "slide_type": "subslide"
    }
   },
   "source": [
    "#### Basic Plotting\n",
    "\n",
    "We can also plot data using the `.plot` method."
   ]
  },
  {
   "cell_type": "code",
   "execution_count": 10,
   "metadata": {
    "hide-output": false,
    "slideshow": {
     "slide_type": "-"
    }
   },
   "outputs": [
    {
     "data": {
      "text/plain": [
       "<AxesSubplot:>"
      ]
     },
     "execution_count": 10,
     "metadata": {},
     "output_type": "execute_result"
    },
    {
     "data": {
      "image/png": "[encoded data removed]",
      "text/plain": [
       "<Figure size 432x288 with 1 Axes>"
      ]
     },
     "metadata": {},
     "output_type": "display_data"
    }
   ],
   "source": [
    "unemp.plot()"
   ]
  },
  {
   "cell_type": "markdown",
   "metadata": {
    "slideshow": {
     "slide_type": "-"
    }
   },
   "source": [
    ">**Note**\n",
    ">\n",
    ">This is why we needed the `%matplotlib inline` — it tells the notebook\n",
    "to display figures inside the notebook itself. Also, please note that pandas has more visualization functionality than this, but we will study that later on."
   ]
  },
  {
   "cell_type": "markdown",
   "metadata": {
    "slideshow": {
     "slide_type": "subslide"
    }
   },
   "source": [
    "#### Unique Values\n",
    "\n",
    "Though it doesn’t make sense in this data set, we may want to find the\n",
    "unique values in a Series – which can be done with the `.unique` method."
   ]
  },
  {
   "cell_type": "code",
   "execution_count": 12,
   "metadata": {
    "hide-output": false,
    "slideshow": {
     "slide_type": "-"
    }
   },
   "outputs": [
    {
     "data": {
      "text/plain": [
       "array([5.6, 5.3, 4.3, 4.2, 5.8, 4.6, 7.8, 9.1, 8. , 5.7])"
      ]
     },
     "execution_count": 12,
     "metadata": {},
     "output_type": "execute_result"
    }
   ],
   "source": [
    "unemp.unique()"
   ]
  },
  {
   "cell_type": "markdown",
   "metadata": {
    "slideshow": {
     "slide_type": "subslide"
    }
   },
   "source": [
    "#### Indexing\n",
    "\n",
    "Sometimes, we will want to select particular elements from a Series.\n",
    "\n",
    "We can do this using `.loc[index_items]`; where `index_items` is\n",
    "an item from the index, or a list of items in the index.\n",
    "\n",
    "We will see this more in-depth in a coming lecture, but for now, we\n",
    "demonstrate how to select one or multiple elements of the Series."
   ]
  },
  {
   "cell_type": "code",
   "execution_count": 14,
   "metadata": {
    "hide-output": false,
    "slideshow": {
     "slide_type": "-"
    }
   },
   "outputs": [
    {
     "data": {
      "text/plain": [
       "5.6"
      ]
     },
     "execution_count": 14,
     "metadata": {},
     "output_type": "execute_result"
    }
   ],
   "source": [
    "unemp.loc[1995]"
   ]
  },
  {
   "cell_type": "code",
   "execution_count": 16,
   "metadata": {
    "hide-output": false,
    "slideshow": {
     "slide_type": "-"
    }
   },
   "outputs": [
    {
     "data": {
      "text/plain": [
       "1995    5.6\n",
       "2005    5.3\n",
       "2015    5.7\n",
       "Name: Unemployment, dtype: float64"
      ]
     },
     "execution_count": 16,
     "metadata": {},
     "output_type": "execute_result"
    }
   ],
   "source": [
    "unemp.loc[[1995, 2005, 2015]]"
   ]
  },
  {
   "cell_type": "markdown",
   "metadata": {
    "slideshow": {
     "slide_type": "subslide"
    }
   },
   "source": [
    "**Exercise 1**\n",
    "\n",
    "For each of the following exercises, we recommend reading the documentation\n",
    "for help.\n",
    "\n",
    "- Display only the first 2 elements of the Series using the `.head` method.  \n",
    "- Using the `plot` method, make a bar plot.  \n",
    "- Use `.loc` to select the lowest/highest unemployment rate shown in the Series.  \n",
    "- Run the code `unemp.dtype` below. What does it give you? Where do you think it comes from?  "
   ]
  },
  {
   "cell_type": "code",
   "execution_count": 30,
   "metadata": {
    "slideshow": {
     "slide_type": "-"
    }
   },
   "outputs": [
    {
     "data": {
      "text/plain": [
       "1995    5.6\n",
       "1997    5.3\n",
       "1999    4.3\n",
       "2001    4.2\n",
       "2003    5.8\n",
       "2005    5.3\n",
       "2007    4.6\n",
       "2009    7.8\n",
       "2011    9.1\n",
       "2013    8.0\n",
       "2015    5.7\n",
       "Name: Unemployment, dtype: float64"
      ]
     },
     "execution_count": 30,
     "metadata": {},
     "output_type": "execute_result"
    }
   ],
   "source": [
    "unemp"
   ]
  },
  {
   "cell_type": "markdown",
   "metadata": {
    "slideshow": {
     "slide_type": "slide"
    }
   },
   "source": [
    "## DataFrame\n",
    "\n",
    "A DataFrame is how pandas stores one or more columns of data.\n",
    "\n",
    "We can think a DataFrames a multiple Series stacked side by side as\n",
    "columns.\n",
    "\n",
    "This is similar to a sheet in an Excel workbook or a table in a SQL\n",
    "database.\n",
    "\n",
    "In addition to row labels (an index), DataFrames also have column labels.\n",
    "\n",
    "We refer to these column labels as the columns or column names.\n",
    "\n",
    "<img src=\"https://datascience.quantecon.org/assets/_static/intro_files/PandasDataFrame.png\" alt=\"PandasDataFrame.png\" style=\"\">\n",
    "\n",
    "  \n",
    "Below, we create a DataFrame that contains the unemployment rate every\n",
    "other year by region of the US starting in 1995."
   ]
  },
  {
   "cell_type": "code",
   "execution_count": 31,
   "metadata": {
    "hide-output": false,
    "slideshow": {
     "slide_type": "-"
    }
   },
   "outputs": [
    {
     "data": {
      "text/html": [
       "<div>\n",
       "<style scoped>\n",
       "    .dataframe tbody tr th:only-of-type {\n",
       "        vertical-align: middle;\n",
       "    }\n",
       "\n",
       "    .dataframe tbody tr th {\n",
       "        vertical-align: top;\n",
       "    }\n",
       "\n",
       "    .dataframe thead th {\n",
       "        text-align: right;\n",
       "    }\n",
       "</style>\n",
       "<table border=\"1\" class=\"dataframe\">\n",
       "  <thead>\n",
       "    <tr style=\"text-align: right;\">\n",
       "      <th></th>\n",
       "      <th>NorthEast</th>\n",
       "      <th>MidWest</th>\n",
       "      <th>South</th>\n",
       "      <th>West</th>\n",
       "      <th>National</th>\n",
       "    </tr>\n",
       "  </thead>\n",
       "  <tbody>\n",
       "    <tr>\n",
       "      <th>1995</th>\n",
       "      <td>5.9</td>\n",
       "      <td>4.5</td>\n",
       "      <td>5.3</td>\n",
       "      <td>6.6</td>\n",
       "      <td>5.6</td>\n",
       "    </tr>\n",
       "    <tr>\n",
       "      <th>1997</th>\n",
       "      <td>5.6</td>\n",
       "      <td>4.3</td>\n",
       "      <td>5.2</td>\n",
       "      <td>6.0</td>\n",
       "      <td>5.3</td>\n",
       "    </tr>\n",
       "    <tr>\n",
       "      <th>1999</th>\n",
       "      <td>4.4</td>\n",
       "      <td>3.6</td>\n",
       "      <td>4.2</td>\n",
       "      <td>5.2</td>\n",
       "      <td>4.3</td>\n",
       "    </tr>\n",
       "    <tr>\n",
       "      <th>2001</th>\n",
       "      <td>3.8</td>\n",
       "      <td>4.0</td>\n",
       "      <td>4.0</td>\n",
       "      <td>4.6</td>\n",
       "      <td>4.2</td>\n",
       "    </tr>\n",
       "    <tr>\n",
       "      <th>2003</th>\n",
       "      <td>5.8</td>\n",
       "      <td>5.7</td>\n",
       "      <td>5.7</td>\n",
       "      <td>6.5</td>\n",
       "      <td>5.8</td>\n",
       "    </tr>\n",
       "    <tr>\n",
       "      <th>2005</th>\n",
       "      <td>4.9</td>\n",
       "      <td>5.7</td>\n",
       "      <td>5.2</td>\n",
       "      <td>5.5</td>\n",
       "      <td>5.3</td>\n",
       "    </tr>\n",
       "    <tr>\n",
       "      <th>2007</th>\n",
       "      <td>4.3</td>\n",
       "      <td>4.9</td>\n",
       "      <td>4.3</td>\n",
       "      <td>4.5</td>\n",
       "      <td>4.6</td>\n",
       "    </tr>\n",
       "    <tr>\n",
       "      <th>2009</th>\n",
       "      <td>7.1</td>\n",
       "      <td>8.1</td>\n",
       "      <td>7.6</td>\n",
       "      <td>8.6</td>\n",
       "      <td>7.8</td>\n",
       "    </tr>\n",
       "    <tr>\n",
       "      <th>2011</th>\n",
       "      <td>8.3</td>\n",
       "      <td>8.7</td>\n",
       "      <td>9.1</td>\n",
       "      <td>10.7</td>\n",
       "      <td>9.1</td>\n",
       "    </tr>\n",
       "    <tr>\n",
       "      <th>2013</th>\n",
       "      <td>7.9</td>\n",
       "      <td>7.4</td>\n",
       "      <td>7.4</td>\n",
       "      <td>8.5</td>\n",
       "      <td>8.0</td>\n",
       "    </tr>\n",
       "    <tr>\n",
       "      <th>2015</th>\n",
       "      <td>5.7</td>\n",
       "      <td>5.1</td>\n",
       "      <td>5.5</td>\n",
       "      <td>6.1</td>\n",
       "      <td>5.7</td>\n",
       "    </tr>\n",
       "  </tbody>\n",
       "</table>\n",
       "</div>"
      ],
      "text/plain": [
       "      NorthEast  MidWest  South  West  National\n",
       "1995        5.9      4.5    5.3   6.6       5.6\n",
       "1997        5.6      4.3    5.2   6.0       5.3\n",
       "1999        4.4      3.6    4.2   5.2       4.3\n",
       "2001        3.8      4.0    4.0   4.6       4.2\n",
       "2003        5.8      5.7    5.7   6.5       5.8\n",
       "2005        4.9      5.7    5.2   5.5       5.3\n",
       "2007        4.3      4.9    4.3   4.5       4.6\n",
       "2009        7.1      8.1    7.6   8.6       7.8\n",
       "2011        8.3      8.7    9.1  10.7       9.1\n",
       "2013        7.9      7.4    7.4   8.5       8.0\n",
       "2015        5.7      5.1    5.5   6.1       5.7"
      ]
     },
     "execution_count": 31,
     "metadata": {},
     "output_type": "execute_result"
    }
   ],
   "source": [
    "data = {\n",
    "    \"NorthEast\": [5.9,  5.6,  4.4,  3.8,  5.8,  4.9,  4.3,  7.1,  8.3,  7.9,  5.7],\n",
    "    \"MidWest\": [4.5,  4.3,  3.6,  4. ,  5.7,  5.7,  4.9,  8.1,  8.7,  7.4,  5.1],\n",
    "    \"South\": [5.3,  5.2,  4.2,  4. ,  5.7,  5.2,  4.3,  7.6,  9.1,  7.4,  5.5],\n",
    "    \"West\": [6.6, 6., 5.2, 4.6, 6.5, 5.5, 4.5, 8.6, 10.7, 8.5, 6.1],\n",
    "    \"National\": [5.6, 5.3, 4.3, 4.2, 5.8, 5.3, 4.6, 7.8, 9.1, 8., 5.7]\n",
    "}\n",
    "\n",
    "unemp_region = pd.DataFrame(data, index=years)\n",
    "unemp_region"
   ]
  },
  {
   "cell_type": "markdown",
   "metadata": {
    "slideshow": {
     "slide_type": "subslide"
    }
   },
   "source": [
    "We can retrieve the index and the DataFrame values as we\n",
    "did with a Series."
   ]
  },
  {
   "cell_type": "code",
   "execution_count": 32,
   "metadata": {
    "hide-output": false,
    "slideshow": {
     "slide_type": "-"
    }
   },
   "outputs": [
    {
     "data": {
      "text/plain": [
       "Int64Index([1995, 1997, 1999, 2001, 2003, 2005, 2007, 2009, 2011, 2013, 2015], dtype='int64')"
      ]
     },
     "execution_count": 32,
     "metadata": {},
     "output_type": "execute_result"
    }
   ],
   "source": [
    "unemp_region.index"
   ]
  },
  {
   "cell_type": "code",
   "execution_count": 33,
   "metadata": {
    "hide-output": false,
    "slideshow": {
     "slide_type": "-"
    }
   },
   "outputs": [
    {
     "data": {
      "text/plain": [
       "array([[ 5.9,  4.5,  5.3,  6.6,  5.6],\n",
       "       [ 5.6,  4.3,  5.2,  6. ,  5.3],\n",
       "       [ 4.4,  3.6,  4.2,  5.2,  4.3],\n",
       "       [ 3.8,  4. ,  4. ,  4.6,  4.2],\n",
       "       [ 5.8,  5.7,  5.7,  6.5,  5.8],\n",
       "       [ 4.9,  5.7,  5.2,  5.5,  5.3],\n",
       "       [ 4.3,  4.9,  4.3,  4.5,  4.6],\n",
       "       [ 7.1,  8.1,  7.6,  8.6,  7.8],\n",
       "       [ 8.3,  8.7,  9.1, 10.7,  9.1],\n",
       "       [ 7.9,  7.4,  7.4,  8.5,  8. ],\n",
       "       [ 5.7,  5.1,  5.5,  6.1,  5.7]])"
      ]
     },
     "execution_count": 33,
     "metadata": {},
     "output_type": "execute_result"
    }
   ],
   "source": [
    "unemp_region.values"
   ]
  },
  {
   "cell_type": "markdown",
   "metadata": {
    "slideshow": {
     "slide_type": "subslide"
    }
   },
   "source": [
    "### What Can We Do with a DataFrame?\n",
    "\n",
    "Pretty much everything we can do with a Series."
   ]
  },
  {
   "cell_type": "markdown",
   "metadata": {
    "slideshow": {
     "slide_type": "subslide"
    }
   },
   "source": [
    "#### `.head` and `.tail`\n",
    "\n",
    "As with Series, we can use `.head` and `.tail` to show only the\n",
    "first or last `n` rows."
   ]
  },
  {
   "cell_type": "code",
   "execution_count": 34,
   "metadata": {
    "hide-output": false,
    "slideshow": {
     "slide_type": "-"
    }
   },
   "outputs": [
    {
     "data": {
      "text/html": [
       "<div>\n",
       "<style scoped>\n",
       "    .dataframe tbody tr th:only-of-type {\n",
       "        vertical-align: middle;\n",
       "    }\n",
       "\n",
       "    .dataframe tbody tr th {\n",
       "        vertical-align: top;\n",
       "    }\n",
       "\n",
       "    .dataframe thead th {\n",
       "        text-align: right;\n",
       "    }\n",
       "</style>\n",
       "<table border=\"1\" class=\"dataframe\">\n",
       "  <thead>\n",
       "    <tr style=\"text-align: right;\">\n",
       "      <th></th>\n",
       "      <th>NorthEast</th>\n",
       "      <th>MidWest</th>\n",
       "      <th>South</th>\n",
       "      <th>West</th>\n",
       "      <th>National</th>\n",
       "    </tr>\n",
       "  </thead>\n",
       "  <tbody>\n",
       "    <tr>\n",
       "      <th>1995</th>\n",
       "      <td>5.9</td>\n",
       "      <td>4.5</td>\n",
       "      <td>5.3</td>\n",
       "      <td>6.6</td>\n",
       "      <td>5.6</td>\n",
       "    </tr>\n",
       "    <tr>\n",
       "      <th>1997</th>\n",
       "      <td>5.6</td>\n",
       "      <td>4.3</td>\n",
       "      <td>5.2</td>\n",
       "      <td>6.0</td>\n",
       "      <td>5.3</td>\n",
       "    </tr>\n",
       "    <tr>\n",
       "      <th>1999</th>\n",
       "      <td>4.4</td>\n",
       "      <td>3.6</td>\n",
       "      <td>4.2</td>\n",
       "      <td>5.2</td>\n",
       "      <td>4.3</td>\n",
       "    </tr>\n",
       "    <tr>\n",
       "      <th>2001</th>\n",
       "      <td>3.8</td>\n",
       "      <td>4.0</td>\n",
       "      <td>4.0</td>\n",
       "      <td>4.6</td>\n",
       "      <td>4.2</td>\n",
       "    </tr>\n",
       "    <tr>\n",
       "      <th>2003</th>\n",
       "      <td>5.8</td>\n",
       "      <td>5.7</td>\n",
       "      <td>5.7</td>\n",
       "      <td>6.5</td>\n",
       "      <td>5.8</td>\n",
       "    </tr>\n",
       "  </tbody>\n",
       "</table>\n",
       "</div>"
      ],
      "text/plain": [
       "      NorthEast  MidWest  South  West  National\n",
       "1995        5.9      4.5    5.3   6.6       5.6\n",
       "1997        5.6      4.3    5.2   6.0       5.3\n",
       "1999        4.4      3.6    4.2   5.2       4.3\n",
       "2001        3.8      4.0    4.0   4.6       4.2\n",
       "2003        5.8      5.7    5.7   6.5       5.8"
      ]
     },
     "execution_count": 34,
     "metadata": {},
     "output_type": "execute_result"
    }
   ],
   "source": [
    "unemp_region.head()"
   ]
  },
  {
   "cell_type": "code",
   "execution_count": 35,
   "metadata": {
    "hide-output": false,
    "slideshow": {
     "slide_type": "-"
    }
   },
   "outputs": [
    {
     "data": {
      "text/html": [
       "<div>\n",
       "<style scoped>\n",
       "    .dataframe tbody tr th:only-of-type {\n",
       "        vertical-align: middle;\n",
       "    }\n",
       "\n",
       "    .dataframe tbody tr th {\n",
       "        vertical-align: top;\n",
       "    }\n",
       "\n",
       "    .dataframe thead th {\n",
       "        text-align: right;\n",
       "    }\n",
       "</style>\n",
       "<table border=\"1\" class=\"dataframe\">\n",
       "  <thead>\n",
       "    <tr style=\"text-align: right;\">\n",
       "      <th></th>\n",
       "      <th>NorthEast</th>\n",
       "      <th>MidWest</th>\n",
       "      <th>South</th>\n",
       "      <th>West</th>\n",
       "      <th>National</th>\n",
       "    </tr>\n",
       "  </thead>\n",
       "  <tbody>\n",
       "    <tr>\n",
       "      <th>2011</th>\n",
       "      <td>8.3</td>\n",
       "      <td>8.7</td>\n",
       "      <td>9.1</td>\n",
       "      <td>10.7</td>\n",
       "      <td>9.1</td>\n",
       "    </tr>\n",
       "    <tr>\n",
       "      <th>2013</th>\n",
       "      <td>7.9</td>\n",
       "      <td>7.4</td>\n",
       "      <td>7.4</td>\n",
       "      <td>8.5</td>\n",
       "      <td>8.0</td>\n",
       "    </tr>\n",
       "    <tr>\n",
       "      <th>2015</th>\n",
       "      <td>5.7</td>\n",
       "      <td>5.1</td>\n",
       "      <td>5.5</td>\n",
       "      <td>6.1</td>\n",
       "      <td>5.7</td>\n",
       "    </tr>\n",
       "  </tbody>\n",
       "</table>\n",
       "</div>"
      ],
      "text/plain": [
       "      NorthEast  MidWest  South  West  National\n",
       "2011        8.3      8.7    9.1  10.7       9.1\n",
       "2013        7.9      7.4    7.4   8.5       8.0\n",
       "2015        5.7      5.1    5.5   6.1       5.7"
      ]
     },
     "execution_count": 35,
     "metadata": {},
     "output_type": "execute_result"
    }
   ],
   "source": [
    "unemp_region.tail(3)"
   ]
  },
  {
   "cell_type": "markdown",
   "metadata": {
    "slideshow": {
     "slide_type": "subslide"
    }
   },
   "source": [
    "#### Plotting\n",
    "\n",
    "We can generate plots with the `.plot` method.\n",
    "\n",
    "Notice we now have a separate line for each column of data."
   ]
  },
  {
   "cell_type": "code",
   "execution_count": 36,
   "metadata": {
    "hide-output": false,
    "slideshow": {
     "slide_type": "-"
    }
   },
   "outputs": [
    {
     "data": {
      "text/plain": [
       "<AxesSubplot:>"
      ]
     },
     "execution_count": 36,
     "metadata": {},
     "output_type": "execute_result"
    },
    {
     "data": {
      "image/png": "[encoded data removed]",
      "text/plain": [
       "<Figure size 432x288 with 1 Axes>"
      ]
     },
     "metadata": {},
     "output_type": "display_data"
    }
   ],
   "source": [
    "unemp_region.plot()"
   ]
  },
  {
   "cell_type": "markdown",
   "metadata": {
    "slideshow": {
     "slide_type": "subslide"
    }
   },
   "source": [
    "#### Indexing\n",
    "\n",
    "We can also do indexing using `.loc`.\n",
    "\n",
    "This is slightly more advanced than before because we can choose\n",
    "subsets of both row and columns."
   ]
  },
  {
   "cell_type": "code",
   "execution_count": 38,
   "metadata": {},
   "outputs": [
    {
     "data": {
      "text/html": [
       "<div>\n",
       "<style scoped>\n",
       "    .dataframe tbody tr th:only-of-type {\n",
       "        vertical-align: middle;\n",
       "    }\n",
       "\n",
       "    .dataframe tbody tr th {\n",
       "        vertical-align: top;\n",
       "    }\n",
       "\n",
       "    .dataframe thead th {\n",
       "        text-align: right;\n",
       "    }\n",
       "</style>\n",
       "<table border=\"1\" class=\"dataframe\">\n",
       "  <thead>\n",
       "    <tr style=\"text-align: right;\">\n",
       "      <th></th>\n",
       "      <th>NorthEast</th>\n",
       "      <th>MidWest</th>\n",
       "      <th>South</th>\n",
       "      <th>West</th>\n",
       "      <th>National</th>\n",
       "    </tr>\n",
       "  </thead>\n",
       "  <tbody>\n",
       "    <tr>\n",
       "      <th>1995</th>\n",
       "      <td>5.9</td>\n",
       "      <td>4.5</td>\n",
       "      <td>5.3</td>\n",
       "      <td>6.6</td>\n",
       "      <td>5.6</td>\n",
       "    </tr>\n",
       "    <tr>\n",
       "      <th>1997</th>\n",
       "      <td>5.6</td>\n",
       "      <td>4.3</td>\n",
       "      <td>5.2</td>\n",
       "      <td>6.0</td>\n",
       "      <td>5.3</td>\n",
       "    </tr>\n",
       "  </tbody>\n",
       "</table>\n",
       "</div>"
      ],
      "text/plain": [
       "      NorthEast  MidWest  South  West  National\n",
       "1995        5.9      4.5    5.3   6.6       5.6\n",
       "1997        5.6      4.3    5.2   6.0       5.3"
      ]
     },
     "execution_count": 38,
     "metadata": {},
     "output_type": "execute_result"
    }
   ],
   "source": [
    "unemp_region.head(2)"
   ]
  },
  {
   "cell_type": "code",
   "execution_count": 39,
   "metadata": {
    "hide-output": false,
    "slideshow": {
     "slide_type": "-"
    }
   },
   "outputs": [
    {
     "data": {
      "text/plain": [
       "5.9"
      ]
     },
     "execution_count": 39,
     "metadata": {},
     "output_type": "execute_result"
    }
   ],
   "source": [
    "unemp_region.loc[1995, \"NorthEast\"]"
   ]
  },
  {
   "cell_type": "code",
   "execution_count": 40,
   "metadata": {
    "hide-output": false,
    "slideshow": {
     "slide_type": "-"
    }
   },
   "outputs": [
    {
     "data": {
      "text/plain": [
       "1995    5.3\n",
       "2005    5.2\n",
       "Name: South, dtype: float64"
      ]
     },
     "execution_count": 40,
     "metadata": {},
     "output_type": "execute_result"
    }
   ],
   "source": [
    "unemp_region.loc[[1995, 2005], \"South\"]"
   ]
  },
  {
   "cell_type": "code",
   "execution_count": 41,
   "metadata": {
    "hide-output": false,
    "slideshow": {
     "slide_type": "-"
    }
   },
   "outputs": [
    {
     "data": {
      "text/plain": [
       "NorthEast    5.9\n",
       "National     5.6\n",
       "Name: 1995, dtype: float64"
      ]
     },
     "execution_count": 41,
     "metadata": {},
     "output_type": "execute_result"
    }
   ],
   "source": [
    "unemp_region.loc[1995, [\"NorthEast\", \"National\"]]"
   ]
  },
  {
   "cell_type": "code",
   "execution_count": 45,
   "metadata": {
    "hide-output": false,
    "slideshow": {
     "slide_type": "-"
    }
   },
   "outputs": [
    {
     "data": {
      "text/plain": [
       "1995    5.6\n",
       "1997    5.3\n",
       "1999    4.3\n",
       "2001    4.2\n",
       "2003    5.8\n",
       "2005    5.3\n",
       "2007    4.6\n",
       "2009    7.8\n",
       "2011    9.1\n",
       "2013    8.0\n",
       "2015    5.7\n",
       "Name: National, dtype: float64"
      ]
     },
     "execution_count": 45,
     "metadata": {},
     "output_type": "execute_result"
    }
   ],
   "source": [
    "unemp_region.loc[:, \"National\"]"
   ]
  },
  {
   "cell_type": "code",
   "execution_count": 47,
   "metadata": {
    "hide-output": false,
    "slideshow": {
     "slide_type": "-"
    }
   },
   "outputs": [
    {
     "data": {
      "text/plain": [
       "1995    5.6\n",
       "1997    5.3\n",
       "1999    4.3\n",
       "2001    4.2\n",
       "2003    5.8\n",
       "2005    5.3\n",
       "2007    4.6\n",
       "2009    7.8\n",
       "2011    9.1\n",
       "2013    8.0\n",
       "2015    5.7\n",
       "Name: National, dtype: float64"
      ]
     },
     "execution_count": 47,
     "metadata": {},
     "output_type": "execute_result"
    }
   ],
   "source": [
    "# `[string]` with no `.loc` extracts a whole column\n",
    "unemp_region[\"National\"]"
   ]
  },
  {
   "cell_type": "markdown",
   "metadata": {
    "slideshow": {
     "slide_type": "slide"
    }
   },
   "source": [
    "### Computations with Columns\n",
    "\n",
    "pandas can do various computations and mathematical operations on\n",
    "columns.\n",
    "\n",
    "Let’s take a look at a few of them."
   ]
  },
  {
   "cell_type": "code",
   "execution_count": 48,
   "metadata": {
    "hide-output": false,
    "slideshow": {
     "slide_type": "-"
    }
   },
   "outputs": [
    {
     "data": {
      "text/plain": [
       "1995    0.066\n",
       "1997    0.060\n",
       "1999    0.052\n",
       "2001    0.046\n",
       "2003    0.065\n",
       "2005    0.055\n",
       "2007    0.045\n",
       "2009    0.086\n",
       "2011    0.107\n",
       "2013    0.085\n",
       "2015    0.061\n",
       "Name: West, dtype: float64"
      ]
     },
     "execution_count": 48,
     "metadata": {},
     "output_type": "execute_result"
    }
   ],
   "source": [
    "# Divide by 100 to move from percent units to a rate\n",
    "unemp_region[\"West\"] / 100"
   ]
  },
  {
   "cell_type": "code",
   "execution_count": 51,
   "metadata": {
    "hide-output": false,
    "slideshow": {
     "slide_type": "-"
    }
   },
   "outputs": [
    {
     "data": {
      "text/plain": [
       "6.618181818181818"
      ]
     },
     "execution_count": 51,
     "metadata": {},
     "output_type": "execute_result"
    }
   ],
   "source": [
    "# Find maximum\n",
    "unemp_region[\"West\"].mean()"
   ]
  },
  {
   "cell_type": "code",
   "execution_count": 52,
   "metadata": {
    "hide-output": false,
    "slideshow": {
     "slide_type": "-"
    }
   },
   "outputs": [
    {
     "data": {
      "text/plain": [
       "1995    2.1\n",
       "1997    1.7\n",
       "1999    1.6\n",
       "2001    0.6\n",
       "2003    0.8\n",
       "2005   -0.2\n",
       "2007   -0.4\n",
       "2009    0.5\n",
       "2011    2.0\n",
       "2013    1.1\n",
       "2015    1.0\n",
       "dtype: float64"
      ]
     },
     "execution_count": 52,
     "metadata": {},
     "output_type": "execute_result"
    }
   ],
   "source": [
    "# Find the difference between two columns\n",
    "# Notice that pandas applies `-` to _all rows_ at once\n",
    "# We'll see more of this throughout these materials\n",
    "unemp_region[\"West\"] - unemp_region[\"MidWest\"]"
   ]
  },
  {
   "cell_type": "code",
   "execution_count": 54,
   "metadata": {
    "hide-output": false,
    "slideshow": {
     "slide_type": "-"
    }
   },
   "outputs": [
    {
     "data": {
      "text/plain": [
       "0.900638125538448"
      ]
     },
     "execution_count": 54,
     "metadata": {},
     "output_type": "execute_result"
    }
   ],
   "source": [
    "# Find correlation between two columns\n",
    "unemp_region[\"West\"].corr(unemp_region[\"MidWest\"])"
   ]
  },
  {
   "cell_type": "code",
   "execution_count": 55,
   "metadata": {
    "hide-output": false,
    "slideshow": {
     "slide_type": "-"
    }
   },
   "outputs": [
    {
     "data": {
      "text/html": [
       "<div>\n",
       "<style scoped>\n",
       "    .dataframe tbody tr th:only-of-type {\n",
       "        vertical-align: middle;\n",
       "    }\n",
       "\n",
       "    .dataframe tbody tr th {\n",
       "        vertical-align: top;\n",
       "    }\n",
       "\n",
       "    .dataframe thead th {\n",
       "        text-align: right;\n",
       "    }\n",
       "</style>\n",
       "<table border=\"1\" class=\"dataframe\">\n",
       "  <thead>\n",
       "    <tr style=\"text-align: right;\">\n",
       "      <th></th>\n",
       "      <th>NorthEast</th>\n",
       "      <th>MidWest</th>\n",
       "      <th>South</th>\n",
       "      <th>West</th>\n",
       "      <th>National</th>\n",
       "    </tr>\n",
       "  </thead>\n",
       "  <tbody>\n",
       "    <tr>\n",
       "      <th>NorthEast</th>\n",
       "      <td>1.000000</td>\n",
       "      <td>0.875654</td>\n",
       "      <td>0.964415</td>\n",
       "      <td>0.967875</td>\n",
       "      <td>0.976016</td>\n",
       "    </tr>\n",
       "    <tr>\n",
       "      <th>MidWest</th>\n",
       "      <td>0.875654</td>\n",
       "      <td>1.000000</td>\n",
       "      <td>0.951379</td>\n",
       "      <td>0.900638</td>\n",
       "      <td>0.952389</td>\n",
       "    </tr>\n",
       "    <tr>\n",
       "      <th>South</th>\n",
       "      <td>0.964415</td>\n",
       "      <td>0.951379</td>\n",
       "      <td>1.000000</td>\n",
       "      <td>0.987259</td>\n",
       "      <td>0.995030</td>\n",
       "    </tr>\n",
       "    <tr>\n",
       "      <th>West</th>\n",
       "      <td>0.967875</td>\n",
       "      <td>0.900638</td>\n",
       "      <td>0.987259</td>\n",
       "      <td>1.000000</td>\n",
       "      <td>0.981308</td>\n",
       "    </tr>\n",
       "    <tr>\n",
       "      <th>National</th>\n",
       "      <td>0.976016</td>\n",
       "      <td>0.952389</td>\n",
       "      <td>0.995030</td>\n",
       "      <td>0.981308</td>\n",
       "      <td>1.000000</td>\n",
       "    </tr>\n",
       "  </tbody>\n",
       "</table>\n",
       "</div>"
      ],
      "text/plain": [
       "           NorthEast   MidWest     South      West  National\n",
       "NorthEast   1.000000  0.875654  0.964415  0.967875  0.976016\n",
       "MidWest     0.875654  1.000000  0.951379  0.900638  0.952389\n",
       "South       0.964415  0.951379  1.000000  0.987259  0.995030\n",
       "West        0.967875  0.900638  0.987259  1.000000  0.981308\n",
       "National    0.976016  0.952389  0.995030  0.981308  1.000000"
      ]
     },
     "execution_count": 55,
     "metadata": {},
     "output_type": "execute_result"
    }
   ],
   "source": [
    "# find correlation between all column pairs\n",
    "unemp_region.corr()"
   ]
  },
  {
   "cell_type": "markdown",
   "metadata": {
    "slideshow": {
     "slide_type": "subslide"
    }
   },
   "source": [
    "**Exercise 2**\n",
    "\n",
    "For each of the following, we recommend reading the documentation for help.\n",
    "\n",
    "- Use introspection (or google-fu) to find a way to obtain a list with\n",
    "  all of the column names in `unemp_region`.  \n",
    "- Using the `plot` method, make a bar plot. What does it look like\n",
    "  now?  \n",
    "- Use `.loc` to select the the unemployment data for the\n",
    "  `NorthEast` and `West` for the years 1995, 2005, 2011, and 2015.  \n",
    "- Run the code `unemp_region.dtypes` below. What does it give you?\n",
    "  How does this compare with `unemp.dtype`?  "
   ]
  },
  {
   "cell_type": "code",
   "execution_count": 64,
   "metadata": {
    "slideshow": {
     "slide_type": "-"
    }
   },
   "outputs": [
    {
     "data": {
      "text/plain": [
       "NorthEast    float64\n",
       "MidWest      float64\n",
       "South        float64\n",
       "West         float64\n",
       "National     float64\n",
       "dtype: object"
      ]
     },
     "execution_count": 64,
     "metadata": {},
     "output_type": "execute_result"
    }
   ],
   "source": []
  },
  {
   "cell_type": "markdown",
   "metadata": {
    "slideshow": {
     "slide_type": "slide"
    }
   },
   "source": [
    "## Data Types\n",
    "\n",
    "We asked you to run the commands `unemp.dtype` and\n",
    "`unemp_region.dtypes` and think about the outputs.\n",
    "\n",
    "You might have guessed that they return the type of the values inside\n",
    "each column.\n",
    "\n",
    "Occasionally, you might need to investigate what types you have in your\n",
    "DataFrame when an operation isn’t behaving as expected."
   ]
  },
  {
   "cell_type": "markdown",
   "metadata": {
    "slideshow": {
     "slide_type": "subslide"
    }
   },
   "source": [
    "DataFrames will only distinguish between a few types.\n",
    "\n",
    "- Booleans (`bool`)  \n",
    "- Floating point numbers (`float64`)  \n",
    "- Integers (`int64`)  \n",
    "- Dates (`datetime`) — we will learn this soon  \n",
    "- Categorical data (`categorical`)  \n",
    "- Everything else, including strings (`object`)  \n",
    "\n",
    "\n",
    "In the future, we will often refer to the type of data stored in a\n",
    "column as its `dtype`."
   ]
  },
  {
   "cell_type": "code",
   "execution_count": 65,
   "metadata": {
    "hide-output": false,
    "slideshow": {
     "slide_type": "-"
    }
   },
   "outputs": [
    {
     "data": {
      "text/plain": [
       "dtype('float64')"
      ]
     },
     "execution_count": 65,
     "metadata": {},
     "output_type": "execute_result"
    }
   ],
   "source": [
    "unemp.dtype"
   ]
  },
  {
   "cell_type": "code",
   "execution_count": 66,
   "metadata": {
    "hide-output": false,
    "slideshow": {
     "slide_type": "-"
    }
   },
   "outputs": [
    {
     "data": {
      "text/plain": [
       "NorthEast    float64\n",
       "MidWest      float64\n",
       "South        float64\n",
       "West         float64\n",
       "National     float64\n",
       "dtype: object"
      ]
     },
     "execution_count": 66,
     "metadata": {},
     "output_type": "execute_result"
    }
   ],
   "source": [
    "unemp_region.dtypes"
   ]
  },
  {
   "cell_type": "markdown",
   "metadata": {
    "slideshow": {
     "slide_type": "subslide"
    }
   },
   "source": [
    "Let’s look at an example for when having an incorrect `dtype` can\n",
    "cause problems.\n",
    "\n",
    "Suppose that when we imported the data the `South` column was\n",
    "interpreted as a string."
   ]
  },
  {
   "cell_type": "code",
   "execution_count": 67,
   "metadata": {
    "hide-output": false,
    "slideshow": {
     "slide_type": "-"
    }
   },
   "outputs": [
    {
     "data": {
      "text/plain": [
       "NorthEast    float64\n",
       "MidWest      float64\n",
       "South         object\n",
       "West         float64\n",
       "National     float64\n",
       "dtype: object"
      ]
     },
     "execution_count": 67,
     "metadata": {},
     "output_type": "execute_result"
    }
   ],
   "source": [
    "str_unemp = unemp_region.copy()\n",
    "str_unemp[\"South\"] = str_unemp[\"South\"].astype(str)\n",
    "str_unemp.dtypes"
   ]
  },
  {
   "cell_type": "markdown",
   "metadata": {
    "slideshow": {
     "slide_type": "fragment"
    }
   },
   "source": [
    "Everything *looks* ok…"
   ]
  },
  {
   "cell_type": "code",
   "execution_count": 68,
   "metadata": {
    "hide-output": false,
    "slideshow": {
     "slide_type": "-"
    }
   },
   "outputs": [
    {
     "data": {
      "text/html": [
       "<div>\n",
       "<style scoped>\n",
       "    .dataframe tbody tr th:only-of-type {\n",
       "        vertical-align: middle;\n",
       "    }\n",
       "\n",
       "    .dataframe tbody tr th {\n",
       "        vertical-align: top;\n",
       "    }\n",
       "\n",
       "    .dataframe thead th {\n",
       "        text-align: right;\n",
       "    }\n",
       "</style>\n",
       "<table border=\"1\" class=\"dataframe\">\n",
       "  <thead>\n",
       "    <tr style=\"text-align: right;\">\n",
       "      <th></th>\n",
       "      <th>NorthEast</th>\n",
       "      <th>MidWest</th>\n",
       "      <th>South</th>\n",
       "      <th>West</th>\n",
       "      <th>National</th>\n",
       "    </tr>\n",
       "  </thead>\n",
       "  <tbody>\n",
       "    <tr>\n",
       "      <th>1995</th>\n",
       "      <td>5.9</td>\n",
       "      <td>4.5</td>\n",
       "      <td>5.3</td>\n",
       "      <td>6.6</td>\n",
       "      <td>5.6</td>\n",
       "    </tr>\n",
       "    <tr>\n",
       "      <th>1997</th>\n",
       "      <td>5.6</td>\n",
       "      <td>4.3</td>\n",
       "      <td>5.2</td>\n",
       "      <td>6.0</td>\n",
       "      <td>5.3</td>\n",
       "    </tr>\n",
       "    <tr>\n",
       "      <th>1999</th>\n",
       "      <td>4.4</td>\n",
       "      <td>3.6</td>\n",
       "      <td>4.2</td>\n",
       "      <td>5.2</td>\n",
       "      <td>4.3</td>\n",
       "    </tr>\n",
       "    <tr>\n",
       "      <th>2001</th>\n",
       "      <td>3.8</td>\n",
       "      <td>4.0</td>\n",
       "      <td>4.0</td>\n",
       "      <td>4.6</td>\n",
       "      <td>4.2</td>\n",
       "    </tr>\n",
       "    <tr>\n",
       "      <th>2003</th>\n",
       "      <td>5.8</td>\n",
       "      <td>5.7</td>\n",
       "      <td>5.7</td>\n",
       "      <td>6.5</td>\n",
       "      <td>5.8</td>\n",
       "    </tr>\n",
       "  </tbody>\n",
       "</table>\n",
       "</div>"
      ],
      "text/plain": [
       "      NorthEast  MidWest South  West  National\n",
       "1995        5.9      4.5   5.3   6.6       5.6\n",
       "1997        5.6      4.3   5.2   6.0       5.3\n",
       "1999        4.4      3.6   4.2   5.2       4.3\n",
       "2001        3.8      4.0   4.0   4.6       4.2\n",
       "2003        5.8      5.7   5.7   6.5       5.8"
      ]
     },
     "execution_count": 68,
     "metadata": {},
     "output_type": "execute_result"
    }
   ],
   "source": [
    "str_unemp.head()"
   ]
  },
  {
   "cell_type": "markdown",
   "metadata": {
    "slideshow": {
     "slide_type": "fragment"
    }
   },
   "source": [
    "But if we try to do something like compute the sum of all the columns,\n",
    "we get unexpected results…"
   ]
  },
  {
   "cell_type": "code",
   "execution_count": 69,
   "metadata": {
    "hide-output": false,
    "slideshow": {
     "slide_type": "-"
    }
   },
   "outputs": [
    {
     "data": {
      "text/plain": [
       "NorthEast                                 63.7\n",
       "MidWest                                   62.0\n",
       "South        5.35.24.24.05.75.24.37.69.17.45.5\n",
       "West                                      72.8\n",
       "National                                  65.7\n",
       "dtype: object"
      ]
     },
     "execution_count": 69,
     "metadata": {},
     "output_type": "execute_result"
    }
   ],
   "source": [
    "str_unemp.sum()"
   ]
  },
  {
   "cell_type": "markdown",
   "metadata": {
    "slideshow": {
     "slide_type": "-"
    }
   },
   "source": [
    "This happened because `.sum` effectively calls `+` on all rows in\n",
    "each column.\n",
    "\n",
    "Recall that when we apply `+` to two strings, the result is the two\n",
    "strings concatenated.\n",
    "\n",
    "So, in this case, we saw that the entries in all rows of the South\n",
    "column were stitched together into one long string."
   ]
  },
  {
   "cell_type": "markdown",
   "metadata": {
    "slideshow": {
     "slide_type": "slide"
    }
   },
   "source": [
    "## Changing DataFrames\n",
    "\n",
    "We can change the data inside of a DataFrame in various ways:\n",
    "\n",
    "- Adding new columns  \n",
    "- Changing index labels or column names  \n",
    "- Altering existing data (e.g. doing some arithmetic or making a column\n",
    "  of strings lowercase)  \n",
    "\n",
    "\n",
    "Some of these “mutations” will be topics of future lectures, so we will\n",
    "only briefly discuss a few of the things we can do below."
   ]
  },
  {
   "cell_type": "markdown",
   "metadata": {
    "slideshow": {
     "slide_type": "subslide"
    }
   },
   "source": [
    "### Creating New Columns\n",
    "\n",
    "We can create new data by assigning values to a column similar to how\n",
    "we assign values to a variable.\n",
    "\n",
    "In pandas, we create a new column of a DataFrame by writing:"
   ]
  },
  {
   "cell_type": "markdown",
   "metadata": {
    "hide-output": false,
    "slideshow": {
     "slide_type": "-"
    }
   },
   "source": [
    "```python\n",
    "df[\"New Column Name\"] = new_values\n",
    "```\n"
   ]
  },
  {
   "cell_type": "markdown",
   "metadata": {
    "slideshow": {
     "slide_type": "fragment"
    }
   },
   "source": [
    "Below, we create an unweighted mean of the unemployment rate across the\n",
    "four regions of the US — notice that this differs from the national\n",
    "unemployment rate."
   ]
  },
  {
   "cell_type": "code",
   "execution_count": 70,
   "metadata": {
    "hide-output": false,
    "slideshow": {
     "slide_type": "-"
    }
   },
   "outputs": [],
   "source": [
    "unemp_region[\"UnweightedMean\"] = (\n",
    "    unemp_region[\"NorthEast\"] +\n",
    "    unemp_region[\"MidWest\"] +\n",
    "    unemp_region[\"South\"] +\n",
    "    unemp_region[\"West\"]\n",
    ")/4"
   ]
  },
  {
   "cell_type": "code",
   "execution_count": 71,
   "metadata": {
    "hide-output": false,
    "slideshow": {
     "slide_type": "-"
    }
   },
   "outputs": [
    {
     "data": {
      "text/html": [
       "<div>\n",
       "<style scoped>\n",
       "    .dataframe tbody tr th:only-of-type {\n",
       "        vertical-align: middle;\n",
       "    }\n",
       "\n",
       "    .dataframe tbody tr th {\n",
       "        vertical-align: top;\n",
       "    }\n",
       "\n",
       "    .dataframe thead th {\n",
       "        text-align: right;\n",
       "    }\n",
       "</style>\n",
       "<table border=\"1\" class=\"dataframe\">\n",
       "  <thead>\n",
       "    <tr style=\"text-align: right;\">\n",
       "      <th></th>\n",
       "      <th>NorthEast</th>\n",
       "      <th>MidWest</th>\n",
       "      <th>South</th>\n",
       "      <th>West</th>\n",
       "      <th>National</th>\n",
       "      <th>UnweightedMean</th>\n",
       "    </tr>\n",
       "  </thead>\n",
       "  <tbody>\n",
       "    <tr>\n",
       "      <th>1995</th>\n",
       "      <td>5.9</td>\n",
       "      <td>4.5</td>\n",
       "      <td>5.3</td>\n",
       "      <td>6.6</td>\n",
       "      <td>5.6</td>\n",
       "      <td>5.575</td>\n",
       "    </tr>\n",
       "    <tr>\n",
       "      <th>1997</th>\n",
       "      <td>5.6</td>\n",
       "      <td>4.3</td>\n",
       "      <td>5.2</td>\n",
       "      <td>6.0</td>\n",
       "      <td>5.3</td>\n",
       "      <td>5.275</td>\n",
       "    </tr>\n",
       "    <tr>\n",
       "      <th>1999</th>\n",
       "      <td>4.4</td>\n",
       "      <td>3.6</td>\n",
       "      <td>4.2</td>\n",
       "      <td>5.2</td>\n",
       "      <td>4.3</td>\n",
       "      <td>4.350</td>\n",
       "    </tr>\n",
       "    <tr>\n",
       "      <th>2001</th>\n",
       "      <td>3.8</td>\n",
       "      <td>4.0</td>\n",
       "      <td>4.0</td>\n",
       "      <td>4.6</td>\n",
       "      <td>4.2</td>\n",
       "      <td>4.100</td>\n",
       "    </tr>\n",
       "    <tr>\n",
       "      <th>2003</th>\n",
       "      <td>5.8</td>\n",
       "      <td>5.7</td>\n",
       "      <td>5.7</td>\n",
       "      <td>6.5</td>\n",
       "      <td>5.8</td>\n",
       "      <td>5.925</td>\n",
       "    </tr>\n",
       "  </tbody>\n",
       "</table>\n",
       "</div>"
      ],
      "text/plain": [
       "      NorthEast  MidWest  South  West  National  UnweightedMean\n",
       "1995        5.9      4.5    5.3   6.6       5.6           5.575\n",
       "1997        5.6      4.3    5.2   6.0       5.3           5.275\n",
       "1999        4.4      3.6    4.2   5.2       4.3           4.350\n",
       "2001        3.8      4.0    4.0   4.6       4.2           4.100\n",
       "2003        5.8      5.7    5.7   6.5       5.8           5.925"
      ]
     },
     "execution_count": 71,
     "metadata": {},
     "output_type": "execute_result"
    }
   ],
   "source": [
    "unemp_region.head()"
   ]
  },
  {
   "cell_type": "markdown",
   "metadata": {
    "slideshow": {
     "slide_type": "subslide"
    }
   },
   "source": [
    "### Changing Values\n",
    "\n",
    "Changing the values inside of a DataFrame should be done sparingly.\n",
    "\n",
    "However, it can be done by assigning a value to a location in the\n",
    "DataFrame.\n",
    "\n",
    "`df.loc[index, column] = value`\n",
    "\n",
    "When selecting a single value, you can also use `.at`"
   ]
  },
  {
   "cell_type": "code",
   "execution_count": 75,
   "metadata": {
    "hide-output": false,
    "slideshow": {
     "slide_type": "-"
    }
   },
   "outputs": [
    {
     "data": {
      "text/plain": [
       "0.0"
      ]
     },
     "execution_count": 75,
     "metadata": {},
     "output_type": "execute_result"
    }
   ],
   "source": [
    "unemp_region.loc[1995, \"UnweightedMean\"] = 0.0\n",
    "unemp_region.loc[1995, \"UnweightedMean\"]"
   ]
  },
  {
   "cell_type": "code",
   "execution_count": 77,
   "metadata": {},
   "outputs": [
    {
     "data": {
      "text/plain": [
       "1.0"
      ]
     },
     "execution_count": 77,
     "metadata": {},
     "output_type": "execute_result"
    }
   ],
   "source": [
    "unemp_region.at[1995, \"UnweightedMean\"] = 1.0\n",
    "unemp_region.at[1995, \"UnweightedMean\"]"
   ]
  },
  {
   "cell_type": "code",
   "execution_count": 78,
   "metadata": {
    "hide-output": false,
    "slideshow": {
     "slide_type": "-"
    }
   },
   "outputs": [
    {
     "data": {
      "text/html": [
       "<div>\n",
       "<style scoped>\n",
       "    .dataframe tbody tr th:only-of-type {\n",
       "        vertical-align: middle;\n",
       "    }\n",
       "\n",
       "    .dataframe tbody tr th {\n",
       "        vertical-align: top;\n",
       "    }\n",
       "\n",
       "    .dataframe thead th {\n",
       "        text-align: right;\n",
       "    }\n",
       "</style>\n",
       "<table border=\"1\" class=\"dataframe\">\n",
       "  <thead>\n",
       "    <tr style=\"text-align: right;\">\n",
       "      <th></th>\n",
       "      <th>NorthEast</th>\n",
       "      <th>MidWest</th>\n",
       "      <th>South</th>\n",
       "      <th>West</th>\n",
       "      <th>National</th>\n",
       "      <th>UnweightedMean</th>\n",
       "    </tr>\n",
       "  </thead>\n",
       "  <tbody>\n",
       "    <tr>\n",
       "      <th>1995</th>\n",
       "      <td>5.9</td>\n",
       "      <td>4.5</td>\n",
       "      <td>5.3</td>\n",
       "      <td>6.6</td>\n",
       "      <td>5.6</td>\n",
       "      <td>1.000</td>\n",
       "    </tr>\n",
       "    <tr>\n",
       "      <th>1997</th>\n",
       "      <td>5.6</td>\n",
       "      <td>4.3</td>\n",
       "      <td>5.2</td>\n",
       "      <td>6.0</td>\n",
       "      <td>5.3</td>\n",
       "      <td>5.275</td>\n",
       "    </tr>\n",
       "    <tr>\n",
       "      <th>1999</th>\n",
       "      <td>4.4</td>\n",
       "      <td>3.6</td>\n",
       "      <td>4.2</td>\n",
       "      <td>5.2</td>\n",
       "      <td>4.3</td>\n",
       "      <td>4.350</td>\n",
       "    </tr>\n",
       "    <tr>\n",
       "      <th>2001</th>\n",
       "      <td>3.8</td>\n",
       "      <td>4.0</td>\n",
       "      <td>4.0</td>\n",
       "      <td>4.6</td>\n",
       "      <td>4.2</td>\n",
       "      <td>4.100</td>\n",
       "    </tr>\n",
       "    <tr>\n",
       "      <th>2003</th>\n",
       "      <td>5.8</td>\n",
       "      <td>5.7</td>\n",
       "      <td>5.7</td>\n",
       "      <td>6.5</td>\n",
       "      <td>5.8</td>\n",
       "      <td>5.925</td>\n",
       "    </tr>\n",
       "  </tbody>\n",
       "</table>\n",
       "</div>"
      ],
      "text/plain": [
       "      NorthEast  MidWest  South  West  National  UnweightedMean\n",
       "1995        5.9      4.5    5.3   6.6       5.6           1.000\n",
       "1997        5.6      4.3    5.2   6.0       5.3           5.275\n",
       "1999        4.4      3.6    4.2   5.2       4.3           4.350\n",
       "2001        3.8      4.0    4.0   4.6       4.2           4.100\n",
       "2003        5.8      5.7    5.7   6.5       5.8           5.925"
      ]
     },
     "execution_count": 78,
     "metadata": {},
     "output_type": "execute_result"
    }
   ],
   "source": [
    "unemp_region.head()"
   ]
  },
  {
   "cell_type": "markdown",
   "metadata": {
    "slideshow": {
     "slide_type": "subslide"
    }
   },
   "source": [
    "### Renaming Columns\n",
    "\n",
    "We can also rename the columns of a DataFrame, which is helpful because the names that sometimes come with datasets are\n",
    "unbearable…\n",
    "\n",
    "For example, the original name for the North East unemployment rate\n",
    "given by the Bureau of Labor Statistics was `LASRD910000000000003`…\n",
    "\n",
    "They have their reasons for using these names, but it can make our job\n",
    "difficult since we often need to type it repeatedly.\n",
    "\n",
    "We can rename columns by passing a dictionary to the `rename` method.\n",
    "\n",
    "This dictionary contains the old names as the keys and new names as the\n",
    "values.\n",
    "\n",
    "See the example below."
   ]
  },
  {
   "cell_type": "code",
   "execution_count": 90,
   "metadata": {
    "hide-output": false,
    "slideshow": {
     "slide_type": "-"
    }
   },
   "outputs": [
    {
     "data": {
      "text/html": [
       "<div>\n",
       "<style scoped>\n",
       "    .dataframe tbody tr th:only-of-type {\n",
       "        vertical-align: middle;\n",
       "    }\n",
       "\n",
       "    .dataframe tbody tr th {\n",
       "        vertical-align: top;\n",
       "    }\n",
       "\n",
       "    .dataframe thead th {\n",
       "        text-align: right;\n",
       "    }\n",
       "</style>\n",
       "<table border=\"1\" class=\"dataframe\">\n",
       "  <thead>\n",
       "    <tr style=\"text-align: right;\">\n",
       "      <th></th>\n",
       "      <th>NE</th>\n",
       "      <th>MW</th>\n",
       "      <th>S</th>\n",
       "      <th>W</th>\n",
       "      <th>National</th>\n",
       "      <th>UnweightedMean</th>\n",
       "    </tr>\n",
       "  </thead>\n",
       "  <tbody>\n",
       "    <tr>\n",
       "      <th>1995</th>\n",
       "      <td>5.9</td>\n",
       "      <td>4.5</td>\n",
       "      <td>5.3</td>\n",
       "      <td>6.6</td>\n",
       "      <td>5.6</td>\n",
       "      <td>1.000</td>\n",
       "    </tr>\n",
       "    <tr>\n",
       "      <th>1997</th>\n",
       "      <td>5.6</td>\n",
       "      <td>4.3</td>\n",
       "      <td>5.2</td>\n",
       "      <td>6.0</td>\n",
       "      <td>5.3</td>\n",
       "      <td>5.275</td>\n",
       "    </tr>\n",
       "    <tr>\n",
       "      <th>1999</th>\n",
       "      <td>4.4</td>\n",
       "      <td>3.6</td>\n",
       "      <td>4.2</td>\n",
       "      <td>5.2</td>\n",
       "      <td>4.3</td>\n",
       "      <td>4.350</td>\n",
       "    </tr>\n",
       "    <tr>\n",
       "      <th>2001</th>\n",
       "      <td>3.8</td>\n",
       "      <td>4.0</td>\n",
       "      <td>4.0</td>\n",
       "      <td>4.6</td>\n",
       "      <td>4.2</td>\n",
       "      <td>4.100</td>\n",
       "    </tr>\n",
       "    <tr>\n",
       "      <th>2003</th>\n",
       "      <td>5.8</td>\n",
       "      <td>5.7</td>\n",
       "      <td>5.7</td>\n",
       "      <td>6.5</td>\n",
       "      <td>5.8</td>\n",
       "      <td>5.925</td>\n",
       "    </tr>\n",
       "    <tr>\n",
       "      <th>2005</th>\n",
       "      <td>4.9</td>\n",
       "      <td>5.7</td>\n",
       "      <td>5.2</td>\n",
       "      <td>5.5</td>\n",
       "      <td>5.3</td>\n",
       "      <td>5.325</td>\n",
       "    </tr>\n",
       "    <tr>\n",
       "      <th>2007</th>\n",
       "      <td>4.3</td>\n",
       "      <td>4.9</td>\n",
       "      <td>4.3</td>\n",
       "      <td>4.5</td>\n",
       "      <td>4.6</td>\n",
       "      <td>4.500</td>\n",
       "    </tr>\n",
       "    <tr>\n",
       "      <th>2009</th>\n",
       "      <td>7.1</td>\n",
       "      <td>8.1</td>\n",
       "      <td>7.6</td>\n",
       "      <td>8.6</td>\n",
       "      <td>7.8</td>\n",
       "      <td>7.850</td>\n",
       "    </tr>\n",
       "    <tr>\n",
       "      <th>2011</th>\n",
       "      <td>8.3</td>\n",
       "      <td>8.7</td>\n",
       "      <td>9.1</td>\n",
       "      <td>10.7</td>\n",
       "      <td>9.1</td>\n",
       "      <td>9.200</td>\n",
       "    </tr>\n",
       "    <tr>\n",
       "      <th>2013</th>\n",
       "      <td>7.9</td>\n",
       "      <td>7.4</td>\n",
       "      <td>7.4</td>\n",
       "      <td>8.5</td>\n",
       "      <td>8.0</td>\n",
       "      <td>7.800</td>\n",
       "    </tr>\n",
       "    <tr>\n",
       "      <th>2015</th>\n",
       "      <td>5.7</td>\n",
       "      <td>5.1</td>\n",
       "      <td>5.5</td>\n",
       "      <td>6.1</td>\n",
       "      <td>5.7</td>\n",
       "      <td>5.600</td>\n",
       "    </tr>\n",
       "  </tbody>\n",
       "</table>\n",
       "</div>"
      ],
      "text/plain": [
       "       NE   MW    S     W  National  UnweightedMean\n",
       "1995  5.9  4.5  5.3   6.6       5.6           1.000\n",
       "1997  5.6  4.3  5.2   6.0       5.3           5.275\n",
       "1999  4.4  3.6  4.2   5.2       4.3           4.350\n",
       "2001  3.8  4.0  4.0   4.6       4.2           4.100\n",
       "2003  5.8  5.7  5.7   6.5       5.8           5.925\n",
       "2005  4.9  5.7  5.2   5.5       5.3           5.325\n",
       "2007  4.3  4.9  4.3   4.5       4.6           4.500\n",
       "2009  7.1  8.1  7.6   8.6       7.8           7.850\n",
       "2011  8.3  8.7  9.1  10.7       9.1           9.200\n",
       "2013  7.9  7.4  7.4   8.5       8.0           7.800\n",
       "2015  5.7  5.1  5.5   6.1       5.7           5.600"
      ]
     },
     "execution_count": 90,
     "metadata": {},
     "output_type": "execute_result"
    }
   ],
   "source": [
    "names = {\"NorthEast\": \"NE\",\n",
    "         \"MidWest\": \"MW\",\n",
    "         \"South\": \"S\",\n",
    "         \"West\": \"W\"}\n",
    "unemp_region.rename(columns=names)"
   ]
  },
  {
   "cell_type": "code",
   "execution_count": 80,
   "metadata": {
    "hide-output": false,
    "slideshow": {
     "slide_type": "-"
    }
   },
   "outputs": [
    {
     "data": {
      "text/html": [
       "<div>\n",
       "<style scoped>\n",
       "    .dataframe tbody tr th:only-of-type {\n",
       "        vertical-align: middle;\n",
       "    }\n",
       "\n",
       "    .dataframe tbody tr th {\n",
       "        vertical-align: top;\n",
       "    }\n",
       "\n",
       "    .dataframe thead th {\n",
       "        text-align: right;\n",
       "    }\n",
       "</style>\n",
       "<table border=\"1\" class=\"dataframe\">\n",
       "  <thead>\n",
       "    <tr style=\"text-align: right;\">\n",
       "      <th></th>\n",
       "      <th>NorthEast</th>\n",
       "      <th>MidWest</th>\n",
       "      <th>South</th>\n",
       "      <th>West</th>\n",
       "      <th>National</th>\n",
       "      <th>UnweightedMean</th>\n",
       "    </tr>\n",
       "  </thead>\n",
       "  <tbody>\n",
       "    <tr>\n",
       "      <th>1995</th>\n",
       "      <td>5.9</td>\n",
       "      <td>4.5</td>\n",
       "      <td>5.3</td>\n",
       "      <td>6.6</td>\n",
       "      <td>5.6</td>\n",
       "      <td>1.000</td>\n",
       "    </tr>\n",
       "    <tr>\n",
       "      <th>1997</th>\n",
       "      <td>5.6</td>\n",
       "      <td>4.3</td>\n",
       "      <td>5.2</td>\n",
       "      <td>6.0</td>\n",
       "      <td>5.3</td>\n",
       "      <td>5.275</td>\n",
       "    </tr>\n",
       "    <tr>\n",
       "      <th>1999</th>\n",
       "      <td>4.4</td>\n",
       "      <td>3.6</td>\n",
       "      <td>4.2</td>\n",
       "      <td>5.2</td>\n",
       "      <td>4.3</td>\n",
       "      <td>4.350</td>\n",
       "    </tr>\n",
       "    <tr>\n",
       "      <th>2001</th>\n",
       "      <td>3.8</td>\n",
       "      <td>4.0</td>\n",
       "      <td>4.0</td>\n",
       "      <td>4.6</td>\n",
       "      <td>4.2</td>\n",
       "      <td>4.100</td>\n",
       "    </tr>\n",
       "    <tr>\n",
       "      <th>2003</th>\n",
       "      <td>5.8</td>\n",
       "      <td>5.7</td>\n",
       "      <td>5.7</td>\n",
       "      <td>6.5</td>\n",
       "      <td>5.8</td>\n",
       "      <td>5.925</td>\n",
       "    </tr>\n",
       "  </tbody>\n",
       "</table>\n",
       "</div>"
      ],
      "text/plain": [
       "      NorthEast  MidWest  South  West  National  UnweightedMean\n",
       "1995        5.9      4.5    5.3   6.6       5.6           1.000\n",
       "1997        5.6      4.3    5.2   6.0       5.3           5.275\n",
       "1999        4.4      3.6    4.2   5.2       4.3           4.350\n",
       "2001        3.8      4.0    4.0   4.6       4.2           4.100\n",
       "2003        5.8      5.7    5.7   6.5       5.8           5.925"
      ]
     },
     "execution_count": 80,
     "metadata": {},
     "output_type": "execute_result"
    }
   ],
   "source": [
    "unemp_region.head()"
   ]
  },
  {
   "cell_type": "markdown",
   "metadata": {
    "slideshow": {
     "slide_type": "fragment"
    }
   },
   "source": [
    "We renamed our columns… Why does the DataFrame still show the old\n",
    "column names?\n",
    "\n",
    "Many pandas operations create a copy of your data by\n",
    "default to protect your data and prevent you from overwriting\n",
    "information you meant to keep.\n",
    "\n",
    "We can make these operations permanent by either:\n",
    "\n",
    "1. Assigning the output back to the variable name\n",
    "  `df = df.rename(columns=rename_dict)`  \n",
    "1. Looking into whether the method has an `inplace` option. For\n",
    "  example, `df.rename(columns=rename_dict, inplace=True)`  \n",
    "\n",
    "\n",
    "Setting `inplace=True` will sometimes make your code faster\n",
    "(e.g. if you have a very large DataFrame and you don’t want to copy all\n",
    "the data), but that doesn’t always happen.\n",
    "\n",
    "We recommend using the first option until you get comfortable with\n",
    "pandas because operations that don’t alter your data are (usually)\n",
    "safer."
   ]
  },
  {
   "cell_type": "code",
   "execution_count": 91,
   "metadata": {},
   "outputs": [],
   "source": [
    "unemp_shortname.to_parquet"
   ]
  },
  {
   "cell_type": "code",
   "execution_count": 93,
   "metadata": {},
   "outputs": [
    {
     "data": {
      "text/html": [
       "<div>\n",
       "<style scoped>\n",
       "    .dataframe tbody tr th:only-of-type {\n",
       "        vertical-align: middle;\n",
       "    }\n",
       "\n",
       "    .dataframe tbody tr th {\n",
       "        vertical-align: top;\n",
       "    }\n",
       "\n",
       "    .dataframe thead th {\n",
       "        text-align: right;\n",
       "    }\n",
       "</style>\n",
       "<table border=\"1\" class=\"dataframe\">\n",
       "  <thead>\n",
       "    <tr style=\"text-align: right;\">\n",
       "      <th></th>\n",
       "      <th>NE</th>\n",
       "      <th>MW</th>\n",
       "      <th>S</th>\n",
       "      <th>W</th>\n",
       "      <th>National</th>\n",
       "      <th>UnweightedMean</th>\n",
       "    </tr>\n",
       "  </thead>\n",
       "  <tbody>\n",
       "    <tr>\n",
       "      <th>1995</th>\n",
       "      <td>5.9</td>\n",
       "      <td>4.5</td>\n",
       "      <td>5.3</td>\n",
       "      <td>6.6</td>\n",
       "      <td>5.6</td>\n",
       "      <td>1.000</td>\n",
       "    </tr>\n",
       "    <tr>\n",
       "      <th>1997</th>\n",
       "      <td>5.6</td>\n",
       "      <td>4.3</td>\n",
       "      <td>5.2</td>\n",
       "      <td>6.0</td>\n",
       "      <td>5.3</td>\n",
       "      <td>5.275</td>\n",
       "    </tr>\n",
       "    <tr>\n",
       "      <th>1999</th>\n",
       "      <td>4.4</td>\n",
       "      <td>3.6</td>\n",
       "      <td>4.2</td>\n",
       "      <td>5.2</td>\n",
       "      <td>4.3</td>\n",
       "      <td>4.350</td>\n",
       "    </tr>\n",
       "    <tr>\n",
       "      <th>2001</th>\n",
       "      <td>3.8</td>\n",
       "      <td>4.0</td>\n",
       "      <td>4.0</td>\n",
       "      <td>4.6</td>\n",
       "      <td>4.2</td>\n",
       "      <td>4.100</td>\n",
       "    </tr>\n",
       "    <tr>\n",
       "      <th>2003</th>\n",
       "      <td>5.8</td>\n",
       "      <td>5.7</td>\n",
       "      <td>5.7</td>\n",
       "      <td>6.5</td>\n",
       "      <td>5.8</td>\n",
       "      <td>5.925</td>\n",
       "    </tr>\n",
       "    <tr>\n",
       "      <th>2005</th>\n",
       "      <td>4.9</td>\n",
       "      <td>5.7</td>\n",
       "      <td>5.2</td>\n",
       "      <td>5.5</td>\n",
       "      <td>5.3</td>\n",
       "      <td>5.325</td>\n",
       "    </tr>\n",
       "    <tr>\n",
       "      <th>2007</th>\n",
       "      <td>4.3</td>\n",
       "      <td>4.9</td>\n",
       "      <td>4.3</td>\n",
       "      <td>4.5</td>\n",
       "      <td>4.6</td>\n",
       "      <td>4.500</td>\n",
       "    </tr>\n",
       "    <tr>\n",
       "      <th>2009</th>\n",
       "      <td>7.1</td>\n",
       "      <td>8.1</td>\n",
       "      <td>7.6</td>\n",
       "      <td>8.6</td>\n",
       "      <td>7.8</td>\n",
       "      <td>7.850</td>\n",
       "    </tr>\n",
       "    <tr>\n",
       "      <th>2011</th>\n",
       "      <td>8.3</td>\n",
       "      <td>8.7</td>\n",
       "      <td>9.1</td>\n",
       "      <td>10.7</td>\n",
       "      <td>9.1</td>\n",
       "      <td>9.200</td>\n",
       "    </tr>\n",
       "    <tr>\n",
       "      <th>2013</th>\n",
       "      <td>7.9</td>\n",
       "      <td>7.4</td>\n",
       "      <td>7.4</td>\n",
       "      <td>8.5</td>\n",
       "      <td>8.0</td>\n",
       "      <td>7.800</td>\n",
       "    </tr>\n",
       "    <tr>\n",
       "      <th>2015</th>\n",
       "      <td>5.7</td>\n",
       "      <td>5.1</td>\n",
       "      <td>5.5</td>\n",
       "      <td>6.1</td>\n",
       "      <td>5.7</td>\n",
       "      <td>5.600</td>\n",
       "    </tr>\n",
       "  </tbody>\n",
       "</table>\n",
       "</div>"
      ],
      "text/plain": [
       "       NE   MW    S     W  National  UnweightedMean\n",
       "1995  5.9  4.5  5.3   6.6       5.6           1.000\n",
       "1997  5.6  4.3  5.2   6.0       5.3           5.275\n",
       "1999  4.4  3.6  4.2   5.2       4.3           4.350\n",
       "2001  3.8  4.0  4.0   4.6       4.2           4.100\n",
       "2003  5.8  5.7  5.7   6.5       5.8           5.925\n",
       "2005  4.9  5.7  5.2   5.5       5.3           5.325\n",
       "2007  4.3  4.9  4.3   4.5       4.6           4.500\n",
       "2009  7.1  8.1  7.6   8.6       7.8           7.850\n",
       "2011  8.3  8.7  9.1  10.7       9.1           9.200\n",
       "2013  7.9  7.4  7.4   8.5       8.0           7.800\n",
       "2015  5.7  5.1  5.5   6.1       5.7           5.600"
      ]
     },
     "execution_count": 93,
     "metadata": {},
     "output_type": "execute_result"
    }
   ],
   "source": [
    "pd.read_csv(\"unemp_shorter_names.csv\", index_col=0)"
   ]
  },
  {
   "cell_type": "code",
   "execution_count": 89,
   "metadata": {
    "hide-output": false,
    "slideshow": {
     "slide_type": "-"
    }
   },
   "outputs": [
    {
     "data": {
      "text/html": [
       "<div>\n",
       "<style scoped>\n",
       "    .dataframe tbody tr th:only-of-type {\n",
       "        vertical-align: middle;\n",
       "    }\n",
       "\n",
       "    .dataframe tbody tr th {\n",
       "        vertical-align: top;\n",
       "    }\n",
       "\n",
       "    .dataframe thead th {\n",
       "        text-align: right;\n",
       "    }\n",
       "</style>\n",
       "<table border=\"1\" class=\"dataframe\">\n",
       "  <thead>\n",
       "    <tr style=\"text-align: right;\">\n",
       "      <th></th>\n",
       "      <th>NE</th>\n",
       "      <th>MW</th>\n",
       "      <th>S</th>\n",
       "      <th>W</th>\n",
       "      <th>National</th>\n",
       "      <th>UnweightedMean</th>\n",
       "    </tr>\n",
       "  </thead>\n",
       "  <tbody>\n",
       "    <tr>\n",
       "      <th>1995</th>\n",
       "      <td>5.9</td>\n",
       "      <td>4.5</td>\n",
       "      <td>5.3</td>\n",
       "      <td>6.6</td>\n",
       "      <td>5.6</td>\n",
       "      <td>1.000</td>\n",
       "    </tr>\n",
       "    <tr>\n",
       "      <th>1997</th>\n",
       "      <td>5.6</td>\n",
       "      <td>4.3</td>\n",
       "      <td>5.2</td>\n",
       "      <td>6.0</td>\n",
       "      <td>5.3</td>\n",
       "      <td>5.275</td>\n",
       "    </tr>\n",
       "    <tr>\n",
       "      <th>1999</th>\n",
       "      <td>4.4</td>\n",
       "      <td>3.6</td>\n",
       "      <td>4.2</td>\n",
       "      <td>5.2</td>\n",
       "      <td>4.3</td>\n",
       "      <td>4.350</td>\n",
       "    </tr>\n",
       "    <tr>\n",
       "      <th>2001</th>\n",
       "      <td>3.8</td>\n",
       "      <td>4.0</td>\n",
       "      <td>4.0</td>\n",
       "      <td>4.6</td>\n",
       "      <td>4.2</td>\n",
       "      <td>4.100</td>\n",
       "    </tr>\n",
       "    <tr>\n",
       "      <th>2003</th>\n",
       "      <td>5.8</td>\n",
       "      <td>5.7</td>\n",
       "      <td>5.7</td>\n",
       "      <td>6.5</td>\n",
       "      <td>5.8</td>\n",
       "      <td>5.925</td>\n",
       "    </tr>\n",
       "  </tbody>\n",
       "</table>\n",
       "</div>"
      ],
      "text/plain": [
       "       NE   MW    S    W  National  UnweightedMean\n",
       "1995  5.9  4.5  5.3  6.6       5.6           1.000\n",
       "1997  5.6  4.3  5.2  6.0       5.3           5.275\n",
       "1999  4.4  3.6  4.2  5.2       4.3           4.350\n",
       "2001  3.8  4.0  4.0  4.6       4.2           4.100\n",
       "2003  5.8  5.7  5.7  6.5       5.8           5.925"
      ]
     },
     "execution_count": 89,
     "metadata": {},
     "output_type": "execute_result"
    }
   ],
   "source": [
    "names = {\"NorthEast\": \"NE\",\n",
    "         \"MidWest\": \"MW\",\n",
    "         \"South\": \"S\",\n",
    "         \"West\": \"W\"}\n",
    "\n",
    "unemp_shortname = unemp_region.rename(columns=names)\n",
    "unemp_shortname.head()"
   ]
  }
 ],
 "metadata": {
  "celltoolbar": "Slideshow",
  "date": 1595352472.3606322,
  "download_nb": false,
  "filename": "intro.rst",
  "filename_with_path": "pandas/intro",
  "kernelspec": {
   "display_name": "Python 3",
   "language": "python",
   "name": "python3"
  },
  "language_info": {
   "codemirror_mode": {
    "name": "ipython",
    "version": 3
   },
   "file_extension": ".py",
   "mimetype": "text/x-python",
   "name": "python",
   "nbconvert_exporter": "python",
   "pygments_lexer": "ipython3",
   "version": "3.8.8"
  },
  "title": "Introduction"
 },
 "nbformat": 4,
 "nbformat_minor": 2
}

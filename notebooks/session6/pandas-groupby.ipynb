{
 "cells": [
  {
   "cell_type": "markdown",
   "metadata": {
    "slideshow": {
     "slide_type": "slide"
    }
   },
   "source": [
    "# GroupBy\n",
    "\n",
    "**Outcomes**\n",
    "\n",
    "- Understand the split-apply-combine strategy for aggregate\n",
    "  computations on groups of data  \n",
    "- Be able use basic aggregation methods on `df.groupby` to compute\n",
    "  within group statistics  \n",
    "- Understand how to group by multiple keys at once  \n",
    "\n",
    "\n",
    "**Data**\n",
    "\n",
    "- Details for all delayed US domestic flights in December 2016,\n",
    "  obtained from the [Bureau of Transportation\n",
    "  Statistics](https://www.transtats.bts.gov/DL_SelectFields.asp?Table_ID=236&DB_Short_Name=On-Time)  "
   ]
  },
  {
   "cell_type": "code",
   "execution_count": 1,
   "metadata": {
    "hide-output": false,
    "slideshow": {
     "slide_type": "-"
    }
   },
   "outputs": [],
   "source": [
    "import random\n",
    "import numpy as np\n",
    "import pandas as pd\n",
    "import qeds\n",
    "import matplotlib.pyplot as plt\n",
    "\n",
    "%matplotlib inline\n",
    "\n",
    "# activate plot theme\n",
    "qeds.themes.mpl_style();"
   ]
  },
  {
   "cell_type": "markdown",
   "metadata": {
    "slideshow": {
     "slide_type": "slide"
    }
   },
   "source": [
    "## Split-Apply-Combine\n",
    "\n",
    "One powerful paradigm for analyzing data is the “Split-Apply-Combine”\n",
    "strategy.\n",
    "\n",
    "This strategy has three steps:\n",
    "\n",
    "1. `Split`: split the data into groups based on values in one or more columns.  \n",
    "1. `Apply`: apply a function or routine to each group separately.  \n",
    "1. `Combine`: combine the output of the apply step into a DataFrame,\n",
    "  using the group identifiers as the index.  \n",
    "\n",
    "\n",
    "We will cover the main components in this lecture, but we encourage you\n",
    "to also study the [official\n",
    "documentation](https://pandas.pydata.org/pandas-docs/stable/groupby.html)\n",
    "to learn more about what is possible.\n",
    "\n",
    "To describe the concepts, we will need some data.\n",
    "\n",
    "We will begin with a simple made-up dataset to discuss the concepts and\n",
    "then work through extended example and exercises with real data."
   ]
  },
  {
   "cell_type": "code",
   "execution_count": 2,
   "metadata": {
    "hide-output": false,
    "slideshow": {
     "slide_type": "-"
    }
   },
   "outputs": [
    {
     "data": {
      "text/html": [
       "<div>\n",
       "<style scoped>\n",
       "    .dataframe tbody tr th:only-of-type {\n",
       "        vertical-align: middle;\n",
       "    }\n",
       "\n",
       "    .dataframe tbody tr th {\n",
       "        vertical-align: top;\n",
       "    }\n",
       "\n",
       "    .dataframe thead th {\n",
       "        text-align: right;\n",
       "    }\n",
       "</style>\n",
       "<table border=\"1\" class=\"dataframe\">\n",
       "  <thead>\n",
       "    <tr style=\"text-align: right;\">\n",
       "      <th></th>\n",
       "      <th>A</th>\n",
       "      <th>B</th>\n",
       "      <th>C</th>\n",
       "    </tr>\n",
       "  </thead>\n",
       "  <tbody>\n",
       "    <tr>\n",
       "      <th>0</th>\n",
       "      <td>1</td>\n",
       "      <td>1</td>\n",
       "      <td>1.0</td>\n",
       "    </tr>\n",
       "    <tr>\n",
       "      <th>1</th>\n",
       "      <td>1</td>\n",
       "      <td>1</td>\n",
       "      <td>2.0</td>\n",
       "    </tr>\n",
       "    <tr>\n",
       "      <th>2</th>\n",
       "      <td>1</td>\n",
       "      <td>2</td>\n",
       "      <td>3.0</td>\n",
       "    </tr>\n",
       "    <tr>\n",
       "      <th>3</th>\n",
       "      <td>2</td>\n",
       "      <td>2</td>\n",
       "      <td>NaN</td>\n",
       "    </tr>\n",
       "    <tr>\n",
       "      <th>4</th>\n",
       "      <td>2</td>\n",
       "      <td>1</td>\n",
       "      <td>5.0</td>\n",
       "    </tr>\n",
       "    <tr>\n",
       "      <th>5</th>\n",
       "      <td>2</td>\n",
       "      <td>1</td>\n",
       "      <td>NaN</td>\n",
       "    </tr>\n",
       "  </tbody>\n",
       "</table>\n",
       "</div>"
      ],
      "text/plain": [
       "   A  B    C\n",
       "0  1  1  1.0\n",
       "1  1  1  2.0\n",
       "2  1  2  3.0\n",
       "3  2  2  NaN\n",
       "4  2  1  5.0\n",
       "5  2  1  NaN"
      ]
     },
     "execution_count": 2,
     "metadata": {},
     "output_type": "execute_result"
    }
   ],
   "source": [
    "C = np.arange(1, 7, dtype=float)\n",
    "C[[3, 5]] = np.nan\n",
    "df = pd.DataFrame({\n",
    "    \"A\" : [1, 1, 1, 2, 2, 2],\n",
    "    \"B\" : [1, 1, 2, 2, 1, 1],\n",
    "    \"C\": C,\n",
    "})\n",
    "df"
   ]
  },
  {
   "cell_type": "markdown",
   "metadata": {
    "slideshow": {
     "slide_type": "subslide"
    }
   },
   "source": [
    "### Simple Example\n",
    "\n",
    "To perform the *Split* step, we call the `groupby` method on our\n",
    "DataFrame.\n",
    "\n",
    "The first argument to `groupby` is a description of how we want to\n",
    "construct groups.\n",
    "\n",
    "In the most basic version, we will pass a string identifying the column\n",
    "name."
   ]
  },
  {
   "cell_type": "code",
   "execution_count": 3,
   "metadata": {
    "hide-output": false,
    "slideshow": {
     "slide_type": "-"
    }
   },
   "outputs": [],
   "source": [
    "gbA = df.groupby(\"A\")"
   ]
  },
  {
   "cell_type": "markdown",
   "metadata": {
    "slideshow": {
     "slide_type": "fragment"
    }
   },
   "source": [
    "The `type` of variable we get back is a `DataFrameGroupBy`, which we\n",
    "will sometimes refer to as GroupBy for short."
   ]
  },
  {
   "cell_type": "code",
   "execution_count": 4,
   "metadata": {
    "hide-output": false,
    "slideshow": {
     "slide_type": "-"
    }
   },
   "outputs": [
    {
     "data": {
      "text/plain": [
       "pandas.core.groupby.generic.DataFrameGroupBy"
      ]
     },
     "execution_count": 4,
     "metadata": {},
     "output_type": "execute_result"
    }
   ],
   "source": [
    "type(gbA)"
   ]
  },
  {
   "cell_type": "markdown",
   "metadata": {
    "slideshow": {
     "slide_type": "subslide"
    }
   },
   "source": [
    "Looking at the “groups” inside of the GroupBy object can help us\n",
    "understand what the GroupBy represents.\n",
    "\n",
    "We can do this with the `gb.get_group(group_name)` method."
   ]
  },
  {
   "cell_type": "code",
   "execution_count": 5,
   "metadata": {
    "hide-output": false,
    "slideshow": {
     "slide_type": "-"
    }
   },
   "outputs": [
    {
     "data": {
      "text/html": [
       "<div>\n",
       "<style scoped>\n",
       "    .dataframe tbody tr th:only-of-type {\n",
       "        vertical-align: middle;\n",
       "    }\n",
       "\n",
       "    .dataframe tbody tr th {\n",
       "        vertical-align: top;\n",
       "    }\n",
       "\n",
       "    .dataframe thead th {\n",
       "        text-align: right;\n",
       "    }\n",
       "</style>\n",
       "<table border=\"1\" class=\"dataframe\">\n",
       "  <thead>\n",
       "    <tr style=\"text-align: right;\">\n",
       "      <th></th>\n",
       "      <th>A</th>\n",
       "      <th>B</th>\n",
       "      <th>C</th>\n",
       "    </tr>\n",
       "  </thead>\n",
       "  <tbody>\n",
       "    <tr>\n",
       "      <th>0</th>\n",
       "      <td>1</td>\n",
       "      <td>1</td>\n",
       "      <td>1.0</td>\n",
       "    </tr>\n",
       "    <tr>\n",
       "      <th>1</th>\n",
       "      <td>1</td>\n",
       "      <td>1</td>\n",
       "      <td>2.0</td>\n",
       "    </tr>\n",
       "    <tr>\n",
       "      <th>2</th>\n",
       "      <td>1</td>\n",
       "      <td>2</td>\n",
       "      <td>3.0</td>\n",
       "    </tr>\n",
       "  </tbody>\n",
       "</table>\n",
       "</div>"
      ],
      "text/plain": [
       "   A  B    C\n",
       "0  1  1  1.0\n",
       "1  1  1  2.0\n",
       "2  1  2  3.0"
      ]
     },
     "execution_count": 5,
     "metadata": {},
     "output_type": "execute_result"
    }
   ],
   "source": [
    "gbA.get_group(1)"
   ]
  },
  {
   "cell_type": "code",
   "execution_count": 6,
   "metadata": {
    "hide-output": false,
    "slideshow": {
     "slide_type": "-"
    }
   },
   "outputs": [
    {
     "data": {
      "text/html": [
       "<div>\n",
       "<style scoped>\n",
       "    .dataframe tbody tr th:only-of-type {\n",
       "        vertical-align: middle;\n",
       "    }\n",
       "\n",
       "    .dataframe tbody tr th {\n",
       "        vertical-align: top;\n",
       "    }\n",
       "\n",
       "    .dataframe thead th {\n",
       "        text-align: right;\n",
       "    }\n",
       "</style>\n",
       "<table border=\"1\" class=\"dataframe\">\n",
       "  <thead>\n",
       "    <tr style=\"text-align: right;\">\n",
       "      <th></th>\n",
       "      <th>A</th>\n",
       "      <th>B</th>\n",
       "      <th>C</th>\n",
       "    </tr>\n",
       "  </thead>\n",
       "  <tbody>\n",
       "    <tr>\n",
       "      <th>3</th>\n",
       "      <td>2</td>\n",
       "      <td>2</td>\n",
       "      <td>NaN</td>\n",
       "    </tr>\n",
       "    <tr>\n",
       "      <th>4</th>\n",
       "      <td>2</td>\n",
       "      <td>1</td>\n",
       "      <td>5.0</td>\n",
       "    </tr>\n",
       "    <tr>\n",
       "      <th>5</th>\n",
       "      <td>2</td>\n",
       "      <td>1</td>\n",
       "      <td>NaN</td>\n",
       "    </tr>\n",
       "  </tbody>\n",
       "</table>\n",
       "</div>"
      ],
      "text/plain": [
       "   A  B    C\n",
       "3  2  2  NaN\n",
       "4  2  1  5.0\n",
       "5  2  1  NaN"
      ]
     },
     "execution_count": 6,
     "metadata": {},
     "output_type": "execute_result"
    }
   ],
   "source": [
    "gbA.get_group(2)"
   ]
  },
  {
   "cell_type": "markdown",
   "metadata": {
    "slideshow": {
     "slide_type": "subslide"
    }
   },
   "source": [
    "We can *apply* some of our favorite aggregation functions directly on the\n",
    "`GroupBy` object."
   ]
  },
  {
   "cell_type": "markdown",
   "metadata": {
    "slideshow": {
     "slide_type": "-"
    }
   },
   "source": [
    "**Exercise 1**\n",
    "\n",
    "Look closely at the output of the cells below.\n",
    "\n",
    "How did pandas compute the sum of `gbA`? What happened to the `NaN`\n",
    "entries in column `C`?\n",
    "\n",
    "Write your thoughts.\n",
    "\n",
    "Hint: try `gbA.count()` or `gbA.mean()` if you can't decide what\n",
    "happened to the `NaN`."
   ]
  },
  {
   "cell_type": "code",
   "execution_count": 7,
   "metadata": {
    "slideshow": {
     "slide_type": "-"
    }
   },
   "outputs": [
    {
     "data": {
      "text/html": [
       "<div>\n",
       "<style scoped>\n",
       "    .dataframe tbody tr th:only-of-type {\n",
       "        vertical-align: middle;\n",
       "    }\n",
       "\n",
       "    .dataframe tbody tr th {\n",
       "        vertical-align: top;\n",
       "    }\n",
       "\n",
       "    .dataframe thead th {\n",
       "        text-align: right;\n",
       "    }\n",
       "</style>\n",
       "<table border=\"1\" class=\"dataframe\">\n",
       "  <thead>\n",
       "    <tr style=\"text-align: right;\">\n",
       "      <th></th>\n",
       "      <th>A</th>\n",
       "      <th>B</th>\n",
       "      <th>C</th>\n",
       "    </tr>\n",
       "  </thead>\n",
       "  <tbody>\n",
       "    <tr>\n",
       "      <th>0</th>\n",
       "      <td>1</td>\n",
       "      <td>1</td>\n",
       "      <td>1.0</td>\n",
       "    </tr>\n",
       "    <tr>\n",
       "      <th>1</th>\n",
       "      <td>1</td>\n",
       "      <td>1</td>\n",
       "      <td>2.0</td>\n",
       "    </tr>\n",
       "    <tr>\n",
       "      <th>2</th>\n",
       "      <td>1</td>\n",
       "      <td>2</td>\n",
       "      <td>3.0</td>\n",
       "    </tr>\n",
       "    <tr>\n",
       "      <th>3</th>\n",
       "      <td>2</td>\n",
       "      <td>2</td>\n",
       "      <td>NaN</td>\n",
       "    </tr>\n",
       "    <tr>\n",
       "      <th>4</th>\n",
       "      <td>2</td>\n",
       "      <td>1</td>\n",
       "      <td>5.0</td>\n",
       "    </tr>\n",
       "    <tr>\n",
       "      <th>5</th>\n",
       "      <td>2</td>\n",
       "      <td>1</td>\n",
       "      <td>NaN</td>\n",
       "    </tr>\n",
       "  </tbody>\n",
       "</table>\n",
       "</div>"
      ],
      "text/plain": [
       "   A  B    C\n",
       "0  1  1  1.0\n",
       "1  1  1  2.0\n",
       "2  1  2  3.0\n",
       "3  2  2  NaN\n",
       "4  2  1  5.0\n",
       "5  2  1  NaN"
      ]
     },
     "execution_count": 7,
     "metadata": {},
     "output_type": "execute_result"
    }
   ],
   "source": [
    "df"
   ]
  },
  {
   "cell_type": "code",
   "execution_count": 8,
   "metadata": {
    "slideshow": {
     "slide_type": "-"
    }
   },
   "outputs": [
    {
     "data": {
      "text/html": [
       "<div>\n",
       "<style scoped>\n",
       "    .dataframe tbody tr th:only-of-type {\n",
       "        vertical-align: middle;\n",
       "    }\n",
       "\n",
       "    .dataframe tbody tr th {\n",
       "        vertical-align: top;\n",
       "    }\n",
       "\n",
       "    .dataframe thead th {\n",
       "        text-align: right;\n",
       "    }\n",
       "</style>\n",
       "<table border=\"1\" class=\"dataframe\">\n",
       "  <thead>\n",
       "    <tr style=\"text-align: right;\">\n",
       "      <th></th>\n",
       "      <th>B</th>\n",
       "      <th>C</th>\n",
       "    </tr>\n",
       "    <tr>\n",
       "      <th>A</th>\n",
       "      <th></th>\n",
       "      <th></th>\n",
       "    </tr>\n",
       "  </thead>\n",
       "  <tbody>\n",
       "    <tr>\n",
       "      <th>1</th>\n",
       "      <td>4</td>\n",
       "      <td>6.0</td>\n",
       "    </tr>\n",
       "    <tr>\n",
       "      <th>2</th>\n",
       "      <td>4</td>\n",
       "      <td>5.0</td>\n",
       "    </tr>\n",
       "  </tbody>\n",
       "</table>\n",
       "</div>"
      ],
      "text/plain": [
       "   B    C\n",
       "A        \n",
       "1  4  6.0\n",
       "2  4  5.0"
      ]
     },
     "execution_count": 8,
     "metadata": {},
     "output_type": "execute_result"
    }
   ],
   "source": [
    "gbA.sum()"
   ]
  },
  {
   "cell_type": "markdown",
   "metadata": {
    "slideshow": {
     "slide_type": "-"
    }
   },
   "source": [
    "**Exercise 2**\n",
    "\n",
    "Use introspection (tab completion) to see what other aggregations are\n",
    "defined for GroupBy objects.\n",
    "\n",
    "Pick three and evaluate them in the cells below.\n",
    "\n",
    "Does the output of each of these commands have the same features as the\n",
    "output of `gbA.sum()` from above? If not, what is different?"
   ]
  },
  {
   "cell_type": "code",
   "execution_count": 9,
   "metadata": {},
   "outputs": [
    {
     "data": {
      "text/html": [
       "<div>\n",
       "<style scoped>\n",
       "    .dataframe tbody tr th:only-of-type {\n",
       "        vertical-align: middle;\n",
       "    }\n",
       "\n",
       "    .dataframe tbody tr th {\n",
       "        vertical-align: top;\n",
       "    }\n",
       "\n",
       "    .dataframe thead th {\n",
       "        text-align: right;\n",
       "    }\n",
       "</style>\n",
       "<table border=\"1\" class=\"dataframe\">\n",
       "  <thead>\n",
       "    <tr style=\"text-align: right;\">\n",
       "      <th></th>\n",
       "      <th>B</th>\n",
       "      <th>C</th>\n",
       "    </tr>\n",
       "    <tr>\n",
       "      <th>A</th>\n",
       "      <th></th>\n",
       "      <th></th>\n",
       "    </tr>\n",
       "  </thead>\n",
       "  <tbody>\n",
       "    <tr>\n",
       "      <th>1</th>\n",
       "      <td>3</td>\n",
       "      <td>3.0</td>\n",
       "    </tr>\n",
       "    <tr>\n",
       "      <th>2</th>\n",
       "      <td>3</td>\n",
       "      <td>3.0</td>\n",
       "    </tr>\n",
       "  </tbody>\n",
       "</table>\n",
       "</div>"
      ],
      "text/plain": [
       "   B    C\n",
       "A        \n",
       "1  3  3.0\n",
       "2  3  3.0"
      ]
     },
     "execution_count": 9,
     "metadata": {},
     "output_type": "execute_result"
    }
   ],
   "source": [
    "gbA.agg(len)"
   ]
  },
  {
   "cell_type": "code",
   "execution_count": 10,
   "metadata": {
    "slideshow": {
     "slide_type": "-"
    }
   },
   "outputs": [
    {
     "data": {
      "text/html": [
       "<div>\n",
       "<style scoped>\n",
       "    .dataframe tbody tr th:only-of-type {\n",
       "        vertical-align: middle;\n",
       "    }\n",
       "\n",
       "    .dataframe tbody tr th {\n",
       "        vertical-align: top;\n",
       "    }\n",
       "\n",
       "    .dataframe thead th {\n",
       "        text-align: right;\n",
       "    }\n",
       "</style>\n",
       "<table border=\"1\" class=\"dataframe\">\n",
       "  <thead>\n",
       "    <tr style=\"text-align: right;\">\n",
       "      <th></th>\n",
       "      <th>B</th>\n",
       "      <th>C</th>\n",
       "    </tr>\n",
       "    <tr>\n",
       "      <th>A</th>\n",
       "      <th></th>\n",
       "      <th></th>\n",
       "    </tr>\n",
       "  </thead>\n",
       "  <tbody>\n",
       "    <tr>\n",
       "      <th>1</th>\n",
       "      <td>2</td>\n",
       "      <td>3.0</td>\n",
       "    </tr>\n",
       "    <tr>\n",
       "      <th>2</th>\n",
       "      <td>2</td>\n",
       "      <td>5.0</td>\n",
       "    </tr>\n",
       "  </tbody>\n",
       "</table>\n",
       "</div>"
      ],
      "text/plain": [
       "   B    C\n",
       "A        \n",
       "1  2  3.0\n",
       "2  2  5.0"
      ]
     },
     "execution_count": 10,
     "metadata": {},
     "output_type": "execute_result"
    }
   ],
   "source": [
    "gbA.max()"
   ]
  },
  {
   "cell_type": "code",
   "execution_count": 11,
   "metadata": {
    "slideshow": {
     "slide_type": "-"
    }
   },
   "outputs": [
    {
     "data": {
      "text/html": [
       "<div>\n",
       "<style scoped>\n",
       "    .dataframe tbody tr th:only-of-type {\n",
       "        vertical-align: middle;\n",
       "    }\n",
       "\n",
       "    .dataframe tbody tr th {\n",
       "        vertical-align: top;\n",
       "    }\n",
       "\n",
       "    .dataframe thead th {\n",
       "        text-align: right;\n",
       "    }\n",
       "</style>\n",
       "<table border=\"1\" class=\"dataframe\">\n",
       "  <thead>\n",
       "    <tr style=\"text-align: right;\">\n",
       "      <th></th>\n",
       "      <th>B</th>\n",
       "      <th>C</th>\n",
       "    </tr>\n",
       "    <tr>\n",
       "      <th>A</th>\n",
       "      <th></th>\n",
       "      <th></th>\n",
       "    </tr>\n",
       "  </thead>\n",
       "  <tbody>\n",
       "    <tr>\n",
       "      <th>1</th>\n",
       "      <td>1</td>\n",
       "      <td>2.0</td>\n",
       "    </tr>\n",
       "    <tr>\n",
       "      <th>2</th>\n",
       "      <td>1</td>\n",
       "      <td>5.0</td>\n",
       "    </tr>\n",
       "  </tbody>\n",
       "</table>\n",
       "</div>"
      ],
      "text/plain": [
       "   B    C\n",
       "A        \n",
       "1  1  2.0\n",
       "2  1  5.0"
      ]
     },
     "execution_count": 11,
     "metadata": {},
     "output_type": "execute_result"
    }
   ],
   "source": [
    "gbA.median()"
   ]
  },
  {
   "cell_type": "code",
   "execution_count": null,
   "metadata": {
    "slideshow": {
     "slide_type": "-"
    }
   },
   "outputs": [],
   "source": []
  },
  {
   "cell_type": "markdown",
   "metadata": {
    "slideshow": {
     "slide_type": "subslide"
    }
   },
   "source": [
    "If we pass a list of strings to `groupby`, it will group based on\n",
    "unique combinations of values from all columns in the list.\n",
    "\n",
    "Let’s see an example."
   ]
  },
  {
   "cell_type": "code",
   "execution_count": 12,
   "metadata": {
    "hide-output": false,
    "slideshow": {
     "slide_type": "-"
    }
   },
   "outputs": [
    {
     "data": {
      "text/plain": [
       "pandas.core.groupby.generic.DataFrameGroupBy"
      ]
     },
     "execution_count": 12,
     "metadata": {},
     "output_type": "execute_result"
    }
   ],
   "source": [
    "gbAB = df.groupby([\"A\", \"B\"])\n",
    "type(gbAB)"
   ]
  },
  {
   "cell_type": "code",
   "execution_count": 13,
   "metadata": {
    "hide-output": false,
    "slideshow": {
     "slide_type": "-"
    }
   },
   "outputs": [
    {
     "data": {
      "text/html": [
       "<div>\n",
       "<style scoped>\n",
       "    .dataframe tbody tr th:only-of-type {\n",
       "        vertical-align: middle;\n",
       "    }\n",
       "\n",
       "    .dataframe tbody tr th {\n",
       "        vertical-align: top;\n",
       "    }\n",
       "\n",
       "    .dataframe thead th {\n",
       "        text-align: right;\n",
       "    }\n",
       "</style>\n",
       "<table border=\"1\" class=\"dataframe\">\n",
       "  <thead>\n",
       "    <tr style=\"text-align: right;\">\n",
       "      <th></th>\n",
       "      <th>A</th>\n",
       "      <th>B</th>\n",
       "      <th>C</th>\n",
       "    </tr>\n",
       "  </thead>\n",
       "  <tbody>\n",
       "    <tr>\n",
       "      <th>0</th>\n",
       "      <td>1</td>\n",
       "      <td>1</td>\n",
       "      <td>1.0</td>\n",
       "    </tr>\n",
       "    <tr>\n",
       "      <th>1</th>\n",
       "      <td>1</td>\n",
       "      <td>1</td>\n",
       "      <td>2.0</td>\n",
       "    </tr>\n",
       "  </tbody>\n",
       "</table>\n",
       "</div>"
      ],
      "text/plain": [
       "   A  B    C\n",
       "0  1  1  1.0\n",
       "1  1  1  2.0"
      ]
     },
     "execution_count": 13,
     "metadata": {},
     "output_type": "execute_result"
    }
   ],
   "source": [
    "gbAB.get_group((1, 1))"
   ]
  },
  {
   "cell_type": "markdown",
   "metadata": {
    "slideshow": {
     "slide_type": "fragment"
    }
   },
   "source": [
    "Notice that we still have a GroupBy object, so we can apply our favorite\n",
    "aggregations."
   ]
  },
  {
   "cell_type": "code",
   "execution_count": 15,
   "metadata": {},
   "outputs": [
    {
     "data": {
      "text/html": [
       "<div>\n",
       "<style scoped>\n",
       "    .dataframe tbody tr th:only-of-type {\n",
       "        vertical-align: middle;\n",
       "    }\n",
       "\n",
       "    .dataframe tbody tr th {\n",
       "        vertical-align: top;\n",
       "    }\n",
       "\n",
       "    .dataframe thead th {\n",
       "        text-align: right;\n",
       "    }\n",
       "</style>\n",
       "<table border=\"1\" class=\"dataframe\">\n",
       "  <thead>\n",
       "    <tr style=\"text-align: right;\">\n",
       "      <th></th>\n",
       "      <th>A</th>\n",
       "      <th>B</th>\n",
       "      <th>C</th>\n",
       "    </tr>\n",
       "  </thead>\n",
       "  <tbody>\n",
       "    <tr>\n",
       "      <th>0</th>\n",
       "      <td>1</td>\n",
       "      <td>1</td>\n",
       "      <td>1.0</td>\n",
       "    </tr>\n",
       "    <tr>\n",
       "      <th>1</th>\n",
       "      <td>1</td>\n",
       "      <td>1</td>\n",
       "      <td>2.0</td>\n",
       "    </tr>\n",
       "    <tr>\n",
       "      <th>2</th>\n",
       "      <td>1</td>\n",
       "      <td>2</td>\n",
       "      <td>3.0</td>\n",
       "    </tr>\n",
       "    <tr>\n",
       "      <th>3</th>\n",
       "      <td>2</td>\n",
       "      <td>2</td>\n",
       "      <td>NaN</td>\n",
       "    </tr>\n",
       "    <tr>\n",
       "      <th>4</th>\n",
       "      <td>2</td>\n",
       "      <td>1</td>\n",
       "      <td>5.0</td>\n",
       "    </tr>\n",
       "    <tr>\n",
       "      <th>5</th>\n",
       "      <td>2</td>\n",
       "      <td>1</td>\n",
       "      <td>NaN</td>\n",
       "    </tr>\n",
       "  </tbody>\n",
       "</table>\n",
       "</div>"
      ],
      "text/plain": [
       "   A  B    C\n",
       "0  1  1  1.0\n",
       "1  1  1  2.0\n",
       "2  1  2  3.0\n",
       "3  2  2  NaN\n",
       "4  2  1  5.0\n",
       "5  2  1  NaN"
      ]
     },
     "execution_count": 15,
     "metadata": {},
     "output_type": "execute_result"
    }
   ],
   "source": [
    "df"
   ]
  },
  {
   "cell_type": "code",
   "execution_count": 14,
   "metadata": {
    "hide-output": false,
    "slideshow": {
     "slide_type": "-"
    }
   },
   "outputs": [
    {
     "data": {
      "text/html": [
       "<div>\n",
       "<style scoped>\n",
       "    .dataframe tbody tr th:only-of-type {\n",
       "        vertical-align: middle;\n",
       "    }\n",
       "\n",
       "    .dataframe tbody tr th {\n",
       "        vertical-align: top;\n",
       "    }\n",
       "\n",
       "    .dataframe thead th {\n",
       "        text-align: right;\n",
       "    }\n",
       "</style>\n",
       "<table border=\"1\" class=\"dataframe\">\n",
       "  <thead>\n",
       "    <tr style=\"text-align: right;\">\n",
       "      <th></th>\n",
       "      <th></th>\n",
       "      <th>C</th>\n",
       "    </tr>\n",
       "    <tr>\n",
       "      <th>A</th>\n",
       "      <th>B</th>\n",
       "      <th></th>\n",
       "    </tr>\n",
       "  </thead>\n",
       "  <tbody>\n",
       "    <tr>\n",
       "      <th rowspan=\"2\" valign=\"top\">1</th>\n",
       "      <th>1</th>\n",
       "      <td>2</td>\n",
       "    </tr>\n",
       "    <tr>\n",
       "      <th>2</th>\n",
       "      <td>1</td>\n",
       "    </tr>\n",
       "    <tr>\n",
       "      <th rowspan=\"2\" valign=\"top\">2</th>\n",
       "      <th>1</th>\n",
       "      <td>1</td>\n",
       "    </tr>\n",
       "    <tr>\n",
       "      <th>2</th>\n",
       "      <td>0</td>\n",
       "    </tr>\n",
       "  </tbody>\n",
       "</table>\n",
       "</div>"
      ],
      "text/plain": [
       "     C\n",
       "A B   \n",
       "1 1  2\n",
       "  2  1\n",
       "2 1  1\n",
       "  2  0"
      ]
     },
     "execution_count": 14,
     "metadata": {},
     "output_type": "execute_result"
    }
   ],
   "source": [
    "gbAB.count()"
   ]
  },
  {
   "cell_type": "markdown",
   "metadata": {
    "slideshow": {
     "slide_type": "-"
    }
   },
   "source": [
    "Notice that the output is a DataFrame with two levels on the index\n",
    "and a single column `C`. (Quiz: how do we know it is a DataFrame with\n",
    "one column and not a Series?)\n",
    "\n",
    "This highlights a principle of how pandas handles the *Combine* part of\n",
    "the strategy:\n",
    "\n",
    "> The index of the combined DataFrame will be the group identifiers,\n",
    "with one index level per group key."
   ]
  },
  {
   "cell_type": "markdown",
   "metadata": {
    "slideshow": {
     "slide_type": "slide"
    }
   },
   "source": [
    "### Custom Aggregate Functions\n",
    "\n",
    "So far, we have been applying built-in aggregations to our GroupBy object.\n",
    "\n",
    "We can also apply custom aggregations to each group of a GroupBy in two\n",
    "steps:\n",
    "\n",
    "1. Write our custom aggregation as a Python function.  \n",
    "1. Passing our function as an argument to the `.agg` method of a GroupBy.  \n",
    "\n",
    "\n",
    "Let’s see an example."
   ]
  },
  {
   "cell_type": "code",
   "execution_count": 16,
   "metadata": {
    "hide-output": false,
    "slideshow": {
     "slide_type": "-"
    }
   },
   "outputs": [],
   "source": [
    "def num_missing(df):\n",
    "    \"Return the number of missing items in each column of df\"\n",
    "    return df.isnull().sum()"
   ]
  },
  {
   "cell_type": "markdown",
   "metadata": {
    "slideshow": {
     "slide_type": "fragment"
    }
   },
   "source": [
    "We can call this function on our original DataFrame to get the number of\n",
    "missing items in each column."
   ]
  },
  {
   "cell_type": "code",
   "execution_count": 17,
   "metadata": {
    "hide-output": false,
    "slideshow": {
     "slide_type": "-"
    }
   },
   "outputs": [
    {
     "data": {
      "text/plain": [
       "A    0\n",
       "B    0\n",
       "C    2\n",
       "dtype: int64"
      ]
     },
     "execution_count": 17,
     "metadata": {},
     "output_type": "execute_result"
    }
   ],
   "source": [
    "num_missing(df)"
   ]
  },
  {
   "cell_type": "markdown",
   "metadata": {
    "slideshow": {
     "slide_type": "fragment"
    }
   },
   "source": [
    "We can also apply it to a GroupBy object to get the number of missing\n",
    "items in each column *for each group*."
   ]
  },
  {
   "cell_type": "code",
   "execution_count": 18,
   "metadata": {
    "hide-output": false,
    "slideshow": {
     "slide_type": "-"
    }
   },
   "outputs": [
    {
     "data": {
      "text/html": [
       "<div>\n",
       "<style scoped>\n",
       "    .dataframe tbody tr th:only-of-type {\n",
       "        vertical-align: middle;\n",
       "    }\n",
       "\n",
       "    .dataframe tbody tr th {\n",
       "        vertical-align: top;\n",
       "    }\n",
       "\n",
       "    .dataframe thead th {\n",
       "        text-align: right;\n",
       "    }\n",
       "</style>\n",
       "<table border=\"1\" class=\"dataframe\">\n",
       "  <thead>\n",
       "    <tr style=\"text-align: right;\">\n",
       "      <th></th>\n",
       "      <th>B</th>\n",
       "      <th>C</th>\n",
       "    </tr>\n",
       "    <tr>\n",
       "      <th>A</th>\n",
       "      <th></th>\n",
       "      <th></th>\n",
       "    </tr>\n",
       "  </thead>\n",
       "  <tbody>\n",
       "    <tr>\n",
       "      <th>1</th>\n",
       "      <td>0</td>\n",
       "      <td>0.0</td>\n",
       "    </tr>\n",
       "    <tr>\n",
       "      <th>2</th>\n",
       "      <td>0</td>\n",
       "      <td>2.0</td>\n",
       "    </tr>\n",
       "  </tbody>\n",
       "</table>\n",
       "</div>"
      ],
      "text/plain": [
       "   B    C\n",
       "A        \n",
       "1  0  0.0\n",
       "2  0  2.0"
      ]
     },
     "execution_count": 18,
     "metadata": {},
     "output_type": "execute_result"
    }
   ],
   "source": [
    "gbA.agg(num_missing)"
   ]
  },
  {
   "cell_type": "markdown",
   "metadata": {
    "slideshow": {
     "slide_type": "-"
    }
   },
   "source": [
    "The key to keep in mind is that the function we pass to `agg` should\n",
    "take in a DataFrame (or Series) and return a Series (or single value)\n",
    "with one item per column in the original DataFrame.\n",
    "\n",
    "When the function is called, the data for each group will be passed to\n",
    "our function as a DataFrame (or Series)."
   ]
  },
  {
   "cell_type": "markdown",
   "metadata": {
    "slideshow": {
     "slide_type": "slide"
    }
   },
   "source": [
    "### Transforms: The `apply` Method\n",
    "\n",
    "As we saw in the [basics lecture](https://quantecon.github.io/2021-workshop-rsit/week1/session4/pandas-basics.html), we can apply transforms to DataFrames.\n",
    "\n",
    "We can do the same with GroupBy objects using the `.apply` method.\n",
    "\n",
    "Let’s see an example."
   ]
  },
  {
   "cell_type": "code",
   "execution_count": 19,
   "metadata": {
    "hide-output": false,
    "slideshow": {
     "slide_type": "-"
    }
   },
   "outputs": [
    {
     "data": {
      "text/html": [
       "<div>\n",
       "<style scoped>\n",
       "    .dataframe tbody tr th:only-of-type {\n",
       "        vertical-align: middle;\n",
       "    }\n",
       "\n",
       "    .dataframe tbody tr th {\n",
       "        vertical-align: top;\n",
       "    }\n",
       "\n",
       "    .dataframe thead th {\n",
       "        text-align: right;\n",
       "    }\n",
       "</style>\n",
       "<table border=\"1\" class=\"dataframe\">\n",
       "  <thead>\n",
       "    <tr style=\"text-align: right;\">\n",
       "      <th></th>\n",
       "      <th>A</th>\n",
       "      <th>B</th>\n",
       "      <th>C</th>\n",
       "    </tr>\n",
       "  </thead>\n",
       "  <tbody>\n",
       "    <tr>\n",
       "      <th>0</th>\n",
       "      <td>1</td>\n",
       "      <td>1</td>\n",
       "      <td>1.0</td>\n",
       "    </tr>\n",
       "    <tr>\n",
       "      <th>1</th>\n",
       "      <td>1</td>\n",
       "      <td>1</td>\n",
       "      <td>2.0</td>\n",
       "    </tr>\n",
       "    <tr>\n",
       "      <th>2</th>\n",
       "      <td>1</td>\n",
       "      <td>2</td>\n",
       "      <td>3.0</td>\n",
       "    </tr>\n",
       "    <tr>\n",
       "      <th>3</th>\n",
       "      <td>2</td>\n",
       "      <td>2</td>\n",
       "      <td>NaN</td>\n",
       "    </tr>\n",
       "    <tr>\n",
       "      <th>4</th>\n",
       "      <td>2</td>\n",
       "      <td>1</td>\n",
       "      <td>5.0</td>\n",
       "    </tr>\n",
       "    <tr>\n",
       "      <th>5</th>\n",
       "      <td>2</td>\n",
       "      <td>1</td>\n",
       "      <td>NaN</td>\n",
       "    </tr>\n",
       "  </tbody>\n",
       "</table>\n",
       "</div>"
      ],
      "text/plain": [
       "   A  B    C\n",
       "0  1  1  1.0\n",
       "1  1  1  2.0\n",
       "2  1  2  3.0\n",
       "3  2  2  NaN\n",
       "4  2  1  5.0\n",
       "5  2  1  NaN"
      ]
     },
     "execution_count": 19,
     "metadata": {},
     "output_type": "execute_result"
    }
   ],
   "source": [
    "df"
   ]
  },
  {
   "cell_type": "code",
   "execution_count": 24,
   "metadata": {
    "hide-output": false,
    "slideshow": {
     "slide_type": "-"
    }
   },
   "outputs": [],
   "source": [
    "def smallest_by_b(df):\n",
    "    return df.nsmallest(2, \"B\").reset_index(drop=True)"
   ]
  },
  {
   "cell_type": "code",
   "execution_count": 25,
   "metadata": {
    "hide-output": false,
    "slideshow": {
     "slide_type": "-"
    }
   },
   "outputs": [
    {
     "data": {
      "text/html": [
       "<div>\n",
       "<style scoped>\n",
       "    .dataframe tbody tr th:only-of-type {\n",
       "        vertical-align: middle;\n",
       "    }\n",
       "\n",
       "    .dataframe tbody tr th {\n",
       "        vertical-align: top;\n",
       "    }\n",
       "\n",
       "    .dataframe thead th {\n",
       "        text-align: right;\n",
       "    }\n",
       "</style>\n",
       "<table border=\"1\" class=\"dataframe\">\n",
       "  <thead>\n",
       "    <tr style=\"text-align: right;\">\n",
       "      <th></th>\n",
       "      <th></th>\n",
       "      <th>B</th>\n",
       "      <th>C</th>\n",
       "    </tr>\n",
       "    <tr>\n",
       "      <th>A</th>\n",
       "      <th></th>\n",
       "      <th></th>\n",
       "      <th></th>\n",
       "    </tr>\n",
       "  </thead>\n",
       "  <tbody>\n",
       "    <tr>\n",
       "      <th rowspan=\"2\" valign=\"top\">1</th>\n",
       "      <th>0</th>\n",
       "      <td>1</td>\n",
       "      <td>1.0</td>\n",
       "    </tr>\n",
       "    <tr>\n",
       "      <th>1</th>\n",
       "      <td>1</td>\n",
       "      <td>2.0</td>\n",
       "    </tr>\n",
       "    <tr>\n",
       "      <th rowspan=\"2\" valign=\"top\">2</th>\n",
       "      <th>0</th>\n",
       "      <td>1</td>\n",
       "      <td>5.0</td>\n",
       "    </tr>\n",
       "    <tr>\n",
       "      <th>1</th>\n",
       "      <td>1</td>\n",
       "      <td>NaN</td>\n",
       "    </tr>\n",
       "  </tbody>\n",
       "</table>\n",
       "</div>"
      ],
      "text/plain": [
       "     B    C\n",
       "A          \n",
       "1 0  1  1.0\n",
       "  1  1  2.0\n",
       "2 0  1  5.0\n",
       "  1  1  NaN"
      ]
     },
     "execution_count": 25,
     "metadata": {},
     "output_type": "execute_result"
    }
   ],
   "source": [
    "gbA.apply(smallest_by_b)"
   ]
  },
  {
   "cell_type": "markdown",
   "metadata": {
    "slideshow": {
     "slide_type": "-"
    }
   },
   "source": [
    "Notice that the return value from applying our series transform to `gbA`\n",
    "was the group key on the outer level (the `A` column) and the original\n",
    "index from `df` on the inner level.\n",
    "\n",
    "The original index came along because that was the index of the\n",
    "DataFrame returned by `smallest_by_b`.\n",
    "\n",
    "Had our function returned something other than the index from `df`,\n",
    "that would appear in the result of the call to `.apply`.\n"
   ]
  },
  {
   "cell_type": "markdown",
   "metadata": {
    "slideshow": {
     "slide_type": "subslide"
    }
   },
   "source": [
    "**Exercise 3**\n",
    "\n",
    "> This exercise has a few steps:\n",
    "\n",
    "1. Write a function that, given a DataFrame, computes each entry's\n",
    "deviation from the mean of its column.\n",
    "2. Apply the function to `gbA`.\n",
    "3. With your neighbor describe what the index and and columns are? Where\n",
    "are the group keys (the `A` column)?\n",
    "4. Determine the correct way to add these results back into `df` as\n",
    "new columns. (Hint: remember the merge lecture)"
   ]
  },
  {
   "cell_type": "code",
   "execution_count": 26,
   "metadata": {},
   "outputs": [
    {
     "data": {
      "text/html": [
       "<div>\n",
       "<style scoped>\n",
       "    .dataframe tbody tr th:only-of-type {\n",
       "        vertical-align: middle;\n",
       "    }\n",
       "\n",
       "    .dataframe tbody tr th {\n",
       "        vertical-align: top;\n",
       "    }\n",
       "\n",
       "    .dataframe thead th {\n",
       "        text-align: right;\n",
       "    }\n",
       "</style>\n",
       "<table border=\"1\" class=\"dataframe\">\n",
       "  <thead>\n",
       "    <tr style=\"text-align: right;\">\n",
       "      <th></th>\n",
       "      <th>A</th>\n",
       "      <th>B</th>\n",
       "      <th>C</th>\n",
       "    </tr>\n",
       "  </thead>\n",
       "  <tbody>\n",
       "    <tr>\n",
       "      <th>0</th>\n",
       "      <td>1</td>\n",
       "      <td>1</td>\n",
       "      <td>1.0</td>\n",
       "    </tr>\n",
       "    <tr>\n",
       "      <th>1</th>\n",
       "      <td>1</td>\n",
       "      <td>1</td>\n",
       "      <td>2.0</td>\n",
       "    </tr>\n",
       "    <tr>\n",
       "      <th>2</th>\n",
       "      <td>1</td>\n",
       "      <td>2</td>\n",
       "      <td>3.0</td>\n",
       "    </tr>\n",
       "    <tr>\n",
       "      <th>3</th>\n",
       "      <td>2</td>\n",
       "      <td>2</td>\n",
       "      <td>NaN</td>\n",
       "    </tr>\n",
       "    <tr>\n",
       "      <th>4</th>\n",
       "      <td>2</td>\n",
       "      <td>1</td>\n",
       "      <td>5.0</td>\n",
       "    </tr>\n",
       "    <tr>\n",
       "      <th>5</th>\n",
       "      <td>2</td>\n",
       "      <td>1</td>\n",
       "      <td>NaN</td>\n",
       "    </tr>\n",
       "  </tbody>\n",
       "</table>\n",
       "</div>"
      ],
      "text/plain": [
       "   A  B    C\n",
       "0  1  1  1.0\n",
       "1  1  1  2.0\n",
       "2  1  2  3.0\n",
       "3  2  2  NaN\n",
       "4  2  1  5.0\n",
       "5  2  1  NaN"
      ]
     },
     "execution_count": 26,
     "metadata": {},
     "output_type": "execute_result"
    }
   ],
   "source": [
    "df"
   ]
  },
  {
   "cell_type": "code",
   "execution_count": null,
   "metadata": {},
   "outputs": [],
   "source": [
    "gbA = df.groupby(\"A\")"
   ]
  },
  {
   "cell_type": "code",
   "execution_count": 29,
   "metadata": {},
   "outputs": [
    {
     "data": {
      "text/html": [
       "<div>\n",
       "<style scoped>\n",
       "    .dataframe tbody tr th:only-of-type {\n",
       "        vertical-align: middle;\n",
       "    }\n",
       "\n",
       "    .dataframe tbody tr th {\n",
       "        vertical-align: top;\n",
       "    }\n",
       "\n",
       "    .dataframe thead th {\n",
       "        text-align: right;\n",
       "    }\n",
       "</style>\n",
       "<table border=\"1\" class=\"dataframe\">\n",
       "  <thead>\n",
       "    <tr style=\"text-align: right;\">\n",
       "      <th></th>\n",
       "      <th>A</th>\n",
       "      <th>B</th>\n",
       "      <th>C</th>\n",
       "    </tr>\n",
       "  </thead>\n",
       "  <tbody>\n",
       "    <tr>\n",
       "      <th>0</th>\n",
       "      <td>1</td>\n",
       "      <td>1</td>\n",
       "      <td>1.0</td>\n",
       "    </tr>\n",
       "    <tr>\n",
       "      <th>1</th>\n",
       "      <td>1</td>\n",
       "      <td>1</td>\n",
       "      <td>2.0</td>\n",
       "    </tr>\n",
       "    <tr>\n",
       "      <th>2</th>\n",
       "      <td>1</td>\n",
       "      <td>2</td>\n",
       "      <td>3.0</td>\n",
       "    </tr>\n",
       "    <tr>\n",
       "      <th>3</th>\n",
       "      <td>2</td>\n",
       "      <td>2</td>\n",
       "      <td>NaN</td>\n",
       "    </tr>\n",
       "    <tr>\n",
       "      <th>4</th>\n",
       "      <td>2</td>\n",
       "      <td>1</td>\n",
       "      <td>5.0</td>\n",
       "    </tr>\n",
       "    <tr>\n",
       "      <th>5</th>\n",
       "      <td>2</td>\n",
       "      <td>1</td>\n",
       "      <td>NaN</td>\n",
       "    </tr>\n",
       "  </tbody>\n",
       "</table>\n",
       "</div>"
      ],
      "text/plain": [
       "   A  B    C\n",
       "0  1  1  1.0\n",
       "1  1  1  2.0\n",
       "2  1  2  3.0\n",
       "3  2  2  NaN\n",
       "4  2  1  5.0\n",
       "5  2  1  NaN"
      ]
     },
     "execution_count": 29,
     "metadata": {},
     "output_type": "execute_result"
    }
   ],
   "source": [
    "df"
   ]
  },
  {
   "cell_type": "code",
   "execution_count": 28,
   "metadata": {},
   "outputs": [
    {
     "data": {
      "text/html": [
       "<div>\n",
       "<style scoped>\n",
       "    .dataframe tbody tr th:only-of-type {\n",
       "        vertical-align: middle;\n",
       "    }\n",
       "\n",
       "    .dataframe tbody tr th {\n",
       "        vertical-align: top;\n",
       "    }\n",
       "\n",
       "    .dataframe thead th {\n",
       "        text-align: right;\n",
       "    }\n",
       "</style>\n",
       "<table border=\"1\" class=\"dataframe\">\n",
       "  <thead>\n",
       "    <tr style=\"text-align: right;\">\n",
       "      <th></th>\n",
       "      <th>A</th>\n",
       "      <th>B</th>\n",
       "      <th>C</th>\n",
       "    </tr>\n",
       "  </thead>\n",
       "  <tbody>\n",
       "    <tr>\n",
       "      <th>0</th>\n",
       "      <td>-0.5</td>\n",
       "      <td>-0.333333</td>\n",
       "      <td>-1.75</td>\n",
       "    </tr>\n",
       "    <tr>\n",
       "      <th>1</th>\n",
       "      <td>-0.5</td>\n",
       "      <td>-0.333333</td>\n",
       "      <td>-0.75</td>\n",
       "    </tr>\n",
       "    <tr>\n",
       "      <th>2</th>\n",
       "      <td>-0.5</td>\n",
       "      <td>0.666667</td>\n",
       "      <td>0.25</td>\n",
       "    </tr>\n",
       "    <tr>\n",
       "      <th>3</th>\n",
       "      <td>0.5</td>\n",
       "      <td>0.666667</td>\n",
       "      <td>NaN</td>\n",
       "    </tr>\n",
       "    <tr>\n",
       "      <th>4</th>\n",
       "      <td>0.5</td>\n",
       "      <td>-0.333333</td>\n",
       "      <td>2.25</td>\n",
       "    </tr>\n",
       "    <tr>\n",
       "      <th>5</th>\n",
       "      <td>0.5</td>\n",
       "      <td>-0.333333</td>\n",
       "      <td>NaN</td>\n",
       "    </tr>\n",
       "  </tbody>\n",
       "</table>\n",
       "</div>"
      ],
      "text/plain": [
       "     A         B     C\n",
       "0 -0.5 -0.333333 -1.75\n",
       "1 -0.5 -0.333333 -0.75\n",
       "2 -0.5  0.666667  0.25\n",
       "3  0.5  0.666667   NaN\n",
       "4  0.5 -0.333333  2.25\n",
       "5  0.5 -0.333333   NaN"
      ]
     },
     "execution_count": 28,
     "metadata": {},
     "output_type": "execute_result"
    }
   ],
   "source": [
    "deviation_from_mean(df)"
   ]
  },
  {
   "cell_type": "code",
   "execution_count": 34,
   "metadata": {},
   "outputs": [
    {
     "data": {
      "text/plain": [
       "A    1.500000\n",
       "B    1.333333\n",
       "C    2.750000\n",
       "dtype: float64"
      ]
     },
     "execution_count": 34,
     "metadata": {},
     "output_type": "execute_result"
    }
   ],
   "source": [
    "df.mean(axis=\"index\")  # df.mean(axis=0)"
   ]
  },
  {
   "cell_type": "code",
   "execution_count": 35,
   "metadata": {},
   "outputs": [
    {
     "data": {
      "text/plain": [
       "A    1.500000\n",
       "B    1.333333\n",
       "C    2.750000\n",
       "dtype: float64"
      ]
     },
     "execution_count": 35,
     "metadata": {},
     "output_type": "execute_result"
    }
   ],
   "source": [
    "df.mean()"
   ]
  },
  {
   "cell_type": "code",
   "execution_count": 36,
   "metadata": {},
   "outputs": [
    {
     "data": {
      "text/plain": [
       "0    1.000000\n",
       "1    1.333333\n",
       "2    2.000000\n",
       "3    2.000000\n",
       "4    2.666667\n",
       "5    1.500000\n",
       "dtype: float64"
      ]
     },
     "execution_count": 36,
     "metadata": {},
     "output_type": "execute_result"
    }
   ],
   "source": [
    "df.mean(axis=\"columns\")  # df.mean(axis=1)"
   ]
  },
  {
   "cell_type": "code",
   "execution_count": 31,
   "metadata": {
    "slideshow": {
     "slide_type": "-"
    }
   },
   "outputs": [],
   "source": [
    "# write function here\n",
    "def deviation_from_mean(df):\n",
    "    return df - df.mean(axis=\"index\")\n",
    "\n",
    "# apply function here\n",
    "devs = gbA.apply(deviation_from_mean)"
   ]
  },
  {
   "cell_type": "code",
   "execution_count": 32,
   "metadata": {
    "slideshow": {
     "slide_type": "-"
    }
   },
   "outputs": [
    {
     "data": {
      "text/html": [
       "<div>\n",
       "<style scoped>\n",
       "    .dataframe tbody tr th:only-of-type {\n",
       "        vertical-align: middle;\n",
       "    }\n",
       "\n",
       "    .dataframe tbody tr th {\n",
       "        vertical-align: top;\n",
       "    }\n",
       "\n",
       "    .dataframe thead th {\n",
       "        text-align: right;\n",
       "    }\n",
       "</style>\n",
       "<table border=\"1\" class=\"dataframe\">\n",
       "  <thead>\n",
       "    <tr style=\"text-align: right;\">\n",
       "      <th></th>\n",
       "      <th>A</th>\n",
       "      <th>B</th>\n",
       "      <th>C</th>\n",
       "      <th>B_dev</th>\n",
       "      <th>C_dev</th>\n",
       "    </tr>\n",
       "  </thead>\n",
       "  <tbody>\n",
       "    <tr>\n",
       "      <th>0</th>\n",
       "      <td>1</td>\n",
       "      <td>1</td>\n",
       "      <td>1.0</td>\n",
       "      <td>-0.333333</td>\n",
       "      <td>-1.0</td>\n",
       "    </tr>\n",
       "    <tr>\n",
       "      <th>1</th>\n",
       "      <td>1</td>\n",
       "      <td>1</td>\n",
       "      <td>2.0</td>\n",
       "      <td>-0.333333</td>\n",
       "      <td>0.0</td>\n",
       "    </tr>\n",
       "    <tr>\n",
       "      <th>2</th>\n",
       "      <td>1</td>\n",
       "      <td>2</td>\n",
       "      <td>3.0</td>\n",
       "      <td>0.666667</td>\n",
       "      <td>1.0</td>\n",
       "    </tr>\n",
       "    <tr>\n",
       "      <th>3</th>\n",
       "      <td>2</td>\n",
       "      <td>2</td>\n",
       "      <td>NaN</td>\n",
       "      <td>0.666667</td>\n",
       "      <td>NaN</td>\n",
       "    </tr>\n",
       "    <tr>\n",
       "      <th>4</th>\n",
       "      <td>2</td>\n",
       "      <td>1</td>\n",
       "      <td>5.0</td>\n",
       "      <td>-0.333333</td>\n",
       "      <td>0.0</td>\n",
       "    </tr>\n",
       "    <tr>\n",
       "      <th>5</th>\n",
       "      <td>2</td>\n",
       "      <td>1</td>\n",
       "      <td>NaN</td>\n",
       "      <td>-0.333333</td>\n",
       "      <td>NaN</td>\n",
       "    </tr>\n",
       "  </tbody>\n",
       "</table>\n",
       "</div>"
      ],
      "text/plain": [
       "   A  B    C     B_dev  C_dev\n",
       "0  1  1  1.0 -0.333333   -1.0\n",
       "1  1  1  2.0 -0.333333    0.0\n",
       "2  1  2  3.0  0.666667    1.0\n",
       "3  2  2  NaN  0.666667    NaN\n",
       "4  2  1  5.0 -0.333333    0.0\n",
       "5  2  1  NaN -0.333333    NaN"
      ]
     },
     "execution_count": 32,
     "metadata": {},
     "output_type": "execute_result"
    }
   ],
   "source": [
    "# Add the columns back to df\n",
    "df.merge(devs, left_index=True, right_index=True, suffixes=[\"\", \"_dev\"])"
   ]
  },
  {
   "cell_type": "markdown",
   "metadata": {
    "slideshow": {
     "slide_type": "slide"
    }
   },
   "source": [
    "### `pd.Grouper`\n",
    "\n",
    "Sometimes, in order to construct the groups you want, you need to give\n",
    "pandas more information than just a column name.\n",
    "\n",
    "Some examples are:\n",
    "\n",
    "- Grouping by a column and a level of the index.  \n",
    "- Grouping time series data at a particular frequency.  \n",
    "\n",
    "\n",
    "pandas lets you do this through the `pd.Grouper` type.\n",
    "\n",
    "To see it in action, let’s make a copy of `df` with `A` moved to the\n",
    "index and a `Date` column added."
   ]
  },
  {
   "cell_type": "code",
   "execution_count": 37,
   "metadata": {
    "hide-output": false,
    "slideshow": {
     "slide_type": "-"
    }
   },
   "outputs": [
    {
     "name": "stderr",
     "output_type": "stream",
     "text": [
      "<ipython-input-37-66f059155868>:3: FutureWarning: The pandas.datetime class is deprecated and will be removed from pandas in a future version. Import from datetime module instead.\n",
      "  start=pd.datetime.today().strftime(\"%m/%d/%Y\"),\n"
     ]
    },
    {
     "data": {
      "text/html": [
       "<div>\n",
       "<style scoped>\n",
       "    .dataframe tbody tr th:only-of-type {\n",
       "        vertical-align: middle;\n",
       "    }\n",
       "\n",
       "    .dataframe tbody tr th {\n",
       "        vertical-align: top;\n",
       "    }\n",
       "\n",
       "    .dataframe thead th {\n",
       "        text-align: right;\n",
       "    }\n",
       "</style>\n",
       "<table border=\"1\" class=\"dataframe\">\n",
       "  <thead>\n",
       "    <tr style=\"text-align: right;\">\n",
       "      <th></th>\n",
       "      <th>B</th>\n",
       "      <th>C</th>\n",
       "      <th>Date</th>\n",
       "    </tr>\n",
       "    <tr>\n",
       "      <th>A</th>\n",
       "      <th></th>\n",
       "      <th></th>\n",
       "      <th></th>\n",
       "    </tr>\n",
       "  </thead>\n",
       "  <tbody>\n",
       "    <tr>\n",
       "      <th>1</th>\n",
       "      <td>1</td>\n",
       "      <td>1.0</td>\n",
       "      <td>2021-03-31</td>\n",
       "    </tr>\n",
       "    <tr>\n",
       "      <th>1</th>\n",
       "      <td>1</td>\n",
       "      <td>2.0</td>\n",
       "      <td>2021-06-30</td>\n",
       "    </tr>\n",
       "    <tr>\n",
       "      <th>1</th>\n",
       "      <td>2</td>\n",
       "      <td>3.0</td>\n",
       "      <td>2021-09-30</td>\n",
       "    </tr>\n",
       "    <tr>\n",
       "      <th>2</th>\n",
       "      <td>2</td>\n",
       "      <td>NaN</td>\n",
       "      <td>2021-12-31</td>\n",
       "    </tr>\n",
       "    <tr>\n",
       "      <th>2</th>\n",
       "      <td>1</td>\n",
       "      <td>5.0</td>\n",
       "      <td>2022-03-31</td>\n",
       "    </tr>\n",
       "    <tr>\n",
       "      <th>2</th>\n",
       "      <td>1</td>\n",
       "      <td>NaN</td>\n",
       "      <td>2022-06-30</td>\n",
       "    </tr>\n",
       "  </tbody>\n",
       "</table>\n",
       "</div>"
      ],
      "text/plain": [
       "   B    C       Date\n",
       "A                   \n",
       "1  1  1.0 2021-03-31\n",
       "1  1  2.0 2021-06-30\n",
       "1  2  3.0 2021-09-30\n",
       "2  2  NaN 2021-12-31\n",
       "2  1  5.0 2022-03-31\n",
       "2  1  NaN 2022-06-30"
      ]
     },
     "execution_count": 37,
     "metadata": {},
     "output_type": "execute_result"
    }
   ],
   "source": [
    "df2 = df.copy()\n",
    "df2[\"Date\"] = pd.date_range(\n",
    "    start=pd.datetime.today().strftime(\"%m/%d/%Y\"),\n",
    "    freq=\"BQ\",\n",
    "    periods=df.shape[0]\n",
    ")\n",
    "df2 = df2.set_index(\"A\")\n",
    "df2"
   ]
  },
  {
   "cell_type": "code",
   "execution_count": 41,
   "metadata": {},
   "outputs": [
    {
     "data": {
      "text/html": [
       "<div>\n",
       "<style scoped>\n",
       "    .dataframe tbody tr th:only-of-type {\n",
       "        vertical-align: middle;\n",
       "    }\n",
       "\n",
       "    .dataframe tbody tr th {\n",
       "        vertical-align: top;\n",
       "    }\n",
       "\n",
       "    .dataframe thead th {\n",
       "        text-align: right;\n",
       "    }\n",
       "</style>\n",
       "<table border=\"1\" class=\"dataframe\">\n",
       "  <thead>\n",
       "    <tr style=\"text-align: right;\">\n",
       "      <th></th>\n",
       "      <th>B</th>\n",
       "      <th>C</th>\n",
       "    </tr>\n",
       "    <tr>\n",
       "      <th>A</th>\n",
       "      <th></th>\n",
       "      <th></th>\n",
       "    </tr>\n",
       "  </thead>\n",
       "  <tbody>\n",
       "    <tr>\n",
       "      <th>1</th>\n",
       "      <td>1.333333</td>\n",
       "      <td>2.0</td>\n",
       "    </tr>\n",
       "    <tr>\n",
       "      <th>2</th>\n",
       "      <td>1.333333</td>\n",
       "      <td>5.0</td>\n",
       "    </tr>\n",
       "  </tbody>\n",
       "</table>\n",
       "</div>"
      ],
      "text/plain": [
       "          B    C\n",
       "A               \n",
       "1  1.333333  2.0\n",
       "2  1.333333  5.0"
      ]
     },
     "execution_count": 41,
     "metadata": {},
     "output_type": "execute_result"
    }
   ],
   "source": [
    "df2.groupby(\"A\").mean()"
   ]
  },
  {
   "cell_type": "code",
   "execution_count": null,
   "metadata": {},
   "outputs": [],
   "source": [
    "# df2.groupby(pd.Grouper(level=\"A\"))"
   ]
  },
  {
   "cell_type": "code",
   "execution_count": 38,
   "metadata": {},
   "outputs": [
    {
     "data": {
      "text/html": [
       "<div>\n",
       "<style scoped>\n",
       "    .dataframe tbody tr th:only-of-type {\n",
       "        vertical-align: middle;\n",
       "    }\n",
       "\n",
       "    .dataframe tbody tr th {\n",
       "        vertical-align: top;\n",
       "    }\n",
       "\n",
       "    .dataframe thead th {\n",
       "        text-align: right;\n",
       "    }\n",
       "</style>\n",
       "<table border=\"1\" class=\"dataframe\">\n",
       "  <thead>\n",
       "    <tr style=\"text-align: right;\">\n",
       "      <th></th>\n",
       "      <th>B</th>\n",
       "      <th>C</th>\n",
       "    </tr>\n",
       "    <tr>\n",
       "      <th>Date</th>\n",
       "      <th></th>\n",
       "      <th></th>\n",
       "    </tr>\n",
       "  </thead>\n",
       "  <tbody>\n",
       "    <tr>\n",
       "      <th>2021-03-31</th>\n",
       "      <td>1</td>\n",
       "      <td>1.0</td>\n",
       "    </tr>\n",
       "    <tr>\n",
       "      <th>2021-06-30</th>\n",
       "      <td>1</td>\n",
       "      <td>2.0</td>\n",
       "    </tr>\n",
       "    <tr>\n",
       "      <th>2021-09-30</th>\n",
       "      <td>2</td>\n",
       "      <td>3.0</td>\n",
       "    </tr>\n",
       "    <tr>\n",
       "      <th>2021-12-31</th>\n",
       "      <td>2</td>\n",
       "      <td>NaN</td>\n",
       "    </tr>\n",
       "    <tr>\n",
       "      <th>2022-03-31</th>\n",
       "      <td>1</td>\n",
       "      <td>5.0</td>\n",
       "    </tr>\n",
       "    <tr>\n",
       "      <th>2022-06-30</th>\n",
       "      <td>1</td>\n",
       "      <td>NaN</td>\n",
       "    </tr>\n",
       "  </tbody>\n",
       "</table>\n",
       "</div>"
      ],
      "text/plain": [
       "            B    C\n",
       "Date              \n",
       "2021-03-31  1  1.0\n",
       "2021-06-30  1  2.0\n",
       "2021-09-30  2  3.0\n",
       "2021-12-31  2  NaN\n",
       "2022-03-31  1  5.0\n",
       "2022-06-30  1  NaN"
      ]
     },
     "execution_count": 38,
     "metadata": {},
     "output_type": "execute_result"
    }
   ],
   "source": [
    "df2.groupby(\"Date\").mean()"
   ]
  },
  {
   "cell_type": "markdown",
   "metadata": {
    "slideshow": {
     "slide_type": "fragment"
    }
   },
   "source": [
    "We can group by year."
   ]
  },
  {
   "cell_type": "code",
   "execution_count": 39,
   "metadata": {
    "hide-output": false,
    "slideshow": {
     "slide_type": "-"
    }
   },
   "outputs": [
    {
     "data": {
      "text/html": [
       "<div>\n",
       "<style scoped>\n",
       "    .dataframe tbody tr th:only-of-type {\n",
       "        vertical-align: middle;\n",
       "    }\n",
       "\n",
       "    .dataframe tbody tr th {\n",
       "        vertical-align: top;\n",
       "    }\n",
       "\n",
       "    .dataframe thead th {\n",
       "        text-align: right;\n",
       "    }\n",
       "</style>\n",
       "<table border=\"1\" class=\"dataframe\">\n",
       "  <thead>\n",
       "    <tr style=\"text-align: right;\">\n",
       "      <th></th>\n",
       "      <th>B</th>\n",
       "      <th>C</th>\n",
       "    </tr>\n",
       "    <tr>\n",
       "      <th>Date</th>\n",
       "      <th></th>\n",
       "      <th></th>\n",
       "    </tr>\n",
       "  </thead>\n",
       "  <tbody>\n",
       "    <tr>\n",
       "      <th>2021-12-31</th>\n",
       "      <td>4</td>\n",
       "      <td>3</td>\n",
       "    </tr>\n",
       "    <tr>\n",
       "      <th>2022-12-31</th>\n",
       "      <td>2</td>\n",
       "      <td>1</td>\n",
       "    </tr>\n",
       "  </tbody>\n",
       "</table>\n",
       "</div>"
      ],
      "text/plain": [
       "            B  C\n",
       "Date            \n",
       "2021-12-31  4  3\n",
       "2022-12-31  2  1"
      ]
     },
     "execution_count": 39,
     "metadata": {},
     "output_type": "execute_result"
    }
   ],
   "source": [
    "df2.groupby(pd.Grouper(key=\"Date\", freq=\"A\")).count()"
   ]
  },
  {
   "cell_type": "markdown",
   "metadata": {
    "slideshow": {
     "slide_type": "fragment"
    }
   },
   "source": [
    "We can group by the `A` level of the index."
   ]
  },
  {
   "cell_type": "code",
   "execution_count": 42,
   "metadata": {
    "hide-output": false,
    "slideshow": {
     "slide_type": "-"
    }
   },
   "outputs": [
    {
     "data": {
      "text/html": [
       "<div>\n",
       "<style scoped>\n",
       "    .dataframe tbody tr th:only-of-type {\n",
       "        vertical-align: middle;\n",
       "    }\n",
       "\n",
       "    .dataframe tbody tr th {\n",
       "        vertical-align: top;\n",
       "    }\n",
       "\n",
       "    .dataframe thead th {\n",
       "        text-align: right;\n",
       "    }\n",
       "</style>\n",
       "<table border=\"1\" class=\"dataframe\">\n",
       "  <thead>\n",
       "    <tr style=\"text-align: right;\">\n",
       "      <th></th>\n",
       "      <th>B</th>\n",
       "      <th>C</th>\n",
       "      <th>Date</th>\n",
       "    </tr>\n",
       "    <tr>\n",
       "      <th>A</th>\n",
       "      <th></th>\n",
       "      <th></th>\n",
       "      <th></th>\n",
       "    </tr>\n",
       "  </thead>\n",
       "  <tbody>\n",
       "    <tr>\n",
       "      <th>1</th>\n",
       "      <td>3</td>\n",
       "      <td>3</td>\n",
       "      <td>3</td>\n",
       "    </tr>\n",
       "    <tr>\n",
       "      <th>2</th>\n",
       "      <td>3</td>\n",
       "      <td>1</td>\n",
       "      <td>3</td>\n",
       "    </tr>\n",
       "  </tbody>\n",
       "</table>\n",
       "</div>"
      ],
      "text/plain": [
       "   B  C  Date\n",
       "A            \n",
       "1  3  3     3\n",
       "2  3  1     3"
      ]
     },
     "execution_count": 42,
     "metadata": {},
     "output_type": "execute_result"
    }
   ],
   "source": [
    "df2.groupby(pd.Grouper(level=\"A\")).count()"
   ]
  },
  {
   "cell_type": "markdown",
   "metadata": {
    "slideshow": {
     "slide_type": "fragment"
    }
   },
   "source": [
    "We can combine these to group by both."
   ]
  },
  {
   "cell_type": "code",
   "execution_count": 43,
   "metadata": {
    "hide-output": false,
    "slideshow": {
     "slide_type": "-"
    }
   },
   "outputs": [
    {
     "data": {
      "text/html": [
       "<div>\n",
       "<style scoped>\n",
       "    .dataframe tbody tr th:only-of-type {\n",
       "        vertical-align: middle;\n",
       "    }\n",
       "\n",
       "    .dataframe tbody tr th {\n",
       "        vertical-align: top;\n",
       "    }\n",
       "\n",
       "    .dataframe thead th {\n",
       "        text-align: right;\n",
       "    }\n",
       "</style>\n",
       "<table border=\"1\" class=\"dataframe\">\n",
       "  <thead>\n",
       "    <tr style=\"text-align: right;\">\n",
       "      <th></th>\n",
       "      <th></th>\n",
       "      <th>B</th>\n",
       "      <th>C</th>\n",
       "    </tr>\n",
       "    <tr>\n",
       "      <th>Date</th>\n",
       "      <th>A</th>\n",
       "      <th></th>\n",
       "      <th></th>\n",
       "    </tr>\n",
       "  </thead>\n",
       "  <tbody>\n",
       "    <tr>\n",
       "      <th rowspan=\"2\" valign=\"top\">2021-12-31</th>\n",
       "      <th>1</th>\n",
       "      <td>3</td>\n",
       "      <td>3</td>\n",
       "    </tr>\n",
       "    <tr>\n",
       "      <th>2</th>\n",
       "      <td>1</td>\n",
       "      <td>0</td>\n",
       "    </tr>\n",
       "    <tr>\n",
       "      <th>2022-12-31</th>\n",
       "      <th>2</th>\n",
       "      <td>2</td>\n",
       "      <td>1</td>\n",
       "    </tr>\n",
       "  </tbody>\n",
       "</table>\n",
       "</div>"
      ],
      "text/plain": [
       "              B  C\n",
       "Date       A      \n",
       "2021-12-31 1  3  3\n",
       "           2  1  0\n",
       "2022-12-31 2  2  1"
      ]
     },
     "execution_count": 43,
     "metadata": {},
     "output_type": "execute_result"
    }
   ],
   "source": [
    "df2.groupby([pd.Grouper(key=\"Date\", freq=\"A\"), pd.Grouper(level=\"A\")]).count()"
   ]
  },
  {
   "cell_type": "markdown",
   "metadata": {
    "slideshow": {
     "slide_type": "fragment"
    }
   },
   "source": [
    "And we can combine `pd.Grouper` with a string, where the string\n",
    "denotes a column name"
   ]
  },
  {
   "cell_type": "code",
   "execution_count": 44,
   "metadata": {
    "hide-output": false,
    "slideshow": {
     "slide_type": "-"
    }
   },
   "outputs": [
    {
     "data": {
      "text/html": [
       "<div>\n",
       "<style scoped>\n",
       "    .dataframe tbody tr th:only-of-type {\n",
       "        vertical-align: middle;\n",
       "    }\n",
       "\n",
       "    .dataframe tbody tr th {\n",
       "        vertical-align: top;\n",
       "    }\n",
       "\n",
       "    .dataframe thead th {\n",
       "        text-align: right;\n",
       "    }\n",
       "</style>\n",
       "<table border=\"1\" class=\"dataframe\">\n",
       "  <thead>\n",
       "    <tr style=\"text-align: right;\">\n",
       "      <th></th>\n",
       "      <th></th>\n",
       "      <th>C</th>\n",
       "    </tr>\n",
       "    <tr>\n",
       "      <th>Date</th>\n",
       "      <th>B</th>\n",
       "      <th></th>\n",
       "    </tr>\n",
       "  </thead>\n",
       "  <tbody>\n",
       "    <tr>\n",
       "      <th rowspan=\"2\" valign=\"top\">2021-12-31</th>\n",
       "      <th>1</th>\n",
       "      <td>2</td>\n",
       "    </tr>\n",
       "    <tr>\n",
       "      <th>2</th>\n",
       "      <td>1</td>\n",
       "    </tr>\n",
       "    <tr>\n",
       "      <th>2022-12-31</th>\n",
       "      <th>1</th>\n",
       "      <td>1</td>\n",
       "    </tr>\n",
       "  </tbody>\n",
       "</table>\n",
       "</div>"
      ],
      "text/plain": [
       "              C\n",
       "Date       B   \n",
       "2021-12-31 1  2\n",
       "           2  1\n",
       "2022-12-31 1  1"
      ]
     },
     "execution_count": 44,
     "metadata": {},
     "output_type": "execute_result"
    }
   ],
   "source": [
    "df2.groupby([pd.Grouper(key=\"Date\", freq=\"A\"), \"B\"]).count()"
   ]
  },
  {
   "cell_type": "markdown",
   "metadata": {
    "slideshow": {
     "slide_type": "slide"
    }
   },
   "source": [
    "## Case Study: Airline Delays\n",
    "\n",
    "Let’s apply our new split-apply-combine skills to the airline dataset we\n",
    "saw in the [merge](merge.ipynb) lecture."
   ]
  },
  {
   "cell_type": "code",
   "execution_count": 47,
   "metadata": {},
   "outputs": [
    {
     "data": {
      "text/plain": [
       "Index(['Carrier', 'TailNum', 'FlightNum', 'OriginCityMarketID', 'Origin',\n",
       "       'OriginCityName', 'OriginStateName', 'DestCityMarketID', 'Dest',\n",
       "       'DestCityName', 'DestStateName', 'CRSDepTime', 'DepTime', 'DepDelay',\n",
       "       'TaxiOut', 'WheelsOff', 'WheelsOn', 'TaxiIn', 'CRSArrTime', 'ArrTime',\n",
       "       'ArrDelay', 'Cancelled', 'CancellationCode', 'Diverted',\n",
       "       'CRSElapsedTime', 'ActualElapsedTime', 'AirTime', 'Distance',\n",
       "       'CarrierDelay', 'WeatherDelay', 'NASDelay', 'SecurityDelay',\n",
       "       'LateAircraftDelay', 'FirstDepTime', 'TotalAddGTime', 'Date'],\n",
       "      dtype='object')"
      ]
     },
     "execution_count": 47,
     "metadata": {},
     "output_type": "execute_result"
    }
   ],
   "source": [
    "air_dec.columns"
   ]
  },
  {
   "cell_type": "code",
   "execution_count": 45,
   "metadata": {
    "hide-output": false,
    "slideshow": {
     "slide_type": "-"
    }
   },
   "outputs": [],
   "source": [
    "air_dec = qeds.load(\"airline_performance_dec16\")"
   ]
  },
  {
   "cell_type": "markdown",
   "metadata": {
    "slideshow": {
     "slide_type": "subslide"
    }
   },
   "source": [
    "First, we compute the average delay in arrival time for all carriers\n",
    "each week."
   ]
  },
  {
   "cell_type": "code",
   "execution_count": 52,
   "metadata": {},
   "outputs": [
    {
     "data": {
      "text/plain": [
       "0   2016-12-18\n",
       "1   2016-12-19\n",
       "2   2016-12-20\n",
       "3   2016-12-21\n",
       "4   2016-12-22\n",
       "Name: Date, dtype: datetime64[ns]"
      ]
     },
     "execution_count": 52,
     "metadata": {},
     "output_type": "execute_result"
    }
   ],
   "source": [
    "air_dec.head()[\"Date\"]"
   ]
  },
  {
   "cell_type": "code",
   "execution_count": 50,
   "metadata": {},
   "outputs": [
    {
     "data": {
      "text/html": [
       "<div>\n",
       "<style scoped>\n",
       "    .dataframe tbody tr th:only-of-type {\n",
       "        vertical-align: middle;\n",
       "    }\n",
       "\n",
       "    .dataframe tbody tr th {\n",
       "        vertical-align: top;\n",
       "    }\n",
       "\n",
       "    .dataframe thead th {\n",
       "        text-align: right;\n",
       "    }\n",
       "</style>\n",
       "<table border=\"1\" class=\"dataframe\">\n",
       "  <thead>\n",
       "    <tr style=\"text-align: right;\">\n",
       "      <th>Carrier</th>\n",
       "      <th>AA</th>\n",
       "      <th>AS</th>\n",
       "      <th>B6</th>\n",
       "      <th>DL</th>\n",
       "      <th>EV</th>\n",
       "      <th>F9</th>\n",
       "      <th>HA</th>\n",
       "      <th>NK</th>\n",
       "      <th>OO</th>\n",
       "      <th>UA</th>\n",
       "      <th>VX</th>\n",
       "      <th>WN</th>\n",
       "    </tr>\n",
       "    <tr>\n",
       "      <th>Date</th>\n",
       "      <th></th>\n",
       "      <th></th>\n",
       "      <th></th>\n",
       "      <th></th>\n",
       "      <th></th>\n",
       "      <th></th>\n",
       "      <th></th>\n",
       "      <th></th>\n",
       "      <th></th>\n",
       "      <th></th>\n",
       "      <th></th>\n",
       "      <th></th>\n",
       "    </tr>\n",
       "  </thead>\n",
       "  <tbody>\n",
       "    <tr>\n",
       "      <th>2016-12-01</th>\n",
       "      <td>-3.249176</td>\n",
       "      <td>-0.917031</td>\n",
       "      <td>0.690088</td>\n",
       "      <td>-6.474708</td>\n",
       "      <td>1.034981</td>\n",
       "      <td>-2.945833</td>\n",
       "      <td>3.425743</td>\n",
       "      <td>-0.466837</td>\n",
       "      <td>-3.697689</td>\n",
       "      <td>-2.092489</td>\n",
       "      <td>-5.291262</td>\n",
       "      <td>-4.885057</td>\n",
       "    </tr>\n",
       "    <tr>\n",
       "      <th>2016-12-02</th>\n",
       "      <td>-4.401472</td>\n",
       "      <td>4.112583</td>\n",
       "      <td>-4.939317</td>\n",
       "      <td>-6.856143</td>\n",
       "      <td>1.886311</td>\n",
       "      <td>-4.697674</td>\n",
       "      <td>-4.591549</td>\n",
       "      <td>8.138191</td>\n",
       "      <td>3.343396</td>\n",
       "      <td>-1.082552</td>\n",
       "      <td>2.458937</td>\n",
       "      <td>-1.682405</td>\n",
       "    </tr>\n",
       "    <tr>\n",
       "      <th>2016-12-03</th>\n",
       "      <td>-6.450842</td>\n",
       "      <td>-0.306075</td>\n",
       "      <td>-5.286558</td>\n",
       "      <td>-8.401674</td>\n",
       "      <td>11.802938</td>\n",
       "      <td>-5.083665</td>\n",
       "      <td>1.285714</td>\n",
       "      <td>0.226463</td>\n",
       "      <td>-4.249383</td>\n",
       "      <td>-2.641051</td>\n",
       "      <td>-4.206667</td>\n",
       "      <td>-6.125619</td>\n",
       "    </tr>\n",
       "    <tr>\n",
       "      <th>2016-12-04</th>\n",
       "      <td>6.531223</td>\n",
       "      <td>7.926503</td>\n",
       "      <td>-2.400778</td>\n",
       "      <td>0.713982</td>\n",
       "      <td>23.330616</td>\n",
       "      <td>1.166008</td>\n",
       "      <td>-2.063725</td>\n",
       "      <td>13.928753</td>\n",
       "      <td>15.098757</td>\n",
       "      <td>27.537439</td>\n",
       "      <td>-2.027174</td>\n",
       "      <td>5.420748</td>\n",
       "    </tr>\n",
       "    <tr>\n",
       "      <th>2016-12-05</th>\n",
       "      <td>-0.672994</td>\n",
       "      <td>47.352381</td>\n",
       "      <td>11.762516</td>\n",
       "      <td>3.444357</td>\n",
       "      <td>27.411765</td>\n",
       "      <td>6.649805</td>\n",
       "      <td>-0.576355</td>\n",
       "      <td>9.552699</td>\n",
       "      <td>17.949045</td>\n",
       "      <td>6.526848</td>\n",
       "      <td>9.158416</td>\n",
       "      <td>1.874448</td>\n",
       "    </tr>\n",
       "    <tr>\n",
       "      <th>2016-12-06</th>\n",
       "      <td>-1.037753</td>\n",
       "      <td>-5.155941</td>\n",
       "      <td>5.456164</td>\n",
       "      <td>-0.234008</td>\n",
       "      <td>9.605983</td>\n",
       "      <td>-2.503937</td>\n",
       "      <td>-2.619289</td>\n",
       "      <td>9.963351</td>\n",
       "      <td>5.918582</td>\n",
       "      <td>-0.746914</td>\n",
       "      <td>-8.235000</td>\n",
       "      <td>-1.636464</td>\n",
       "    </tr>\n",
       "    <tr>\n",
       "      <th>2016-12-07</th>\n",
       "      <td>-2.322567</td>\n",
       "      <td>4.311111</td>\n",
       "      <td>1.810959</td>\n",
       "      <td>-5.916833</td>\n",
       "      <td>6.763844</td>\n",
       "      <td>1.140152</td>\n",
       "      <td>6.722772</td>\n",
       "      <td>-2.743523</td>\n",
       "      <td>10.090385</td>\n",
       "      <td>3.170635</td>\n",
       "      <td>3.065657</td>\n",
       "      <td>-1.187809</td>\n",
       "    </tr>\n",
       "    <tr>\n",
       "      <th>2016-12-08</th>\n",
       "      <td>3.978548</td>\n",
       "      <td>3.163366</td>\n",
       "      <td>2.695431</td>\n",
       "      <td>0.240950</td>\n",
       "      <td>16.826531</td>\n",
       "      <td>6.030303</td>\n",
       "      <td>-0.049020</td>\n",
       "      <td>9.640306</td>\n",
       "      <td>20.210997</td>\n",
       "      <td>5.010585</td>\n",
       "      <td>26.880597</td>\n",
       "      <td>4.794724</td>\n",
       "    </tr>\n",
       "    <tr>\n",
       "      <th>2016-12-09</th>\n",
       "      <td>1.298569</td>\n",
       "      <td>27.325581</td>\n",
       "      <td>6.909887</td>\n",
       "      <td>0.628016</td>\n",
       "      <td>12.543307</td>\n",
       "      <td>9.257463</td>\n",
       "      <td>2.098131</td>\n",
       "      <td>8.959596</td>\n",
       "      <td>17.954198</td>\n",
       "      <td>4.426342</td>\n",
       "      <td>27.352941</td>\n",
       "      <td>1.649427</td>\n",
       "    </tr>\n",
       "    <tr>\n",
       "      <th>2016-12-10</th>\n",
       "      <td>-1.796730</td>\n",
       "      <td>7.824356</td>\n",
       "      <td>2.019316</td>\n",
       "      <td>-2.345487</td>\n",
       "      <td>5.181132</td>\n",
       "      <td>2.253846</td>\n",
       "      <td>4.270408</td>\n",
       "      <td>0.643590</td>\n",
       "      <td>14.457841</td>\n",
       "      <td>0.613124</td>\n",
       "      <td>19.342466</td>\n",
       "      <td>-0.960159</td>\n",
       "    </tr>\n",
       "    <tr>\n",
       "      <th>2016-12-11</th>\n",
       "      <td>8.305249</td>\n",
       "      <td>-0.475225</td>\n",
       "      <td>9.189295</td>\n",
       "      <td>21.562258</td>\n",
       "      <td>9.770526</td>\n",
       "      <td>8.988417</td>\n",
       "      <td>4.514851</td>\n",
       "      <td>26.476056</td>\n",
       "      <td>22.222046</td>\n",
       "      <td>8.966746</td>\n",
       "      <td>7.918129</td>\n",
       "      <td>8.434099</td>\n",
       "    </tr>\n",
       "    <tr>\n",
       "      <th>2016-12-12</th>\n",
       "      <td>2.048422</td>\n",
       "      <td>8.145022</td>\n",
       "      <td>14.985987</td>\n",
       "      <td>8.876723</td>\n",
       "      <td>13.971406</td>\n",
       "      <td>3.837037</td>\n",
       "      <td>8.482587</td>\n",
       "      <td>21.764706</td>\n",
       "      <td>18.816158</td>\n",
       "      <td>3.972344</td>\n",
       "      <td>9.090426</td>\n",
       "      <td>3.760594</td>\n",
       "    </tr>\n",
       "    <tr>\n",
       "      <th>2016-12-13</th>\n",
       "      <td>-1.996404</td>\n",
       "      <td>-2.216895</td>\n",
       "      <td>2.415789</td>\n",
       "      <td>1.348620</td>\n",
       "      <td>10.739796</td>\n",
       "      <td>2.123077</td>\n",
       "      <td>-0.285714</td>\n",
       "      <td>0.297927</td>\n",
       "      <td>6.568489</td>\n",
       "      <td>-4.932923</td>\n",
       "      <td>-1.637755</td>\n",
       "      <td>0.904513</td>\n",
       "    </tr>\n",
       "    <tr>\n",
       "      <th>2016-12-14</th>\n",
       "      <td>1.989225</td>\n",
       "      <td>2.668151</td>\n",
       "      <td>5.856183</td>\n",
       "      <td>-0.270184</td>\n",
       "      <td>8.769934</td>\n",
       "      <td>10.718631</td>\n",
       "      <td>-2.870000</td>\n",
       "      <td>6.870466</td>\n",
       "      <td>14.896095</td>\n",
       "      <td>2.468852</td>\n",
       "      <td>6.774725</td>\n",
       "      <td>1.947543</td>\n",
       "    </tr>\n",
       "    <tr>\n",
       "      <th>2016-12-15</th>\n",
       "      <td>13.866189</td>\n",
       "      <td>9.736142</td>\n",
       "      <td>30.755442</td>\n",
       "      <td>12.645614</td>\n",
       "      <td>20.614007</td>\n",
       "      <td>23.277154</td>\n",
       "      <td>12.980198</td>\n",
       "      <td>18.241814</td>\n",
       "      <td>32.404128</td>\n",
       "      <td>26.613793</td>\n",
       "      <td>69.553672</td>\n",
       "      <td>15.199290</td>\n",
       "    </tr>\n",
       "    <tr>\n",
       "      <th>2016-12-16</th>\n",
       "      <td>16.154435</td>\n",
       "      <td>11.616495</td>\n",
       "      <td>19.271698</td>\n",
       "      <td>15.309496</td>\n",
       "      <td>22.376020</td>\n",
       "      <td>43.740310</td>\n",
       "      <td>17.370370</td>\n",
       "      <td>20.416216</td>\n",
       "      <td>34.836748</td>\n",
       "      <td>27.795173</td>\n",
       "      <td>52.668449</td>\n",
       "      <td>27.688345</td>\n",
       "    </tr>\n",
       "    <tr>\n",
       "      <th>2016-12-17</th>\n",
       "      <td>54.850160</td>\n",
       "      <td>18.491111</td>\n",
       "      <td>123.368932</td>\n",
       "      <td>65.732109</td>\n",
       "      <td>48.432969</td>\n",
       "      <td>175.025806</td>\n",
       "      <td>16.045000</td>\n",
       "      <td>51.363636</td>\n",
       "      <td>59.222475</td>\n",
       "      <td>68.991357</td>\n",
       "      <td>72.213542</td>\n",
       "      <td>58.746597</td>\n",
       "    </tr>\n",
       "    <tr>\n",
       "      <th>2016-12-18</th>\n",
       "      <td>29.063725</td>\n",
       "      <td>4.676349</td>\n",
       "      <td>63.079051</td>\n",
       "      <td>31.398161</td>\n",
       "      <td>49.321495</td>\n",
       "      <td>169.266187</td>\n",
       "      <td>13.009662</td>\n",
       "      <td>44.859890</td>\n",
       "      <td>53.925684</td>\n",
       "      <td>44.256046</td>\n",
       "      <td>29.375000</td>\n",
       "      <td>30.274827</td>\n",
       "    </tr>\n",
       "    <tr>\n",
       "      <th>2016-12-19</th>\n",
       "      <td>7.613043</td>\n",
       "      <td>10.765784</td>\n",
       "      <td>17.042184</td>\n",
       "      <td>-0.581729</td>\n",
       "      <td>23.805802</td>\n",
       "      <td>110.839416</td>\n",
       "      <td>1.188406</td>\n",
       "      <td>24.780362</td>\n",
       "      <td>17.153207</td>\n",
       "      <td>14.307292</td>\n",
       "      <td>18.076190</td>\n",
       "      <td>13.467187</td>\n",
       "    </tr>\n",
       "    <tr>\n",
       "      <th>2016-12-20</th>\n",
       "      <td>4.532887</td>\n",
       "      <td>-0.217573</td>\n",
       "      <td>10.646040</td>\n",
       "      <td>-0.468904</td>\n",
       "      <td>4.418154</td>\n",
       "      <td>83.138298</td>\n",
       "      <td>3.120000</td>\n",
       "      <td>8.673267</td>\n",
       "      <td>6.331781</td>\n",
       "      <td>0.838235</td>\n",
       "      <td>-1.344660</td>\n",
       "      <td>16.724240</td>\n",
       "    </tr>\n",
       "    <tr>\n",
       "      <th>2016-12-21</th>\n",
       "      <td>8.880095</td>\n",
       "      <td>5.854470</td>\n",
       "      <td>5.159951</td>\n",
       "      <td>1.023427</td>\n",
       "      <td>3.174543</td>\n",
       "      <td>92.971311</td>\n",
       "      <td>11.355769</td>\n",
       "      <td>12.266504</td>\n",
       "      <td>8.318950</td>\n",
       "      <td>4.950539</td>\n",
       "      <td>19.425000</td>\n",
       "      <td>8.230988</td>\n",
       "    </tr>\n",
       "    <tr>\n",
       "      <th>2016-12-22</th>\n",
       "      <td>11.079860</td>\n",
       "      <td>3.028056</td>\n",
       "      <td>7.124088</td>\n",
       "      <td>-1.254591</td>\n",
       "      <td>3.062215</td>\n",
       "      <td>66.926070</td>\n",
       "      <td>5.789216</td>\n",
       "      <td>15.900249</td>\n",
       "      <td>11.988453</td>\n",
       "      <td>4.564972</td>\n",
       "      <td>29.465347</td>\n",
       "      <td>17.587326</td>\n",
       "    </tr>\n",
       "    <tr>\n",
       "      <th>2016-12-23</th>\n",
       "      <td>9.947856</td>\n",
       "      <td>11.396761</td>\n",
       "      <td>3.631961</td>\n",
       "      <td>-0.466446</td>\n",
       "      <td>7.826054</td>\n",
       "      <td>48.185606</td>\n",
       "      <td>8.904110</td>\n",
       "      <td>10.027431</td>\n",
       "      <td>27.638055</td>\n",
       "      <td>14.209884</td>\n",
       "      <td>54.663212</td>\n",
       "      <td>14.184047</td>\n",
       "    </tr>\n",
       "    <tr>\n",
       "      <th>2016-12-24</th>\n",
       "      <td>1.424035</td>\n",
       "      <td>-6.813333</td>\n",
       "      <td>1.407859</td>\n",
       "      <td>-5.635143</td>\n",
       "      <td>4.483184</td>\n",
       "      <td>12.392157</td>\n",
       "      <td>6.336683</td>\n",
       "      <td>2.432570</td>\n",
       "      <td>14.038951</td>\n",
       "      <td>-2.695450</td>\n",
       "      <td>-3.560811</td>\n",
       "      <td>-2.062107</td>\n",
       "    </tr>\n",
       "    <tr>\n",
       "      <th>2016-12-25</th>\n",
       "      <td>-1.307180</td>\n",
       "      <td>-7.013889</td>\n",
       "      <td>-6.765544</td>\n",
       "      <td>0.068646</td>\n",
       "      <td>-1.486143</td>\n",
       "      <td>-2.622951</td>\n",
       "      <td>-1.584158</td>\n",
       "      <td>-0.827848</td>\n",
       "      <td>22.371946</td>\n",
       "      <td>-3.197302</td>\n",
       "      <td>-5.304054</td>\n",
       "      <td>-3.696472</td>\n",
       "    </tr>\n",
       "    <tr>\n",
       "      <th>2016-12-26</th>\n",
       "      <td>9.485536</td>\n",
       "      <td>6.631579</td>\n",
       "      <td>17.209951</td>\n",
       "      <td>23.648473</td>\n",
       "      <td>6.392019</td>\n",
       "      <td>23.733577</td>\n",
       "      <td>3.422330</td>\n",
       "      <td>23.567430</td>\n",
       "      <td>26.275492</td>\n",
       "      <td>3.532828</td>\n",
       "      <td>5.697917</td>\n",
       "      <td>11.873250</td>\n",
       "    </tr>\n",
       "    <tr>\n",
       "      <th>2016-12-27</th>\n",
       "      <td>3.879405</td>\n",
       "      <td>-0.366667</td>\n",
       "      <td>1.673966</td>\n",
       "      <td>3.064463</td>\n",
       "      <td>21.030840</td>\n",
       "      <td>12.815789</td>\n",
       "      <td>3.470000</td>\n",
       "      <td>11.641975</td>\n",
       "      <td>14.794033</td>\n",
       "      <td>2.738938</td>\n",
       "      <td>-1.575472</td>\n",
       "      <td>6.051861</td>\n",
       "    </tr>\n",
       "    <tr>\n",
       "      <th>2016-12-28</th>\n",
       "      <td>1.539976</td>\n",
       "      <td>-2.084711</td>\n",
       "      <td>4.219660</td>\n",
       "      <td>-5.644435</td>\n",
       "      <td>5.145946</td>\n",
       "      <td>2.768382</td>\n",
       "      <td>15.511962</td>\n",
       "      <td>2.228501</td>\n",
       "      <td>0.433865</td>\n",
       "      <td>0.519571</td>\n",
       "      <td>6.090476</td>\n",
       "      <td>4.872849</td>\n",
       "    </tr>\n",
       "    <tr>\n",
       "      <th>2016-12-29</th>\n",
       "      <td>2.458120</td>\n",
       "      <td>-1.989919</td>\n",
       "      <td>23.541262</td>\n",
       "      <td>-1.742171</td>\n",
       "      <td>9.432390</td>\n",
       "      <td>1.483516</td>\n",
       "      <td>5.666667</td>\n",
       "      <td>14.089109</td>\n",
       "      <td>5.593768</td>\n",
       "      <td>1.352829</td>\n",
       "      <td>-1.089623</td>\n",
       "      <td>6.313253</td>\n",
       "    </tr>\n",
       "    <tr>\n",
       "      <th>2016-12-30</th>\n",
       "      <td>-0.185591</td>\n",
       "      <td>2.513026</td>\n",
       "      <td>13.778589</td>\n",
       "      <td>-3.263632</td>\n",
       "      <td>0.969349</td>\n",
       "      <td>7.388278</td>\n",
       "      <td>6.334862</td>\n",
       "      <td>-0.140777</td>\n",
       "      <td>6.651507</td>\n",
       "      <td>-2.462620</td>\n",
       "      <td>-1.014151</td>\n",
       "      <td>2.819559</td>\n",
       "    </tr>\n",
       "    <tr>\n",
       "      <th>2016-12-31</th>\n",
       "      <td>-4.577165</td>\n",
       "      <td>2.673333</td>\n",
       "      <td>2.613699</td>\n",
       "      <td>-7.113807</td>\n",
       "      <td>-5.993341</td>\n",
       "      <td>0.940239</td>\n",
       "      <td>7.223350</td>\n",
       "      <td>-0.644279</td>\n",
       "      <td>-1.768072</td>\n",
       "      <td>-7.514641</td>\n",
       "      <td>0.085526</td>\n",
       "      <td>-3.275629</td>\n",
       "    </tr>\n",
       "  </tbody>\n",
       "</table>\n",
       "</div>"
      ],
      "text/plain": [
       "Carrier            AA         AS          B6         DL         EV  \\\n",
       "Date                                                                 \n",
       "2016-12-01  -3.249176  -0.917031    0.690088  -6.474708   1.034981   \n",
       "2016-12-02  -4.401472   4.112583   -4.939317  -6.856143   1.886311   \n",
       "2016-12-03  -6.450842  -0.306075   -5.286558  -8.401674  11.802938   \n",
       "2016-12-04   6.531223   7.926503   -2.400778   0.713982  23.330616   \n",
       "2016-12-05  -0.672994  47.352381   11.762516   3.444357  27.411765   \n",
       "2016-12-06  -1.037753  -5.155941    5.456164  -0.234008   9.605983   \n",
       "2016-12-07  -2.322567   4.311111    1.810959  -5.916833   6.763844   \n",
       "2016-12-08   3.978548   3.163366    2.695431   0.240950  16.826531   \n",
       "2016-12-09   1.298569  27.325581    6.909887   0.628016  12.543307   \n",
       "2016-12-10  -1.796730   7.824356    2.019316  -2.345487   5.181132   \n",
       "2016-12-11   8.305249  -0.475225    9.189295  21.562258   9.770526   \n",
       "2016-12-12   2.048422   8.145022   14.985987   8.876723  13.971406   \n",
       "2016-12-13  -1.996404  -2.216895    2.415789   1.348620  10.739796   \n",
       "2016-12-14   1.989225   2.668151    5.856183  -0.270184   8.769934   \n",
       "2016-12-15  13.866189   9.736142   30.755442  12.645614  20.614007   \n",
       "2016-12-16  16.154435  11.616495   19.271698  15.309496  22.376020   \n",
       "2016-12-17  54.850160  18.491111  123.368932  65.732109  48.432969   \n",
       "2016-12-18  29.063725   4.676349   63.079051  31.398161  49.321495   \n",
       "2016-12-19   7.613043  10.765784   17.042184  -0.581729  23.805802   \n",
       "2016-12-20   4.532887  -0.217573   10.646040  -0.468904   4.418154   \n",
       "2016-12-21   8.880095   5.854470    5.159951   1.023427   3.174543   \n",
       "2016-12-22  11.079860   3.028056    7.124088  -1.254591   3.062215   \n",
       "2016-12-23   9.947856  11.396761    3.631961  -0.466446   7.826054   \n",
       "2016-12-24   1.424035  -6.813333    1.407859  -5.635143   4.483184   \n",
       "2016-12-25  -1.307180  -7.013889   -6.765544   0.068646  -1.486143   \n",
       "2016-12-26   9.485536   6.631579   17.209951  23.648473   6.392019   \n",
       "2016-12-27   3.879405  -0.366667    1.673966   3.064463  21.030840   \n",
       "2016-12-28   1.539976  -2.084711    4.219660  -5.644435   5.145946   \n",
       "2016-12-29   2.458120  -1.989919   23.541262  -1.742171   9.432390   \n",
       "2016-12-30  -0.185591   2.513026   13.778589  -3.263632   0.969349   \n",
       "2016-12-31  -4.577165   2.673333    2.613699  -7.113807  -5.993341   \n",
       "\n",
       "Carrier             F9         HA         NK         OO         UA         VX  \\\n",
       "Date                                                                            \n",
       "2016-12-01   -2.945833   3.425743  -0.466837  -3.697689  -2.092489  -5.291262   \n",
       "2016-12-02   -4.697674  -4.591549   8.138191   3.343396  -1.082552   2.458937   \n",
       "2016-12-03   -5.083665   1.285714   0.226463  -4.249383  -2.641051  -4.206667   \n",
       "2016-12-04    1.166008  -2.063725  13.928753  15.098757  27.537439  -2.027174   \n",
       "2016-12-05    6.649805  -0.576355   9.552699  17.949045   6.526848   9.158416   \n",
       "2016-12-06   -2.503937  -2.619289   9.963351   5.918582  -0.746914  -8.235000   \n",
       "2016-12-07    1.140152   6.722772  -2.743523  10.090385   3.170635   3.065657   \n",
       "2016-12-08    6.030303  -0.049020   9.640306  20.210997   5.010585  26.880597   \n",
       "2016-12-09    9.257463   2.098131   8.959596  17.954198   4.426342  27.352941   \n",
       "2016-12-10    2.253846   4.270408   0.643590  14.457841   0.613124  19.342466   \n",
       "2016-12-11    8.988417   4.514851  26.476056  22.222046   8.966746   7.918129   \n",
       "2016-12-12    3.837037   8.482587  21.764706  18.816158   3.972344   9.090426   \n",
       "2016-12-13    2.123077  -0.285714   0.297927   6.568489  -4.932923  -1.637755   \n",
       "2016-12-14   10.718631  -2.870000   6.870466  14.896095   2.468852   6.774725   \n",
       "2016-12-15   23.277154  12.980198  18.241814  32.404128  26.613793  69.553672   \n",
       "2016-12-16   43.740310  17.370370  20.416216  34.836748  27.795173  52.668449   \n",
       "2016-12-17  175.025806  16.045000  51.363636  59.222475  68.991357  72.213542   \n",
       "2016-12-18  169.266187  13.009662  44.859890  53.925684  44.256046  29.375000   \n",
       "2016-12-19  110.839416   1.188406  24.780362  17.153207  14.307292  18.076190   \n",
       "2016-12-20   83.138298   3.120000   8.673267   6.331781   0.838235  -1.344660   \n",
       "2016-12-21   92.971311  11.355769  12.266504   8.318950   4.950539  19.425000   \n",
       "2016-12-22   66.926070   5.789216  15.900249  11.988453   4.564972  29.465347   \n",
       "2016-12-23   48.185606   8.904110  10.027431  27.638055  14.209884  54.663212   \n",
       "2016-12-24   12.392157   6.336683   2.432570  14.038951  -2.695450  -3.560811   \n",
       "2016-12-25   -2.622951  -1.584158  -0.827848  22.371946  -3.197302  -5.304054   \n",
       "2016-12-26   23.733577   3.422330  23.567430  26.275492   3.532828   5.697917   \n",
       "2016-12-27   12.815789   3.470000  11.641975  14.794033   2.738938  -1.575472   \n",
       "2016-12-28    2.768382  15.511962   2.228501   0.433865   0.519571   6.090476   \n",
       "2016-12-29    1.483516   5.666667  14.089109   5.593768   1.352829  -1.089623   \n",
       "2016-12-30    7.388278   6.334862  -0.140777   6.651507  -2.462620  -1.014151   \n",
       "2016-12-31    0.940239   7.223350  -0.644279  -1.768072  -7.514641   0.085526   \n",
       "\n",
       "Carrier            WN  \n",
       "Date                   \n",
       "2016-12-01  -4.885057  \n",
       "2016-12-02  -1.682405  \n",
       "2016-12-03  -6.125619  \n",
       "2016-12-04   5.420748  \n",
       "2016-12-05   1.874448  \n",
       "2016-12-06  -1.636464  \n",
       "2016-12-07  -1.187809  \n",
       "2016-12-08   4.794724  \n",
       "2016-12-09   1.649427  \n",
       "2016-12-10  -0.960159  \n",
       "2016-12-11   8.434099  \n",
       "2016-12-12   3.760594  \n",
       "2016-12-13   0.904513  \n",
       "2016-12-14   1.947543  \n",
       "2016-12-15  15.199290  \n",
       "2016-12-16  27.688345  \n",
       "2016-12-17  58.746597  \n",
       "2016-12-18  30.274827  \n",
       "2016-12-19  13.467187  \n",
       "2016-12-20  16.724240  \n",
       "2016-12-21   8.230988  \n",
       "2016-12-22  17.587326  \n",
       "2016-12-23  14.184047  \n",
       "2016-12-24  -2.062107  \n",
       "2016-12-25  -3.696472  \n",
       "2016-12-26  11.873250  \n",
       "2016-12-27   6.051861  \n",
       "2016-12-28   4.872849  \n",
       "2016-12-29   6.313253  \n",
       "2016-12-30   2.819559  \n",
       "2016-12-31  -3.275629  "
      ]
     },
     "execution_count": 50,
     "metadata": {},
     "output_type": "execute_result"
    }
   ],
   "source": [
    "air_dec.groupby([\"Date\", \"Carrier\"])[\"ArrDelay\"].mean().unstack()"
   ]
  },
  {
   "cell_type": "code",
   "execution_count": 55,
   "metadata": {},
   "outputs": [],
   "source": [
    "pd.Grouper?"
   ]
  },
  {
   "cell_type": "code",
   "execution_count": 58,
   "metadata": {
    "hide-output": false,
    "slideshow": {
     "slide_type": "-"
    }
   },
   "outputs": [
    {
     "data": {
      "text/html": [
       "<div>\n",
       "<style scoped>\n",
       "    .dataframe tbody tr th:only-of-type {\n",
       "        vertical-align: middle;\n",
       "    }\n",
       "\n",
       "    .dataframe tbody tr th {\n",
       "        vertical-align: top;\n",
       "    }\n",
       "\n",
       "    .dataframe thead th {\n",
       "        text-align: right;\n",
       "    }\n",
       "</style>\n",
       "<table border=\"1\" class=\"dataframe\">\n",
       "  <thead>\n",
       "    <tr style=\"text-align: right;\">\n",
       "      <th>Carrier</th>\n",
       "      <th>AA</th>\n",
       "      <th>AS</th>\n",
       "      <th>B6</th>\n",
       "      <th>DL</th>\n",
       "      <th>EV</th>\n",
       "      <th>F9</th>\n",
       "      <th>HA</th>\n",
       "      <th>NK</th>\n",
       "      <th>OO</th>\n",
       "      <th>UA</th>\n",
       "      <th>VX</th>\n",
       "      <th>WN</th>\n",
       "    </tr>\n",
       "    <tr>\n",
       "      <th>Date</th>\n",
       "      <th></th>\n",
       "      <th></th>\n",
       "      <th></th>\n",
       "      <th></th>\n",
       "      <th></th>\n",
       "      <th></th>\n",
       "      <th></th>\n",
       "      <th></th>\n",
       "      <th></th>\n",
       "      <th></th>\n",
       "      <th></th>\n",
       "      <th></th>\n",
       "    </tr>\n",
       "  </thead>\n",
       "  <tbody>\n",
       "    <tr>\n",
       "      <th>2016-12-04</th>\n",
       "      <td>-1.714887</td>\n",
       "      <td>2.724273</td>\n",
       "      <td>-2.894269</td>\n",
       "      <td>-5.088351</td>\n",
       "      <td>8.655332</td>\n",
       "      <td>-2.894212</td>\n",
       "      <td>-0.558282</td>\n",
       "      <td>5.468909</td>\n",
       "      <td>2.749573</td>\n",
       "      <td>5.564496</td>\n",
       "      <td>-2.121821</td>\n",
       "      <td>-1.663695</td>\n",
       "    </tr>\n",
       "    <tr>\n",
       "      <th>2016-12-11</th>\n",
       "      <td>1.148833</td>\n",
       "      <td>12.052031</td>\n",
       "      <td>5.795062</td>\n",
       "      <td>2.507745</td>\n",
       "      <td>13.220673</td>\n",
       "      <td>4.578861</td>\n",
       "      <td>2.054302</td>\n",
       "      <td>8.713755</td>\n",
       "      <td>15.429660</td>\n",
       "      <td>4.094176</td>\n",
       "      <td>12.080938</td>\n",
       "      <td>1.865933</td>\n",
       "    </tr>\n",
       "    <tr>\n",
       "      <th>2016-12-18</th>\n",
       "      <td>16.357561</td>\n",
       "      <td>7.643767</td>\n",
       "      <td>34.608356</td>\n",
       "      <td>18.000000</td>\n",
       "      <td>23.876622</td>\n",
       "      <td>45.014888</td>\n",
       "      <td>9.388889</td>\n",
       "      <td>22.857899</td>\n",
       "      <td>30.901639</td>\n",
       "      <td>22.398130</td>\n",
       "      <td>33.651128</td>\n",
       "      <td>18.373400</td>\n",
       "    </tr>\n",
       "    <tr>\n",
       "      <th>2016-12-25</th>\n",
       "      <td>6.364513</td>\n",
       "      <td>2.719699</td>\n",
       "      <td>5.586836</td>\n",
       "      <td>-0.916113</td>\n",
       "      <td>6.857143</td>\n",
       "      <td>54.084959</td>\n",
       "      <td>5.075747</td>\n",
       "      <td>10.443369</td>\n",
       "      <td>15.004780</td>\n",
       "      <td>5.332474</td>\n",
       "      <td>17.286917</td>\n",
       "      <td>10.197685</td>\n",
       "    </tr>\n",
       "    <tr>\n",
       "      <th>2017-01-01</th>\n",
       "      <td>2.321836</td>\n",
       "      <td>1.226662</td>\n",
       "      <td>10.661577</td>\n",
       "      <td>2.048116</td>\n",
       "      <td>6.800898</td>\n",
       "      <td>8.280298</td>\n",
       "      <td>6.970016</td>\n",
       "      <td>8.361123</td>\n",
       "      <td>8.971083</td>\n",
       "      <td>0.061786</td>\n",
       "      <td>1.349580</td>\n",
       "      <td>5.213019</td>\n",
       "    </tr>\n",
       "  </tbody>\n",
       "</table>\n",
       "</div>"
      ],
      "text/plain": [
       "Carrier            AA         AS         B6         DL         EV         F9  \\\n",
       "Date                                                                           \n",
       "2016-12-04  -1.714887   2.724273  -2.894269  -5.088351   8.655332  -2.894212   \n",
       "2016-12-11   1.148833  12.052031   5.795062   2.507745  13.220673   4.578861   \n",
       "2016-12-18  16.357561   7.643767  34.608356  18.000000  23.876622  45.014888   \n",
       "2016-12-25   6.364513   2.719699   5.586836  -0.916113   6.857143  54.084959   \n",
       "2017-01-01   2.321836   1.226662  10.661577   2.048116   6.800898   8.280298   \n",
       "\n",
       "Carrier           HA         NK         OO         UA         VX         WN  \n",
       "Date                                                                         \n",
       "2016-12-04 -0.558282   5.468909   2.749573   5.564496  -2.121821  -1.663695  \n",
       "2016-12-11  2.054302   8.713755  15.429660   4.094176  12.080938   1.865933  \n",
       "2016-12-18  9.388889  22.857899  30.901639  22.398130  33.651128  18.373400  \n",
       "2016-12-25  5.075747  10.443369  15.004780   5.332474  17.286917  10.197685  \n",
       "2017-01-01  6.970016   8.361123   8.971083   0.061786   1.349580   5.213019  "
      ]
     },
     "execution_count": 58,
     "metadata": {},
     "output_type": "execute_result"
    }
   ],
   "source": [
    "weekly_delays = (\n",
    "    air_dec\n",
    "    .groupby([pd.Grouper(key=\"Date\", freq=\"W\"), \"Carrier\"])\n",
    "    [\"ArrDelay\"]               # extract one column\n",
    "    .mean()                    # take average\n",
    "    .unstack(level=\"Carrier\")  # Flip carrier up as column names\n",
    ")\n",
    "weekly_delays"
   ]
  },
  {
   "cell_type": "markdown",
   "metadata": {
    "slideshow": {
     "slide_type": "subslide"
    }
   },
   "source": [
    "Let’s also plot this data."
   ]
  },
  {
   "cell_type": "code",
   "execution_count": 59,
   "metadata": {
    "hide-output": false,
    "slideshow": {
     "slide_type": "-"
    }
   },
   "outputs": [
    {
     "data": {
      "image/png": "[encoded data removed]",
      "text/plain": [
       "<Figure size 720x576 with 12 Axes>"
      ]
     },
     "metadata": {},
     "output_type": "display_data"
    }
   ],
   "source": [
    "# plot\n",
    "axs = weekly_delays.plot.bar(\n",
    "    figsize=(10, 8), subplots=True, legend=False, sharex=True,\n",
    "    sharey=True, layout=(4, 3), grid=False\n",
    ")\n",
    "\n",
    "# tweak spacing between subplots and xaxis labels\n",
    "axs[0,0].get_figure().tight_layout()\n",
    "for ax in axs[-1, :]:\n",
    "    ax.set_xticklabels(weekly_delays.index.strftime(\"%a, %b. %d'\"))"
   ]
  },
  {
   "cell_type": "markdown",
   "metadata": {
    "slideshow": {
     "slide_type": "-"
    }
   },
   "source": [
    "It looks like more delays occurred during the week ending Sunday\n",
    "December 18th than any other week (except for Frontier, who did *worse*\n",
    "on Christmas week).\n",
    "\n",
    "Let’s see why."
   ]
  },
  {
   "cell_type": "markdown",
   "metadata": {
    "slideshow": {
     "slide_type": "subslide"
    }
   },
   "source": [
    "The `air_dec` DataFrame has information on the minutes of delay\n",
    "attributed to 5 different categories:"
   ]
  },
  {
   "cell_type": "code",
   "execution_count": 60,
   "metadata": {
    "hide-output": false,
    "slideshow": {
     "slide_type": "-"
    }
   },
   "outputs": [],
   "source": [
    "delay_cols = [\n",
    "    'CarrierDelay',\n",
    "    'WeatherDelay',\n",
    "    'NASDelay',\n",
    "    'SecurityDelay',\n",
    "    'LateAircraftDelay'\n",
    "]"
   ]
  },
  {
   "cell_type": "markdown",
   "metadata": {
    "slideshow": {
     "slide_type": "fragment"
    }
   },
   "source": [
    "Let’s take a quick look at each of those delay categories for the week ending December 18, 2016."
   ]
  },
  {
   "cell_type": "code",
   "execution_count": 62,
   "metadata": {
    "hide-output": false,
    "slideshow": {
     "slide_type": "-"
    }
   },
   "outputs": [],
   "source": [
    "pre_christmas = air_dec.loc[\n",
    "    (air_dec[\"Date\"] >= \"2016-12-12\") & (air_dec[\"Date\"] <= \"2016-12-18\")\n",
    "]"
   ]
  },
  {
   "cell_type": "code",
   "execution_count": 63,
   "metadata": {},
   "outputs": [
    {
     "data": {
      "text/html": [
       "<div>\n",
       "<style scoped>\n",
       "    .dataframe tbody tr th:only-of-type {\n",
       "        vertical-align: middle;\n",
       "    }\n",
       "\n",
       "    .dataframe tbody tr th {\n",
       "        vertical-align: top;\n",
       "    }\n",
       "\n",
       "    .dataframe thead th {\n",
       "        text-align: right;\n",
       "    }\n",
       "</style>\n",
       "<table border=\"1\" class=\"dataframe\">\n",
       "  <thead>\n",
       "    <tr style=\"text-align: right;\">\n",
       "      <th></th>\n",
       "      <th>Carrier</th>\n",
       "      <th>TailNum</th>\n",
       "      <th>FlightNum</th>\n",
       "      <th>OriginCityMarketID</th>\n",
       "      <th>Origin</th>\n",
       "      <th>OriginCityName</th>\n",
       "      <th>OriginStateName</th>\n",
       "      <th>DestCityMarketID</th>\n",
       "      <th>Dest</th>\n",
       "      <th>DestCityName</th>\n",
       "      <th>...</th>\n",
       "      <th>AirTime</th>\n",
       "      <th>Distance</th>\n",
       "      <th>CarrierDelay</th>\n",
       "      <th>WeatherDelay</th>\n",
       "      <th>NASDelay</th>\n",
       "      <th>SecurityDelay</th>\n",
       "      <th>LateAircraftDelay</th>\n",
       "      <th>FirstDepTime</th>\n",
       "      <th>TotalAddGTime</th>\n",
       "      <th>Date</th>\n",
       "    </tr>\n",
       "  </thead>\n",
       "  <tbody>\n",
       "    <tr>\n",
       "      <th>0</th>\n",
       "      <td>AA</td>\n",
       "      <td>N3JHAA</td>\n",
       "      <td>46</td>\n",
       "      <td>31650</td>\n",
       "      <td>MSP</td>\n",
       "      <td>Minneapolis, MN</td>\n",
       "      <td>Minnesota</td>\n",
       "      <td>30977</td>\n",
       "      <td>ORD</td>\n",
       "      <td>Chicago, IL</td>\n",
       "      <td>...</td>\n",
       "      <td>58.0</td>\n",
       "      <td>334.0</td>\n",
       "      <td>0.0</td>\n",
       "      <td>0.0</td>\n",
       "      <td>20.0</td>\n",
       "      <td>0.0</td>\n",
       "      <td>0.0</td>\n",
       "      <td>NaN</td>\n",
       "      <td>NaN</td>\n",
       "      <td>2016-12-18</td>\n",
       "    </tr>\n",
       "    <tr>\n",
       "      <th>24</th>\n",
       "      <td>AA</td>\n",
       "      <td>N424AA</td>\n",
       "      <td>50</td>\n",
       "      <td>31123</td>\n",
       "      <td>STL</td>\n",
       "      <td>St. Louis, MO</td>\n",
       "      <td>Missouri</td>\n",
       "      <td>30194</td>\n",
       "      <td>DFW</td>\n",
       "      <td>Dallas/Fort Worth, TX</td>\n",
       "      <td>...</td>\n",
       "      <td>90.0</td>\n",
       "      <td>550.0</td>\n",
       "      <td>0.0</td>\n",
       "      <td>0.0</td>\n",
       "      <td>0.0</td>\n",
       "      <td>0.0</td>\n",
       "      <td>0.0</td>\n",
       "      <td>NaN</td>\n",
       "      <td>NaN</td>\n",
       "      <td>2016-12-12</td>\n",
       "    </tr>\n",
       "    <tr>\n",
       "      <th>25</th>\n",
       "      <td>AA</td>\n",
       "      <td>N4XFAA</td>\n",
       "      <td>50</td>\n",
       "      <td>31123</td>\n",
       "      <td>STL</td>\n",
       "      <td>St. Louis, MO</td>\n",
       "      <td>Missouri</td>\n",
       "      <td>30194</td>\n",
       "      <td>DFW</td>\n",
       "      <td>Dallas/Fort Worth, TX</td>\n",
       "      <td>...</td>\n",
       "      <td>90.0</td>\n",
       "      <td>550.0</td>\n",
       "      <td>0.0</td>\n",
       "      <td>0.0</td>\n",
       "      <td>0.0</td>\n",
       "      <td>0.0</td>\n",
       "      <td>0.0</td>\n",
       "      <td>NaN</td>\n",
       "      <td>NaN</td>\n",
       "      <td>2016-12-13</td>\n",
       "    </tr>\n",
       "    <tr>\n",
       "      <th>26</th>\n",
       "      <td>AA</td>\n",
       "      <td>N4XDAA</td>\n",
       "      <td>50</td>\n",
       "      <td>31123</td>\n",
       "      <td>STL</td>\n",
       "      <td>St. Louis, MO</td>\n",
       "      <td>Missouri</td>\n",
       "      <td>30194</td>\n",
       "      <td>DFW</td>\n",
       "      <td>Dallas/Fort Worth, TX</td>\n",
       "      <td>...</td>\n",
       "      <td>87.0</td>\n",
       "      <td>550.0</td>\n",
       "      <td>0.0</td>\n",
       "      <td>0.0</td>\n",
       "      <td>0.0</td>\n",
       "      <td>0.0</td>\n",
       "      <td>0.0</td>\n",
       "      <td>NaN</td>\n",
       "      <td>NaN</td>\n",
       "      <td>2016-12-14</td>\n",
       "    </tr>\n",
       "    <tr>\n",
       "      <th>27</th>\n",
       "      <td>AA</td>\n",
       "      <td>N4XYAA</td>\n",
       "      <td>50</td>\n",
       "      <td>31123</td>\n",
       "      <td>STL</td>\n",
       "      <td>St. Louis, MO</td>\n",
       "      <td>Missouri</td>\n",
       "      <td>30194</td>\n",
       "      <td>DFW</td>\n",
       "      <td>Dallas/Fort Worth, TX</td>\n",
       "      <td>...</td>\n",
       "      <td>84.0</td>\n",
       "      <td>550.0</td>\n",
       "      <td>0.0</td>\n",
       "      <td>0.0</td>\n",
       "      <td>0.0</td>\n",
       "      <td>0.0</td>\n",
       "      <td>0.0</td>\n",
       "      <td>NaN</td>\n",
       "      <td>NaN</td>\n",
       "      <td>2016-12-15</td>\n",
       "    </tr>\n",
       "    <tr>\n",
       "      <th>...</th>\n",
       "      <td>...</td>\n",
       "      <td>...</td>\n",
       "      <td>...</td>\n",
       "      <td>...</td>\n",
       "      <td>...</td>\n",
       "      <td>...</td>\n",
       "      <td>...</td>\n",
       "      <td>...</td>\n",
       "      <td>...</td>\n",
       "      <td>...</td>\n",
       "      <td>...</td>\n",
       "      <td>...</td>\n",
       "      <td>...</td>\n",
       "      <td>...</td>\n",
       "      <td>...</td>\n",
       "      <td>...</td>\n",
       "      <td>...</td>\n",
       "      <td>...</td>\n",
       "      <td>...</td>\n",
       "      <td>...</td>\n",
       "      <td>...</td>\n",
       "    </tr>\n",
       "    <tr>\n",
       "      <th>459633</th>\n",
       "      <td>NK</td>\n",
       "      <td>N531NK</td>\n",
       "      <td>126</td>\n",
       "      <td>32467</td>\n",
       "      <td>FLL</td>\n",
       "      <td>Fort Lauderdale, FL</td>\n",
       "      <td>Florida</td>\n",
       "      <td>31135</td>\n",
       "      <td>MYR</td>\n",
       "      <td>Myrtle Beach, SC</td>\n",
       "      <td>...</td>\n",
       "      <td>80.0</td>\n",
       "      <td>529.0</td>\n",
       "      <td>0.0</td>\n",
       "      <td>0.0</td>\n",
       "      <td>0.0</td>\n",
       "      <td>0.0</td>\n",
       "      <td>0.0</td>\n",
       "      <td>NaN</td>\n",
       "      <td>NaN</td>\n",
       "      <td>2016-12-14</td>\n",
       "    </tr>\n",
       "    <tr>\n",
       "      <th>459634</th>\n",
       "      <td>NK</td>\n",
       "      <td>N519NK</td>\n",
       "      <td>126</td>\n",
       "      <td>32467</td>\n",
       "      <td>FLL</td>\n",
       "      <td>Fort Lauderdale, FL</td>\n",
       "      <td>Florida</td>\n",
       "      <td>31135</td>\n",
       "      <td>MYR</td>\n",
       "      <td>Myrtle Beach, SC</td>\n",
       "      <td>...</td>\n",
       "      <td>79.0</td>\n",
       "      <td>529.0</td>\n",
       "      <td>0.0</td>\n",
       "      <td>0.0</td>\n",
       "      <td>0.0</td>\n",
       "      <td>0.0</td>\n",
       "      <td>0.0</td>\n",
       "      <td>NaN</td>\n",
       "      <td>NaN</td>\n",
       "      <td>2016-12-15</td>\n",
       "    </tr>\n",
       "    <tr>\n",
       "      <th>459635</th>\n",
       "      <td>NK</td>\n",
       "      <td>N522NK</td>\n",
       "      <td>126</td>\n",
       "      <td>32467</td>\n",
       "      <td>FLL</td>\n",
       "      <td>Fort Lauderdale, FL</td>\n",
       "      <td>Florida</td>\n",
       "      <td>31135</td>\n",
       "      <td>MYR</td>\n",
       "      <td>Myrtle Beach, SC</td>\n",
       "      <td>...</td>\n",
       "      <td>75.0</td>\n",
       "      <td>529.0</td>\n",
       "      <td>0.0</td>\n",
       "      <td>0.0</td>\n",
       "      <td>0.0</td>\n",
       "      <td>0.0</td>\n",
       "      <td>0.0</td>\n",
       "      <td>NaN</td>\n",
       "      <td>NaN</td>\n",
       "      <td>2016-12-16</td>\n",
       "    </tr>\n",
       "    <tr>\n",
       "      <th>459636</th>\n",
       "      <td>NK</td>\n",
       "      <td>N505NK</td>\n",
       "      <td>126</td>\n",
       "      <td>32467</td>\n",
       "      <td>FLL</td>\n",
       "      <td>Fort Lauderdale, FL</td>\n",
       "      <td>Florida</td>\n",
       "      <td>31135</td>\n",
       "      <td>MYR</td>\n",
       "      <td>Myrtle Beach, SC</td>\n",
       "      <td>...</td>\n",
       "      <td>80.0</td>\n",
       "      <td>529.0</td>\n",
       "      <td>0.0</td>\n",
       "      <td>0.0</td>\n",
       "      <td>0.0</td>\n",
       "      <td>0.0</td>\n",
       "      <td>0.0</td>\n",
       "      <td>NaN</td>\n",
       "      <td>NaN</td>\n",
       "      <td>2016-12-17</td>\n",
       "    </tr>\n",
       "    <tr>\n",
       "      <th>459637</th>\n",
       "      <td>NK</td>\n",
       "      <td>N524NK</td>\n",
       "      <td>126</td>\n",
       "      <td>32467</td>\n",
       "      <td>FLL</td>\n",
       "      <td>Fort Lauderdale, FL</td>\n",
       "      <td>Florida</td>\n",
       "      <td>31135</td>\n",
       "      <td>MYR</td>\n",
       "      <td>Myrtle Beach, SC</td>\n",
       "      <td>...</td>\n",
       "      <td>74.0</td>\n",
       "      <td>529.0</td>\n",
       "      <td>102.0</td>\n",
       "      <td>0.0</td>\n",
       "      <td>1.0</td>\n",
       "      <td>0.0</td>\n",
       "      <td>49.0</td>\n",
       "      <td>NaN</td>\n",
       "      <td>NaN</td>\n",
       "      <td>2016-12-18</td>\n",
       "    </tr>\n",
       "  </tbody>\n",
       "</table>\n",
       "<p>106503 rows × 36 columns</p>\n",
       "</div>"
      ],
      "text/plain": [
       "       Carrier TailNum  FlightNum  OriginCityMarketID Origin  \\\n",
       "0           AA  N3JHAA         46               31650    MSP   \n",
       "24          AA  N424AA         50               31123    STL   \n",
       "25          AA  N4XFAA         50               31123    STL   \n",
       "26          AA  N4XDAA         50               31123    STL   \n",
       "27          AA  N4XYAA         50               31123    STL   \n",
       "...        ...     ...        ...                 ...    ...   \n",
       "459633      NK  N531NK        126               32467    FLL   \n",
       "459634      NK  N519NK        126               32467    FLL   \n",
       "459635      NK  N522NK        126               32467    FLL   \n",
       "459636      NK  N505NK        126               32467    FLL   \n",
       "459637      NK  N524NK        126               32467    FLL   \n",
       "\n",
       "             OriginCityName OriginStateName  DestCityMarketID Dest  \\\n",
       "0           Minneapolis, MN       Minnesota             30977  ORD   \n",
       "24            St. Louis, MO        Missouri             30194  DFW   \n",
       "25            St. Louis, MO        Missouri             30194  DFW   \n",
       "26            St. Louis, MO        Missouri             30194  DFW   \n",
       "27            St. Louis, MO        Missouri             30194  DFW   \n",
       "...                     ...             ...               ...  ...   \n",
       "459633  Fort Lauderdale, FL         Florida             31135  MYR   \n",
       "459634  Fort Lauderdale, FL         Florida             31135  MYR   \n",
       "459635  Fort Lauderdale, FL         Florida             31135  MYR   \n",
       "459636  Fort Lauderdale, FL         Florida             31135  MYR   \n",
       "459637  Fort Lauderdale, FL         Florida             31135  MYR   \n",
       "\n",
       "                 DestCityName  ... AirTime Distance CarrierDelay  \\\n",
       "0                 Chicago, IL  ...    58.0    334.0          0.0   \n",
       "24      Dallas/Fort Worth, TX  ...    90.0    550.0          0.0   \n",
       "25      Dallas/Fort Worth, TX  ...    90.0    550.0          0.0   \n",
       "26      Dallas/Fort Worth, TX  ...    87.0    550.0          0.0   \n",
       "27      Dallas/Fort Worth, TX  ...    84.0    550.0          0.0   \n",
       "...                       ...  ...     ...      ...          ...   \n",
       "459633       Myrtle Beach, SC  ...    80.0    529.0          0.0   \n",
       "459634       Myrtle Beach, SC  ...    79.0    529.0          0.0   \n",
       "459635       Myrtle Beach, SC  ...    75.0    529.0          0.0   \n",
       "459636       Myrtle Beach, SC  ...    80.0    529.0          0.0   \n",
       "459637       Myrtle Beach, SC  ...    74.0    529.0        102.0   \n",
       "\n",
       "        WeatherDelay  NASDelay  SecurityDelay  LateAircraftDelay  \\\n",
       "0                0.0      20.0            0.0                0.0   \n",
       "24               0.0       0.0            0.0                0.0   \n",
       "25               0.0       0.0            0.0                0.0   \n",
       "26               0.0       0.0            0.0                0.0   \n",
       "27               0.0       0.0            0.0                0.0   \n",
       "...              ...       ...            ...                ...   \n",
       "459633           0.0       0.0            0.0                0.0   \n",
       "459634           0.0       0.0            0.0                0.0   \n",
       "459635           0.0       0.0            0.0                0.0   \n",
       "459636           0.0       0.0            0.0                0.0   \n",
       "459637           0.0       1.0            0.0               49.0   \n",
       "\n",
       "        FirstDepTime TotalAddGTime       Date  \n",
       "0                NaN           NaN 2016-12-18  \n",
       "24               NaN           NaN 2016-12-12  \n",
       "25               NaN           NaN 2016-12-13  \n",
       "26               NaN           NaN 2016-12-14  \n",
       "27               NaN           NaN 2016-12-15  \n",
       "...              ...           ...        ...  \n",
       "459633           NaN           NaN 2016-12-14  \n",
       "459634           NaN           NaN 2016-12-15  \n",
       "459635           NaN           NaN 2016-12-16  \n",
       "459636           NaN           NaN 2016-12-17  \n",
       "459637           NaN           NaN 2016-12-18  \n",
       "\n",
       "[106503 rows x 36 columns]"
      ]
     },
     "execution_count": 63,
     "metadata": {},
     "output_type": "execute_result"
    }
   ],
   "source": [
    "pre_christmas"
   ]
  },
  {
   "cell_type": "code",
   "execution_count": 64,
   "metadata": {
    "hide-output": false,
    "slideshow": {
     "slide_type": "-"
    }
   },
   "outputs": [
    {
     "data": {
      "text/html": [
       "<div>\n",
       "<style scoped>\n",
       "    .dataframe tbody tr th:only-of-type {\n",
       "        vertical-align: middle;\n",
       "    }\n",
       "\n",
       "    .dataframe tbody tr th {\n",
       "        vertical-align: top;\n",
       "    }\n",
       "\n",
       "    .dataframe thead tr th {\n",
       "        text-align: left;\n",
       "    }\n",
       "\n",
       "    .dataframe thead tr:last-of-type th {\n",
       "        text-align: right;\n",
       "    }\n",
       "</style>\n",
       "<table border=\"1\" class=\"dataframe\">\n",
       "  <thead>\n",
       "    <tr>\n",
       "      <th></th>\n",
       "      <th colspan=\"3\" halign=\"left\">CarrierDelay</th>\n",
       "      <th colspan=\"3\" halign=\"left\">WeatherDelay</th>\n",
       "      <th colspan=\"3\" halign=\"left\">NASDelay</th>\n",
       "      <th colspan=\"3\" halign=\"left\">SecurityDelay</th>\n",
       "      <th colspan=\"3\" halign=\"left\">LateAircraftDelay</th>\n",
       "    </tr>\n",
       "    <tr>\n",
       "      <th></th>\n",
       "      <th>sum</th>\n",
       "      <th>mean</th>\n",
       "      <th>positive</th>\n",
       "      <th>sum</th>\n",
       "      <th>mean</th>\n",
       "      <th>positive</th>\n",
       "      <th>sum</th>\n",
       "      <th>mean</th>\n",
       "      <th>positive</th>\n",
       "      <th>sum</th>\n",
       "      <th>mean</th>\n",
       "      <th>positive</th>\n",
       "      <th>sum</th>\n",
       "      <th>mean</th>\n",
       "      <th>positive</th>\n",
       "    </tr>\n",
       "    <tr>\n",
       "      <th>Carrier</th>\n",
       "      <th></th>\n",
       "      <th></th>\n",
       "      <th></th>\n",
       "      <th></th>\n",
       "      <th></th>\n",
       "      <th></th>\n",
       "      <th></th>\n",
       "      <th></th>\n",
       "      <th></th>\n",
       "      <th></th>\n",
       "      <th></th>\n",
       "      <th></th>\n",
       "      <th></th>\n",
       "      <th></th>\n",
       "      <th></th>\n",
       "    </tr>\n",
       "  </thead>\n",
       "  <tbody>\n",
       "    <tr>\n",
       "      <th>AA</th>\n",
       "      <td>105732.0</td>\n",
       "      <td>6.258553</td>\n",
       "      <td>2922.0</td>\n",
       "      <td>21820.0</td>\n",
       "      <td>1.291583</td>\n",
       "      <td>456.0</td>\n",
       "      <td>77279.0</td>\n",
       "      <td>4.574346</td>\n",
       "      <td>3159.0</td>\n",
       "      <td>721.0</td>\n",
       "      <td>0.042678</td>\n",
       "      <td>35.0</td>\n",
       "      <td>141249.0</td>\n",
       "      <td>8.360897</td>\n",
       "      <td>2574.0</td>\n",
       "    </tr>\n",
       "    <tr>\n",
       "      <th>AS</th>\n",
       "      <td>8762.0</td>\n",
       "      <td>2.691032</td>\n",
       "      <td>250.0</td>\n",
       "      <td>3219.0</td>\n",
       "      <td>0.988636</td>\n",
       "      <td>61.0</td>\n",
       "      <td>16344.0</td>\n",
       "      <td>5.019656</td>\n",
       "      <td>614.0</td>\n",
       "      <td>163.0</td>\n",
       "      <td>0.050061</td>\n",
       "      <td>10.0</td>\n",
       "      <td>13599.0</td>\n",
       "      <td>4.176597</td>\n",
       "      <td>271.0</td>\n",
       "    </tr>\n",
       "    <tr>\n",
       "      <th>B6</th>\n",
       "      <td>49421.0</td>\n",
       "      <td>9.031615</td>\n",
       "      <td>1575.0</td>\n",
       "      <td>9894.0</td>\n",
       "      <td>1.808114</td>\n",
       "      <td>112.0</td>\n",
       "      <td>38741.0</td>\n",
       "      <td>7.079861</td>\n",
       "      <td>1326.0</td>\n",
       "      <td>672.0</td>\n",
       "      <td>0.122807</td>\n",
       "      <td>30.0</td>\n",
       "      <td>100811.0</td>\n",
       "      <td>18.423063</td>\n",
       "      <td>1433.0</td>\n",
       "    </tr>\n",
       "    <tr>\n",
       "      <th>DL</th>\n",
       "      <td>151188.0</td>\n",
       "      <td>8.864212</td>\n",
       "      <td>2878.0</td>\n",
       "      <td>39145.0</td>\n",
       "      <td>2.295087</td>\n",
       "      <td>783.0</td>\n",
       "      <td>75110.0</td>\n",
       "      <td>4.403729</td>\n",
       "      <td>2605.0</td>\n",
       "      <td>107.0</td>\n",
       "      <td>0.006273</td>\n",
       "      <td>2.0</td>\n",
       "      <td>122896.0</td>\n",
       "      <td>7.205441</td>\n",
       "      <td>2289.0</td>\n",
       "    </tr>\n",
       "    <tr>\n",
       "      <th>EV</th>\n",
       "      <td>87408.0</td>\n",
       "      <td>9.939504</td>\n",
       "      <td>1375.0</td>\n",
       "      <td>3824.0</td>\n",
       "      <td>0.434842</td>\n",
       "      <td>76.0</td>\n",
       "      <td>49703.0</td>\n",
       "      <td>5.651922</td>\n",
       "      <td>1580.0</td>\n",
       "      <td>0.0</td>\n",
       "      <td>0.000000</td>\n",
       "      <td>0.0</td>\n",
       "      <td>89773.0</td>\n",
       "      <td>10.208438</td>\n",
       "      <td>1568.0</td>\n",
       "    </tr>\n",
       "    <tr>\n",
       "      <th>F9</th>\n",
       "      <td>19568.0</td>\n",
       "      <td>10.430704</td>\n",
       "      <td>361.0</td>\n",
       "      <td>6198.0</td>\n",
       "      <td>3.303838</td>\n",
       "      <td>57.0</td>\n",
       "      <td>22459.0</td>\n",
       "      <td>11.971748</td>\n",
       "      <td>493.0</td>\n",
       "      <td>0.0</td>\n",
       "      <td>0.000000</td>\n",
       "      <td>0.0</td>\n",
       "      <td>32236.0</td>\n",
       "      <td>17.183369</td>\n",
       "      <td>316.0</td>\n",
       "    </tr>\n",
       "    <tr>\n",
       "      <th>HA</th>\n",
       "      <td>7199.0</td>\n",
       "      <td>5.034266</td>\n",
       "      <td>218.0</td>\n",
       "      <td>3650.0</td>\n",
       "      <td>2.552448</td>\n",
       "      <td>145.0</td>\n",
       "      <td>86.0</td>\n",
       "      <td>0.060140</td>\n",
       "      <td>4.0</td>\n",
       "      <td>35.0</td>\n",
       "      <td>0.024476</td>\n",
       "      <td>3.0</td>\n",
       "      <td>4024.0</td>\n",
       "      <td>2.813986</td>\n",
       "      <td>189.0</td>\n",
       "    </tr>\n",
       "    <tr>\n",
       "      <th>NK</th>\n",
       "      <td>14735.0</td>\n",
       "      <td>5.294646</td>\n",
       "      <td>452.0</td>\n",
       "      <td>2240.0</td>\n",
       "      <td>0.804887</td>\n",
       "      <td>56.0</td>\n",
       "      <td>30361.0</td>\n",
       "      <td>10.909450</td>\n",
       "      <td>840.0</td>\n",
       "      <td>50.0</td>\n",
       "      <td>0.017966</td>\n",
       "      <td>5.0</td>\n",
       "      <td>22247.0</td>\n",
       "      <td>7.993891</td>\n",
       "      <td>372.0</td>\n",
       "    </tr>\n",
       "    <tr>\n",
       "      <th>OO</th>\n",
       "      <td>120307.0</td>\n",
       "      <td>10.439691</td>\n",
       "      <td>1378.0</td>\n",
       "      <td>26349.0</td>\n",
       "      <td>2.286446</td>\n",
       "      <td>308.0</td>\n",
       "      <td>54141.0</td>\n",
       "      <td>4.698108</td>\n",
       "      <td>2289.0</td>\n",
       "      <td>171.0</td>\n",
       "      <td>0.014839</td>\n",
       "      <td>12.0</td>\n",
       "      <td>166102.0</td>\n",
       "      <td>14.413572</td>\n",
       "      <td>2459.0</td>\n",
       "    </tr>\n",
       "    <tr>\n",
       "      <th>UA</th>\n",
       "      <td>66693.0</td>\n",
       "      <td>6.312636</td>\n",
       "      <td>1851.0</td>\n",
       "      <td>31602.0</td>\n",
       "      <td>2.991197</td>\n",
       "      <td>521.0</td>\n",
       "      <td>74992.0</td>\n",
       "      <td>7.098154</td>\n",
       "      <td>2065.0</td>\n",
       "      <td>0.0</td>\n",
       "      <td>0.000000</td>\n",
       "      <td>0.0</td>\n",
       "      <td>118728.0</td>\n",
       "      <td>11.237861</td>\n",
       "      <td>1696.0</td>\n",
       "    </tr>\n",
       "    <tr>\n",
       "      <th>VX</th>\n",
       "      <td>8048.0</td>\n",
       "      <td>5.608362</td>\n",
       "      <td>246.0</td>\n",
       "      <td>3807.0</td>\n",
       "      <td>2.652962</td>\n",
       "      <td>126.0</td>\n",
       "      <td>12619.0</td>\n",
       "      <td>8.793728</td>\n",
       "      <td>224.0</td>\n",
       "      <td>73.0</td>\n",
       "      <td>0.050871</td>\n",
       "      <td>4.0</td>\n",
       "      <td>25242.0</td>\n",
       "      <td>17.590244</td>\n",
       "      <td>331.0</td>\n",
       "    </tr>\n",
       "    <tr>\n",
       "      <th>WN</th>\n",
       "      <td>123882.0</td>\n",
       "      <td>4.873790</td>\n",
       "      <td>5393.0</td>\n",
       "      <td>23516.0</td>\n",
       "      <td>0.925171</td>\n",
       "      <td>328.0</td>\n",
       "      <td>78645.0</td>\n",
       "      <td>3.094067</td>\n",
       "      <td>4247.0</td>\n",
       "      <td>252.0</td>\n",
       "      <td>0.009914</td>\n",
       "      <td>18.0</td>\n",
       "      <td>285073.0</td>\n",
       "      <td>11.215399</td>\n",
       "      <td>6472.0</td>\n",
       "    </tr>\n",
       "  </tbody>\n",
       "</table>\n",
       "</div>"
      ],
      "text/plain": [
       "        CarrierDelay                     WeatherDelay                     \\\n",
       "                 sum       mean positive          sum      mean positive   \n",
       "Carrier                                                                    \n",
       "AA          105732.0   6.258553   2922.0      21820.0  1.291583    456.0   \n",
       "AS            8762.0   2.691032    250.0       3219.0  0.988636     61.0   \n",
       "B6           49421.0   9.031615   1575.0       9894.0  1.808114    112.0   \n",
       "DL          151188.0   8.864212   2878.0      39145.0  2.295087    783.0   \n",
       "EV           87408.0   9.939504   1375.0       3824.0  0.434842     76.0   \n",
       "F9           19568.0  10.430704    361.0       6198.0  3.303838     57.0   \n",
       "HA            7199.0   5.034266    218.0       3650.0  2.552448    145.0   \n",
       "NK           14735.0   5.294646    452.0       2240.0  0.804887     56.0   \n",
       "OO          120307.0  10.439691   1378.0      26349.0  2.286446    308.0   \n",
       "UA           66693.0   6.312636   1851.0      31602.0  2.991197    521.0   \n",
       "VX            8048.0   5.608362    246.0       3807.0  2.652962    126.0   \n",
       "WN          123882.0   4.873790   5393.0      23516.0  0.925171    328.0   \n",
       "\n",
       "        NASDelay                     SecurityDelay                     \\\n",
       "             sum       mean positive           sum      mean positive   \n",
       "Carrier                                                                 \n",
       "AA       77279.0   4.574346   3159.0         721.0  0.042678     35.0   \n",
       "AS       16344.0   5.019656    614.0         163.0  0.050061     10.0   \n",
       "B6       38741.0   7.079861   1326.0         672.0  0.122807     30.0   \n",
       "DL       75110.0   4.403729   2605.0         107.0  0.006273      2.0   \n",
       "EV       49703.0   5.651922   1580.0           0.0  0.000000      0.0   \n",
       "F9       22459.0  11.971748    493.0           0.0  0.000000      0.0   \n",
       "HA          86.0   0.060140      4.0          35.0  0.024476      3.0   \n",
       "NK       30361.0  10.909450    840.0          50.0  0.017966      5.0   \n",
       "OO       54141.0   4.698108   2289.0         171.0  0.014839     12.0   \n",
       "UA       74992.0   7.098154   2065.0           0.0  0.000000      0.0   \n",
       "VX       12619.0   8.793728    224.0          73.0  0.050871      4.0   \n",
       "WN       78645.0   3.094067   4247.0         252.0  0.009914     18.0   \n",
       "\n",
       "        LateAircraftDelay                      \n",
       "                      sum       mean positive  \n",
       "Carrier                                        \n",
       "AA               141249.0   8.360897   2574.0  \n",
       "AS                13599.0   4.176597    271.0  \n",
       "B6               100811.0  18.423063   1433.0  \n",
       "DL               122896.0   7.205441   2289.0  \n",
       "EV                89773.0  10.208438   1568.0  \n",
       "F9                32236.0  17.183369    316.0  \n",
       "HA                 4024.0   2.813986    189.0  \n",
       "NK                22247.0   7.993891    372.0  \n",
       "OO               166102.0  14.413572   2459.0  \n",
       "UA               118728.0  11.237861   1696.0  \n",
       "VX                25242.0  17.590244    331.0  \n",
       "WN               285073.0  11.215399   6472.0  "
      ]
     },
     "execution_count": 64,
     "metadata": {},
     "output_type": "execute_result"
    }
   ],
   "source": [
    "# custom agg function\n",
    "def positive(df):\n",
    "    return (df > 0).sum()\n",
    "\n",
    "delay_totals = pre_christmas.groupby(\"Carrier\")[delay_cols].agg([\"sum\", \"mean\", positive])\n",
    "\n",
    "delay_totals"
   ]
  },
  {
   "cell_type": "markdown",
   "metadata": {
    "slideshow": {
     "slide_type": "subslide"
    }
   },
   "source": [
    "**Want**: plot total, average, and number of each type of delay by\n",
    "carrier\n",
    "\n",
    "To do this, we need to have a DataFrame with:\n",
    "\n",
    "- Delay type in index (so it is on horizontal-axis)  \n",
    "- Aggregation method on *outer* most level of columns (so we can do\n",
    "  `data[\"mean\"]` to get averages)  \n",
    "- Carrier name on inner level of columns  \n",
    "\n",
    "\n",
    "Many sequences of the reshaping commands can accomplish this.\n",
    "\n",
    "We show one example below."
   ]
  },
  {
   "cell_type": "code",
   "execution_count": 69,
   "metadata": {},
   "outputs": [],
   "source": [
    "delay_totals.swaplevel?"
   ]
  },
  {
   "cell_type": "code",
   "execution_count": 71,
   "metadata": {},
   "outputs": [
    {
     "data": {
      "text/html": [
       "<div>\n",
       "<style scoped>\n",
       "    .dataframe tbody tr th:only-of-type {\n",
       "        vertical-align: middle;\n",
       "    }\n",
       "\n",
       "    .dataframe tbody tr th {\n",
       "        vertical-align: top;\n",
       "    }\n",
       "\n",
       "    .dataframe thead tr th {\n",
       "        text-align: left;\n",
       "    }\n",
       "</style>\n",
       "<table border=\"1\" class=\"dataframe\">\n",
       "  <thead>\n",
       "    <tr>\n",
       "      <th></th>\n",
       "      <th>sum</th>\n",
       "      <th>mean</th>\n",
       "      <th>positive</th>\n",
       "      <th>sum</th>\n",
       "      <th>mean</th>\n",
       "      <th>positive</th>\n",
       "      <th>sum</th>\n",
       "      <th>mean</th>\n",
       "      <th>positive</th>\n",
       "      <th>sum</th>\n",
       "      <th>...</th>\n",
       "      <th>positive</th>\n",
       "      <th>sum</th>\n",
       "      <th>mean</th>\n",
       "      <th>positive</th>\n",
       "      <th>sum</th>\n",
       "      <th>mean</th>\n",
       "      <th>positive</th>\n",
       "      <th>sum</th>\n",
       "      <th>mean</th>\n",
       "      <th>positive</th>\n",
       "    </tr>\n",
       "    <tr>\n",
       "      <th>Carrier</th>\n",
       "      <th>AA</th>\n",
       "      <th>AA</th>\n",
       "      <th>AA</th>\n",
       "      <th>AS</th>\n",
       "      <th>AS</th>\n",
       "      <th>AS</th>\n",
       "      <th>B6</th>\n",
       "      <th>B6</th>\n",
       "      <th>B6</th>\n",
       "      <th>DL</th>\n",
       "      <th>...</th>\n",
       "      <th>OO</th>\n",
       "      <th>UA</th>\n",
       "      <th>UA</th>\n",
       "      <th>UA</th>\n",
       "      <th>VX</th>\n",
       "      <th>VX</th>\n",
       "      <th>VX</th>\n",
       "      <th>WN</th>\n",
       "      <th>WN</th>\n",
       "      <th>WN</th>\n",
       "    </tr>\n",
       "  </thead>\n",
       "  <tbody>\n",
       "    <tr>\n",
       "      <th>CarrierDelay</th>\n",
       "      <td>105732.0</td>\n",
       "      <td>6.258553</td>\n",
       "      <td>2922.0</td>\n",
       "      <td>8762.0</td>\n",
       "      <td>2.691032</td>\n",
       "      <td>250.0</td>\n",
       "      <td>49421.0</td>\n",
       "      <td>9.031615</td>\n",
       "      <td>1575.0</td>\n",
       "      <td>151188.0</td>\n",
       "      <td>...</td>\n",
       "      <td>1378.0</td>\n",
       "      <td>66693.0</td>\n",
       "      <td>6.312636</td>\n",
       "      <td>1851.0</td>\n",
       "      <td>8048.0</td>\n",
       "      <td>5.608362</td>\n",
       "      <td>246.0</td>\n",
       "      <td>123882.0</td>\n",
       "      <td>4.873790</td>\n",
       "      <td>5393.0</td>\n",
       "    </tr>\n",
       "    <tr>\n",
       "      <th>WeatherDelay</th>\n",
       "      <td>21820.0</td>\n",
       "      <td>1.291583</td>\n",
       "      <td>456.0</td>\n",
       "      <td>3219.0</td>\n",
       "      <td>0.988636</td>\n",
       "      <td>61.0</td>\n",
       "      <td>9894.0</td>\n",
       "      <td>1.808114</td>\n",
       "      <td>112.0</td>\n",
       "      <td>39145.0</td>\n",
       "      <td>...</td>\n",
       "      <td>308.0</td>\n",
       "      <td>31602.0</td>\n",
       "      <td>2.991197</td>\n",
       "      <td>521.0</td>\n",
       "      <td>3807.0</td>\n",
       "      <td>2.652962</td>\n",
       "      <td>126.0</td>\n",
       "      <td>23516.0</td>\n",
       "      <td>0.925171</td>\n",
       "      <td>328.0</td>\n",
       "    </tr>\n",
       "    <tr>\n",
       "      <th>NASDelay</th>\n",
       "      <td>77279.0</td>\n",
       "      <td>4.574346</td>\n",
       "      <td>3159.0</td>\n",
       "      <td>16344.0</td>\n",
       "      <td>5.019656</td>\n",
       "      <td>614.0</td>\n",
       "      <td>38741.0</td>\n",
       "      <td>7.079861</td>\n",
       "      <td>1326.0</td>\n",
       "      <td>75110.0</td>\n",
       "      <td>...</td>\n",
       "      <td>2289.0</td>\n",
       "      <td>74992.0</td>\n",
       "      <td>7.098154</td>\n",
       "      <td>2065.0</td>\n",
       "      <td>12619.0</td>\n",
       "      <td>8.793728</td>\n",
       "      <td>224.0</td>\n",
       "      <td>78645.0</td>\n",
       "      <td>3.094067</td>\n",
       "      <td>4247.0</td>\n",
       "    </tr>\n",
       "    <tr>\n",
       "      <th>SecurityDelay</th>\n",
       "      <td>721.0</td>\n",
       "      <td>0.042678</td>\n",
       "      <td>35.0</td>\n",
       "      <td>163.0</td>\n",
       "      <td>0.050061</td>\n",
       "      <td>10.0</td>\n",
       "      <td>672.0</td>\n",
       "      <td>0.122807</td>\n",
       "      <td>30.0</td>\n",
       "      <td>107.0</td>\n",
       "      <td>...</td>\n",
       "      <td>12.0</td>\n",
       "      <td>0.0</td>\n",
       "      <td>0.000000</td>\n",
       "      <td>0.0</td>\n",
       "      <td>73.0</td>\n",
       "      <td>0.050871</td>\n",
       "      <td>4.0</td>\n",
       "      <td>252.0</td>\n",
       "      <td>0.009914</td>\n",
       "      <td>18.0</td>\n",
       "    </tr>\n",
       "    <tr>\n",
       "      <th>LateAircraftDelay</th>\n",
       "      <td>141249.0</td>\n",
       "      <td>8.360897</td>\n",
       "      <td>2574.0</td>\n",
       "      <td>13599.0</td>\n",
       "      <td>4.176597</td>\n",
       "      <td>271.0</td>\n",
       "      <td>100811.0</td>\n",
       "      <td>18.423063</td>\n",
       "      <td>1433.0</td>\n",
       "      <td>122896.0</td>\n",
       "      <td>...</td>\n",
       "      <td>2459.0</td>\n",
       "      <td>118728.0</td>\n",
       "      <td>11.237861</td>\n",
       "      <td>1696.0</td>\n",
       "      <td>25242.0</td>\n",
       "      <td>17.590244</td>\n",
       "      <td>331.0</td>\n",
       "      <td>285073.0</td>\n",
       "      <td>11.215399</td>\n",
       "      <td>6472.0</td>\n",
       "    </tr>\n",
       "  </tbody>\n",
       "</table>\n",
       "<p>5 rows × 36 columns</p>\n",
       "</div>"
      ],
      "text/plain": [
       "                        sum      mean positive      sum      mean positive  \\\n",
       "Carrier                  AA        AA       AA       AS        AS       AS   \n",
       "CarrierDelay       105732.0  6.258553   2922.0   8762.0  2.691032    250.0   \n",
       "WeatherDelay        21820.0  1.291583    456.0   3219.0  0.988636     61.0   \n",
       "NASDelay            77279.0  4.574346   3159.0  16344.0  5.019656    614.0   \n",
       "SecurityDelay         721.0  0.042678     35.0    163.0  0.050061     10.0   \n",
       "LateAircraftDelay  141249.0  8.360897   2574.0  13599.0  4.176597    271.0   \n",
       "\n",
       "                        sum       mean positive       sum  ... positive  \\\n",
       "Carrier                  B6         B6       B6        DL  ...       OO   \n",
       "CarrierDelay        49421.0   9.031615   1575.0  151188.0  ...   1378.0   \n",
       "WeatherDelay         9894.0   1.808114    112.0   39145.0  ...    308.0   \n",
       "NASDelay            38741.0   7.079861   1326.0   75110.0  ...   2289.0   \n",
       "SecurityDelay         672.0   0.122807     30.0     107.0  ...     12.0   \n",
       "LateAircraftDelay  100811.0  18.423063   1433.0  122896.0  ...   2459.0   \n",
       "\n",
       "                        sum       mean positive      sum       mean positive  \\\n",
       "Carrier                  UA         UA       UA       VX         VX       VX   \n",
       "CarrierDelay        66693.0   6.312636   1851.0   8048.0   5.608362    246.0   \n",
       "WeatherDelay        31602.0   2.991197    521.0   3807.0   2.652962    126.0   \n",
       "NASDelay            74992.0   7.098154   2065.0  12619.0   8.793728    224.0   \n",
       "SecurityDelay           0.0   0.000000      0.0     73.0   0.050871      4.0   \n",
       "LateAircraftDelay  118728.0  11.237861   1696.0  25242.0  17.590244    331.0   \n",
       "\n",
       "                        sum       mean positive  \n",
       "Carrier                  WN         WN       WN  \n",
       "CarrierDelay       123882.0   4.873790   5393.0  \n",
       "WeatherDelay        23516.0   0.925171    328.0  \n",
       "NASDelay            78645.0   3.094067   4247.0  \n",
       "SecurityDelay         252.0   0.009914     18.0  \n",
       "LateAircraftDelay  285073.0  11.215399   6472.0  \n",
       "\n",
       "[5 rows x 36 columns]"
      ]
     },
     "execution_count": 71,
     "metadata": {},
     "output_type": "execute_result"
    }
   ],
   "source": [
    "delay_totals.stack().T.swaplevel(axis=1)"
   ]
  },
  {
   "cell_type": "code",
   "execution_count": 70,
   "metadata": {},
   "outputs": [
    {
     "data": {
      "text/html": [
       "<div>\n",
       "<style scoped>\n",
       "    .dataframe tbody tr th:only-of-type {\n",
       "        vertical-align: middle;\n",
       "    }\n",
       "\n",
       "    .dataframe tbody tr th {\n",
       "        vertical-align: top;\n",
       "    }\n",
       "\n",
       "    .dataframe thead tr th {\n",
       "        text-align: left;\n",
       "    }\n",
       "</style>\n",
       "<table border=\"1\" class=\"dataframe\">\n",
       "  <thead>\n",
       "    <tr>\n",
       "      <th>Carrier</th>\n",
       "      <th colspan=\"3\" halign=\"left\">AA</th>\n",
       "      <th colspan=\"3\" halign=\"left\">AS</th>\n",
       "      <th colspan=\"3\" halign=\"left\">B6</th>\n",
       "      <th>DL</th>\n",
       "      <th>...</th>\n",
       "      <th>OO</th>\n",
       "      <th colspan=\"3\" halign=\"left\">UA</th>\n",
       "      <th colspan=\"3\" halign=\"left\">VX</th>\n",
       "      <th colspan=\"3\" halign=\"left\">WN</th>\n",
       "    </tr>\n",
       "    <tr>\n",
       "      <th></th>\n",
       "      <th>sum</th>\n",
       "      <th>mean</th>\n",
       "      <th>positive</th>\n",
       "      <th>sum</th>\n",
       "      <th>mean</th>\n",
       "      <th>positive</th>\n",
       "      <th>sum</th>\n",
       "      <th>mean</th>\n",
       "      <th>positive</th>\n",
       "      <th>sum</th>\n",
       "      <th>...</th>\n",
       "      <th>positive</th>\n",
       "      <th>sum</th>\n",
       "      <th>mean</th>\n",
       "      <th>positive</th>\n",
       "      <th>sum</th>\n",
       "      <th>mean</th>\n",
       "      <th>positive</th>\n",
       "      <th>sum</th>\n",
       "      <th>mean</th>\n",
       "      <th>positive</th>\n",
       "    </tr>\n",
       "  </thead>\n",
       "  <tbody>\n",
       "    <tr>\n",
       "      <th>CarrierDelay</th>\n",
       "      <td>105732.0</td>\n",
       "      <td>6.258553</td>\n",
       "      <td>2922.0</td>\n",
       "      <td>8762.0</td>\n",
       "      <td>2.691032</td>\n",
       "      <td>250.0</td>\n",
       "      <td>49421.0</td>\n",
       "      <td>9.031615</td>\n",
       "      <td>1575.0</td>\n",
       "      <td>151188.0</td>\n",
       "      <td>...</td>\n",
       "      <td>1378.0</td>\n",
       "      <td>66693.0</td>\n",
       "      <td>6.312636</td>\n",
       "      <td>1851.0</td>\n",
       "      <td>8048.0</td>\n",
       "      <td>5.608362</td>\n",
       "      <td>246.0</td>\n",
       "      <td>123882.0</td>\n",
       "      <td>4.873790</td>\n",
       "      <td>5393.0</td>\n",
       "    </tr>\n",
       "    <tr>\n",
       "      <th>WeatherDelay</th>\n",
       "      <td>21820.0</td>\n",
       "      <td>1.291583</td>\n",
       "      <td>456.0</td>\n",
       "      <td>3219.0</td>\n",
       "      <td>0.988636</td>\n",
       "      <td>61.0</td>\n",
       "      <td>9894.0</td>\n",
       "      <td>1.808114</td>\n",
       "      <td>112.0</td>\n",
       "      <td>39145.0</td>\n",
       "      <td>...</td>\n",
       "      <td>308.0</td>\n",
       "      <td>31602.0</td>\n",
       "      <td>2.991197</td>\n",
       "      <td>521.0</td>\n",
       "      <td>3807.0</td>\n",
       "      <td>2.652962</td>\n",
       "      <td>126.0</td>\n",
       "      <td>23516.0</td>\n",
       "      <td>0.925171</td>\n",
       "      <td>328.0</td>\n",
       "    </tr>\n",
       "    <tr>\n",
       "      <th>NASDelay</th>\n",
       "      <td>77279.0</td>\n",
       "      <td>4.574346</td>\n",
       "      <td>3159.0</td>\n",
       "      <td>16344.0</td>\n",
       "      <td>5.019656</td>\n",
       "      <td>614.0</td>\n",
       "      <td>38741.0</td>\n",
       "      <td>7.079861</td>\n",
       "      <td>1326.0</td>\n",
       "      <td>75110.0</td>\n",
       "      <td>...</td>\n",
       "      <td>2289.0</td>\n",
       "      <td>74992.0</td>\n",
       "      <td>7.098154</td>\n",
       "      <td>2065.0</td>\n",
       "      <td>12619.0</td>\n",
       "      <td>8.793728</td>\n",
       "      <td>224.0</td>\n",
       "      <td>78645.0</td>\n",
       "      <td>3.094067</td>\n",
       "      <td>4247.0</td>\n",
       "    </tr>\n",
       "    <tr>\n",
       "      <th>SecurityDelay</th>\n",
       "      <td>721.0</td>\n",
       "      <td>0.042678</td>\n",
       "      <td>35.0</td>\n",
       "      <td>163.0</td>\n",
       "      <td>0.050061</td>\n",
       "      <td>10.0</td>\n",
       "      <td>672.0</td>\n",
       "      <td>0.122807</td>\n",
       "      <td>30.0</td>\n",
       "      <td>107.0</td>\n",
       "      <td>...</td>\n",
       "      <td>12.0</td>\n",
       "      <td>0.0</td>\n",
       "      <td>0.000000</td>\n",
       "      <td>0.0</td>\n",
       "      <td>73.0</td>\n",
       "      <td>0.050871</td>\n",
       "      <td>4.0</td>\n",
       "      <td>252.0</td>\n",
       "      <td>0.009914</td>\n",
       "      <td>18.0</td>\n",
       "    </tr>\n",
       "    <tr>\n",
       "      <th>LateAircraftDelay</th>\n",
       "      <td>141249.0</td>\n",
       "      <td>8.360897</td>\n",
       "      <td>2574.0</td>\n",
       "      <td>13599.0</td>\n",
       "      <td>4.176597</td>\n",
       "      <td>271.0</td>\n",
       "      <td>100811.0</td>\n",
       "      <td>18.423063</td>\n",
       "      <td>1433.0</td>\n",
       "      <td>122896.0</td>\n",
       "      <td>...</td>\n",
       "      <td>2459.0</td>\n",
       "      <td>118728.0</td>\n",
       "      <td>11.237861</td>\n",
       "      <td>1696.0</td>\n",
       "      <td>25242.0</td>\n",
       "      <td>17.590244</td>\n",
       "      <td>331.0</td>\n",
       "      <td>285073.0</td>\n",
       "      <td>11.215399</td>\n",
       "      <td>6472.0</td>\n",
       "    </tr>\n",
       "  </tbody>\n",
       "</table>\n",
       "<p>5 rows × 36 columns</p>\n",
       "</div>"
      ],
      "text/plain": [
       "Carrier                  AA                          AS                     \\\n",
       "                        sum      mean positive      sum      mean positive   \n",
       "CarrierDelay       105732.0  6.258553   2922.0   8762.0  2.691032    250.0   \n",
       "WeatherDelay        21820.0  1.291583    456.0   3219.0  0.988636     61.0   \n",
       "NASDelay            77279.0  4.574346   3159.0  16344.0  5.019656    614.0   \n",
       "SecurityDelay         721.0  0.042678     35.0    163.0  0.050061     10.0   \n",
       "LateAircraftDelay  141249.0  8.360897   2574.0  13599.0  4.176597    271.0   \n",
       "\n",
       "Carrier                  B6                            DL  ...       OO  \\\n",
       "                        sum       mean positive       sum  ... positive   \n",
       "CarrierDelay        49421.0   9.031615   1575.0  151188.0  ...   1378.0   \n",
       "WeatherDelay         9894.0   1.808114    112.0   39145.0  ...    308.0   \n",
       "NASDelay            38741.0   7.079861   1326.0   75110.0  ...   2289.0   \n",
       "SecurityDelay         672.0   0.122807     30.0     107.0  ...     12.0   \n",
       "LateAircraftDelay  100811.0  18.423063   1433.0  122896.0  ...   2459.0   \n",
       "\n",
       "Carrier                  UA                           VX                      \\\n",
       "                        sum       mean positive      sum       mean positive   \n",
       "CarrierDelay        66693.0   6.312636   1851.0   8048.0   5.608362    246.0   \n",
       "WeatherDelay        31602.0   2.991197    521.0   3807.0   2.652962    126.0   \n",
       "NASDelay            74992.0   7.098154   2065.0  12619.0   8.793728    224.0   \n",
       "SecurityDelay           0.0   0.000000      0.0     73.0   0.050871      4.0   \n",
       "LateAircraftDelay  118728.0  11.237861   1696.0  25242.0  17.590244    331.0   \n",
       "\n",
       "Carrier                  WN                      \n",
       "                        sum       mean positive  \n",
       "CarrierDelay       123882.0   4.873790   5393.0  \n",
       "WeatherDelay        23516.0   0.925171    328.0  \n",
       "NASDelay            78645.0   3.094067   4247.0  \n",
       "SecurityDelay         252.0   0.009914     18.0  \n",
       "LateAircraftDelay  285073.0  11.215399   6472.0  \n",
       "\n",
       "[5 rows x 36 columns]"
      ]
     },
     "execution_count": 70,
     "metadata": {},
     "output_type": "execute_result"
    }
   ],
   "source": [
    "delay_totals.stack().T"
   ]
  },
  {
   "cell_type": "code",
   "execution_count": 65,
   "metadata": {
    "hide-output": false,
    "slideshow": {
     "slide_type": "-"
    }
   },
   "outputs": [
    {
     "data": {
      "text/html": [
       "<div>\n",
       "<style scoped>\n",
       "    .dataframe tbody tr th:only-of-type {\n",
       "        vertical-align: middle;\n",
       "    }\n",
       "\n",
       "    .dataframe tbody tr th {\n",
       "        vertical-align: top;\n",
       "    }\n",
       "\n",
       "    .dataframe thead tr th {\n",
       "        text-align: left;\n",
       "    }\n",
       "</style>\n",
       "<table border=\"1\" class=\"dataframe\">\n",
       "  <thead>\n",
       "    <tr>\n",
       "      <th></th>\n",
       "      <th colspan=\"10\" halign=\"left\">mean</th>\n",
       "      <th>...</th>\n",
       "      <th colspan=\"10\" halign=\"left\">sum</th>\n",
       "    </tr>\n",
       "    <tr>\n",
       "      <th>Carrier</th>\n",
       "      <th>AA</th>\n",
       "      <th>AS</th>\n",
       "      <th>B6</th>\n",
       "      <th>DL</th>\n",
       "      <th>EV</th>\n",
       "      <th>F9</th>\n",
       "      <th>HA</th>\n",
       "      <th>NK</th>\n",
       "      <th>OO</th>\n",
       "      <th>UA</th>\n",
       "      <th>...</th>\n",
       "      <th>B6</th>\n",
       "      <th>DL</th>\n",
       "      <th>EV</th>\n",
       "      <th>F9</th>\n",
       "      <th>HA</th>\n",
       "      <th>NK</th>\n",
       "      <th>OO</th>\n",
       "      <th>UA</th>\n",
       "      <th>VX</th>\n",
       "      <th>WN</th>\n",
       "    </tr>\n",
       "  </thead>\n",
       "  <tbody>\n",
       "    <tr>\n",
       "      <th>CarrierDelay</th>\n",
       "      <td>6.258553</td>\n",
       "      <td>2.691032</td>\n",
       "      <td>9.031615</td>\n",
       "      <td>8.864212</td>\n",
       "      <td>9.939504</td>\n",
       "      <td>10.430704</td>\n",
       "      <td>5.034266</td>\n",
       "      <td>5.294646</td>\n",
       "      <td>10.439691</td>\n",
       "      <td>6.312636</td>\n",
       "      <td>...</td>\n",
       "      <td>49421.0</td>\n",
       "      <td>151188.0</td>\n",
       "      <td>87408.0</td>\n",
       "      <td>19568.0</td>\n",
       "      <td>7199.0</td>\n",
       "      <td>14735.0</td>\n",
       "      <td>120307.0</td>\n",
       "      <td>66693.0</td>\n",
       "      <td>8048.0</td>\n",
       "      <td>123882.0</td>\n",
       "    </tr>\n",
       "    <tr>\n",
       "      <th>WeatherDelay</th>\n",
       "      <td>1.291583</td>\n",
       "      <td>0.988636</td>\n",
       "      <td>1.808114</td>\n",
       "      <td>2.295087</td>\n",
       "      <td>0.434842</td>\n",
       "      <td>3.303838</td>\n",
       "      <td>2.552448</td>\n",
       "      <td>0.804887</td>\n",
       "      <td>2.286446</td>\n",
       "      <td>2.991197</td>\n",
       "      <td>...</td>\n",
       "      <td>9894.0</td>\n",
       "      <td>39145.0</td>\n",
       "      <td>3824.0</td>\n",
       "      <td>6198.0</td>\n",
       "      <td>3650.0</td>\n",
       "      <td>2240.0</td>\n",
       "      <td>26349.0</td>\n",
       "      <td>31602.0</td>\n",
       "      <td>3807.0</td>\n",
       "      <td>23516.0</td>\n",
       "    </tr>\n",
       "    <tr>\n",
       "      <th>NASDelay</th>\n",
       "      <td>4.574346</td>\n",
       "      <td>5.019656</td>\n",
       "      <td>7.079861</td>\n",
       "      <td>4.403729</td>\n",
       "      <td>5.651922</td>\n",
       "      <td>11.971748</td>\n",
       "      <td>0.060140</td>\n",
       "      <td>10.909450</td>\n",
       "      <td>4.698108</td>\n",
       "      <td>7.098154</td>\n",
       "      <td>...</td>\n",
       "      <td>38741.0</td>\n",
       "      <td>75110.0</td>\n",
       "      <td>49703.0</td>\n",
       "      <td>22459.0</td>\n",
       "      <td>86.0</td>\n",
       "      <td>30361.0</td>\n",
       "      <td>54141.0</td>\n",
       "      <td>74992.0</td>\n",
       "      <td>12619.0</td>\n",
       "      <td>78645.0</td>\n",
       "    </tr>\n",
       "    <tr>\n",
       "      <th>SecurityDelay</th>\n",
       "      <td>0.042678</td>\n",
       "      <td>0.050061</td>\n",
       "      <td>0.122807</td>\n",
       "      <td>0.006273</td>\n",
       "      <td>0.000000</td>\n",
       "      <td>0.000000</td>\n",
       "      <td>0.024476</td>\n",
       "      <td>0.017966</td>\n",
       "      <td>0.014839</td>\n",
       "      <td>0.000000</td>\n",
       "      <td>...</td>\n",
       "      <td>672.0</td>\n",
       "      <td>107.0</td>\n",
       "      <td>0.0</td>\n",
       "      <td>0.0</td>\n",
       "      <td>35.0</td>\n",
       "      <td>50.0</td>\n",
       "      <td>171.0</td>\n",
       "      <td>0.0</td>\n",
       "      <td>73.0</td>\n",
       "      <td>252.0</td>\n",
       "    </tr>\n",
       "    <tr>\n",
       "      <th>LateAircraftDelay</th>\n",
       "      <td>8.360897</td>\n",
       "      <td>4.176597</td>\n",
       "      <td>18.423063</td>\n",
       "      <td>7.205441</td>\n",
       "      <td>10.208438</td>\n",
       "      <td>17.183369</td>\n",
       "      <td>2.813986</td>\n",
       "      <td>7.993891</td>\n",
       "      <td>14.413572</td>\n",
       "      <td>11.237861</td>\n",
       "      <td>...</td>\n",
       "      <td>100811.0</td>\n",
       "      <td>122896.0</td>\n",
       "      <td>89773.0</td>\n",
       "      <td>32236.0</td>\n",
       "      <td>4024.0</td>\n",
       "      <td>22247.0</td>\n",
       "      <td>166102.0</td>\n",
       "      <td>118728.0</td>\n",
       "      <td>25242.0</td>\n",
       "      <td>285073.0</td>\n",
       "    </tr>\n",
       "  </tbody>\n",
       "</table>\n",
       "<p>5 rows × 36 columns</p>\n",
       "</div>"
      ],
      "text/plain": [
       "                       mean                                            \\\n",
       "Carrier                  AA        AS         B6        DL         EV   \n",
       "CarrierDelay       6.258553  2.691032   9.031615  8.864212   9.939504   \n",
       "WeatherDelay       1.291583  0.988636   1.808114  2.295087   0.434842   \n",
       "NASDelay           4.574346  5.019656   7.079861  4.403729   5.651922   \n",
       "SecurityDelay      0.042678  0.050061   0.122807  0.006273   0.000000   \n",
       "LateAircraftDelay  8.360897  4.176597  18.423063  7.205441  10.208438   \n",
       "\n",
       "                                                                         ...  \\\n",
       "Carrier                   F9        HA         NK         OO         UA  ...   \n",
       "CarrierDelay       10.430704  5.034266   5.294646  10.439691   6.312636  ...   \n",
       "WeatherDelay        3.303838  2.552448   0.804887   2.286446   2.991197  ...   \n",
       "NASDelay           11.971748  0.060140  10.909450   4.698108   7.098154  ...   \n",
       "SecurityDelay       0.000000  0.024476   0.017966   0.014839   0.000000  ...   \n",
       "LateAircraftDelay  17.183369  2.813986   7.993891  14.413572  11.237861  ...   \n",
       "\n",
       "                        sum                                               \\\n",
       "Carrier                  B6        DL       EV       F9      HA       NK   \n",
       "CarrierDelay        49421.0  151188.0  87408.0  19568.0  7199.0  14735.0   \n",
       "WeatherDelay         9894.0   39145.0   3824.0   6198.0  3650.0   2240.0   \n",
       "NASDelay            38741.0   75110.0  49703.0  22459.0    86.0  30361.0   \n",
       "SecurityDelay         672.0     107.0      0.0      0.0    35.0     50.0   \n",
       "LateAircraftDelay  100811.0  122896.0  89773.0  32236.0  4024.0  22247.0   \n",
       "\n",
       "                                                          \n",
       "Carrier                  OO        UA       VX        WN  \n",
       "CarrierDelay       120307.0   66693.0   8048.0  123882.0  \n",
       "WeatherDelay        26349.0   31602.0   3807.0   23516.0  \n",
       "NASDelay            54141.0   74992.0  12619.0   78645.0  \n",
       "SecurityDelay         171.0       0.0     73.0     252.0  \n",
       "LateAircraftDelay  166102.0  118728.0  25242.0  285073.0  \n",
       "\n",
       "[5 rows x 36 columns]"
      ]
     },
     "execution_count": 65,
     "metadata": {},
     "output_type": "execute_result"
    }
   ],
   "source": [
    "reshaped_delays = (\n",
    "    delay_totals\n",
    "    .stack()             # move aggregation method into index (with Carrier)\n",
    "    .T                   # put delay type in index and Carrier+agg in column\n",
    "    .swaplevel(axis=1)   # make agg method outer level of column label\n",
    "    .sort_index(axis=1)  # sort column labels so it prints nicely\n",
    ")\n",
    "reshaped_delays"
   ]
  },
  {
   "cell_type": "code",
   "execution_count": 72,
   "metadata": {
    "hide-output": false,
    "slideshow": {
     "slide_type": "-"
    }
   },
   "outputs": [
    {
     "data": {
      "image/png": "[encoded data removed]",
      "text/plain": [
       "<Figure size 720x576 with 12 Axes>"
      ]
     },
     "metadata": {},
     "output_type": "display_data"
    },
    {
     "data": {
      "image/png": "[encoded data removed]",
      "text/plain": [
       "<Figure size 720x576 with 12 Axes>"
      ]
     },
     "metadata": {},
     "output_type": "display_data"
    },
    {
     "data": {
      "image/png": "[encoded data removed]",
      "text/plain": [
       "<Figure size 720x576 with 12 Axes>"
      ]
     },
     "metadata": {},
     "output_type": "display_data"
    }
   ],
   "source": [
    "for agg in [\"mean\", \"sum\", \"positive\"]:\n",
    "    axs = reshaped_delays[agg].plot(\n",
    "        kind=\"bar\", subplots=True, layout=(4, 3), figsize=(10, 8), legend=False,\n",
    "        sharex=True, sharey=True\n",
    "    )\n",
    "    fig = axs[0, 0].get_figure()\n",
    "    fig.suptitle(agg)\n",
    "#     fig.tight_layout();"
   ]
  },
  {
   "cell_type": "markdown",
   "metadata": {
    "slideshow": {
     "slide_type": "-"
    }
   },
   "source": [
    "- Which type of delay was the most common?  \n",
    "- Which one caused the largest average delay?  \n",
    "- Does that vary by airline?"
   ]
  },
  {
   "cell_type": "markdown",
   "metadata": {
    "slideshow": {
     "slide_type": "subslide"
    }
   },
   "source": [
    "Let’s summarize what we did:\n",
    "\n",
    "- Computed average flight delay for each airline for each week.  \n",
    "- Noticed that one week had more delays for all airlines.  \n",
    "- Studied the flights in that week to determine the *cause* of the\n",
    "  delays in that week.  \n",
    "\n",
    "\n",
    "Suppose now that we want to repeat that analysis, but at a daily\n",
    "frequency instead of weekly.\n",
    "\n",
    "We could copy/paste the code from above and change the `W` to a `D`,\n",
    "but there’s a better way…\n",
    "\n",
    "Let’s convert the steps above into two functions:\n",
    "\n",
    "1. Produce the set of bar charts for average delays at each frequency.  \n",
    "1. Produce the second set of charts for the total, average, and number\n",
    "  of occurrences of each type of delay.  "
   ]
  },
  {
   "cell_type": "code",
   "execution_count": 73,
   "metadata": {
    "hide-output": false,
    "slideshow": {
     "slide_type": "-"
    }
   },
   "outputs": [],
   "source": [
    "def mean_delay_plot(df, freq, figsize=(10, 8)):\n",
    "    \"\"\"\n",
    "    Make a bar chart of average flight delays for each carrier at\n",
    "    a given frequency.\n",
    "    \"\"\"\n",
    "    mean_delays = (\n",
    "        df\n",
    "        .groupby([pd.Grouper(key=\"Date\", freq=freq), \"Carrier\"])\n",
    "        [\"ArrDelay\"]               # extract one column\n",
    "        .mean()                    # take average\n",
    "        .unstack(level=\"Carrier\")  # Flip carrier up as column names\n",
    "    )\n",
    "\n",
    "    # plot\n",
    "    axs = mean_delays.plot.bar(\n",
    "        figsize=figsize, subplots=True, legend=False, sharex=True,\n",
    "        sharey=True, layout=(4, 3), grid=False\n",
    "    )\n",
    "\n",
    "    # tweak spacing between subplots and x-axis labels\n",
    "    axs[0, 0].get_figure().tight_layout()\n",
    "    for ax in axs[-1, :]:\n",
    "        ax.set_xticklabels(mean_delays.index.strftime(\"%a, %b. %d'\"))\n",
    "\n",
    "    # return the axes in case we want to further tweak the plot outside the function\n",
    "    return axs\n",
    "\n",
    "\n",
    "def delay_type_plot(df, start, end):\n",
    "    \"\"\"\n",
    "    Make bar charts for total minutes, average minutes, and number of\n",
    "    occurrences for each delay type, for all flights that were scheduled\n",
    "    between `start` date and `end` date\n",
    "    \"\"\"\n",
    "    sub_df = df.loc[\n",
    "        (df[\"Date\"] >= start) & (df[\"Date\"] <= end)\n",
    "    ]\n",
    "\n",
    "    def positive(df):\n",
    "        return (df > 0).sum() / df.shape[0]\n",
    "\n",
    "    aggs = sub_df.groupby(\"Carrier\")[delay_cols].agg([\"sum\", \"mean\", positive])\n",
    "\n",
    "    reshaped = aggs.stack().T.swaplevel(axis=1).sort_index(axis=1)\n",
    "\n",
    "    for agg in [\"mean\", \"sum\", \"positive\"]:\n",
    "        axs = reshaped[agg].plot(\n",
    "            kind=\"bar\", subplots=True, layout=(4, 3), figsize=(10, 8), legend=False,\n",
    "            sharex=True, sharey=True\n",
    "        )\n",
    "        fig = axs[0, 0].get_figure()\n",
    "        fig.suptitle(agg)\n",
    "#         fig.tight_layout();"
   ]
  },
  {
   "cell_type": "markdown",
   "metadata": {
    "slideshow": {
     "slide_type": "fragment"
    }
   },
   "source": [
    "Now let’s look at that plot at a daily frequency. (Note that we need the\n",
    "figure to be a bit wider in order to see the dates.)"
   ]
  },
  {
   "cell_type": "code",
   "execution_count": 76,
   "metadata": {
    "hide-output": false,
    "slideshow": {
     "slide_type": "-"
    }
   },
   "outputs": [
    {
     "data": {
      "image/png": "[encoded data removed]",
      "text/plain": [
       "<Figure size 1152x576 with 12 Axes>"
      ]
     },
     "metadata": {},
     "output_type": "display_data"
    }
   ],
   "source": [
    "mean_delay_plot(air_dec, \"D\", figsize=(16, 8));"
   ]
  },
  {
   "cell_type": "markdown",
   "metadata": {
    "slideshow": {
     "slide_type": "subslide"
    }
   },
   "source": [
    "As we expected given our analysis above, the longest average delays\n",
    "seemed to happen in the third week.\n",
    "\n",
    "In particular, it looks like December 17th and 18th had — on average —\n",
    "higher delays than other days in December.\n",
    "\n",
    "Let’s use the `delay_type_plot` function to determine the cause of the\n",
    "delays on those two days.\n",
    "\n",
    "Because our analysis is captured in a single function, we can look at\n",
    "the days together and separately without much effort."
   ]
  },
  {
   "cell_type": "code",
   "execution_count": 77,
   "metadata": {
    "hide-output": false,
    "slideshow": {
     "slide_type": "-"
    }
   },
   "outputs": [
    {
     "data": {
      "image/png": "[encoded data removed]",
      "text/plain": [
       "<Figure size 720x576 with 12 Axes>"
      ]
     },
     "metadata": {},
     "output_type": "display_data"
    },
    {
     "data": {
      "image/png": "[encoded data removed]",
      "text/plain": [
       "<Figure size 720x576 with 12 Axes>"
      ]
     },
     "metadata": {},
     "output_type": "display_data"
    },
    {
     "data": {
      "image/png": "[encoded data removed]",
      "text/plain": [
       "<Figure size 720x576 with 12 Axes>"
      ]
     },
     "metadata": {},
     "output_type": "display_data"
    }
   ],
   "source": [
    "# both days\n",
    "delay_type_plot(air_dec, \"12-17-16\", \"12-18-16\")"
   ]
  },
  {
   "cell_type": "code",
   "execution_count": 78,
   "metadata": {
    "hide-output": false,
    "slideshow": {
     "slide_type": "-"
    }
   },
   "outputs": [
    {
     "data": {
      "image/png": "[encoded data removed]",
      "text/plain": [
       "<Figure size 720x576 with 12 Axes>"
      ]
     },
     "metadata": {},
     "output_type": "display_data"
    },
    {
     "data": {
      "image/png": "[encoded data removed]",
      "text/plain": [
       "<Figure size 720x576 with 12 Axes>"
      ]
     },
     "metadata": {},
     "output_type": "display_data"
    },
    {
     "data": {
      "image/png": "[encoded data removed]",
      "text/plain": [
       "<Figure size 720x576 with 12 Axes>"
      ]
     },
     "metadata": {},
     "output_type": "display_data"
    }
   ],
   "source": [
    "# only the 17th\n",
    "delay_type_plot(air_dec, \"12-17-16\", \"12-17-16\")"
   ]
  },
  {
   "cell_type": "code",
   "execution_count": 79,
   "metadata": {
    "hide-output": false,
    "slideshow": {
     "slide_type": "-"
    }
   },
   "outputs": [
    {
     "data": {
      "image/png": "[encoded data removed]",
      "text/plain": [
       "<Figure size 720x576 with 12 Axes>"
      ]
     },
     "metadata": {},
     "output_type": "display_data"
    },
    {
     "data": {
      "image/png": "[encoded data removed]",
      "text/plain": [
       "<Figure size 720x576 with 12 Axes>"
      ]
     },
     "metadata": {},
     "output_type": "display_data"
    },
    {
     "data": {
      "image/png": "[encoded data removed]",
      "text/plain": [
       "<Figure size 720x576 with 12 Axes>"
      ]
     },
     "metadata": {},
     "output_type": "display_data"
    }
   ],
   "source": [
    "# only the 18th\n",
    "delay_type_plot(air_dec, \"12-18-16\", \"12-18-16\")"
   ]
  },
  {
   "cell_type": "markdown",
   "metadata": {
    "slideshow": {
     "slide_type": "-"
    }
   },
   "source": [
    "The purpose of this exercise was to drive home the ability to *automate*\n",
    "tasks.\n",
    "\n",
    "We were able to write a pair of `functions` that allows us to easily\n",
    "repeat the exact same analysis on different subsets of the data, or\n",
    "different datasets entirely (e.g. we could do the same analysis on\n",
    "November 2016 data, with two lines of code).\n",
    "\n",
    "These principles can be applied in many settings.\n",
    "\n",
    "Keep that in mind as we work through the rest of the materials."
   ]
  }
 ],
 "metadata": {
  "celltoolbar": "Slideshow",
  "date": 1595352472.1842759,
  "download_nb": false,
  "filename": "groupby.rst",
  "filename_with_path": "pandas/groupby",
  "kernelspec": {
   "display_name": "Python 3",
   "language": "python",
   "name": "python3"
  },
  "language_info": {
   "codemirror_mode": {
    "name": "ipython",
    "version": 3
   },
   "file_extension": ".py",
   "mimetype": "text/x-python",
   "name": "python",
   "nbconvert_exporter": "python",
   "pygments_lexer": "ipython3",
   "version": "3.8.3"
  },
  "title": "GroupBy"
 },
 "nbformat": 4,
 "nbformat_minor": 2
}

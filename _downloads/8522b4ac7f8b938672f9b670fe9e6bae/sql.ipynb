{
 "cells": [
  {
   "cell_type": "markdown",
   "metadata": {
    "slideshow": {
     "slide_type": "slide"
    }
   },
   "source": [
    "# SQL Introduction\n",
    "\n",
    "We will learn how to use SQL today (mostly by example)\n",
    "\n",
    "Our example data comes from the [Instacart dataset](./01_data_description.ipynb) we discussed previously"
   ]
  },
  {
   "cell_type": "code",
   "execution_count": 1,
   "metadata": {
    "slideshow": {
     "slide_type": "-"
    }
   },
   "outputs": [],
   "source": [
    "import os\n",
    "import pandas as pd\n",
    "import sqlalchemy as sa\n",
    "\n",
    "\n",
    "from sqlalchemy.ext.declarative import declarative_base"
   ]
  },
  {
   "cell_type": "markdown",
   "metadata": {
    "slideshow": {
     "slide_type": "slide"
    }
   },
   "source": [
    "## SQL (structured query language)\n",
    "\n",
    "SQL is a \"query language\" that can be used to communicate with (relational) databases.\n",
    "\n",
    "SQL itself is more of a standard for a language to communicate with databases rather than an implemented programming language which means that each database creates their own implementation of how SQL commands get translated into queries."
   ]
  },
  {
   "cell_type": "markdown",
   "metadata": {
    "slideshow": {
     "slide_type": "subslide"
    }
   },
   "source": [
    "**What problem does SQL solve?**\n",
    "\n",
    "1. Straightforward way to ingest data from a database\n",
    "2. Industry standard to make database code/requirements (nearly) compatible\n",
    "3. The implementations often provide great ways to provide multiple levels of \"access\" to a dataset\n",
    "  - Some users will be \"data users\" and will use the data in their projects -- These users can get away with \"read only access\" to the database\n",
    "  - Other users will be \"data creators\" and will maintain and update the data stored in the database -- These users will need to be able to either add data or participate through other administration roles\n",
    "4. Allows administrators to impose strict requirements across the data -- For example, could impose a uniqueness constraint if we did not want an email to correspond to more than one user etc..."
   ]
  },
  {
   "cell_type": "markdown",
   "metadata": {
    "slideshow": {
     "slide_type": "fragment"
    }
   },
   "source": [
    "**Our focus today**\n",
    "\n",
    "Our main focus for this class will be on introducing how to be \"database users\" rather than \"database administrators\""
   ]
  },
  {
   "cell_type": "markdown",
   "metadata": {
    "slideshow": {
     "slide_type": "slide"
    }
   },
   "source": [
    "## SQL and SQLAlchemy\n",
    "\n",
    "We'll now discuss a few details of SQL and SQLAlchemy:\n",
    "\n",
    "`sqlalchemy` is a Python package that allows one to generically interface with many different \"flavors\" of SQL (PostgreSQL, MySQL, SQLite, etc...) using Python code.\n",
    "\n",
    "We will only discuss it briefly today because it isn't the focus of this lecture."
   ]
  },
  {
   "cell_type": "markdown",
   "metadata": {
    "slideshow": {
     "slide_type": "subslide"
    }
   },
   "source": [
    "### SQL Tables and Types\n",
    "\n",
    "As we mentioned, one of the benefits of SQL is that it allows those who are creating the databases to impose tight requirements on what is contained in the data:\n",
    "\n",
    "* **Tables**: SQL allows one to specify a table with pre-defined columns, cross-table restrictions, and more\n",
    "* **Types**: Each column in a SQL table must have a specified type. These types are mostly the \"usual suspects\"\n",
    "  - Boolean\n",
    "  - Date\n",
    "  - Numeric (Float, Integer, ...)\n",
    "  - String"
   ]
  },
  {
   "cell_type": "markdown",
   "metadata": {
    "slideshow": {
     "slide_type": "subslide"
    }
   },
   "source": [
    "### Declaring table structures\n"
   ]
  },
  {
   "cell_type": "code",
   "execution_count": 2,
   "metadata": {
    "slideshow": {
     "slide_type": "-"
    }
   },
   "outputs": [],
   "source": [
    "Base = declarative_base()\n",
    "\n",
    "\n",
    "class Aisles(Base):\n",
    "    __tablename__ = \"aisles\"\n",
    "    aisle_id = sa.Column(sa.Integer, primary_key=True)\n",
    "    aisle = sa.Column(sa.String)\n",
    "    # Aisle_id | Aisle\n",
    "    # 1        | Aisle of baking goods\n",
    "\n",
    "\n",
    "class Departments(Base):\n",
    "    __tablename__ = \"departments\"\n",
    "    department_id = sa.Column(sa.Integer, primary_key=True)\n",
    "    department = sa.Column(sa.String)\n",
    "    # Department_id | Department\n",
    "    # 3             | Dry goods\n",
    "\n",
    "\n",
    "class Products(Base):\n",
    "    __tablename__ = \"products\"\n",
    "    product_id = sa.Column(sa.Integer, primary_key=True)\n",
    "    product_name = sa.Column(sa.String)\n",
    "    aisle_id = sa.Column(sa.Integer)  # One can set these to reference the aisles/departments tables\n",
    "    department_id = sa.Column(sa.Integer)\n",
    "    # product_id | product_name      | aisle_id | department_id\n",
    "    # 123        | 2 kg bag of flour | 1        | 3\n",
    "\n",
    "\n",
    "class Orders(Base):\n",
    "    __tablename__ = \"orders\"\n",
    "    order_id = sa.Column(sa.Integer, primary_key=True)\n",
    "    user_id = sa.Column(sa.Integer)\n",
    "    eval_set = sa.Column(sa.String)\n",
    "    order_number = sa.Column(sa.Integer)\n",
    "    order_dow = sa.Column(sa.Integer)\n",
    "    order_hour_of_day = sa.Column(sa.Integer)\n",
    "    days_since_prior_order = sa.Column(sa.Integer)\n",
    "\n",
    "\n",
    "class ProductsOrdered(Base):\n",
    "    __tablename__ = \"products_ordered\"\n",
    "    order_id = sa.Column(sa.Integer, primary_key=True)\n",
    "    product_id = sa.Column(sa.Integer, primary_key=True)\n",
    "    add_to_cart_order = sa.Column(sa.Integer)\n",
    "    reordered = sa.Column(sa.Boolean)\n",
    "    # order_id | product_id | add_to_cart_order | reordered"
   ]
  },
  {
   "cell_type": "markdown",
   "metadata": {
    "slideshow": {
     "slide_type": "subslide"
    }
   },
   "source": [
    "### A SQLalchemy engine"
   ]
  },
  {
   "cell_type": "code",
   "execution_count": 3,
   "metadata": {
    "slideshow": {
     "slide_type": "-"
    }
   },
   "outputs": [],
   "source": [
    "# Create a SQL alchemy engine and add table information to the engine\n",
    "fn = \"/home/chase/Dropbox/instacart/instacart.db\"\n",
    "eng = sa.create_engine(f\"sqlite:///{fn}\")  # postgresql:{user}:{password}@host...\n",
    "Base.metadata.create_all(eng)\n",
    "\n",
    "Session = sa.orm.sessionmaker(bind=eng)"
   ]
  },
  {
   "cell_type": "markdown",
   "metadata": {
    "slideshow": {
     "slide_type": "fragment"
    }
   },
   "source": [
    "### Dump data into database\n",
    "\n",
    "We're going to postpone discussing what happens here for now...\n",
    "\n",
    "We are taking the csv files that we previously saw and populating a SQLite database, but we have already constructed and included this file for you"
   ]
  },
  {
   "cell_type": "code",
   "execution_count": null,
   "metadata": {
    "slideshow": {
     "slide_type": "-"
    }
   },
   "outputs": [],
   "source": [
    "# %%time\n",
    "# # Uncomment if the data needs to be fixed or updated\n",
    "# # Create a SQL alchemy engine and add table information to the engine\n",
    "# os.remove(\"/home/chase/Dropbox/instacart/instacart.db\")\n",
    "# Base.metadata.create_all(eng)\n",
    "\n",
    "# Session = sa.orm.sessionmaker(bind=eng)\n",
    "\n",
    "# # Create table -> filename pairs\n",
    "# table_to_file = [\n",
    "#     (Aisles, \"/home/chase/Dropbox/instacart/aisles.parquet\"),\n",
    "#     (Departments, \"/home/chase/Dropbox/instacart/departments.parquet\"),\n",
    "#     (Products, \"/home/chase/Dropbox/instacart/products.parquet\"),\n",
    "#     (Orders, \"/home/chase/Dropbox/instacart/orders.parquet\"),\n",
    "#     (ProductsOrdered,  \"/home/chase/Dropbox/instacart/order_products_all.parquet\"),\n",
    "# ]\n",
    "\n",
    "# session = Session()\n",
    "# # Delete any data from previous inserts\n",
    "# for (_t, _csv) in table_to_file:\n",
    "#     session.execute(_t.__table__.delete())\n",
    "#     session.commit()\n",
    "\n",
    "# # Insert data\n",
    "# for (_t, _f) in table_to_file:\n",
    "#     # Read parquet file and put into the list of dictionaries\n",
    "#     _rows = pd.read_parquet(_f).to_sql(\n",
    "#         _t.__tablename__, eng, if_exists=\"append\", index=False\n",
    "#     )\n"
   ]
  },
  {
   "cell_type": "markdown",
   "metadata": {
    "slideshow": {
     "slide_type": "slide"
    }
   },
   "source": [
    "## Reading data from a SQL database\n",
    "\n",
    "Unless you end up becoming a data engineer, you will spend most of your time interacting with an already created database that others manage...\n",
    "\n",
    "Because of this, we will spend most of our time focused on reading data from a database"
   ]
  },
  {
   "cell_type": "markdown",
   "metadata": {
    "slideshow": {
     "slide_type": "fragment"
    }
   },
   "source": [
    "### SQL Read Commands\n",
    "\n",
    "We will run the raw SQL commands into the SQLAlchemy engine, but you could interact with the engine using SQLAlchemy\n",
    "\n",
    "**Note**: It is good practice to capitalize the SQL keywords -- For example, rather than write `select` or `from`, you should write `SELECT` and `FROM`"
   ]
  },
  {
   "cell_type": "code",
   "execution_count": 4,
   "metadata": {
    "slideshow": {
     "slide_type": "-"
    }
   },
   "outputs": [],
   "source": [
    "def run_query(eng, query, str_length=30):\n",
    "    with eng.connect() as conn:\n",
    "        result = conn.execute(query)\n",
    "        cols = result.keys()\n",
    "        vals = result.fetchmany(5)\n",
    "\n",
    "        fmter = (\"{\" + f\":<{str_length}\" + \"}\") * len(cols)\n",
    "        print(fmter.format(*cols))\n",
    "        for _vals in vals:\n",
    "            _pvals = map(lambda x: str(x)[:str_length], _vals)\n",
    "            print(fmter.format(*_pvals))"
   ]
  },
  {
   "cell_type": "code",
   "execution_count": 37,
   "metadata": {},
   "outputs": [
    {
     "data": {
      "text/plain": [
       "('{', ':<5', '}', '{', ':<5', '}', '{', ':<5', '}')"
      ]
     },
     "execution_count": 37,
     "metadata": {},
     "output_type": "execute_result"
    }
   ],
   "source": [
    "str_length = 5\n",
    "(\"{\", f\":<{str_length}\", \"}\") * 3"
   ]
  },
  {
   "cell_type": "markdown",
   "metadata": {
    "slideshow": {
     "slide_type": "subslide"
    }
   },
   "source": [
    "#### SELECT/FROM\n",
    "\n",
    "The most fundamental read command in SQL combines the `SELECT` statement with the `FROM` statement.\n",
    "\n",
    "* `SELECT` specifies what data to read (and what to call it)\n",
    "* `FROM` specifies where that data can be read from"
   ]
  },
  {
   "cell_type": "markdown",
   "metadata": {
    "slideshow": {
     "slide_type": "fragment"
    }
   },
   "source": [
    "**Select all columns from a single table**"
   ]
  },
  {
   "cell_type": "code",
   "execution_count": 5,
   "metadata": {
    "slideshow": {
     "slide_type": "-"
    }
   },
   "outputs": [
    {
     "name": "stdout",
     "output_type": "stream",
     "text": [
      "product_id                    product_name                  aisle_id                      department_id                 \n",
      "1                             Chocolate Sandwich Cookies    61                            19                            \n",
      "2                             All-Seasons Salt              104                           13                            \n",
      "3                             Robust Golden Unsweetened Oolo94                            7                             \n",
      "4                             Smart Ones Classic Favorites M38                            1                             \n",
      "5                             Green Chile Anytime Sauce     5                             13                            \n"
     ]
    }
   ],
   "source": [
    "query = \"\"\"\n",
    "        SELECT *\n",
    "        FROM products\n",
    "        \"\"\"\n",
    "\n",
    "run_query(eng, query)\n"
   ]
  },
  {
   "cell_type": "markdown",
   "metadata": {
    "slideshow": {
     "slide_type": "fragment"
    }
   },
   "source": [
    "**Select certain columns**"
   ]
  },
  {
   "cell_type": "code",
   "execution_count": 6,
   "metadata": {
    "slideshow": {
     "slide_type": "-"
    }
   },
   "outputs": [
    {
     "name": "stdout",
     "output_type": "stream",
     "text": [
      "product_id                    aisle_id                      department_id                 \n",
      "1                             61                            19                            \n",
      "2                             104                           13                            \n",
      "3                             94                            7                             \n",
      "4                             38                            1                             \n",
      "5                             5                             13                            \n"
     ]
    }
   ],
   "source": [
    "query = \"\"\"\n",
    "        SELECT product_id, aisle_id, department_id\n",
    "        FROM products\n",
    "        \"\"\"\n",
    "\n",
    "run_query(eng, query)\n"
   ]
  },
  {
   "cell_type": "markdown",
   "metadata": {
    "slideshow": {
     "slide_type": "fragment"
    }
   },
   "source": [
    "**Select and rename certain columns**"
   ]
  },
  {
   "cell_type": "code",
   "execution_count": 7,
   "metadata": {
    "slideshow": {
     "slide_type": "-"
    }
   },
   "outputs": [
    {
     "name": "stdout",
     "output_type": "stream",
     "text": [
      "pid                           aid                           did                           \n",
      "1                             61                            19                            \n",
      "2                             104                           13                            \n",
      "3                             94                            7                             \n",
      "4                             38                            1                             \n",
      "5                             5                             13                            \n"
     ]
    }
   ],
   "source": [
    "query = \"\"\"\n",
    "        SELECT product_id AS pid, aisle_id AS aid, department_id AS did\n",
    "        FROM products\n",
    "        \"\"\"\n",
    "\n",
    "run_query(eng, query)\n"
   ]
  },
  {
   "cell_type": "markdown",
   "metadata": {
    "slideshow": {
     "slide_type": "fragment"
    }
   },
   "source": [
    "**Reference table using abbreviation**"
   ]
  },
  {
   "cell_type": "code",
   "execution_count": 8,
   "metadata": {
    "slideshow": {
     "slide_type": "-"
    }
   },
   "outputs": [
    {
     "name": "stdout",
     "output_type": "stream",
     "text": [
      "pid                           aisle_id                      department_id                 \n",
      "1                             61                            19                            \n",
      "2                             104                           13                            \n",
      "3                             94                            7                             \n",
      "4                             38                            1                             \n",
      "5                             5                             13                            \n"
     ]
    }
   ],
   "source": [
    "query = \"\"\"\n",
    "        SELECT p.product_id AS pid, p.aisle_id, p.department_id\n",
    "        FROM products p\n",
    "        \"\"\"\n",
    "\n",
    "run_query(eng, query)\n"
   ]
  },
  {
   "cell_type": "markdown",
   "metadata": {
    "slideshow": {
     "slide_type": "fragment"
    }
   },
   "source": [
    "**Select functions of columns**"
   ]
  },
  {
   "cell_type": "code",
   "execution_count": 9,
   "metadata": {
    "slideshow": {
     "slide_type": "-"
    }
   },
   "outputs": [
    {
     "name": "stdout",
     "output_type": "stream",
     "text": [
      "pid                           aisle_id                      department_id                 a_d_id                        \n",
      "1                             61                            19                            80                            \n",
      "2                             104                           13                            117                           \n",
      "3                             94                            7                             101                           \n",
      "4                             38                            1                             39                            \n",
      "5                             5                             13                            18                            \n"
     ]
    }
   ],
   "source": [
    "query = \"\"\"\n",
    "        SELECT product_id AS pid, aisle_id, department_id, aisle_id + department_id AS a_d_id\n",
    "        FROM products p\n",
    "        \"\"\"\n",
    "\n",
    "run_query(eng, query)\n"
   ]
  },
  {
   "cell_type": "markdown",
   "metadata": {
    "slideshow": {
     "slide_type": "subslide"
    }
   },
   "source": [
    "#### JOIN\n",
    "\n",
    "SQL is a relational database which means that\n",
    "\n",
    "1. We will typically store data in multiple tables\n",
    "2. We'd like to be able to combine and manipulate data from multiple tables\n",
    "\n",
    "`JOIN` allows us bring together two (or more) datasets into a single query"
   ]
  },
  {
   "cell_type": "markdown",
   "metadata": {
    "slideshow": {
     "slide_type": "fragment"
    }
   },
   "source": [
    "**Select all columns from two tables**"
   ]
  },
  {
   "cell_type": "code",
   "execution_count": 13,
   "metadata": {
    "slideshow": {
     "slide_type": "-"
    }
   },
   "outputs": [
    {
     "name": "stdout",
     "output_type": "stream",
     "text": [
      "product_id        product_name      aisle_id          department_id     aisle_id          aisle             \n",
      "1                 Chocolate Sandwich61                19                61                cookies cakes     \n",
      "2                 All-Seasons Salt  104               13                104               spices seasonings \n",
      "3                 Robust Golden Unsw94                7                 94                tea               \n",
      "4                 Smart Ones Classic38                1                 38                frozen meals      \n",
      "5                 Green Chile Anytim5                 13                5                 marinades meat pre\n"
     ]
    }
   ],
   "source": [
    "query = \"\"\"\n",
    "        SELECT *\n",
    "        FROM products p\n",
    "        JOIN aisles a ON (p.aisle_id=a.aisle_id)\n",
    "        \"\"\"\n",
    "\n",
    "run_query(eng, query, 18)\n"
   ]
  },
  {
   "cell_type": "markdown",
   "metadata": {
    "slideshow": {
     "slide_type": "fragment"
    }
   },
   "source": [
    "**Select subset of columns from each table**"
   ]
  },
  {
   "cell_type": "code",
   "execution_count": 14,
   "metadata": {
    "slideshow": {
     "slide_type": "-"
    }
   },
   "outputs": [
    {
     "name": "stdout",
     "output_type": "stream",
     "text": [
      "product_name                  aisle_id                      department_id                 aisle                         \n",
      "Chocolate Sandwich Cookies    61                            19                            cookies cakes                 \n",
      "All-Seasons Salt              104                           13                            spices seasonings             \n",
      "Robust Golden Unsweetened Oolo94                            7                             tea                           \n",
      "Smart Ones Classic Favorites M38                            1                             frozen meals                  \n",
      "Green Chile Anytime Sauce     5                             13                            marinades meat preparation    \n"
     ]
    }
   ],
   "source": [
    "query = \"\"\"\n",
    "        SELECT p.product_name, p.aisle_id, p.department_id, a.aisle\n",
    "        FROM products p\n",
    "        JOIN aisles a ON (p.aisle_id=a.aisle_id)\n",
    "        \"\"\"\n",
    "\n",
    "run_query(eng, query, 30)\n"
   ]
  },
  {
   "cell_type": "markdown",
   "metadata": {
    "slideshow": {
     "slide_type": "fragment"
    }
   },
   "source": [
    "**Select data with different joins**\n",
    "\n",
    "The merges that we've done using pandas use the same notation as SQL joins:\n",
    "\n",
    "- `LEFT`: Use values from the left table to merge datasets\n",
    "- `RIGHT`: Use values from the right table to merge datasets\n",
    "- `INNER`: Only keep values contained in both the left and right datasets\n",
    "- `OUTER`: Keep all values contained in either the left or right dataset."
   ]
  },
  {
   "cell_type": "code",
   "execution_count": 16,
   "metadata": {
    "slideshow": {
     "slide_type": "-"
    }
   },
   "outputs": [
    {
     "name": "stdout",
     "output_type": "stream",
     "text": [
      "product_name                  aisle_id                      department_id                 aisle                         \n",
      "Chocolate Sandwich Cookies    61                            19                            cookies cakes                 \n",
      "All-Seasons Salt              104                           13                            spices seasonings             \n",
      "Robust Golden Unsweetened Oolo94                            7                             tea                           \n",
      "Smart Ones Classic Favorites M38                            1                             frozen meals                  \n",
      "Green Chile Anytime Sauce     5                             13                            marinades meat preparation    \n"
     ]
    }
   ],
   "source": [
    "query = \"\"\"\n",
    "        SELECT p.product_name, p.aisle_id, p.department_id, a.aisle\n",
    "        FROM products p\n",
    "        LEFT JOIN aisles a ON (p.aisle_id=a.aisle_id)\n",
    "        \"\"\"\n",
    "\n",
    "# In this case they're all the same because there is no\n",
    "# missing data...\n",
    "run_query(eng, query, 30)\n"
   ]
  },
  {
   "cell_type": "markdown",
   "metadata": {
    "slideshow": {
     "slide_type": "fragment"
    }
   },
   "source": [
    "**Select data with multiple joins**\n",
    "\n",
    "We don't have to restrict ourselves to only combining two datasets -- We can combine as many as we'd like!"
   ]
  },
  {
   "cell_type": "code",
   "execution_count": 17,
   "metadata": {
    "slideshow": {
     "slide_type": "-"
    }
   },
   "outputs": [
    {
     "name": "stdout",
     "output_type": "stream",
     "text": [
      "product_name                  aisle                         department                    \n",
      "Chocolate Sandwich Cookies    cookies cakes                 snacks                        \n",
      "All-Seasons Salt              spices seasonings             pantry                        \n",
      "Robust Golden Unsweetened Oolotea                           beverages                     \n",
      "Smart Ones Classic Favorites Mfrozen meals                  frozen                        \n",
      "Green Chile Anytime Sauce     marinades meat preparation    pantry                        \n"
     ]
    }
   ],
   "source": [
    "query = \"\"\"\n",
    "        SELECT p.product_name, a.aisle, d.department\n",
    "        FROM products p\n",
    "        LEFT JOIN aisles a ON (p.aisle_id=a.aisle_id)\n",
    "        LEFT JOIN departments d ON (p.department_id=d.department_id)\n",
    "        \"\"\"\n",
    "\n",
    "# In this case they're all the same because there is no\n",
    "# missing data...\n",
    "run_query(eng, query, 30)\n"
   ]
  },
  {
   "cell_type": "markdown",
   "metadata": {
    "slideshow": {
     "slide_type": "subslide"
    }
   },
   "source": [
    "#### WHERE\n",
    "\n",
    "We are often interested in working with subsets of the data rather than selecting all of the rows.\n",
    "\n",
    "SQL allows us to specify certain conditions to restrict the set of observations that are returned using the `WHERE` clause."
   ]
  },
  {
   "cell_type": "markdown",
   "metadata": {
    "slideshow": {
     "slide_type": "fragment"
    }
   },
   "source": [
    "**Retrieve certain groups** (compare  strings)"
   ]
  },
  {
   "cell_type": "code",
   "execution_count": 18,
   "metadata": {
    "slideshow": {
     "slide_type": "-"
    }
   },
   "outputs": [
    {
     "name": "stdout",
     "output_type": "stream",
     "text": [
      "product_name                  aisle                         department                    \n",
      "Chocolate Sandwich Cookies    cookies cakes                 snacks                        \n",
      "Mint Chocolate Flavored Syrup ice cream toppings            snacks                        \n",
      "Salted Caramel Lean Protein & energy granola bars           snacks                        \n",
      "Nacho Cheese White Bean Chips chips pretzels                snacks                        \n",
      "Organic Sourdough Einkorn Craccrackers                      snacks                        \n"
     ]
    }
   ],
   "source": [
    "query = \"\"\"\n",
    "        SELECT p.product_name, a.aisle, d.department\n",
    "        FROM products p\n",
    "        LEFT JOIN aisles a ON (p.aisle_id=a.aisle_id)\n",
    "        LEFT JOIN departments d ON (p.department_id=d.department_id)\n",
    "        WHERE d.department = 'snacks'\n",
    "        \"\"\"\n",
    "\n",
    "run_query(eng, query, 30)\n"
   ]
  },
  {
   "cell_type": "markdown",
   "metadata": {
    "slideshow": {
     "slide_type": "fragment"
    }
   },
   "source": [
    "**Retrieve certain groups** (compare numbers)"
   ]
  },
  {
   "cell_type": "code",
   "execution_count": 19,
   "metadata": {
    "slideshow": {
     "slide_type": "-"
    }
   },
   "outputs": [
    {
     "name": "stdout",
     "output_type": "stream",
     "text": [
      "product_name                  aisle                         department                    aisle_id                      \n",
      "Mirabelle Brut Rose           specialty wines champagnes    alcohol                       134                           \n",
      "Brut Rosé                     specialty wines champagnes    alcohol                       134                           \n",
      "Ibuprofen Liquid Gels         muscles joints pain relief    personal care                 133                           \n",
      "Aspirin 325 Mg                muscles joints pain relief    personal care                 133                           \n",
      "Migraine Caplets              muscles joints pain relief    personal care                 133                           \n"
     ]
    }
   ],
   "source": [
    "query = \"\"\"\n",
    "        SELECT p.product_name, a.aisle, d.department, a.aisle_id\n",
    "        FROM products p\n",
    "        LEFT JOIN aisles a ON (p.aisle_id=a.aisle_id)\n",
    "        LEFT JOIN departments d ON (p.department_id=d.department_id)\n",
    "        WHERE a.aisle_id > 132\n",
    "        \"\"\"\n",
    "\n",
    "run_query(eng, query, 30)\n"
   ]
  },
  {
   "cell_type": "markdown",
   "metadata": {
    "slideshow": {
     "slide_type": "fragment"
    }
   },
   "source": [
    "**Multiple conditions**\n",
    "\n",
    "We use `AND` and `OR` to specify the boolean condition"
   ]
  },
  {
   "cell_type": "code",
   "execution_count": 21,
   "metadata": {
    "slideshow": {
     "slide_type": "-"
    }
   },
   "outputs": [
    {
     "name": "stdout",
     "output_type": "stream",
     "text": [
      "product_name                  aisle_id                      department_id                 \n",
      "All-Seasons Salt              104                           13                            \n",
      "Robust Golden Unsweetened Oolo94                            7                             \n",
      "Smart Ones Classic Favorites M38                            1                             \n",
      "Pure Coconut Water With Orange98                            7                             \n",
      "Cut Russet Potatoes Steam N' M116                           1                             \n"
     ]
    }
   ],
   "source": [
    "query = \"\"\"\n",
    "        SELECT p.product_name, a.aisle_id, d.department_id\n",
    "        FROM products p\n",
    "        LEFT JOIN aisles a ON (p.aisle_id=a.aisle_id)\n",
    "        LEFT JOIN departments d ON (p.department_id=d.department_id)\n",
    "        WHERE a.aisle_id > 100 OR d.department_id<10\n",
    "        \"\"\"\n",
    "\n",
    "run_query(eng, query, 30)\n"
   ]
  },
  {
   "cell_type": "markdown",
   "metadata": {
    "slideshow": {
     "slide_type": "fragment"
    }
   },
   "source": [
    "**Retrieve the most recent data** (compare datetime)\n",
    "\n",
    "Imagine we had a table that contained quarterly sales\n",
    "\n",
    "| dt | store_id | sales |\n",
    "| ---- | ---- | ---- |\n",
    "| 2020-03-31 | 1 | 100 |\n",
    "| 2020-06-30 | 1 | 200 |\n",
    "| 2020-09-30 | 1 | 300 |\n",
    "| 2020-12-31 | 1 | 400 |\n",
    "| 2020-03-31 | 2 | 1000 |\n",
    "| 2020-06-30 | 2 | 2000 |\n",
    "| 2020-09-30 | 2 | 3000 |\n",
    "| 2020-12-31 | 2 | 4000 |"
   ]
  },
  {
   "cell_type": "markdown",
   "metadata": {
    "slideshow": {
     "slide_type": "-"
    }
   },
   "source": [
    "If we wanted to select only the observations from quarter 1, we could write\n",
    "\n",
    "```sql\n",
    "SELECT *\n",
    "FROM sales\n",
    "WHERE dt<'2020-04-01'\n",
    "```\n",
    "\n",
    "| dt | store_id | sales |\n",
    "| ---- | ---- | ---- |\n",
    "| 2020-03-31 | 1 | 100 |\n",
    "| 2020-03-31 | 2 | 1000 |"
   ]
  },
  {
   "cell_type": "markdown",
   "metadata": {
    "slideshow": {
     "slide_type": "-"
    }
   },
   "source": [
    "If we wanted to select observations from Q3 and Q4, we could write\n",
    "\n",
    "```sql\n",
    "SELECT *\n",
    "FROM sales\n",
    "WHERE dt>'2020-06-31'\n",
    "```\n",
    "\n",
    "| dt | store_id | sales |\n",
    "| ---- | ---- | ---- |\n",
    "| 2020-09-30 | 1 | 300 |\n",
    "| 2020-12-31 | 1 | 400 |\n",
    "| 2020-09-30 | 2 | 3000 |\n",
    "| 2020-12-31 | 2 | 4000 |"
   ]
  },
  {
   "cell_type": "markdown",
   "metadata": {
    "slideshow": {
     "slide_type": "subslide"
    }
   },
   "source": [
    "#### GROUP BY\n",
    "\n",
    "The `GROUP BY` argument allows us to aggregate certain groups of values (much like the pandas `groupby` method).\n",
    "\n",
    "When you perform a `GROUP BY`, any column that is not an element of the \"group\" must have a reduction function applied to it"
   ]
  },
  {
   "cell_type": "markdown",
   "metadata": {
    "slideshow": {
     "slide_type": "fragment"
    }
   },
   "source": [
    "**Group by single column**"
   ]
  },
  {
   "cell_type": "code",
   "execution_count": 24,
   "metadata": {
    "slideshow": {
     "slide_type": "-"
    }
   },
   "outputs": [
    {
     "name": "stdout",
     "output_type": "stream",
     "text": [
      "order_dow      norder         \n",
      "5              453368         \n",
      "6              448761         \n"
     ]
    }
   ],
   "source": [
    "query = \"\"\"\n",
    "        SELECT order_dow, COUNT(user_id) AS norder\n",
    "        FROM orders o\n",
    "        WHERE order_dow > 4\n",
    "        GROUP BY order_dow\n",
    "        \"\"\"\n",
    "\n",
    "run_query(eng, query, 15)\n"
   ]
  },
  {
   "cell_type": "markdown",
   "metadata": {
    "slideshow": {
     "slide_type": "fragment"
    }
   },
   "source": [
    "**Group by multiple columns**"
   ]
  },
  {
   "cell_type": "code",
   "execution_count": 25,
   "metadata": {
    "slideshow": {
     "slide_type": "-"
    }
   },
   "outputs": [
    {
     "name": "stdout",
     "output_type": "stream",
     "text": [
      "user_id        order_dow      norder         \n",
      "1              1              3              \n",
      "1              2              2              \n",
      "1              3              2              \n",
      "1              4              4              \n",
      "2              1              6              \n"
     ]
    }
   ],
   "source": [
    "query = \"\"\"\n",
    "        SELECT user_id, order_dow, COUNT(order_id) AS norder\n",
    "        FROM orders o\n",
    "        GROUP BY user_id, order_dow\n",
    "        \"\"\"\n",
    "\n",
    "run_query(eng, query, 15)\n"
   ]
  },
  {
   "cell_type": "markdown",
   "metadata": {
    "slideshow": {
     "slide_type": "fragment"
    }
   },
   "source": [
    "**Aggregate multiple columns**"
   ]
  },
  {
   "cell_type": "code",
   "execution_count": 26,
   "metadata": {
    "slideshow": {
     "slide_type": "-"
    }
   },
   "outputs": [
    {
     "name": "stdout",
     "output_type": "stream",
     "text": [
      "user_id        order_dow      norder         avg_days_since_order\n",
      "1              1              3              11.333333333333\n",
      "1              2              2              19.0           \n",
      "1              3              2              18.0           \n",
      "1              4              4              25.25          \n",
      "2              1              6              20.666666666666\n"
     ]
    }
   ],
   "source": [
    "query = \"\"\"\n",
    "        SELECT user_id, order_dow,\n",
    "               COUNT(order_id) AS norder,\n",
    "               AVG(days_since_prior_order) AS avg_days_since_order\n",
    "        FROM orders o\n",
    "        GROUP BY user_id, order_dow\n",
    "        \"\"\"\n",
    "\n",
    "run_query(eng, query, 15)\n"
   ]
  },
  {
   "cell_type": "markdown",
   "metadata": {
    "slideshow": {
     "slide_type": "subslide"
    }
   },
   "source": [
    "#### ORDER BY\n",
    "\n",
    "`ORDER BY` allows us to sort the output of a query"
   ]
  },
  {
   "cell_type": "markdown",
   "metadata": {
    "slideshow": {
     "slide_type": "fragment"
    }
   },
   "source": [
    "**Order by single column**"
   ]
  },
  {
   "cell_type": "code",
   "execution_count": 27,
   "metadata": {
    "slideshow": {
     "slide_type": "-"
    }
   },
   "outputs": [
    {
     "name": "stdout",
     "output_type": "stream",
     "text": [
      "order_id       user_id        order_number   days_since_prior_order\n",
      "431534         1              5              28             \n",
      "473747         1              3              21             \n",
      "550135         1              7              20             \n",
      "1187899        1              11             14             \n",
      "2254736        1              4              29             \n"
     ]
    }
   ],
   "source": [
    "query = \"\"\"\n",
    "        SELECT order_id, user_id, order_number, days_since_prior_order\n",
    "        FROM orders o\n",
    "        ORDER BY user_id\n",
    "        \"\"\"\n",
    "\n",
    "run_query(eng, query, 15)\n"
   ]
  },
  {
   "cell_type": "markdown",
   "metadata": {
    "slideshow": {
     "slide_type": "fragment"
    }
   },
   "source": [
    "**Order by multiple columns**"
   ]
  },
  {
   "cell_type": "code",
   "execution_count": 28,
   "metadata": {
    "slideshow": {
     "slide_type": "-"
    }
   },
   "outputs": [
    {
     "name": "stdout",
     "output_type": "stream",
     "text": [
      "order_id       user_id        order_number   days_since_prior_order\n",
      "2539329        1              1              None           \n",
      "2398795        1              2              15             \n",
      "473747         1              3              21             \n",
      "2254736        1              4              29             \n",
      "431534         1              5              28             \n"
     ]
    }
   ],
   "source": [
    "query = \"\"\"\n",
    "        SELECT order_id, user_id, order_number, days_since_prior_order\n",
    "        FROM orders o\n",
    "        ORDER BY user_id, order_number\n",
    "        \"\"\"\n",
    "\n",
    "run_query(eng, query, 15)\n"
   ]
  },
  {
   "cell_type": "markdown",
   "metadata": {
    "slideshow": {
     "slide_type": "fragment"
    }
   },
   "source": [
    "**Order by ascending/descending**\n",
    "\n",
    "The keywords for specifying the order of ordering are `ASC` (for ascending) and `DESC` (for descending)"
   ]
  },
  {
   "cell_type": "code",
   "execution_count": 29,
   "metadata": {
    "slideshow": {
     "slide_type": "-"
    }
   },
   "outputs": [
    {
     "name": "stdout",
     "output_type": "stream",
     "text": [
      "order_id       user_id        order_number   days_since_prior_order\n",
      "2254736        1              4              29             \n",
      "749250         48             7              29             \n",
      "1643524        48             5              29             \n",
      "2994801        59             8              29             \n",
      "1019719        62             11             29             \n"
     ]
    }
   ],
   "source": [
    "query = \"\"\"\n",
    "        SELECT order_id, user_id, order_number, days_since_prior_order\n",
    "        FROM orders o\n",
    "        WHERE days_since_prior_order < 30\n",
    "        ORDER BY days_since_prior_order DESC, user_id ASC\n",
    "        \"\"\"\n",
    "\n",
    "run_query(eng, query, 15)\n"
   ]
  },
  {
   "cell_type": "markdown",
   "metadata": {
    "slideshow": {
     "slide_type": "subslide"
    }
   },
   "source": [
    "#### LIMIT\n",
    "\n",
    "`LIMIT` is a SQL clause that specifies the (maximum) number of rows that should be returned.\n",
    "\n",
    "It performs the same role as the pandas dataframe `head` method -- It allows you to select the $n$ largest/smallest values or simply get a preview of your data\n"
   ]
  },
  {
   "cell_type": "markdown",
   "metadata": {
    "slideshow": {
     "slide_type": "fragment"
    }
   },
   "source": [
    "**Retrieve first n rows**"
   ]
  },
  {
   "cell_type": "code",
   "execution_count": 30,
   "metadata": {
    "slideshow": {
     "slide_type": "-"
    }
   },
   "outputs": [
    {
     "name": "stdout",
     "output_type": "stream",
     "text": [
      "CPU times: user 856 µs, sys: 147 µs, total: 1 ms\n",
      "Wall time: 564 µs\n"
     ]
    }
   ],
   "source": [
    "%%time\n",
    "\n",
    "query_l10 = \"\"\"\n",
    "        SELECT *\n",
    "        FROM orders o\n",
    "        LIMIT 10\n",
    "        \"\"\"\n",
    "\n",
    "_ = eng.execute(query_l10).fetchall()\n"
   ]
  },
  {
   "cell_type": "code",
   "execution_count": 31,
   "metadata": {
    "slideshow": {
     "slide_type": "-"
    }
   },
   "outputs": [
    {
     "name": "stdout",
     "output_type": "stream",
     "text": [
      "CPU times: user 3.12 s, sys: 194 ms, total: 3.32 s\n",
      "Wall time: 3.37 s\n"
     ]
    }
   ],
   "source": [
    "%%time\n",
    "\n",
    "query_all = \"\"\"\n",
    "        SELECT *\n",
    "        FROM orders o\n",
    "        \"\"\"\n",
    "\n",
    "_ = eng.execute(query_all).fetchall()\n"
   ]
  },
  {
   "cell_type": "markdown",
   "metadata": {
    "slideshow": {
     "slide_type": "subslide"
    }
   },
   "source": [
    "### Reading with pandas\n",
    "\n",
    "We have directly used SQLAlchemy's engine to read in data up until this point, but we can also read from the engine using pandas!"
   ]
  },
  {
   "cell_type": "code",
   "execution_count": 32,
   "metadata": {
    "slideshow": {
     "slide_type": "-"
    }
   },
   "outputs": [
    {
     "data": {
      "text/html": [
       "<div>\n",
       "<style scoped>\n",
       "    .dataframe tbody tr th:only-of-type {\n",
       "        vertical-align: middle;\n",
       "    }\n",
       "\n",
       "    .dataframe tbody tr th {\n",
       "        vertical-align: top;\n",
       "    }\n",
       "\n",
       "    .dataframe thead th {\n",
       "        text-align: right;\n",
       "    }\n",
       "</style>\n",
       "<table border=\"1\" class=\"dataframe\">\n",
       "  <thead>\n",
       "    <tr style=\"text-align: right;\">\n",
       "      <th></th>\n",
       "      <th>order_id</th>\n",
       "      <th>user_id</th>\n",
       "      <th>order_number</th>\n",
       "      <th>days_since_prior_order</th>\n",
       "    </tr>\n",
       "  </thead>\n",
       "  <tbody>\n",
       "    <tr>\n",
       "      <th>0</th>\n",
       "      <td>2550362</td>\n",
       "      <td>1</td>\n",
       "      <td>10</td>\n",
       "      <td>30.0</td>\n",
       "    </tr>\n",
       "    <tr>\n",
       "      <th>1</th>\n",
       "      <td>1402090</td>\n",
       "      <td>2</td>\n",
       "      <td>11</td>\n",
       "      <td>30.0</td>\n",
       "    </tr>\n",
       "    <tr>\n",
       "      <th>2</th>\n",
       "      <td>1492625</td>\n",
       "      <td>2</td>\n",
       "      <td>15</td>\n",
       "      <td>30.0</td>\n",
       "    </tr>\n",
       "    <tr>\n",
       "      <th>3</th>\n",
       "      <td>3268552</td>\n",
       "      <td>2</td>\n",
       "      <td>13</td>\n",
       "      <td>30.0</td>\n",
       "    </tr>\n",
       "    <tr>\n",
       "      <th>4</th>\n",
       "      <td>329954</td>\n",
       "      <td>4</td>\n",
       "      <td>6</td>\n",
       "      <td>30.0</td>\n",
       "    </tr>\n",
       "    <tr>\n",
       "      <th>...</th>\n",
       "      <td>...</td>\n",
       "      <td>...</td>\n",
       "      <td>...</td>\n",
       "      <td>...</td>\n",
       "    </tr>\n",
       "    <tr>\n",
       "      <th>3421078</th>\n",
       "      <td>969311</td>\n",
       "      <td>206205</td>\n",
       "      <td>1</td>\n",
       "      <td>NaN</td>\n",
       "    </tr>\n",
       "    <tr>\n",
       "      <th>3421079</th>\n",
       "      <td>3189322</td>\n",
       "      <td>206206</td>\n",
       "      <td>1</td>\n",
       "      <td>NaN</td>\n",
       "    </tr>\n",
       "    <tr>\n",
       "      <th>3421080</th>\n",
       "      <td>2166133</td>\n",
       "      <td>206207</td>\n",
       "      <td>1</td>\n",
       "      <td>NaN</td>\n",
       "    </tr>\n",
       "    <tr>\n",
       "      <th>3421081</th>\n",
       "      <td>2227043</td>\n",
       "      <td>206208</td>\n",
       "      <td>1</td>\n",
       "      <td>NaN</td>\n",
       "    </tr>\n",
       "    <tr>\n",
       "      <th>3421082</th>\n",
       "      <td>3154581</td>\n",
       "      <td>206209</td>\n",
       "      <td>1</td>\n",
       "      <td>NaN</td>\n",
       "    </tr>\n",
       "  </tbody>\n",
       "</table>\n",
       "<p>3421083 rows × 4 columns</p>\n",
       "</div>"
      ],
      "text/plain": [
       "         order_id  user_id  order_number  days_since_prior_order\n",
       "0         2550362        1            10                    30.0\n",
       "1         1402090        2            11                    30.0\n",
       "2         1492625        2            15                    30.0\n",
       "3         3268552        2            13                    30.0\n",
       "4          329954        4             6                    30.0\n",
       "...           ...      ...           ...                     ...\n",
       "3421078    969311   206205             1                     NaN\n",
       "3421079   3189322   206206             1                     NaN\n",
       "3421080   2166133   206207             1                     NaN\n",
       "3421081   2227043   206208             1                     NaN\n",
       "3421082   3154581   206209             1                     NaN\n",
       "\n",
       "[3421083 rows x 4 columns]"
      ]
     },
     "execution_count": 32,
     "metadata": {},
     "output_type": "execute_result"
    }
   ],
   "source": [
    "query = \"\"\"\n",
    "        SELECT order_id, user_id, order_number, days_since_prior_order\n",
    "        FROM orders o\n",
    "        ORDER BY days_since_prior_order DESC, user_id ASC\n",
    "        \"\"\"\n",
    "\n",
    "pd.read_sql(query, eng)"
   ]
  },
  {
   "cell_type": "markdown",
   "metadata": {
    "slideshow": {
     "slide_type": "slide"
    }
   },
   "source": [
    "## Redoing our reorder example in SQL using a `WITH` clause\n",
    "\n",
    "`WITH` clauses allow us to define a \"temporary table\" that can be used in a subsequent query"
   ]
  },
  {
   "cell_type": "code",
   "execution_count": 33,
   "metadata": {
    "slideshow": {
     "slide_type": "-"
    }
   },
   "outputs": [],
   "source": [
    "query = \"\"\"\n",
    "    WITH agg_po AS (\n",
    "        SELECT po.product_id,\n",
    "               COUNT(po.add_to_cart_order) AS norder,\n",
    "               SUM(po.reordered) AS nreorder\n",
    "        FROM products_ordered po\n",
    "        LEFT JOIN orders o ON po.order_id=o.order_id\n",
    "        WHERE o.days_since_prior_order IS NOT NULL\n",
    "        GROUP BY po.product_id\n",
    "    )\n",
    "    SELECT apo.product_id, apo.norder, apo.nreorder,\n",
    "           (apo.nreorder*1.0 / apo.norder) AS frac_reorder,\n",
    "           p.product_name, p.aisle_id, p.department_id\n",
    "    FROM agg_po as apo\n",
    "    LEFT JOIN products p ON apo.product_id=p.product_id\n",
    "    WHERE apo.nreorder > 10\n",
    "    ORDER BY frac_reorder DESC\n",
    "\"\"\"\n",
    "\n",
    "df = pd.read_sql(query, eng)"
   ]
  },
  {
   "cell_type": "code",
   "execution_count": 35,
   "metadata": {},
   "outputs": [
    {
     "data": {
      "text/html": [
       "<div>\n",
       "<style scoped>\n",
       "    .dataframe tbody tr th:only-of-type {\n",
       "        vertical-align: middle;\n",
       "    }\n",
       "\n",
       "    .dataframe tbody tr th {\n",
       "        vertical-align: top;\n",
       "    }\n",
       "\n",
       "    .dataframe thead th {\n",
       "        text-align: right;\n",
       "    }\n",
       "</style>\n",
       "<table border=\"1\" class=\"dataframe\">\n",
       "  <thead>\n",
       "    <tr style=\"text-align: right;\">\n",
       "      <th></th>\n",
       "      <th>product_id</th>\n",
       "      <th>norder</th>\n",
       "      <th>nreorder</th>\n",
       "      <th>frac_reorder</th>\n",
       "      <th>product_name</th>\n",
       "      <th>aisle_id</th>\n",
       "      <th>department_id</th>\n",
       "    </tr>\n",
       "  </thead>\n",
       "  <tbody>\n",
       "    <tr>\n",
       "      <th>31000</th>\n",
       "      <td>37518</td>\n",
       "      <td>411</td>\n",
       "      <td>18</td>\n",
       "      <td>0.043796</td>\n",
       "      <td>Ground Cardamom</td>\n",
       "      <td>104</td>\n",
       "      <td>13</td>\n",
       "    </tr>\n",
       "    <tr>\n",
       "      <th>31001</th>\n",
       "      <td>29736</td>\n",
       "      <td>300</td>\n",
       "      <td>13</td>\n",
       "      <td>0.043333</td>\n",
       "      <td>Organic Light Corn Syrup</td>\n",
       "      <td>29</td>\n",
       "      <td>13</td>\n",
       "    </tr>\n",
       "    <tr>\n",
       "      <th>31002</th>\n",
       "      <td>1658</td>\n",
       "      <td>375</td>\n",
       "      <td>16</td>\n",
       "      <td>0.042667</td>\n",
       "      <td>Double Superfine Mustard Powder, Original English</td>\n",
       "      <td>104</td>\n",
       "      <td>13</td>\n",
       "    </tr>\n",
       "    <tr>\n",
       "      <th>31003</th>\n",
       "      <td>25089</td>\n",
       "      <td>647</td>\n",
       "      <td>27</td>\n",
       "      <td>0.041731</td>\n",
       "      <td>Whole Cloves</td>\n",
       "      <td>104</td>\n",
       "      <td>13</td>\n",
       "    </tr>\n",
       "    <tr>\n",
       "      <th>31004</th>\n",
       "      <td>42421</td>\n",
       "      <td>1003</td>\n",
       "      <td>38</td>\n",
       "      <td>0.037886</td>\n",
       "      <td>Organic Ground Nutmeg</td>\n",
       "      <td>104</td>\n",
       "      <td>13</td>\n",
       "    </tr>\n",
       "    <tr>\n",
       "      <th>31005</th>\n",
       "      <td>1719</td>\n",
       "      <td>321</td>\n",
       "      <td>12</td>\n",
       "      <td>0.037383</td>\n",
       "      <td>Organic Ground Mustard Seed</td>\n",
       "      <td>104</td>\n",
       "      <td>13</td>\n",
       "    </tr>\n",
       "    <tr>\n",
       "      <th>31006</th>\n",
       "      <td>34592</td>\n",
       "      <td>569</td>\n",
       "      <td>18</td>\n",
       "      <td>0.031634</td>\n",
       "      <td>Organic Allspice</td>\n",
       "      <td>104</td>\n",
       "      <td>13</td>\n",
       "    </tr>\n",
       "    <tr>\n",
       "      <th>31007</th>\n",
       "      <td>44626</td>\n",
       "      <td>595</td>\n",
       "      <td>16</td>\n",
       "      <td>0.026891</td>\n",
       "      <td>Ground Allspice</td>\n",
       "      <td>104</td>\n",
       "      <td>13</td>\n",
       "    </tr>\n",
       "    <tr>\n",
       "      <th>31008</th>\n",
       "      <td>6288</td>\n",
       "      <td>646</td>\n",
       "      <td>17</td>\n",
       "      <td>0.026316</td>\n",
       "      <td>Ground Cloves</td>\n",
       "      <td>104</td>\n",
       "      <td>13</td>\n",
       "    </tr>\n",
       "    <tr>\n",
       "      <th>31009</th>\n",
       "      <td>28741</td>\n",
       "      <td>437</td>\n",
       "      <td>11</td>\n",
       "      <td>0.025172</td>\n",
       "      <td>Organic Ground Cloves</td>\n",
       "      <td>104</td>\n",
       "      <td>13</td>\n",
       "    </tr>\n",
       "  </tbody>\n",
       "</table>\n",
       "</div>"
      ],
      "text/plain": [
       "       product_id  norder  nreorder  frac_reorder  \\\n",
       "31000       37518     411        18      0.043796   \n",
       "31001       29736     300        13      0.043333   \n",
       "31002        1658     375        16      0.042667   \n",
       "31003       25089     647        27      0.041731   \n",
       "31004       42421    1003        38      0.037886   \n",
       "31005        1719     321        12      0.037383   \n",
       "31006       34592     569        18      0.031634   \n",
       "31007       44626     595        16      0.026891   \n",
       "31008        6288     646        17      0.026316   \n",
       "31009       28741     437        11      0.025172   \n",
       "\n",
       "                                            product_name  aisle_id  \\\n",
       "31000                                    Ground Cardamom       104   \n",
       "31001                           Organic Light Corn Syrup        29   \n",
       "31002  Double Superfine Mustard Powder, Original English       104   \n",
       "31003                                       Whole Cloves       104   \n",
       "31004                              Organic Ground Nutmeg       104   \n",
       "31005                        Organic Ground Mustard Seed       104   \n",
       "31006                                   Organic Allspice       104   \n",
       "31007                                    Ground Allspice       104   \n",
       "31008                                      Ground Cloves       104   \n",
       "31009                              Organic Ground Cloves       104   \n",
       "\n",
       "       department_id  \n",
       "31000             13  \n",
       "31001             13  \n",
       "31002             13  \n",
       "31003             13  \n",
       "31004             13  \n",
       "31005             13  \n",
       "31006             13  \n",
       "31007             13  \n",
       "31008             13  \n",
       "31009             13  "
      ]
     },
     "execution_count": 35,
     "metadata": {},
     "output_type": "execute_result"
    }
   ],
   "source": [
    "df.tail(10)"
   ]
  }
 ],
 "metadata": {
  "celltoolbar": "Slideshow",
  "kernelspec": {
   "display_name": "Python 3",
   "language": "python",
   "name": "python3"
  },
  "language_info": {
   "codemirror_mode": {
    "name": "ipython",
    "version": 3
   },
   "file_extension": ".py",
   "mimetype": "text/x-python",
   "name": "python",
   "nbconvert_exporter": "python",
   "pygments_lexer": "ipython3",
   "version": "3.8.3"
  }
 },
 "nbformat": 4,
 "nbformat_minor": 4
}
